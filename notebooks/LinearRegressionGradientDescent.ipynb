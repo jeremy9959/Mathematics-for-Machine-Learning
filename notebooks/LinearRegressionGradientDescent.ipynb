{
 "cells": [
  {
   "attachments": {},
   "cell_type": "markdown",
   "metadata": {},
   "source": [
    "# Linear Regression via Gradient Descent"
   ]
  },
  {
   "cell_type": "code",
   "execution_count": 21,
   "metadata": {},
   "outputs": [
    {
     "data": {
      "text/html": [
       "<div class=\"bk-root\">\n",
       "        <a href=\"https://bokeh.org\" target=\"_blank\" class=\"bk-logo bk-logo-small bk-logo-notebook\"></a>\n",
       "        <span id=\"1402\">Loading BokehJS ...</span>\n",
       "    </div>\n"
      ]
     },
     "metadata": {},
     "output_type": "display_data"
    },
    {
     "data": {
      "application/javascript": "(function(root) {\n  function now() {\n    return new Date();\n  }\n\n  const force = true;\n\n  if (typeof root._bokeh_onload_callbacks === \"undefined\" || force === true) {\n    root._bokeh_onload_callbacks = [];\n    root._bokeh_is_loading = undefined;\n  }\n\nconst JS_MIME_TYPE = 'application/javascript';\n  const HTML_MIME_TYPE = 'text/html';\n  const EXEC_MIME_TYPE = 'application/vnd.bokehjs_exec.v0+json';\n  const CLASS_NAME = 'output_bokeh rendered_html';\n\n  /**\n   * Render data to the DOM node\n   */\n  function render(props, node) {\n    const script = document.createElement(\"script\");\n    node.appendChild(script);\n  }\n\n  /**\n   * Handle when an output is cleared or removed\n   */\n  function handleClearOutput(event, handle) {\n    const cell = handle.cell;\n\n    const id = cell.output_area._bokeh_element_id;\n    const server_id = cell.output_area._bokeh_server_id;\n    // Clean up Bokeh references\n    if (id != null && id in Bokeh.index) {\n      Bokeh.index[id].model.document.clear();\n      delete Bokeh.index[id];\n    }\n\n    if (server_id !== undefined) {\n      // Clean up Bokeh references\n      const cmd_clean = \"from bokeh.io.state import curstate; print(curstate().uuid_to_server['\" + server_id + \"'].get_sessions()[0].document.roots[0]._id)\";\n      cell.notebook.kernel.execute(cmd_clean, {\n        iopub: {\n          output: function(msg) {\n            const id = msg.content.text.trim();\n            if (id in Bokeh.index) {\n              Bokeh.index[id].model.document.clear();\n              delete Bokeh.index[id];\n            }\n          }\n        }\n      });\n      // Destroy server and session\n      const cmd_destroy = \"import bokeh.io.notebook as ion; ion.destroy_server('\" + server_id + \"')\";\n      cell.notebook.kernel.execute(cmd_destroy);\n    }\n  }\n\n  /**\n   * Handle when a new output is added\n   */\n  function handleAddOutput(event, handle) {\n    const output_area = handle.output_area;\n    const output = handle.output;\n\n    // limit handleAddOutput to display_data with EXEC_MIME_TYPE content only\n    if ((output.output_type != \"display_data\") || (!Object.prototype.hasOwnProperty.call(output.data, EXEC_MIME_TYPE))) {\n      return\n    }\n\n    const toinsert = output_area.element.find(\".\" + CLASS_NAME.split(' ')[0]);\n\n    if (output.metadata[EXEC_MIME_TYPE][\"id\"] !== undefined) {\n      toinsert[toinsert.length - 1].firstChild.textContent = output.data[JS_MIME_TYPE];\n      // store reference to embed id on output_area\n      output_area._bokeh_element_id = output.metadata[EXEC_MIME_TYPE][\"id\"];\n    }\n    if (output.metadata[EXEC_MIME_TYPE][\"server_id\"] !== undefined) {\n      const bk_div = document.createElement(\"div\");\n      bk_div.innerHTML = output.data[HTML_MIME_TYPE];\n      const script_attrs = bk_div.children[0].attributes;\n      for (let i = 0; i < script_attrs.length; i++) {\n        toinsert[toinsert.length - 1].firstChild.setAttribute(script_attrs[i].name, script_attrs[i].value);\n        toinsert[toinsert.length - 1].firstChild.textContent = bk_div.children[0].textContent\n      }\n      // store reference to server id on output_area\n      output_area._bokeh_server_id = output.metadata[EXEC_MIME_TYPE][\"server_id\"];\n    }\n  }\n\n  function register_renderer(events, OutputArea) {\n\n    function append_mime(data, metadata, element) {\n      // create a DOM node to render to\n      const toinsert = this.create_output_subarea(\n        metadata,\n        CLASS_NAME,\n        EXEC_MIME_TYPE\n      );\n      this.keyboard_manager.register_events(toinsert);\n      // Render to node\n      const props = {data: data, metadata: metadata[EXEC_MIME_TYPE]};\n      render(props, toinsert[toinsert.length - 1]);\n      element.append(toinsert);\n      return toinsert\n    }\n\n    /* Handle when an output is cleared or removed */\n    events.on('clear_output.CodeCell', handleClearOutput);\n    events.on('delete.Cell', handleClearOutput);\n\n    /* Handle when a new output is added */\n    events.on('output_added.OutputArea', handleAddOutput);\n\n    /**\n     * Register the mime type and append_mime function with output_area\n     */\n    OutputArea.prototype.register_mime_type(EXEC_MIME_TYPE, append_mime, {\n      /* Is output safe? */\n      safe: true,\n      /* Index of renderer in `output_area.display_order` */\n      index: 0\n    });\n  }\n\n  // register the mime type if in Jupyter Notebook environment and previously unregistered\n  if (root.Jupyter !== undefined) {\n    const events = require('base/js/events');\n    const OutputArea = require('notebook/js/outputarea').OutputArea;\n\n    if (OutputArea.prototype.mime_types().indexOf(EXEC_MIME_TYPE) == -1) {\n      register_renderer(events, OutputArea);\n    }\n  }\n  if (typeof (root._bokeh_timeout) === \"undefined\" || force === true) {\n    root._bokeh_timeout = Date.now() + 5000;\n    root._bokeh_failed_load = false;\n  }\n\n  const NB_LOAD_WARNING = {'data': {'text/html':\n     \"<div style='background-color: #fdd'>\\n\"+\n     \"<p>\\n\"+\n     \"BokehJS does not appear to have successfully loaded. If loading BokehJS from CDN, this \\n\"+\n     \"may be due to a slow or bad network connection. Possible fixes:\\n\"+\n     \"</p>\\n\"+\n     \"<ul>\\n\"+\n     \"<li>re-rerun `output_notebook()` to attempt to load from CDN again, or</li>\\n\"+\n     \"<li>use INLINE resources instead, as so:</li>\\n\"+\n     \"</ul>\\n\"+\n     \"<code>\\n\"+\n     \"from bokeh.resources import INLINE\\n\"+\n     \"output_notebook(resources=INLINE)\\n\"+\n     \"</code>\\n\"+\n     \"</div>\"}};\n\n  function display_loaded() {\n    const el = document.getElementById(\"1402\");\n    if (el != null) {\n      el.textContent = \"BokehJS is loading...\";\n    }\n    if (root.Bokeh !== undefined) {\n      if (el != null) {\n        el.textContent = \"BokehJS \" + root.Bokeh.version + \" successfully loaded.\";\n      }\n    } else if (Date.now() < root._bokeh_timeout) {\n      setTimeout(display_loaded, 100)\n    }\n  }\n\n  function run_callbacks() {\n    try {\n      root._bokeh_onload_callbacks.forEach(function(callback) {\n        if (callback != null)\n          callback();\n      });\n    } finally {\n      delete root._bokeh_onload_callbacks\n    }\n    console.debug(\"Bokeh: all callbacks have finished\");\n  }\n\n  function load_libs(css_urls, js_urls, callback) {\n    if (css_urls == null) css_urls = [];\n    if (js_urls == null) js_urls = [];\n\n    root._bokeh_onload_callbacks.push(callback);\n    if (root._bokeh_is_loading > 0) {\n      console.debug(\"Bokeh: BokehJS is being loaded, scheduling callback at\", now());\n      return null;\n    }\n    if (js_urls == null || js_urls.length === 0) {\n      run_callbacks();\n      return null;\n    }\n    console.debug(\"Bokeh: BokehJS not loaded, scheduling load and callback at\", now());\n    root._bokeh_is_loading = css_urls.length + js_urls.length;\n\n    function on_load() {\n      root._bokeh_is_loading--;\n      if (root._bokeh_is_loading === 0) {\n        console.debug(\"Bokeh: all BokehJS libraries/stylesheets loaded\");\n        run_callbacks()\n      }\n    }\n\n    function on_error(url) {\n      console.error(\"failed to load \" + url);\n    }\n\n    for (let i = 0; i < css_urls.length; i++) {\n      const url = css_urls[i];\n      const element = document.createElement(\"link\");\n      element.onload = on_load;\n      element.onerror = on_error.bind(null, url);\n      element.rel = \"stylesheet\";\n      element.type = \"text/css\";\n      element.href = url;\n      console.debug(\"Bokeh: injecting link tag for BokehJS stylesheet: \", url);\n      document.body.appendChild(element);\n    }\n\n    for (let i = 0; i < js_urls.length; i++) {\n      const url = js_urls[i];\n      const element = document.createElement('script');\n      element.onload = on_load;\n      element.onerror = on_error.bind(null, url);\n      element.async = false;\n      element.src = url;\n      console.debug(\"Bokeh: injecting script tag for BokehJS library: \", url);\n      document.head.appendChild(element);\n    }\n  };\n\n  function inject_raw_css(css) {\n    const element = document.createElement(\"style\");\n    element.appendChild(document.createTextNode(css));\n    document.body.appendChild(element);\n  }\n\n  const js_urls = [\"https://cdn.bokeh.org/bokeh/release/bokeh-2.4.3.min.js\", \"https://cdn.bokeh.org/bokeh/release/bokeh-gl-2.4.3.min.js\", \"https://cdn.bokeh.org/bokeh/release/bokeh-widgets-2.4.3.min.js\", \"https://cdn.bokeh.org/bokeh/release/bokeh-tables-2.4.3.min.js\", \"https://cdn.bokeh.org/bokeh/release/bokeh-mathjax-2.4.3.min.js\"];\n  const css_urls = [];\n\n  const inline_js = [    function(Bokeh) {\n      Bokeh.set_log_level(\"info\");\n    },\nfunction(Bokeh) {\n    }\n  ];\n\n  function run_inline_js() {\n    if (root.Bokeh !== undefined || force === true) {\n          for (let i = 0; i < inline_js.length; i++) {\n      inline_js[i].call(root, root.Bokeh);\n    }\nif (force === true) {\n        display_loaded();\n      }} else if (Date.now() < root._bokeh_timeout) {\n      setTimeout(run_inline_js, 100);\n    } else if (!root._bokeh_failed_load) {\n      console.log(\"Bokeh: BokehJS failed to load within specified timeout.\");\n      root._bokeh_failed_load = true;\n    } else if (force !== true) {\n      const cell = $(document.getElementById(\"1402\")).parents('.cell').data().cell;\n      cell.output_area.append_execute_result(NB_LOAD_WARNING)\n    }\n  }\n\n  if (root._bokeh_is_loading === 0) {\n    console.debug(\"Bokeh: BokehJS loaded, going straight to plotting\");\n    run_inline_js();\n  } else {\n    load_libs(css_urls, js_urls, function() {\n      console.debug(\"Bokeh: BokehJS plotting callback run at\", now());\n      run_inline_js();\n    });\n  }\n}(window));",
      "application/vnd.bokehjs_load.v0+json": ""
     },
     "metadata": {},
     "output_type": "display_data"
    }
   ],
   "source": [
    "import numpy as np\n",
    "from bokeh.plotting import figure, output_notebook,show\n",
    "output_notebook()"
   ]
  },
  {
   "attachments": {},
   "cell_type": "markdown",
   "metadata": {},
   "source": [
    "### Set up the data\n",
    "\n",
    "We use the multivariate simulated data from the regression lab, with the target variable being column 1 and the features being columns 2 and 3. We append a column of ones to the data matrix. "
   ]
  },
  {
   "cell_type": "code",
   "execution_count": 50,
   "metadata": {},
   "outputs": [],
   "source": [
    "data = np.genfromtxt(\"data/multivar_simulated/data.csv\", skip_header=1, delimiter=\",\")\n",
    "Y = data[:, 1].reshape(-1,1)\n",
    "X = data[:, 2:]\n",
    "X = np.concatenate([X, np.ones(shape=(X.shape[0], 1))], axis=1)"
   ]
  },
  {
   "attachments": {},
   "cell_type": "markdown",
   "metadata": {},
   "source": [
    "Find our initial guess and the matrices needed for the gradient.  Choose a learning rate and a tolerance.\n"
   ]
  },
  {
   "cell_type": "code",
   "execution_count": 80,
   "metadata": {},
   "outputs": [],
   "source": [
    "M0 = np.random.normal(0,1,size=(X.shape[1],1))\n",
    "\n",
    "lr = .0001\n",
    "epsilon=.00001\n",
    "A = ((X.T) @ Y).reshape(3,1)\n",
    "D = X.T @ X"
   ]
  },
  {
   "attachments": {},
   "cell_type": "markdown",
   "metadata": {},
   "source": [
    "Do the gradient descent iteration\n"
   ]
  },
  {
   "cell_type": "code",
   "execution_count": 81,
   "metadata": {},
   "outputs": [
    {
     "name": "stdout",
     "output_type": "stream",
     "text": [
      "converged after 2006 iterations\n"
     ]
    }
   ],
   "source": [
    "MSE0=0\n",
    "losses = []\n",
    "for i in range(10000):\n",
    "    M = M0 - lr*(-2*A+2*(D@M0))\n",
    "    MSE = np.sum(np.square(Y-(X@M)))\n",
    "    if np.abs(MSE-MSE0)<epsilon:\n",
    "        print(\"converged after {} iterations\".format(i))\n",
    "        break\n",
    "    M0=M.copy()\n",
    "    MSE0=MSE\n",
    "    losses.append(MSE)"
   ]
  },
  {
   "attachments": {},
   "cell_type": "markdown",
   "metadata": {},
   "source": [
    "Compare the results of the gradient descent with the direct solution."
   ]
  },
  {
   "cell_type": "code",
   "execution_count": 82,
   "metadata": {},
   "outputs": [
    {
     "name": "stdout",
     "output_type": "stream",
     "text": [
      "Gradient Descent yields [ 1.78971545 -3.47779267  6.05091821] while direct computation yields [ 1.78777492 -3.47899986  6.0608333 ]\n"
     ]
    }
   ],
   "source": [
    "direct_solution = np.linalg.inv(D)@A\n",
    "print(f\"Gradient Descent yields {M.ravel()} while direct computation yields {direct_solution.ravel()}\")"
   ]
  },
  {
   "attachments": {},
   "cell_type": "markdown",
   "metadata": {},
   "source": [
    "Behavior of the MSE over the iterations.\n"
   ]
  },
  {
   "cell_type": "code",
   "execution_count": 90,
   "metadata": {},
   "outputs": [
    {
     "data": {
      "text/html": [
       "\n",
       "  <div class=\"bk-root\" id=\"5797c485-9cd0-4fc7-90fd-1642a87c88e6\" data-root-id=\"5984\"></div>\n"
      ]
     },
     "metadata": {},
     "output_type": "display_data"
    },
    {
     "data": {
      "application/javascript": "(function(root) {\n  function embed_document(root) {\n  const docs_json = {\"581ca3ae-757b-4a95-806c-2eda4502a5b7\":{\"defs\":[],\"roots\":{\"references\":[{\"attributes\":{\"below\":[{\"id\":\"5995\"}],\"center\":[{\"id\":\"5998\"},{\"id\":\"6002\"}],\"left\":[{\"id\":\"5999\"}],\"renderers\":[{\"id\":\"6021\"}],\"title\":{\"id\":\"5985\"},\"toolbar\":{\"id\":\"6010\"},\"x_range\":{\"id\":\"5987\"},\"x_scale\":{\"id\":\"5991\"},\"y_range\":{\"id\":\"5989\"},\"y_scale\":{\"id\":\"5993\"}},\"id\":\"5984\",\"subtype\":\"Figure\",\"type\":\"Plot\"},{\"attributes\":{},\"id\":\"6008\",\"type\":\"HelpTool\"},{\"attributes\":{},\"id\":\"6004\",\"type\":\"WheelZoomTool\"},{\"attributes\":{\"overlay\":{\"id\":\"6009\"}},\"id\":\"6005\",\"type\":\"BoxZoomTool\"},{\"attributes\":{},\"id\":\"6003\",\"type\":\"PanTool\"},{\"attributes\":{},\"id\":\"6006\",\"type\":\"SaveTool\"},{\"attributes\":{},\"id\":\"6007\",\"type\":\"ResetTool\"},{\"attributes\":{},\"id\":\"5987\",\"type\":\"DataRange1d\"},{\"attributes\":{},\"id\":\"6269\",\"type\":\"UnionRenderers\"},{\"attributes\":{\"bottom_units\":\"screen\",\"coordinates\":null,\"fill_alpha\":0.5,\"fill_color\":\"lightgrey\",\"group\":null,\"left_units\":\"screen\",\"level\":\"overlay\",\"line_alpha\":1.0,\"line_color\":\"black\",\"line_dash\":[4,4],\"line_width\":2,\"right_units\":\"screen\",\"syncable\":false,\"top_units\":\"screen\"},\"id\":\"6009\",\"type\":\"BoxAnnotation\"},{\"attributes\":{\"coordinates\":null,\"formatter\":{\"id\":\"6264\"},\"group\":null,\"major_label_policy\":{\"id\":\"6265\"},\"ticker\":{\"id\":\"6000\"}},\"id\":\"5999\",\"type\":\"LinearAxis\"},{\"attributes\":{},\"id\":\"6264\",\"type\":\"BasicTickFormatter\"},{\"attributes\":{},\"id\":\"6000\",\"type\":\"BasicTicker\"},{\"attributes\":{},\"id\":\"6268\",\"type\":\"AllLabels\"},{\"attributes\":{\"axis\":{\"id\":\"5995\"},\"coordinates\":null,\"group\":null,\"ticker\":null},\"id\":\"5998\",\"type\":\"Grid\"},{\"attributes\":{\"tools\":[{\"id\":\"6003\"},{\"id\":\"6004\"},{\"id\":\"6005\"},{\"id\":\"6006\"},{\"id\":\"6007\"},{\"id\":\"6008\"}]},\"id\":\"6010\",\"type\":\"Toolbar\"},{\"attributes\":{},\"id\":\"5989\",\"type\":\"DataRange1d\"},{\"attributes\":{\"fill_color\":{\"value\":\"#1f77b4\"},\"line_color\":{\"value\":\"#1f77b4\"},\"x\":{\"field\":\"x\"},\"y\":{\"field\":\"y\"}},\"id\":\"6018\",\"type\":\"Scatter\"},{\"attributes\":{\"coordinates\":null,\"group\":null,\"text\":\"MSE for gradient descent vs iterations\"},\"id\":\"5985\",\"type\":\"Title\"},{\"attributes\":{},\"id\":\"6267\",\"type\":\"BasicTickFormatter\"},{\"attributes\":{\"fill_alpha\":{\"value\":0.2},\"fill_color\":{\"value\":\"#1f77b4\"},\"hatch_alpha\":{\"value\":0.2},\"line_alpha\":{\"value\":0.2},\"line_color\":{\"value\":\"#1f77b4\"},\"x\":{\"field\":\"x\"},\"y\":{\"field\":\"y\"}},\"id\":\"6020\",\"type\":\"Scatter\"},{\"attributes\":{\"source\":{\"id\":\"6017\"}},\"id\":\"6022\",\"type\":\"CDSView\"},{\"attributes\":{\"fill_alpha\":{\"value\":0.1},\"fill_color\":{\"value\":\"#1f77b4\"},\"hatch_alpha\":{\"value\":0.1},\"line_alpha\":{\"value\":0.1},\"line_color\":{\"value\":\"#1f77b4\"},\"x\":{\"field\":\"x\"},\"y\":{\"field\":\"y\"}},\"id\":\"6019\",\"type\":\"Scatter\"},{\"attributes\":{},\"id\":\"5996\",\"type\":\"BasicTicker\"},{\"attributes\":{\"axis_label\":\"Iterations (x10)\",\"coordinates\":null,\"formatter\":{\"id\":\"6267\"},\"group\":null,\"major_label_policy\":{\"id\":\"6268\"},\"ticker\":{\"id\":\"5996\"}},\"id\":\"5995\",\"type\":\"LinearAxis\"},{\"attributes\":{},\"id\":\"6265\",\"type\":\"AllLabels\"},{\"attributes\":{},\"id\":\"6270\",\"type\":\"Selection\"},{\"attributes\":{\"axis\":{\"id\":\"5999\"},\"coordinates\":null,\"dimension\":1,\"group\":null,\"ticker\":null},\"id\":\"6002\",\"type\":\"Grid\"},{\"attributes\":{\"coordinates\":null,\"data_source\":{\"id\":\"6017\"},\"glyph\":{\"id\":\"6018\"},\"group\":null,\"hover_glyph\":null,\"muted_glyph\":{\"id\":\"6020\"},\"nonselection_glyph\":{\"id\":\"6019\"},\"view\":{\"id\":\"6022\"}},\"id\":\"6021\",\"type\":\"GlyphRenderer\"},{\"attributes\":{\"data\":{\"x\":[50.0,60.0,70.0,80.0,90.0,100.0,110.0,120.0,130.0,140.0,150.0,160.0,170.0,180.0,190.0,200.0],\"y\":[96.14821728752668,87.630345666858,83.05163950530299,80.59039671514505,79.26737753497413,78.55620033697485,78.1739133569111,77.9684183895001,77.85795639672129,77.79857853456532,77.76666049266227,77.74950323300463,77.74028050061226,77.73532290280947,77.73265799018606,77.73122549009777]},\"selected\":{\"id\":\"6270\"},\"selection_policy\":{\"id\":\"6269\"}},\"id\":\"6017\",\"type\":\"ColumnDataSource\"},{\"attributes\":{},\"id\":\"5991\",\"type\":\"LinearScale\"},{\"attributes\":{},\"id\":\"5993\",\"type\":\"LinearScale\"}],\"root_ids\":[\"5984\"]},\"title\":\"Bokeh Application\",\"version\":\"2.4.3\"}};\n  const render_items = [{\"docid\":\"581ca3ae-757b-4a95-806c-2eda4502a5b7\",\"root_ids\":[\"5984\"],\"roots\":{\"5984\":\"5797c485-9cd0-4fc7-90fd-1642a87c88e6\"}}];\n  root.Bokeh.embed.embed_items_notebook(docs_json, render_items);\n  }\n  if (root.Bokeh !== undefined) {\n    embed_document(root);\n  } else {\n    let attempts = 0;\n    const timer = setInterval(function(root) {\n      if (root.Bokeh !== undefined) {\n        clearInterval(timer);\n        embed_document(root);\n      } else {\n        attempts++;\n        if (attempts > 100) {\n          clearInterval(timer);\n          console.log(\"Bokeh: ERROR: Unable to run BokehJS code because BokehJS library is missing\");\n        }\n      }\n    }, 10, root)\n  }\n})(window);",
      "application/vnd.bokehjs_exec.v0+json": ""
     },
     "metadata": {
      "application/vnd.bokehjs_exec.v0+json": {
       "id": "5984"
      }
     },
     "output_type": "display_data"
    }
   ],
   "source": [
    "\n",
    "f=figure(title='MSE for gradient descent vs iterations',x_axis_label='Iterations (x10)')\n",
    "x=list(range(len(losses)))\n",
    "f.scatter(x=[y/10 for y in x[500::100]],y=losses[500::100])\n",
    "show(f)"
   ]
  },
  {
   "cell_type": "code",
   "execution_count": 89,
   "metadata": {},
   "outputs": [
    {
     "data": {
      "text/html": [
       "\n",
       "  <div class=\"bk-root\" id=\"901ed9ed-21d2-4eba-8263-8f9c0e9c7e89\" data-root-id=\"5656\"></div>\n"
      ]
     },
     "metadata": {},
     "output_type": "display_data"
    },
    {
     "data": {
      "application/javascript": "(function(root) {\n  function embed_document(root) {\n  const docs_json = {\"b344eae1-3656-4da6-91e4-e16db720d8fb\":{\"defs\":[],\"roots\":{\"references\":[{\"attributes\":{\"below\":[{\"id\":\"5667\"}],\"center\":[{\"id\":\"5670\"},{\"id\":\"5674\"}],\"left\":[{\"id\":\"5671\"}],\"renderers\":[{\"id\":\"5693\"}],\"title\":{\"id\":\"5657\"},\"toolbar\":{\"id\":\"5682\"},\"x_range\":{\"id\":\"5659\"},\"x_scale\":{\"id\":\"5663\"},\"y_range\":{\"id\":\"5661\"},\"y_scale\":{\"id\":\"5665\"}},\"id\":\"5656\",\"subtype\":\"Figure\",\"type\":\"Plot\"},{\"attributes\":{},\"id\":\"5675\",\"type\":\"PanTool\"},{\"attributes\":{},\"id\":\"5665\",\"type\":\"LinearScale\"},{\"attributes\":{},\"id\":\"5931\",\"type\":\"UnionRenderers\"},{\"attributes\":{\"overlay\":{\"id\":\"5681\"}},\"id\":\"5677\",\"type\":\"BoxZoomTool\"},{\"attributes\":{},\"id\":\"5680\",\"type\":\"HelpTool\"},{\"attributes\":{},\"id\":\"5678\",\"type\":\"SaveTool\"},{\"attributes\":{\"axis_label\":\"Iterations (x10)\",\"coordinates\":null,\"formatter\":{\"id\":\"5929\"},\"group\":null,\"major_label_policy\":{\"id\":\"5930\"},\"ticker\":{\"id\":\"5668\"}},\"id\":\"5667\",\"type\":\"LinearAxis\"},{\"attributes\":{},\"id\":\"5679\",\"type\":\"ResetTool\"},{\"attributes\":{},\"id\":\"5932\",\"type\":\"Selection\"},{\"attributes\":{\"bottom_units\":\"screen\",\"coordinates\":null,\"fill_alpha\":0.5,\"fill_color\":\"lightgrey\",\"group\":null,\"left_units\":\"screen\",\"level\":\"overlay\",\"line_alpha\":1.0,\"line_color\":\"black\",\"line_dash\":[4,4],\"line_width\":2,\"right_units\":\"screen\",\"syncable\":false,\"top_units\":\"screen\"},\"id\":\"5681\",\"type\":\"BoxAnnotation\"},{\"attributes\":{\"coordinates\":null,\"data_source\":{\"id\":\"5689\"},\"glyph\":{\"id\":\"5690\"},\"group\":null,\"hover_glyph\":null,\"muted_glyph\":{\"id\":\"5692\"},\"nonselection_glyph\":{\"id\":\"5691\"},\"view\":{\"id\":\"5694\"}},\"id\":\"5693\",\"type\":\"GlyphRenderer\"},{\"attributes\":{\"data\":{\"x\":[150.0,151.0,152.0,153.0,154.0,155.0,156.0,157.0,158.0,159.0,160.0,161.0,162.0,163.0,164.0,165.0,166.0,167.0,168.0,169.0,170.0,171.0,172.0,173.0,174.0,175.0,176.0,177.0,178.0,179.0,180.0,181.0,182.0,183.0,184.0,185.0,186.0,187.0,188.0,189.0,190.0,191.0,192.0,193.0,194.0,195.0,196.0,197.0,198.0,199.0,200.0],\"y\":[77.76666049266227,77.76442752796805,77.76232896007186,77.7603566999522,77.75850314544653,77.7567611519481,77.75512400486707,77.75358539374864,77.75213938794917,77.7507804137762,77.74950323300463,77.74830292268541,77.74717485617015,77.74611468527716,77.7451183235317,77.74418193041379,77.74330189655545,77.74247482982777,77.74169754226595,77.74096703778123,77.74028050061226,77.73963528447156,77.7390289023453,77.73845901690727,77.73792343150913,77.73742008171361,77.736947027337,77.73650244497057,77.73608462095218,77.73569194476102,77.73532290280947,77.73497607260933,77.7346501172884,77.73434378043774,77.73405588126859,77.73378531006104,77.73353102388657,77.73329204258806,77.73306744500167,77.73285636540618,77.73265799018606,77.73247155469552,77.73229634031063,77.73213167166004,77.73197691402122,77.73183147087413,77.73169478160179,77.73156631932942,77.73144558889364,77.73133212493369,77.73122549009777]},\"selected\":{\"id\":\"5932\"},\"selection_policy\":{\"id\":\"5931\"}},\"id\":\"5689\",\"type\":\"ColumnDataSource\"},{\"attributes\":{\"fill_alpha\":{\"value\":0.2},\"fill_color\":{\"value\":\"#1f77b4\"},\"hatch_alpha\":{\"value\":0.2},\"line_alpha\":{\"value\":0.2},\"line_color\":{\"value\":\"#1f77b4\"},\"x\":{\"field\":\"x\"},\"y\":{\"field\":\"y\"}},\"id\":\"5692\",\"type\":\"Scatter\"},{\"attributes\":{},\"id\":\"5926\",\"type\":\"BasicTickFormatter\"},{\"attributes\":{\"axis\":{\"id\":\"5671\"},\"coordinates\":null,\"dimension\":1,\"group\":null,\"ticker\":null},\"id\":\"5674\",\"type\":\"Grid\"},{\"attributes\":{},\"id\":\"5927\",\"type\":\"AllLabels\"},{\"attributes\":{\"coordinates\":null,\"formatter\":{\"id\":\"5926\"},\"group\":null,\"major_label_policy\":{\"id\":\"5927\"},\"ticker\":{\"id\":\"5672\"}},\"id\":\"5671\",\"type\":\"LinearAxis\"},{\"attributes\":{\"fill_alpha\":{\"value\":0.1},\"fill_color\":{\"value\":\"#1f77b4\"},\"hatch_alpha\":{\"value\":0.1},\"line_alpha\":{\"value\":0.1},\"line_color\":{\"value\":\"#1f77b4\"},\"x\":{\"field\":\"x\"},\"y\":{\"field\":\"y\"}},\"id\":\"5691\",\"type\":\"Scatter\"},{\"attributes\":{\"axis\":{\"id\":\"5667\"},\"coordinates\":null,\"group\":null,\"ticker\":null},\"id\":\"5670\",\"type\":\"Grid\"},{\"attributes\":{},\"id\":\"5659\",\"type\":\"DataRange1d\"},{\"attributes\":{},\"id\":\"5668\",\"type\":\"BasicTicker\"},{\"attributes\":{\"source\":{\"id\":\"5689\"}},\"id\":\"5694\",\"type\":\"CDSView\"},{\"attributes\":{},\"id\":\"5661\",\"type\":\"DataRange1d\"},{\"attributes\":{\"fill_color\":{\"value\":\"#1f77b4\"},\"line_color\":{\"value\":\"#1f77b4\"},\"x\":{\"field\":\"x\"},\"y\":{\"field\":\"y\"}},\"id\":\"5690\",\"type\":\"Scatter\"},{\"attributes\":{\"coordinates\":null,\"group\":null,\"text\":\"MSE vs iterations for gradient descent\"},\"id\":\"5657\",\"type\":\"Title\"},{\"attributes\":{},\"id\":\"5930\",\"type\":\"AllLabels\"},{\"attributes\":{\"tools\":[{\"id\":\"5675\"},{\"id\":\"5676\"},{\"id\":\"5677\"},{\"id\":\"5678\"},{\"id\":\"5679\"},{\"id\":\"5680\"}]},\"id\":\"5682\",\"type\":\"Toolbar\"},{\"attributes\":{},\"id\":\"5929\",\"type\":\"BasicTickFormatter\"},{\"attributes\":{},\"id\":\"5676\",\"type\":\"WheelZoomTool\"},{\"attributes\":{},\"id\":\"5663\",\"type\":\"LinearScale\"},{\"attributes\":{},\"id\":\"5672\",\"type\":\"BasicTicker\"}],\"root_ids\":[\"5656\"]},\"title\":\"Bokeh Application\",\"version\":\"2.4.3\"}};\n  const render_items = [{\"docid\":\"b344eae1-3656-4da6-91e4-e16db720d8fb\",\"root_ids\":[\"5656\"],\"roots\":{\"5656\":\"901ed9ed-21d2-4eba-8263-8f9c0e9c7e89\"}}];\n  root.Bokeh.embed.embed_items_notebook(docs_json, render_items);\n  }\n  if (root.Bokeh !== undefined) {\n    embed_document(root);\n  } else {\n    let attempts = 0;\n    const timer = setInterval(function(root) {\n      if (root.Bokeh !== undefined) {\n        clearInterval(timer);\n        embed_document(root);\n      } else {\n        attempts++;\n        if (attempts > 100) {\n          clearInterval(timer);\n          console.log(\"Bokeh: ERROR: Unable to run BokehJS code because BokehJS library is missing\");\n        }\n      }\n    }, 10, root)\n  }\n})(window);",
      "application/vnd.bokehjs_exec.v0+json": ""
     },
     "metadata": {
      "application/vnd.bokehjs_exec.v0+json": {
       "id": "5656"
      }
     },
     "output_type": "display_data"
    }
   ],
   "source": [
    "\n",
    "f2=figure(title='MSE vs iterations for gradient descent',x_axis_label='Iterations (x10)')\n",
    "x=list(range(len(losses)))\n",
    "f2.scatter(x=[y/10 for y in x[1500::10]],y=losses[1500::10])\n",
    "show(f2)"
   ]
  },
  {
   "attachments": {},
   "cell_type": "markdown",
   "metadata": {},
   "source": [
    "## Stochastic Gradient Descent\n",
    "\n",
    "In stochastic gradient descent, each loop uses just one pair (x,y) from the dataset. So x is just a row of the X matrix, y is an entry from the\n",
    "y vector, and the error is $\\|(y-xM)\\|^2$.  The gradient of this is $2x\\cdot(y-xM)=2x\\cdot y - 2x\\cdot xM$.\n",
    "\n",
    "Stochastic gradient descent avoids having to do any big matrix multiplications, and in particular avoids computing $X^{T}X$ which, if $X$ has many rows, can be prohibitively expensive."
   ]
  },
  {
   "cell_type": "code",
   "execution_count": 201,
   "metadata": {},
   "outputs": [],
   "source": [
    "M0 = np.random.normal(0,1,size=(X.shape[1],1))\n",
    "lr = .0001\n",
    "epsilon=.00001"
   ]
  },
  {
   "cell_type": "code",
   "execution_count": 202,
   "metadata": {},
   "outputs": [],
   "source": [
    "losses=[]\n",
    "for j in range(10000):\n",
    "    for i in range(X.shape[0]):\n",
    "        data=X[i,:].reshape(1,X.shape[1])\n",
    "        target = Y[i,0]\n",
    "        grad = -2*data*(target-((data@M0)[0,0]))\n",
    "        M = M0 - lr*grad.T\n",
    "        M0 = M.copy()\n",
    "    MSE = np.sum(np.square(Y-(X@M)))\n",
    "    losses.append(MSE)"
   ]
  },
  {
   "cell_type": "code",
   "execution_count": 203,
   "metadata": {},
   "outputs": [
    {
     "data": {
      "text/plain": [
       "array([[ 1.78866833],\n",
       "       [-3.48161702],\n",
       "       [ 6.05914503]])"
      ]
     },
     "execution_count": 203,
     "metadata": {},
     "output_type": "execute_result"
    }
   ],
   "source": [
    "M0"
   ]
  },
  {
   "cell_type": "code",
   "execution_count": 204,
   "metadata": {},
   "outputs": [
    {
     "data": {
      "text/plain": [
       "10000"
      ]
     },
     "execution_count": 204,
     "metadata": {},
     "output_type": "execute_result"
    }
   ],
   "source": [
    "len(losses)"
   ]
  },
  {
   "cell_type": "code",
   "execution_count": 205,
   "metadata": {},
   "outputs": [
    {
     "data": {
      "text/html": [
       "\n",
       "  <div class=\"bk-root\" id=\"2fd569cc-2411-4ccf-ac08-879c0c0d4151\" data-root-id=\"12368\"></div>\n"
      ]
     },
     "metadata": {},
     "output_type": "display_data"
    },
    {
     "data": {
      "application/javascript": "(function(root) {\n  function embed_document(root) {\n  const docs_json = {\"16e32121-18ed-4381-bd01-0822887d9859\":{\"defs\":[],\"roots\":{\"references\":[{\"attributes\":{\"below\":[{\"id\":\"12377\"}],\"center\":[{\"id\":\"12380\"},{\"id\":\"12384\"}],\"left\":[{\"id\":\"12381\"}],\"renderers\":[{\"id\":\"12403\"}],\"title\":{\"id\":\"12797\"},\"toolbar\":{\"id\":\"12392\"},\"x_range\":{\"id\":\"12369\"},\"x_scale\":{\"id\":\"12373\"},\"y_range\":{\"id\":\"12371\"},\"y_scale\":{\"id\":\"12375\"}},\"id\":\"12368\",\"subtype\":\"Figure\",\"type\":\"Plot\"},{\"attributes\":{},\"id\":\"12385\",\"type\":\"PanTool\"},{\"attributes\":{},\"id\":\"12805\",\"type\":\"UnionRenderers\"},{\"attributes\":{},\"id\":\"12386\",\"type\":\"WheelZoomTool\"},{\"attributes\":{},\"id\":\"12390\",\"type\":\"HelpTool\"},{\"attributes\":{},\"id\":\"12806\",\"type\":\"Selection\"},{\"attributes\":{},\"id\":\"12389\",\"type\":\"ResetTool\"},{\"attributes\":{},\"id\":\"12373\",\"type\":\"LinearScale\"},{\"attributes\":{\"bottom_units\":\"screen\",\"coordinates\":null,\"fill_alpha\":0.5,\"fill_color\":\"lightgrey\",\"group\":null,\"left_units\":\"screen\",\"level\":\"overlay\",\"line_alpha\":1.0,\"line_color\":\"black\",\"line_dash\":[4,4],\"line_width\":2,\"right_units\":\"screen\",\"syncable\":false,\"top_units\":\"screen\"},\"id\":\"12391\",\"type\":\"BoxAnnotation\"},{\"attributes\":{},\"id\":\"12375\",\"type\":\"LinearScale\"},{\"attributes\":{\"end\":100},\"id\":\"12371\",\"type\":\"Range1d\"},{\"attributes\":{\"coordinates\":null,\"data_source\":{\"id\":\"12399\"},\"glyph\":{\"id\":\"12400\"},\"group\":null,\"hover_glyph\":null,\"muted_glyph\":{\"id\":\"12402\"},\"nonselection_glyph\":{\"id\":\"12401\"},\"view\":{\"id\":\"12404\"}},\"id\":\"12403\",\"type\":\"GlyphRenderer\"},{\"attributes\":{},\"id\":\"12803\",\"type\":\"BasicTickFormatter\"},{\"attributes\":{\"overlay\":{\"id\":\"12391\"}},\"id\":\"12387\",\"type\":\"BoxZoomTool\"},{\"attributes\":{},\"id\":\"12388\",\"type\":\"SaveTool\"},{\"attributes\":{\"axis\":{\"id\":\"12381\"},\"coordinates\":null,\"dimension\":1,\"group\":null,\"ticker\":null},\"id\":\"12384\",\"type\":\"Grid\"},{\"attributes\":{\"tools\":[{\"id\":\"12385\"},{\"id\":\"12386\"},{\"id\":\"12387\"},{\"id\":\"12388\"},{\"id\":\"12389\"},{\"id\":\"12390\"}]},\"id\":\"12392\",\"type\":\"Toolbar\"},{\"attributes\":{\"fill_color\":{\"value\":\"#1f77b4\"},\"line_color\":{\"value\":\"#1f77b4\"},\"x\":{\"field\":\"x\"},\"y\":{\"field\":\"y\"}},\"id\":\"12400\",\"type\":\"Scatter\"},{\"attributes\":{},\"id\":\"12369\",\"type\":\"DataRange1d\"},{\"attributes\":{\"data\":{\"x\":[0.0,1.0,2.0,3.0,4.0,5.0,6.0,7.0,8.0,9.0,10.0,11.0,12.0,13.0,14.0,15.0,16.0,17.0,18.0,19.0,20.0,21.0,22.0,23.0,24.0,25.0,26.0,27.0,28.0,29.0,30.0,31.0,32.0,33.0,34.0,35.0,36.0,37.0,38.0,39.0,40.0,41.0,42.0,43.0,44.0,45.0,46.0,47.0,48.0,49.0,50.0,51.0,52.0,53.0,54.0,55.0,56.0,57.0,58.0,59.0,60.0,61.0,62.0,63.0,64.0,65.0,66.0,67.0,68.0,69.0,70.0,71.0,72.0,73.0,74.0,75.0,76.0,77.0,78.0,79.0,80.0,81.0,82.0,83.0,84.0,85.0,86.0,87.0,88.0,89.0,90.0,91.0,92.0,93.0,94.0,95.0,96.0,97.0,98.0,99.0],\"y\":[4371.963195629426,312.33214419029787,203.79510407917863,145.50484154752422,114.17398623096344,97.33230514728736,88.27812081383317,83.40976472951382,80.79152442732594,79.38299829025799,78.62495351622204,78.21676369485179,77.99679953468213,77.87814645263558,77.8140552978165,77.77937233290179,77.76055713279989,77.75031620950523,77.74471760270833,77.74163911595853,77.73993354287256,77.73897942331163,77.73843914842732,77.7381286182179,77.73794693893622,77.73783845365357,77.73777219866588,77.73773076138826,77.73770421771646,77.73768681901697,77.73767517140337,77.7376672277096,77.73766172409033,77.73765786134813,77.73765512201888,77.73765316352443,77.73765175448537,77.73765073590023,77.73764999691527,77.73764945933316,77.73764906747743,77.73764878141948,77.7376485723647,77.73764841946074,77.73764830755894,77.73764822562828,77.73764816562203,77.7376481216629,77.73764808945378,77.73764806585116,77.73764804855347,77.7376480358757,77.73764802658354,77.73764801977251,77.73764801478004,77.73764801112048,77.73764800843792,77.73764800647157,77.7376480050301,77.73764800397343,77.73764800319887,77.73764800263106,77.73764800221483,77.73764800190975,77.73764800168605,77.73764800152207,77.73764800140191,77.7376480013138,77.73764800124924,77.73764800120185,77.73764800116716,77.73764800114171,77.73764800112308,77.73764800110939,77.73764800109943,77.73764800109203,77.73764800108665,77.7376480010827,77.73764800107976,77.73764800107769,77.73764800107612,77.737648001075,77.73764800107416,77.73764800107354,77.73764800107307,77.73764800107271,77.73764800107253,77.73764800107236,77.73764800107222,77.73764800107209,77.73764800107199,77.73764800107197,77.73764800107196,77.73764800107199,77.7376480010719,77.73764800107182,77.73764800107186,77.73764800107188,77.73764800107186,77.7376480010719]},\"selected\":{\"id\":\"12806\"},\"selection_policy\":{\"id\":\"12805\"}},\"id\":\"12399\",\"type\":\"ColumnDataSource\"},{\"attributes\":{\"coordinates\":null,\"formatter\":{\"id\":\"12803\"},\"group\":null,\"major_label_policy\":{\"id\":\"12804\"},\"ticker\":{\"id\":\"12378\"}},\"id\":\"12377\",\"type\":\"LinearAxis\"},{\"attributes\":{},\"id\":\"12801\",\"type\":\"AllLabels\"},{\"attributes\":{},\"id\":\"12378\",\"type\":\"BasicTicker\"},{\"attributes\":{},\"id\":\"12800\",\"type\":\"BasicTickFormatter\"},{\"attributes\":{\"coordinates\":null,\"group\":null},\"id\":\"12797\",\"type\":\"Title\"},{\"attributes\":{\"source\":{\"id\":\"12399\"}},\"id\":\"12404\",\"type\":\"CDSView\"},{\"attributes\":{},\"id\":\"12804\",\"type\":\"AllLabels\"},{\"attributes\":{\"fill_alpha\":{\"value\":0.2},\"fill_color\":{\"value\":\"#1f77b4\"},\"hatch_alpha\":{\"value\":0.2},\"line_alpha\":{\"value\":0.2},\"line_color\":{\"value\":\"#1f77b4\"},\"x\":{\"field\":\"x\"},\"y\":{\"field\":\"y\"}},\"id\":\"12402\",\"type\":\"Scatter\"},{\"attributes\":{\"fill_alpha\":{\"value\":0.1},\"fill_color\":{\"value\":\"#1f77b4\"},\"hatch_alpha\":{\"value\":0.1},\"line_alpha\":{\"value\":0.1},\"line_color\":{\"value\":\"#1f77b4\"},\"x\":{\"field\":\"x\"},\"y\":{\"field\":\"y\"}},\"id\":\"12401\",\"type\":\"Scatter\"},{\"attributes\":{\"coordinates\":null,\"formatter\":{\"id\":\"12800\"},\"group\":null,\"major_label_policy\":{\"id\":\"12801\"},\"ticker\":{\"id\":\"12382\"}},\"id\":\"12381\",\"type\":\"LinearAxis\"},{\"attributes\":{},\"id\":\"12382\",\"type\":\"BasicTicker\"},{\"attributes\":{\"axis\":{\"id\":\"12377\"},\"coordinates\":null,\"group\":null,\"ticker\":null},\"id\":\"12380\",\"type\":\"Grid\"}],\"root_ids\":[\"12368\"]},\"title\":\"Bokeh Application\",\"version\":\"2.4.3\"}};\n  const render_items = [{\"docid\":\"16e32121-18ed-4381-bd01-0822887d9859\",\"root_ids\":[\"12368\"],\"roots\":{\"12368\":\"2fd569cc-2411-4ccf-ac08-879c0c0d4151\"}}];\n  root.Bokeh.embed.embed_items_notebook(docs_json, render_items);\n  }\n  if (root.Bokeh !== undefined) {\n    embed_document(root);\n  } else {\n    let attempts = 0;\n    const timer = setInterval(function(root) {\n      if (root.Bokeh !== undefined) {\n        clearInterval(timer);\n        embed_document(root);\n      } else {\n        attempts++;\n        if (attempts > 100) {\n          clearInterval(timer);\n          console.log(\"Bokeh: ERROR: Unable to run BokehJS code because BokehJS library is missing\");\n        }\n      }\n    }, 10, root)\n  }\n})(window);",
      "application/vnd.bokehjs_exec.v0+json": ""
     },
     "metadata": {
      "application/vnd.bokehjs_exec.v0+json": {
       "id": "12368"
      }
     },
     "output_type": "display_data"
    }
   ],
   "source": [
    "f3=figure(y_range=[0,100])\n",
    "f3.scatter(x=[z/100 for z in list(range(0,10000,100))],y=losses[::100])\n",
    "show(f3)"
   ]
  },
  {
   "cell_type": "code",
   "execution_count": null,
   "metadata": {},
   "outputs": [],
   "source": []
  }
 ],
 "metadata": {
  "kernelspec": {
   "display_name": "base",
   "language": "python",
   "name": "python3"
  },
  "language_info": {
   "codemirror_mode": {
    "name": "ipython",
    "version": 3
   },
   "file_extension": ".py",
   "mimetype": "text/x-python",
   "name": "python",
   "nbconvert_exporter": "python",
   "pygments_lexer": "ipython3",
   "version": "3.9.15 (main, Nov 24 2022, 14:31:59) \n[GCC 11.2.0]"
  },
  "orig_nbformat": 4,
  "vscode": {
   "interpreter": {
    "hash": "4de1eb631fc111013b2f441024ec0dcd7a567c3d6a338a26d91722f9a102f561"
   }
  }
 },
 "nbformat": 4,
 "nbformat_minor": 2
}
