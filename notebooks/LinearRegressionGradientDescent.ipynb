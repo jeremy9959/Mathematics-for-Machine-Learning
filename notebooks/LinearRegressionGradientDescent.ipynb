{
 "cells": [
  {
   "attachments": {},
   "cell_type": "markdown",
   "metadata": {},
   "source": [
    "# Linear Regression via Gradient Descent"
   ]
  },
  {
   "cell_type": "code",
   "execution_count": 1,
   "metadata": {},
   "outputs": [
    {
     "data": {
      "text/html": [
       "<div class=\"bk-root\">\n",
       "        <a href=\"https://bokeh.org\" target=\"_blank\" class=\"bk-logo bk-logo-small bk-logo-notebook\"></a>\n",
       "        <span id=\"1002\">Loading BokehJS ...</span>\n",
       "    </div>\n"
      ]
     },
     "metadata": {},
     "output_type": "display_data"
    },
    {
     "data": {
      "application/javascript": "(function(root) {\n  function now() {\n    return new Date();\n  }\n\n  const force = true;\n\n  if (typeof root._bokeh_onload_callbacks === \"undefined\" || force === true) {\n    root._bokeh_onload_callbacks = [];\n    root._bokeh_is_loading = undefined;\n  }\n\nconst JS_MIME_TYPE = 'application/javascript';\n  const HTML_MIME_TYPE = 'text/html';\n  const EXEC_MIME_TYPE = 'application/vnd.bokehjs_exec.v0+json';\n  const CLASS_NAME = 'output_bokeh rendered_html';\n\n  /**\n   * Render data to the DOM node\n   */\n  function render(props, node) {\n    const script = document.createElement(\"script\");\n    node.appendChild(script);\n  }\n\n  /**\n   * Handle when an output is cleared or removed\n   */\n  function handleClearOutput(event, handle) {\n    const cell = handle.cell;\n\n    const id = cell.output_area._bokeh_element_id;\n    const server_id = cell.output_area._bokeh_server_id;\n    // Clean up Bokeh references\n    if (id != null && id in Bokeh.index) {\n      Bokeh.index[id].model.document.clear();\n      delete Bokeh.index[id];\n    }\n\n    if (server_id !== undefined) {\n      // Clean up Bokeh references\n      const cmd_clean = \"from bokeh.io.state import curstate; print(curstate().uuid_to_server['\" + server_id + \"'].get_sessions()[0].document.roots[0]._id)\";\n      cell.notebook.kernel.execute(cmd_clean, {\n        iopub: {\n          output: function(msg) {\n            const id = msg.content.text.trim();\n            if (id in Bokeh.index) {\n              Bokeh.index[id].model.document.clear();\n              delete Bokeh.index[id];\n            }\n          }\n        }\n      });\n      // Destroy server and session\n      const cmd_destroy = \"import bokeh.io.notebook as ion; ion.destroy_server('\" + server_id + \"')\";\n      cell.notebook.kernel.execute(cmd_destroy);\n    }\n  }\n\n  /**\n   * Handle when a new output is added\n   */\n  function handleAddOutput(event, handle) {\n    const output_area = handle.output_area;\n    const output = handle.output;\n\n    // limit handleAddOutput to display_data with EXEC_MIME_TYPE content only\n    if ((output.output_type != \"display_data\") || (!Object.prototype.hasOwnProperty.call(output.data, EXEC_MIME_TYPE))) {\n      return\n    }\n\n    const toinsert = output_area.element.find(\".\" + CLASS_NAME.split(' ')[0]);\n\n    if (output.metadata[EXEC_MIME_TYPE][\"id\"] !== undefined) {\n      toinsert[toinsert.length - 1].firstChild.textContent = output.data[JS_MIME_TYPE];\n      // store reference to embed id on output_area\n      output_area._bokeh_element_id = output.metadata[EXEC_MIME_TYPE][\"id\"];\n    }\n    if (output.metadata[EXEC_MIME_TYPE][\"server_id\"] !== undefined) {\n      const bk_div = document.createElement(\"div\");\n      bk_div.innerHTML = output.data[HTML_MIME_TYPE];\n      const script_attrs = bk_div.children[0].attributes;\n      for (let i = 0; i < script_attrs.length; i++) {\n        toinsert[toinsert.length - 1].firstChild.setAttribute(script_attrs[i].name, script_attrs[i].value);\n        toinsert[toinsert.length - 1].firstChild.textContent = bk_div.children[0].textContent\n      }\n      // store reference to server id on output_area\n      output_area._bokeh_server_id = output.metadata[EXEC_MIME_TYPE][\"server_id\"];\n    }\n  }\n\n  function register_renderer(events, OutputArea) {\n\n    function append_mime(data, metadata, element) {\n      // create a DOM node to render to\n      const toinsert = this.create_output_subarea(\n        metadata,\n        CLASS_NAME,\n        EXEC_MIME_TYPE\n      );\n      this.keyboard_manager.register_events(toinsert);\n      // Render to node\n      const props = {data: data, metadata: metadata[EXEC_MIME_TYPE]};\n      render(props, toinsert[toinsert.length - 1]);\n      element.append(toinsert);\n      return toinsert\n    }\n\n    /* Handle when an output is cleared or removed */\n    events.on('clear_output.CodeCell', handleClearOutput);\n    events.on('delete.Cell', handleClearOutput);\n\n    /* Handle when a new output is added */\n    events.on('output_added.OutputArea', handleAddOutput);\n\n    /**\n     * Register the mime type and append_mime function with output_area\n     */\n    OutputArea.prototype.register_mime_type(EXEC_MIME_TYPE, append_mime, {\n      /* Is output safe? */\n      safe: true,\n      /* Index of renderer in `output_area.display_order` */\n      index: 0\n    });\n  }\n\n  // register the mime type if in Jupyter Notebook environment and previously unregistered\n  if (root.Jupyter !== undefined) {\n    const events = require('base/js/events');\n    const OutputArea = require('notebook/js/outputarea').OutputArea;\n\n    if (OutputArea.prototype.mime_types().indexOf(EXEC_MIME_TYPE) == -1) {\n      register_renderer(events, OutputArea);\n    }\n  }\n  if (typeof (root._bokeh_timeout) === \"undefined\" || force === true) {\n    root._bokeh_timeout = Date.now() + 5000;\n    root._bokeh_failed_load = false;\n  }\n\n  const NB_LOAD_WARNING = {'data': {'text/html':\n     \"<div style='background-color: #fdd'>\\n\"+\n     \"<p>\\n\"+\n     \"BokehJS does not appear to have successfully loaded. If loading BokehJS from CDN, this \\n\"+\n     \"may be due to a slow or bad network connection. Possible fixes:\\n\"+\n     \"</p>\\n\"+\n     \"<ul>\\n\"+\n     \"<li>re-rerun `output_notebook()` to attempt to load from CDN again, or</li>\\n\"+\n     \"<li>use INLINE resources instead, as so:</li>\\n\"+\n     \"</ul>\\n\"+\n     \"<code>\\n\"+\n     \"from bokeh.resources import INLINE\\n\"+\n     \"output_notebook(resources=INLINE)\\n\"+\n     \"</code>\\n\"+\n     \"</div>\"}};\n\n  function display_loaded() {\n    const el = document.getElementById(\"1002\");\n    if (el != null) {\n      el.textContent = \"BokehJS is loading...\";\n    }\n    if (root.Bokeh !== undefined) {\n      if (el != null) {\n        el.textContent = \"BokehJS \" + root.Bokeh.version + \" successfully loaded.\";\n      }\n    } else if (Date.now() < root._bokeh_timeout) {\n      setTimeout(display_loaded, 100)\n    }\n  }\n\n  function run_callbacks() {\n    try {\n      root._bokeh_onload_callbacks.forEach(function(callback) {\n        if (callback != null)\n          callback();\n      });\n    } finally {\n      delete root._bokeh_onload_callbacks\n    }\n    console.debug(\"Bokeh: all callbacks have finished\");\n  }\n\n  function load_libs(css_urls, js_urls, callback) {\n    if (css_urls == null) css_urls = [];\n    if (js_urls == null) js_urls = [];\n\n    root._bokeh_onload_callbacks.push(callback);\n    if (root._bokeh_is_loading > 0) {\n      console.debug(\"Bokeh: BokehJS is being loaded, scheduling callback at\", now());\n      return null;\n    }\n    if (js_urls == null || js_urls.length === 0) {\n      run_callbacks();\n      return null;\n    }\n    console.debug(\"Bokeh: BokehJS not loaded, scheduling load and callback at\", now());\n    root._bokeh_is_loading = css_urls.length + js_urls.length;\n\n    function on_load() {\n      root._bokeh_is_loading--;\n      if (root._bokeh_is_loading === 0) {\n        console.debug(\"Bokeh: all BokehJS libraries/stylesheets loaded\");\n        run_callbacks()\n      }\n    }\n\n    function on_error(url) {\n      console.error(\"failed to load \" + url);\n    }\n\n    for (let i = 0; i < css_urls.length; i++) {\n      const url = css_urls[i];\n      const element = document.createElement(\"link\");\n      element.onload = on_load;\n      element.onerror = on_error.bind(null, url);\n      element.rel = \"stylesheet\";\n      element.type = \"text/css\";\n      element.href = url;\n      console.debug(\"Bokeh: injecting link tag for BokehJS stylesheet: \", url);\n      document.body.appendChild(element);\n    }\n\n    for (let i = 0; i < js_urls.length; i++) {\n      const url = js_urls[i];\n      const element = document.createElement('script');\n      element.onload = on_load;\n      element.onerror = on_error.bind(null, url);\n      element.async = false;\n      element.src = url;\n      console.debug(\"Bokeh: injecting script tag for BokehJS library: \", url);\n      document.head.appendChild(element);\n    }\n  };\n\n  function inject_raw_css(css) {\n    const element = document.createElement(\"style\");\n    element.appendChild(document.createTextNode(css));\n    document.body.appendChild(element);\n  }\n\n  const js_urls = [\"https://cdn.bokeh.org/bokeh/release/bokeh-2.4.3.min.js\", \"https://cdn.bokeh.org/bokeh/release/bokeh-gl-2.4.3.min.js\", \"https://cdn.bokeh.org/bokeh/release/bokeh-widgets-2.4.3.min.js\", \"https://cdn.bokeh.org/bokeh/release/bokeh-tables-2.4.3.min.js\", \"https://cdn.bokeh.org/bokeh/release/bokeh-mathjax-2.4.3.min.js\"];\n  const css_urls = [];\n\n  const inline_js = [    function(Bokeh) {\n      Bokeh.set_log_level(\"info\");\n    },\nfunction(Bokeh) {\n    }\n  ];\n\n  function run_inline_js() {\n    if (root.Bokeh !== undefined || force === true) {\n          for (let i = 0; i < inline_js.length; i++) {\n      inline_js[i].call(root, root.Bokeh);\n    }\nif (force === true) {\n        display_loaded();\n      }} else if (Date.now() < root._bokeh_timeout) {\n      setTimeout(run_inline_js, 100);\n    } else if (!root._bokeh_failed_load) {\n      console.log(\"Bokeh: BokehJS failed to load within specified timeout.\");\n      root._bokeh_failed_load = true;\n    } else if (force !== true) {\n      const cell = $(document.getElementById(\"1002\")).parents('.cell').data().cell;\n      cell.output_area.append_execute_result(NB_LOAD_WARNING)\n    }\n  }\n\n  if (root._bokeh_is_loading === 0) {\n    console.debug(\"Bokeh: BokehJS loaded, going straight to plotting\");\n    run_inline_js();\n  } else {\n    load_libs(css_urls, js_urls, function() {\n      console.debug(\"Bokeh: BokehJS plotting callback run at\", now());\n      run_inline_js();\n    });\n  }\n}(window));",
      "application/vnd.bokehjs_load.v0+json": ""
     },
     "metadata": {},
     "output_type": "display_data"
    }
   ],
   "source": [
    "import numpy as np\n",
    "from bokeh.plotting import figure, output_notebook,show\n",
    "output_notebook()"
   ]
  },
  {
   "attachments": {},
   "cell_type": "markdown",
   "metadata": {},
   "source": [
    "### Set up the data\n",
    "\n",
    "We use the multivariate simulated data from the regression lab, with the target variable being column 1 and the features being columns 2 and 3. We append a column of ones to the data matrix. "
   ]
  },
  {
   "cell_type": "code",
   "execution_count": 2,
   "metadata": {},
   "outputs": [],
   "source": [
    "data = np.genfromtxt(\"data/multivar_simulated/data.csv\", skip_header=1, delimiter=\",\")\n",
    "Y = data[:, 1].reshape(-1,1)\n",
    "X = data[:, 2:]\n",
    "X = np.concatenate([X, np.ones(shape=(X.shape[0], 1))], axis=1)"
   ]
  },
  {
   "attachments": {},
   "cell_type": "markdown",
   "metadata": {},
   "source": [
    "Find our initial guess and the matrices needed for the gradient.  Choose a learning rate and a tolerance.\n"
   ]
  },
  {
   "cell_type": "code",
   "execution_count": 3,
   "metadata": {},
   "outputs": [],
   "source": [
    "M0 = np.random.normal(0,1,size=(X.shape[1],1))\n",
    "\n",
    "lr = .0001\n",
    "epsilon=.00001\n",
    "A = ((X.T) @ Y).reshape(3,1)\n",
    "D = X.T @ X"
   ]
  },
  {
   "attachments": {},
   "cell_type": "markdown",
   "metadata": {},
   "source": [
    "Do the gradient descent iteration\n"
   ]
  },
  {
   "cell_type": "code",
   "execution_count": 4,
   "metadata": {},
   "outputs": [
    {
     "name": "stdout",
     "output_type": "stream",
     "text": [
      "converged after 2142 iterations\n"
     ]
    }
   ],
   "source": [
    "MSE0=0\n",
    "losses = []\n",
    "for i in range(10000):\n",
    "    M = M0 - lr*(-2*A+2*(D@M0))\n",
    "    MSE = np.sum(np.square(Y-(X@M)))\n",
    "    if np.abs(MSE-MSE0)<epsilon:\n",
    "        print(\"converged after {} iterations\".format(i))\n",
    "        break\n",
    "    M0=M.copy()\n",
    "    MSE0=MSE\n",
    "    losses.append(MSE)"
   ]
  },
  {
   "attachments": {},
   "cell_type": "markdown",
   "metadata": {},
   "source": [
    "Compare the results of the gradient descent with the direct solution."
   ]
  },
  {
   "cell_type": "code",
   "execution_count": 5,
   "metadata": {},
   "outputs": [
    {
     "name": "stdout",
     "output_type": "stream",
     "text": [
      "Gradient Descent yields [ 1.78971611 -3.47779226  6.05091481] while direct computation yields [ 1.78777492 -3.47899986  6.0608333 ]\n"
     ]
    }
   ],
   "source": [
    "direct_solution = np.linalg.inv(D)@A\n",
    "print(f\"Gradient Descent yields {M.ravel()} while direct computation yields {direct_solution.ravel()}\")"
   ]
  },
  {
   "attachments": {},
   "cell_type": "markdown",
   "metadata": {},
   "source": [
    "Behavior of the MSE over the iterations.\n"
   ]
  },
  {
   "cell_type": "code",
   "execution_count": 6,
   "metadata": {},
   "outputs": [
    {
     "data": {
      "text/html": [
       "\n",
       "  <div class=\"bk-root\" id=\"4024ea27-89a5-4dd7-9459-f91252aeaf07\" data-root-id=\"1003\"></div>\n"
      ]
     },
     "metadata": {},
     "output_type": "display_data"
    },
    {
     "data": {
      "application/javascript": "(function(root) {\n  function embed_document(root) {\n  const docs_json = {\"ae9d05fa-d2aa-49b5-b62c-2f6960700182\":{\"defs\":[],\"roots\":{\"references\":[{\"attributes\":{\"below\":[{\"id\":\"1014\"}],\"center\":[{\"id\":\"1017\"},{\"id\":\"1021\"}],\"left\":[{\"id\":\"1018\"}],\"renderers\":[{\"id\":\"1040\"}],\"title\":{\"id\":\"1004\"},\"toolbar\":{\"id\":\"1029\"},\"x_range\":{\"id\":\"1006\"},\"x_scale\":{\"id\":\"1010\"},\"y_range\":{\"id\":\"1008\"},\"y_scale\":{\"id\":\"1012\"}},\"id\":\"1003\",\"subtype\":\"Figure\",\"type\":\"Plot\"},{\"attributes\":{},\"id\":\"1048\",\"type\":\"AllLabels\"},{\"attributes\":{\"data\":{\"x\":[50.0,60.0,70.0,80.0,90.0,100.0,110.0,120.0,130.0,140.0,150.0,160.0,170.0,180.0,190.0,200.0,210.0],\"y\":[120.60373043750322,100.77618933889451,90.11807089808644,84.38889408622934,81.30922602626052,79.65377784041243,78.76390638587146,78.28556389688485,78.02843514463389,77.89021786986451,77.81592040263287,77.7759824596641,77.75451417348954,77.74297408712015,77.73677081628942,77.73343630320453,77.73164386534128]},\"selected\":{\"id\":\"1050\"},\"selection_policy\":{\"id\":\"1049\"}},\"id\":\"1036\",\"type\":\"ColumnDataSource\"},{\"attributes\":{},\"id\":\"1050\",\"type\":\"Selection\"},{\"attributes\":{\"fill_alpha\":{\"value\":0.2},\"fill_color\":{\"value\":\"#1f77b4\"},\"hatch_alpha\":{\"value\":0.2},\"line_alpha\":{\"value\":0.2},\"line_color\":{\"value\":\"#1f77b4\"},\"x\":{\"field\":\"x\"},\"y\":{\"field\":\"y\"}},\"id\":\"1039\",\"type\":\"Scatter\"},{\"attributes\":{\"fill_color\":{\"value\":\"#1f77b4\"},\"line_color\":{\"value\":\"#1f77b4\"},\"x\":{\"field\":\"x\"},\"y\":{\"field\":\"y\"}},\"id\":\"1037\",\"type\":\"Scatter\"},{\"attributes\":{\"coordinates\":null,\"group\":null,\"text\":\"MSE for gradient descent vs iterations\"},\"id\":\"1004\",\"type\":\"Title\"},{\"attributes\":{},\"id\":\"1023\",\"type\":\"WheelZoomTool\"},{\"attributes\":{\"axis\":{\"id\":\"1014\"},\"coordinates\":null,\"group\":null,\"ticker\":null},\"id\":\"1017\",\"type\":\"Grid\"},{\"attributes\":{},\"id\":\"1015\",\"type\":\"BasicTicker\"},{\"attributes\":{\"source\":{\"id\":\"1036\"}},\"id\":\"1041\",\"type\":\"CDSView\"},{\"attributes\":{},\"id\":\"1025\",\"type\":\"SaveTool\"},{\"attributes\":{\"bottom_units\":\"screen\",\"coordinates\":null,\"fill_alpha\":0.5,\"fill_color\":\"lightgrey\",\"group\":null,\"left_units\":\"screen\",\"level\":\"overlay\",\"line_alpha\":1.0,\"line_color\":\"black\",\"line_dash\":[4,4],\"line_width\":2,\"right_units\":\"screen\",\"syncable\":false,\"top_units\":\"screen\"},\"id\":\"1028\",\"type\":\"BoxAnnotation\"},{\"attributes\":{\"axis\":{\"id\":\"1018\"},\"coordinates\":null,\"dimension\":1,\"group\":null,\"ticker\":null},\"id\":\"1021\",\"type\":\"Grid\"},{\"attributes\":{\"overlay\":{\"id\":\"1028\"}},\"id\":\"1024\",\"type\":\"BoxZoomTool\"},{\"attributes\":{},\"id\":\"1026\",\"type\":\"ResetTool\"},{\"attributes\":{\"coordinates\":null,\"data_source\":{\"id\":\"1036\"},\"glyph\":{\"id\":\"1037\"},\"group\":null,\"hover_glyph\":null,\"muted_glyph\":{\"id\":\"1039\"},\"nonselection_glyph\":{\"id\":\"1038\"},\"view\":{\"id\":\"1041\"}},\"id\":\"1040\",\"type\":\"GlyphRenderer\"},{\"attributes\":{\"fill_alpha\":{\"value\":0.1},\"fill_color\":{\"value\":\"#1f77b4\"},\"hatch_alpha\":{\"value\":0.1},\"line_alpha\":{\"value\":0.1},\"line_color\":{\"value\":\"#1f77b4\"},\"x\":{\"field\":\"x\"},\"y\":{\"field\":\"y\"}},\"id\":\"1038\",\"type\":\"Scatter\"},{\"attributes\":{},\"id\":\"1010\",\"type\":\"LinearScale\"},{\"attributes\":{},\"id\":\"1022\",\"type\":\"PanTool\"},{\"attributes\":{},\"id\":\"1006\",\"type\":\"DataRange1d\"},{\"attributes\":{\"coordinates\":null,\"formatter\":{\"id\":\"1044\"},\"group\":null,\"major_label_policy\":{\"id\":\"1045\"},\"ticker\":{\"id\":\"1019\"}},\"id\":\"1018\",\"type\":\"LinearAxis\"},{\"attributes\":{},\"id\":\"1019\",\"type\":\"BasicTicker\"},{\"attributes\":{},\"id\":\"1047\",\"type\":\"BasicTickFormatter\"},{\"attributes\":{},\"id\":\"1045\",\"type\":\"AllLabels\"},{\"attributes\":{},\"id\":\"1008\",\"type\":\"DataRange1d\"},{\"attributes\":{\"axis_label\":\"Iterations (x10)\",\"coordinates\":null,\"formatter\":{\"id\":\"1047\"},\"group\":null,\"major_label_policy\":{\"id\":\"1048\"},\"ticker\":{\"id\":\"1015\"}},\"id\":\"1014\",\"type\":\"LinearAxis\"},{\"attributes\":{},\"id\":\"1027\",\"type\":\"HelpTool\"},{\"attributes\":{},\"id\":\"1012\",\"type\":\"LinearScale\"},{\"attributes\":{},\"id\":\"1044\",\"type\":\"BasicTickFormatter\"},{\"attributes\":{\"tools\":[{\"id\":\"1022\"},{\"id\":\"1023\"},{\"id\":\"1024\"},{\"id\":\"1025\"},{\"id\":\"1026\"},{\"id\":\"1027\"}]},\"id\":\"1029\",\"type\":\"Toolbar\"},{\"attributes\":{},\"id\":\"1049\",\"type\":\"UnionRenderers\"}],\"root_ids\":[\"1003\"]},\"title\":\"Bokeh Application\",\"version\":\"2.4.3\"}};\n  const render_items = [{\"docid\":\"ae9d05fa-d2aa-49b5-b62c-2f6960700182\",\"root_ids\":[\"1003\"],\"roots\":{\"1003\":\"4024ea27-89a5-4dd7-9459-f91252aeaf07\"}}];\n  root.Bokeh.embed.embed_items_notebook(docs_json, render_items);\n  }\n  if (root.Bokeh !== undefined) {\n    embed_document(root);\n  } else {\n    let attempts = 0;\n    const timer = setInterval(function(root) {\n      if (root.Bokeh !== undefined) {\n        clearInterval(timer);\n        embed_document(root);\n      } else {\n        attempts++;\n        if (attempts > 100) {\n          clearInterval(timer);\n          console.log(\"Bokeh: ERROR: Unable to run BokehJS code because BokehJS library is missing\");\n        }\n      }\n    }, 10, root)\n  }\n})(window);",
      "application/vnd.bokehjs_exec.v0+json": ""
     },
     "metadata": {
      "application/vnd.bokehjs_exec.v0+json": {
       "id": "1003"
      }
     },
     "output_type": "display_data"
    }
   ],
   "source": [
    "\n",
    "f=figure(title='MSE for gradient descent vs iterations',x_axis_label='Iterations (x10)')\n",
    "x=list(range(len(losses)))\n",
    "f.scatter(x=[y/10 for y in x[500::100]],y=losses[500::100])\n",
    "show(f)"
   ]
  },
  {
   "cell_type": "code",
   "execution_count": 7,
   "metadata": {},
   "outputs": [
    {
     "data": {
      "text/html": [
       "\n",
       "  <div class=\"bk-root\" id=\"d3d38531-fd6f-42d9-ac4d-514579732cd8\" data-root-id=\"1102\"></div>\n"
      ]
     },
     "metadata": {},
     "output_type": "display_data"
    },
    {
     "data": {
      "application/javascript": "(function(root) {\n  function embed_document(root) {\n  const docs_json = {\"4c5bff22-b5c1-4ac0-8a8f-91dad1cc2fa2\":{\"defs\":[],\"roots\":{\"references\":[{\"attributes\":{\"below\":[{\"id\":\"1113\"}],\"center\":[{\"id\":\"1116\"},{\"id\":\"1120\"}],\"left\":[{\"id\":\"1117\"}],\"renderers\":[{\"id\":\"1139\"}],\"title\":{\"id\":\"1103\"},\"toolbar\":{\"id\":\"1128\"},\"x_range\":{\"id\":\"1105\"},\"x_scale\":{\"id\":\"1109\"},\"y_range\":{\"id\":\"1107\"},\"y_scale\":{\"id\":\"1111\"}},\"id\":\"1102\",\"subtype\":\"Figure\",\"type\":\"Plot\"},{\"attributes\":{},\"id\":\"1126\",\"type\":\"HelpTool\"},{\"attributes\":{},\"id\":\"1153\",\"type\":\"BasicTickFormatter\"},{\"attributes\":{},\"id\":\"1154\",\"type\":\"AllLabels\"},{\"attributes\":{\"coordinates\":null,\"formatter\":{\"id\":\"1153\"},\"group\":null,\"major_label_policy\":{\"id\":\"1154\"},\"ticker\":{\"id\":\"1118\"}},\"id\":\"1117\",\"type\":\"LinearAxis\"},{\"attributes\":{\"axis\":{\"id\":\"1117\"},\"coordinates\":null,\"dimension\":1,\"group\":null,\"ticker\":null},\"id\":\"1120\",\"type\":\"Grid\"},{\"attributes\":{},\"id\":\"1118\",\"type\":\"BasicTicker\"},{\"attributes\":{},\"id\":\"1156\",\"type\":\"BasicTickFormatter\"},{\"attributes\":{},\"id\":\"1111\",\"type\":\"LinearScale\"},{\"attributes\":{},\"id\":\"1157\",\"type\":\"AllLabels\"},{\"attributes\":{\"coordinates\":null,\"group\":null,\"text\":\"MSE vs iterations for gradient descent\"},\"id\":\"1103\",\"type\":\"Title\"},{\"attributes\":{\"fill_color\":{\"value\":\"#1f77b4\"},\"line_color\":{\"value\":\"#1f77b4\"},\"x\":{\"field\":\"x\"},\"y\":{\"field\":\"y\"}},\"id\":\"1136\",\"type\":\"Scatter\"},{\"attributes\":{},\"id\":\"1105\",\"type\":\"DataRange1d\"},{\"attributes\":{},\"id\":\"1125\",\"type\":\"ResetTool\"},{\"attributes\":{},\"id\":\"1124\",\"type\":\"SaveTool\"},{\"attributes\":{\"fill_alpha\":{\"value\":0.2},\"fill_color\":{\"value\":\"#1f77b4\"},\"hatch_alpha\":{\"value\":0.2},\"line_alpha\":{\"value\":0.2},\"line_color\":{\"value\":\"#1f77b4\"},\"x\":{\"field\":\"x\"},\"y\":{\"field\":\"y\"}},\"id\":\"1138\",\"type\":\"Scatter\"},{\"attributes\":{},\"id\":\"1158\",\"type\":\"UnionRenderers\"},{\"attributes\":{\"bottom_units\":\"screen\",\"coordinates\":null,\"fill_alpha\":0.5,\"fill_color\":\"lightgrey\",\"group\":null,\"left_units\":\"screen\",\"level\":\"overlay\",\"line_alpha\":1.0,\"line_color\":\"black\",\"line_dash\":[4,4],\"line_width\":2,\"right_units\":\"screen\",\"syncable\":false,\"top_units\":\"screen\"},\"id\":\"1127\",\"type\":\"BoxAnnotation\"},{\"attributes\":{},\"id\":\"1159\",\"type\":\"Selection\"},{\"attributes\":{\"source\":{\"id\":\"1135\"}},\"id\":\"1140\",\"type\":\"CDSView\"},{\"attributes\":{\"tools\":[{\"id\":\"1121\"},{\"id\":\"1122\"},{\"id\":\"1123\"},{\"id\":\"1124\"},{\"id\":\"1125\"},{\"id\":\"1126\"}]},\"id\":\"1128\",\"type\":\"Toolbar\"},{\"attributes\":{\"overlay\":{\"id\":\"1127\"}},\"id\":\"1123\",\"type\":\"BoxZoomTool\"},{\"attributes\":{},\"id\":\"1121\",\"type\":\"PanTool\"},{\"attributes\":{},\"id\":\"1122\",\"type\":\"WheelZoomTool\"},{\"attributes\":{\"data\":{\"x\":[150.0,151.0,152.0,153.0,154.0,155.0,156.0,157.0,158.0,159.0,160.0,161.0,162.0,163.0,164.0,165.0,166.0,167.0,168.0,169.0,170.0,171.0,172.0,173.0,174.0,175.0,176.0,177.0,178.0,179.0,180.0,181.0,182.0,183.0,184.0,185.0,186.0,187.0,188.0,189.0,190.0,191.0,192.0,193.0,194.0,195.0,196.0,197.0,198.0,199.0,200.0,201.0,202.0,203.0,204.0,205.0,206.0,207.0,208.0,209.0,210.0,211.0,212.0,213.0,214.0],\"y\":[77.81592040263287,77.81072260191242,77.80583764437102,77.80124670072678,77.79693207498727,77.79287713623945,77.78906625454516,77.78548474069478,77.78211878958693,77.77895542701636,77.7759824596641,77.77318842809785,77.77056256260123,77.76809474166102,77.76577545295395,77.76359575668049,77.7615472511064,77.75962204017753,77.75781270308451,77.75611226565854,77.75451417348954,77.75301226666144,77.75160075600895,77.75027420080275,77.74902748777787,77.74785581142467,77.7467546554655,77.74571977544684,77.74474718237836,77.74383312735779,77.74297408712015,77.74216675045739,77.7414080054552,77.74069492749784,77.74002476799525,77.73939494378837,77.73880302719239,77.73824673663893,77.73772392788176,77.73723258573187,77.73677081628942,77.73633683964403,77.73592898301371,77.73554567429734,77.73518543601477,77.73484687961181,77.73452870010804,77.73422967106673,77.73394863986738,77.73368452326298,77.73343630320453,77.7332030229171,77.73298378321155,77.73277773901886,77.7325840961327,77.7324021081483,77.73223107358481,77.73207033318214,77.73191926735949,77.73177729382688,77.73164386534128,77.73151846759674,77.73140061724213,77.7312898600182,77.73118576900637]},\"selected\":{\"id\":\"1159\"},\"selection_policy\":{\"id\":\"1158\"}},\"id\":\"1135\",\"type\":\"ColumnDataSource\"},{\"attributes\":{},\"id\":\"1107\",\"type\":\"DataRange1d\"},{\"attributes\":{},\"id\":\"1114\",\"type\":\"BasicTicker\"},{\"attributes\":{\"axis\":{\"id\":\"1113\"},\"coordinates\":null,\"group\":null,\"ticker\":null},\"id\":\"1116\",\"type\":\"Grid\"},{\"attributes\":{\"fill_alpha\":{\"value\":0.1},\"fill_color\":{\"value\":\"#1f77b4\"},\"hatch_alpha\":{\"value\":0.1},\"line_alpha\":{\"value\":0.1},\"line_color\":{\"value\":\"#1f77b4\"},\"x\":{\"field\":\"x\"},\"y\":{\"field\":\"y\"}},\"id\":\"1137\",\"type\":\"Scatter\"},{\"attributes\":{},\"id\":\"1109\",\"type\":\"LinearScale\"},{\"attributes\":{\"axis_label\":\"Iterations (x10)\",\"coordinates\":null,\"formatter\":{\"id\":\"1156\"},\"group\":null,\"major_label_policy\":{\"id\":\"1157\"},\"ticker\":{\"id\":\"1114\"}},\"id\":\"1113\",\"type\":\"LinearAxis\"},{\"attributes\":{\"coordinates\":null,\"data_source\":{\"id\":\"1135\"},\"glyph\":{\"id\":\"1136\"},\"group\":null,\"hover_glyph\":null,\"muted_glyph\":{\"id\":\"1138\"},\"nonselection_glyph\":{\"id\":\"1137\"},\"view\":{\"id\":\"1140\"}},\"id\":\"1139\",\"type\":\"GlyphRenderer\"}],\"root_ids\":[\"1102\"]},\"title\":\"Bokeh Application\",\"version\":\"2.4.3\"}};\n  const render_items = [{\"docid\":\"4c5bff22-b5c1-4ac0-8a8f-91dad1cc2fa2\",\"root_ids\":[\"1102\"],\"roots\":{\"1102\":\"d3d38531-fd6f-42d9-ac4d-514579732cd8\"}}];\n  root.Bokeh.embed.embed_items_notebook(docs_json, render_items);\n  }\n  if (root.Bokeh !== undefined) {\n    embed_document(root);\n  } else {\n    let attempts = 0;\n    const timer = setInterval(function(root) {\n      if (root.Bokeh !== undefined) {\n        clearInterval(timer);\n        embed_document(root);\n      } else {\n        attempts++;\n        if (attempts > 100) {\n          clearInterval(timer);\n          console.log(\"Bokeh: ERROR: Unable to run BokehJS code because BokehJS library is missing\");\n        }\n      }\n    }, 10, root)\n  }\n})(window);",
      "application/vnd.bokehjs_exec.v0+json": ""
     },
     "metadata": {
      "application/vnd.bokehjs_exec.v0+json": {
       "id": "1102"
      }
     },
     "output_type": "display_data"
    }
   ],
   "source": [
    "\n",
    "f2=figure(title='MSE vs iterations for gradient descent',x_axis_label='Iterations (x10)')\n",
    "x=list(range(len(losses)))\n",
    "f2.scatter(x=[y/10 for y in x[1500::10]],y=losses[1500::10])\n",
    "show(f2)"
   ]
  },
  {
   "attachments": {},
   "cell_type": "markdown",
   "metadata": {},
   "source": [
    "## Stochastic Gradient Descent\n",
    "\n",
    "In stochastic gradient descent, each loop uses just one pair (x,y) from the dataset. So x is just a row of the X matrix, y is an entry from the\n",
    "y vector, and the error is $\\|(y-xM)\\|^2$.  The gradient of this is $2x\\cdot(y-xM)=2x\\cdot y - 2x\\cdot xM$.\n",
    "\n",
    "Stochastic gradient descent avoids having to do any big matrix multiplications, and in particular avoids computing $X^{T}X$ which, if $X$ has many rows, can be prohibitively expensive."
   ]
  },
  {
   "cell_type": "code",
   "execution_count": 8,
   "metadata": {},
   "outputs": [],
   "source": [
    "M0 = np.random.normal(0,1,size=(X.shape[1],1))\n",
    "lr = .0001\n",
    "epsilon=.00001"
   ]
  },
  {
   "cell_type": "code",
   "execution_count": 9,
   "metadata": {},
   "outputs": [],
   "source": [
    "losses=[]\n",
    "for j in range(10000):\n",
    "    for i in range(X.shape[0]):\n",
    "        data=X[i,:].reshape(1,X.shape[1])\n",
    "        target = Y[i,0]\n",
    "        grad = -2*data*(target-((data@M0)[0,0]))\n",
    "        M = M0 - lr*grad.T\n",
    "        M0 = M.copy()\n",
    "    MSE = np.sum(np.square(Y-(X@M)))\n",
    "    losses.append(MSE)"
   ]
  },
  {
   "cell_type": "code",
   "execution_count": 10,
   "metadata": {},
   "outputs": [
    {
     "name": "stdout",
     "output_type": "stream",
     "text": [
      "Gradient Descent yields [ 1.78866833 -3.48161702  6.05914503] while direct computation yields [ 1.78777492 -3.47899986  6.0608333 ]\n"
     ]
    }
   ],
   "source": [
    "print(f\"Gradient Descent yields {M.ravel()} while direct computation yields {direct_solution.ravel()}\")"
   ]
  },
  {
   "attachments": {},
   "cell_type": "markdown",
   "metadata": {},
   "source": [
    "Stochastic gradient descent doesn't really converge to a minimum, it tends to move around the minimum point.\n",
    "To see this let's look at a simple one-variable problem"
   ]
  },
  {
   "cell_type": "code",
   "execution_count": 13,
   "metadata": {},
   "outputs": [],
   "source": [
    "x=np.linspace(0,10,10)\n",
    "y=3*x+2+np.random.normal(0,3,size=10)"
   ]
  },
  {
   "cell_type": "code",
   "execution_count": 14,
   "metadata": {},
   "outputs": [
    {
     "data": {
      "text/html": [
       "\n",
       "  <div class=\"bk-root\" id=\"f0bcc562-afc3-4615-94ac-8942a54b2324\" data-root-id=\"1211\"></div>\n"
      ]
     },
     "metadata": {},
     "output_type": "display_data"
    },
    {
     "data": {
      "application/javascript": "(function(root) {\n  function embed_document(root) {\n  const docs_json = {\"04d9b5db-fcfa-4a7d-a5b6-e9eecf09d2c3\":{\"defs\":[],\"roots\":{\"references\":[{\"attributes\":{\"below\":[{\"id\":\"1220\"}],\"center\":[{\"id\":\"1223\"},{\"id\":\"1227\"}],\"left\":[{\"id\":\"1224\"}],\"renderers\":[{\"id\":\"1246\"},{\"id\":\"1252\"}],\"title\":{\"id\":\"1274\"},\"toolbar\":{\"id\":\"1235\"},\"x_range\":{\"id\":\"1212\"},\"x_scale\":{\"id\":\"1216\"},\"y_range\":{\"id\":\"1214\"},\"y_scale\":{\"id\":\"1218\"}},\"id\":\"1211\",\"subtype\":\"Figure\",\"type\":\"Plot\"},{\"attributes\":{},\"id\":\"1221\",\"type\":\"BasicTicker\"},{\"attributes\":{},\"id\":\"1282\",\"type\":\"UnionRenderers\"},{\"attributes\":{\"fill_alpha\":{\"value\":0.1},\"fill_color\":{\"value\":\"#1f77b4\"},\"hatch_alpha\":{\"value\":0.1},\"line_alpha\":{\"value\":0.1},\"line_color\":{\"value\":\"#1f77b4\"},\"x\":{\"field\":\"x\"},\"y\":{\"field\":\"y\"}},\"id\":\"1244\",\"type\":\"Scatter\"},{\"attributes\":{},\"id\":\"1283\",\"type\":\"Selection\"},{\"attributes\":{\"source\":{\"id\":\"1248\"}},\"id\":\"1253\",\"type\":\"CDSView\"},{\"attributes\":{\"line_alpha\":0.2,\"line_color\":\"#1f77b4\",\"x\":{\"field\":\"x\"},\"y\":{\"field\":\"y\"}},\"id\":\"1251\",\"type\":\"Line\"},{\"attributes\":{\"source\":{\"id\":\"1242\"}},\"id\":\"1247\",\"type\":\"CDSView\"},{\"attributes\":{},\"id\":\"1225\",\"type\":\"BasicTicker\"},{\"attributes\":{\"coordinates\":null,\"data_source\":{\"id\":\"1242\"},\"glyph\":{\"id\":\"1243\"},\"group\":null,\"hover_glyph\":null,\"muted_glyph\":{\"id\":\"1245\"},\"nonselection_glyph\":{\"id\":\"1244\"},\"view\":{\"id\":\"1247\"}},\"id\":\"1246\",\"type\":\"GlyphRenderer\"},{\"attributes\":{\"tools\":[{\"id\":\"1228\"},{\"id\":\"1229\"},{\"id\":\"1230\"},{\"id\":\"1231\"},{\"id\":\"1232\"},{\"id\":\"1233\"}]},\"id\":\"1235\",\"type\":\"Toolbar\"},{\"attributes\":{},\"id\":\"1216\",\"type\":\"LinearScale\"},{\"attributes\":{},\"id\":\"1278\",\"type\":\"AllLabels\"},{\"attributes\":{\"line_alpha\":0.1,\"line_color\":\"#1f77b4\",\"x\":{\"field\":\"x\"},\"y\":{\"field\":\"y\"}},\"id\":\"1250\",\"type\":\"Line\"},{\"attributes\":{\"line_color\":\"#1f77b4\",\"x\":{\"field\":\"x\"},\"y\":{\"field\":\"y\"}},\"id\":\"1249\",\"type\":\"Line\"},{\"attributes\":{\"axis\":{\"id\":\"1224\"},\"coordinates\":null,\"dimension\":1,\"group\":null,\"ticker\":null},\"id\":\"1227\",\"type\":\"Grid\"},{\"attributes\":{\"coordinates\":null,\"group\":null},\"id\":\"1274\",\"type\":\"Title\"},{\"attributes\":{\"coordinates\":null,\"data_source\":{\"id\":\"1248\"},\"glyph\":{\"id\":\"1249\"},\"group\":null,\"hover_glyph\":null,\"muted_glyph\":{\"id\":\"1251\"},\"nonselection_glyph\":{\"id\":\"1250\"},\"view\":{\"id\":\"1253\"}},\"id\":\"1252\",\"type\":\"GlyphRenderer\"},{\"attributes\":{},\"id\":\"1284\",\"type\":\"UnionRenderers\"},{\"attributes\":{\"axis\":{\"id\":\"1220\"},\"coordinates\":null,\"group\":null,\"ticker\":null},\"id\":\"1223\",\"type\":\"Grid\"},{\"attributes\":{\"overlay\":{\"id\":\"1234\"}},\"id\":\"1230\",\"type\":\"BoxZoomTool\"},{\"attributes\":{\"fill_color\":{\"value\":\"#1f77b4\"},\"line_color\":{\"value\":\"#1f77b4\"},\"x\":{\"field\":\"x\"},\"y\":{\"field\":\"y\"}},\"id\":\"1243\",\"type\":\"Scatter\"},{\"attributes\":{},\"id\":\"1214\",\"type\":\"DataRange1d\"},{\"attributes\":{},\"id\":\"1285\",\"type\":\"Selection\"},{\"attributes\":{},\"id\":\"1277\",\"type\":\"BasicTickFormatter\"},{\"attributes\":{},\"id\":\"1212\",\"type\":\"DataRange1d\"},{\"attributes\":{\"coordinates\":null,\"formatter\":{\"id\":\"1280\"},\"group\":null,\"major_label_policy\":{\"id\":\"1281\"},\"ticker\":{\"id\":\"1221\"}},\"id\":\"1220\",\"type\":\"LinearAxis\"},{\"attributes\":{},\"id\":\"1228\",\"type\":\"PanTool\"},{\"attributes\":{\"data\":{\"x\":{\"__ndarray__\":\"AAAAAAAAAAByHMdxHMfxP3Icx3EcxwFAq6qqqqqqCkByHMdxHMcRQI7jOI7jOBZAq6qqqqqqGkDIcRzHcRwfQHIcx3EcxyFAAAAAAAAAJEA=\",\"dtype\":\"float64\",\"order\":\"little\",\"shape\":[10]},\"y\":{\"__ndarray__\":\"AAAAAAAAAEBWVVVVVVUVQFZVVVVVVSFAAAAAAAAAKECrqqqqqqouQKqqqqqqqjJAAAAAAAAANkBWVVVVVVU5QKuqqqqqqjxAAAAAAAAAQEA=\",\"dtype\":\"float64\",\"order\":\"little\",\"shape\":[10]}},\"selected\":{\"id\":\"1285\"},\"selection_policy\":{\"id\":\"1284\"}},\"id\":\"1248\",\"type\":\"ColumnDataSource\"},{\"attributes\":{\"fill_alpha\":{\"value\":0.2},\"fill_color\":{\"value\":\"#1f77b4\"},\"hatch_alpha\":{\"value\":0.2},\"line_alpha\":{\"value\":0.2},\"line_color\":{\"value\":\"#1f77b4\"},\"x\":{\"field\":\"x\"},\"y\":{\"field\":\"y\"}},\"id\":\"1245\",\"type\":\"Scatter\"},{\"attributes\":{},\"id\":\"1231\",\"type\":\"SaveTool\"},{\"attributes\":{\"bottom_units\":\"screen\",\"coordinates\":null,\"fill_alpha\":0.5,\"fill_color\":\"lightgrey\",\"group\":null,\"left_units\":\"screen\",\"level\":\"overlay\",\"line_alpha\":1.0,\"line_color\":\"black\",\"line_dash\":[4,4],\"line_width\":2,\"right_units\":\"screen\",\"syncable\":false,\"top_units\":\"screen\"},\"id\":\"1234\",\"type\":\"BoxAnnotation\"},{\"attributes\":{},\"id\":\"1229\",\"type\":\"WheelZoomTool\"},{\"attributes\":{},\"id\":\"1233\",\"type\":\"HelpTool\"},{\"attributes\":{\"data\":{\"x\":{\"__ndarray__\":\"AAAAAAAAAAByHMdxHMfxP3Icx3EcxwFAq6qqqqqqCkByHMdxHMcRQI7jOI7jOBZAq6qqqqqqGkDIcRzHcRwfQHIcx3EcxyFAAAAAAAAAJEA=\",\"dtype\":\"float64\",\"order\":\"little\",\"shape\":[10]},\"y\":{\"__ndarray__\":\"oJcPSSYc6D/ST2xFtoIhQIDqSl8CkhhAgaWcQ0opKUBg/ZCVNu0zQKi4HYGSLTJA7EyBu24wMkCp61UF/tA4QEpPOcfMbzlArvaPNbNaQEA=\",\"dtype\":\"float64\",\"order\":\"little\",\"shape\":[10]}},\"selected\":{\"id\":\"1283\"},\"selection_policy\":{\"id\":\"1282\"}},\"id\":\"1242\",\"type\":\"ColumnDataSource\"},{\"attributes\":{},\"id\":\"1280\",\"type\":\"BasicTickFormatter\"},{\"attributes\":{\"coordinates\":null,\"formatter\":{\"id\":\"1277\"},\"group\":null,\"major_label_policy\":{\"id\":\"1278\"},\"ticker\":{\"id\":\"1225\"}},\"id\":\"1224\",\"type\":\"LinearAxis\"},{\"attributes\":{},\"id\":\"1232\",\"type\":\"ResetTool\"},{\"attributes\":{},\"id\":\"1281\",\"type\":\"AllLabels\"},{\"attributes\":{},\"id\":\"1218\",\"type\":\"LinearScale\"}],\"root_ids\":[\"1211\"]},\"title\":\"Bokeh Application\",\"version\":\"2.4.3\"}};\n  const render_items = [{\"docid\":\"04d9b5db-fcfa-4a7d-a5b6-e9eecf09d2c3\",\"root_ids\":[\"1211\"],\"roots\":{\"1211\":\"f0bcc562-afc3-4615-94ac-8942a54b2324\"}}];\n  root.Bokeh.embed.embed_items_notebook(docs_json, render_items);\n  }\n  if (root.Bokeh !== undefined) {\n    embed_document(root);\n  } else {\n    let attempts = 0;\n    const timer = setInterval(function(root) {\n      if (root.Bokeh !== undefined) {\n        clearInterval(timer);\n        embed_document(root);\n      } else {\n        attempts++;\n        if (attempts > 100) {\n          clearInterval(timer);\n          console.log(\"Bokeh: ERROR: Unable to run BokehJS code because BokehJS library is missing\");\n        }\n      }\n    }, 10, root)\n  }\n})(window);",
      "application/vnd.bokehjs_exec.v0+json": ""
     },
     "metadata": {
      "application/vnd.bokehjs_exec.v0+json": {
       "id": "1211"
      }
     },
     "output_type": "display_data"
    }
   ],
   "source": [
    "f5=figure()\n",
    "f5.scatter(x=x,y=y)\n",
    "f5.line(x=x,y=3*x+2)\n",
    "show(f5)"
   ]
  },
  {
   "cell_type": "code",
   "execution_count": 47,
   "metadata": {},
   "outputs": [],
   "source": [
    "w=np.random.normal(0,1)\n",
    "b=np.random.normal(0,1)\n",
    "losses=[]\n",
    "for j in range(100):\n",
    "    for i in range(len(x)):\n",
    "        data=x[i]\n",
    "        target = y[i]\n",
    "        wgrad = -2*data*(target-(w*data+b))\n",
    "        bgrad = -2*(target-(w*data+b))\n",
    "        w = w - lr*wgrad\n",
    "        b = b - lr*bgrad\n",
    "        loss = (target-(w*data+b))**2\n",
    "        losses.append(loss)\n"
   ]
  },
  {
   "cell_type": "code",
   "execution_count": 51,
   "metadata": {},
   "outputs": [
    {
     "name": "stdout",
     "output_type": "stream",
     "text": [
      "found slope=2.919956644576504 and intercept=1.8797127483499463\n"
     ]
    }
   ],
   "source": [
    "print(f\"found slope={w} and intercept={b}\")"
   ]
  },
  {
   "cell_type": "code",
   "execution_count": 50,
   "metadata": {},
   "outputs": [
    {
     "data": {
      "text/html": [
       "\n",
       "  <div class=\"bk-root\" id=\"54ad48ec-cb01-49f2-a6eb-2368f4e85904\" data-root-id=\"4532\"></div>\n"
      ]
     },
     "metadata": {},
     "output_type": "display_data"
    },
    {
     "data": {
      "application/javascript": "(function(root) {\n  function embed_document(root) {\n  const docs_json = {\"9f8342b9-8fab-48bc-b1fa-b1006f0bbef6\":{\"defs\":[],\"roots\":{\"references\":[{\"attributes\":{\"below\":[{\"id\":\"4543\"}],\"center\":[{\"id\":\"4546\"},{\"id\":\"4550\"}],\"left\":[{\"id\":\"4547\"}],\"renderers\":[{\"id\":\"4569\"}],\"title\":{\"id\":\"4533\"},\"toolbar\":{\"id\":\"4558\"},\"x_range\":{\"id\":\"4535\"},\"x_scale\":{\"id\":\"4539\"},\"y_range\":{\"id\":\"4537\"},\"y_scale\":{\"id\":\"4541\"}},\"id\":\"4532\",\"subtype\":\"Figure\",\"type\":\"Plot\"},{\"attributes\":{\"data\":{\"x\":[0,1,2,3,4,5,6,7,8,9,10,11,12,13,14,15,16,17,18,19,20,21,22,23,24,25,26,27,28,29,30,31,32,33,34,35,36,37,38,39,40,41,42,43,44,45,46,47,48,49,50,51,52,53,54,55,56,57,58,59,60,61,62,63,64,65,66,67,68,69,70,71,72,73,74,75,76,77,78,79,80,81,82,83,84,85,86,87,88,89,90,91,92,93,94,95,96,97,98,99,100,101,102,103,104,105,106,107,108,109,110,111,112,113,114,115,116,117,118,119,120,121,122,123,124,125,126,127,128,129,130,131,132,133,134,135,136,137,138,139,140,141,142,143,144,145,146,147,148,149,150,151,152,153,154,155,156,157,158,159,160,161,162,163,164,165,166,167,168,169,170,171,172,173,174,175,176,177,178,179,180,181,182,183,184,185,186,187,188,189,190,191,192,193,194,195,196,197,198,199,200,201,202,203,204,205,206,207,208,209,210,211,212,213,214,215,216,217,218,219,220,221,222,223,224,225,226,227,228,229,230,231,232,233,234,235,236,237,238,239,240,241,242,243,244,245,246,247,248,249,250,251,252,253,254,255,256,257,258,259,260,261,262,263,264,265,266,267,268,269,270,271,272,273,274,275,276,277,278,279,280,281,282,283,284,285,286,287,288,289,290,291,292,293,294,295,296,297,298,299,300,301,302,303,304,305,306,307,308,309,310,311,312,313,314,315,316,317,318,319,320,321,322,323,324,325,326,327,328,329,330,331,332,333,334,335,336,337,338,339,340,341,342,343,344,345,346,347,348,349,350,351,352,353,354,355,356,357,358,359,360,361,362,363,364,365,366,367,368,369,370,371,372,373,374,375,376,377,378,379,380,381,382,383,384,385,386,387,388,389,390,391,392,393,394,395,396,397,398,399,400,401,402,403,404,405,406,407,408,409,410,411,412,413,414,415,416,417,418,419,420,421,422,423,424,425,426,427,428,429,430,431,432,433,434,435,436,437,438,439,440,441,442,443,444,445,446,447,448,449,450,451,452,453,454,455,456,457,458,459,460,461,462,463,464,465,466,467,468,469,470,471,472,473,474,475,476,477,478,479,480,481,482,483,484,485,486,487,488,489,490,491,492,493,494,495,496,497,498,499,500,501,502,503,504,505,506,507,508,509,510,511,512,513,514,515,516,517,518,519,520,521,522,523,524,525,526,527,528,529,530,531,532,533,534,535,536,537,538,539,540,541,542,543,544,545,546,547,548,549,550,551,552,553,554,555,556,557,558,559,560,561,562,563,564,565,566,567,568,569,570,571,572,573,574,575,576,577,578,579,580,581,582,583,584,585,586,587,588,589,590,591,592,593,594,595,596,597,598,599,600,601,602,603,604,605,606,607,608,609,610,611,612,613,614,615,616,617,618,619,620,621,622,623,624,625,626,627,628,629,630,631,632,633,634,635,636,637,638,639,640,641,642,643,644,645,646,647,648,649,650,651,652,653,654,655,656,657,658,659,660,661,662,663,664,665,666,667,668,669,670,671,672,673,674,675,676,677,678,679,680,681,682,683,684,685,686,687,688,689,690,691,692,693,694,695,696,697,698,699,700,701,702,703,704,705,706,707,708,709,710,711,712,713,714,715,716,717,718,719,720,721,722,723,724,725,726,727,728,729,730,731,732,733,734,735,736,737,738,739,740,741,742,743,744,745,746,747,748,749,750,751,752,753,754,755,756,757,758,759,760,761,762,763,764,765,766,767,768,769,770,771,772,773,774,775,776,777,778,779,780,781,782,783,784,785,786,787,788,789,790,791,792,793,794,795,796,797,798,799,800,801,802,803,804,805,806,807,808,809,810,811,812,813,814,815,816,817,818,819,820,821,822,823,824,825,826,827,828,829,830,831,832,833,834,835,836,837,838,839,840,841,842,843,844,845,846,847,848,849,850,851,852,853,854,855,856,857,858,859,860,861,862,863,864,865,866,867,868,869,870,871,872,873,874,875,876,877,878,879,880,881,882,883,884,885,886,887,888,889,890,891,892,893,894,895,896,897,898,899,900,901,902,903,904,905,906,907,908,909,910,911,912,913,914,915,916,917,918,919,920,921,922,923,924,925,926,927,928,929,930,931,932,933,934,935,936,937,938,939,940,941,942,943,944,945,946,947,948,949,950,951,952,953,954,955,956,957,958,959,960,961,962,963,964,965,966,967,968,969,970,971,972,973,974,975,976,977,978,979,980,981,982,983,984,985,986,987,988,989,990,991,992,993,994,995,996,997,998,999],\"y\":[0.21436694547242655,81.00195478650154,61.48319188209958,246.49714078078622,594.9718392036114,571.850411456555,629.4108145101255,1066.9768009814923,1158.0725582830057,1736.7056566335748,0.25626726635586766,74.4403579696971,50.989010119226144,215.3125983609535,530.9804321824913,494.9920828494942,534.377792094613,924.1452419638545,991.5756490549634,1511.4780588799374,0.29864117227304043,68.58463813505162,42.107382006726276,188.19507597341436,474.7189650772874,428.471202434458,452.9511069928244,800.485608862099,848.285977223197,1315.9968880168458,0.3410118515659491,63.352136430757106,34.60734147196401,164.60625295372196,425.20855950945327,370.8968435168763,383.24243514418214,693.4209372146918,725.0240873108289,1146.2977239222298,0.38299529224833534,58.67045751935586,28.289980343955314,144.07963281363604,381.59780366953913,321.0652707090395,323.6216013362408,600.720889462426,619.0423901376321,998.9470355848072,0.42428580782288683,54.47614828933966,22.98406567012184,126.21091963848754,343.1458939263368,277.9347448522779,272.681553201611,520.4551129794768,527.9667579443611,870.9709096441916,0.46464364880005865,50.7135502160957,18.54225167951834,110.64968680458583,309.20802484149687,240.60371928266025,229.20806939801318,450.95287542757643,449.74600041276716,759.7933595443561,0.5038844096481015,47.333802291070384,14.837806019814304,97.09216427371723,279.22272638730993,208.2919709391277,192.15356334875844,390.7681325146129,382.6081593964612,663.1829265629657,0.5418699806363988,44.29397452448058,11.761780737165099,85.27499409441145,252.70088760901717,180.32427126261246,160.61442998123164,338.649296969584,325.02270325322667,579.2064573944757,0.5785008283727004,41.5563146993166,9.220567848933738,74.96982396710116,229.2162409795753,156.11625501251223,133.8114573698945,293.5130759673129,275.6678254786346,506.18909304088777,0.6137094185084437,39.08759336839285,7.133787475804918,65.97862623588001,208.39711199564377,135.16219114638497,111.07288962873956,254.42182940941836,233.4021594778042,442.67963364211516,0.647454619726033,36.85853408995948,5.432463522453235,58.12964481960259,189.91926479169518,117.02439973348069,91.81978315666163,220.56397517611236,197.2403140215933,387.42055627667156,0.6797169502734413,34.84331763257053,4.057447971943868,51.273885706585496,173.4996972523609,101.32409333664268,75.5533465866907,191.23703124977612,166.33171415791662,339.32206003548424,0.7104945474468843,33.01915038258368,2.958060115969417,45.28207798451462,158.89125875552966,87.7334511217982,61.84399653790173,165.83293981151098,139.9423017692764,297.4395968530748,0.7397997569500013,31.365888489065657,2.090911591203425,40.04204219776024,145.87798069061,75.96875976423293,50.321897392344745,143.82536618174424,117.43871003864386,260.954419433035,0.7676562533311739,29.865710408022498,1.4188920269626852,35.456411323619534,134.2710246228607,65.78447755651928,40.668784575958576,124.75870681570626,98.27457806640896,229.15674065347875,0.7940966150248684,28.502831484154537,0.9102935136406749,31.440657014854388,123.90516572309446,56.96809745202891,32.61089786757611,108.23857633972627,81.97871686057572,201.4311534024418,0.8191602881624583,27.263255054002883,0.5380550465013831,27.921380122153018,114.63574011836182,49.33570150513542,25.91287466099767,93.92357457388857,68.14487684344749,177.2440070150181,0.8428918825014312,26.13455528693033,0.27911064727378726,24.834830019985827,106.33599437360357,42.72811364473773,20.372473352517613,81.51816127884537,56.42290069649639,156.13247735152268,0.8653397507468661,25.105687615039443,0.11382707009874063,22.125622027993664,98.89478358595429,37.00757024471542,15.816014544976413,70.76648955047523,46.51107450690379,137.69510292440918,0.8865548093765523,24.166823153003207,0.025518905076483026,19.745626347276133,92.21457173481193,32.05483879565231,12.094442916910685,61.44706885103966,38.14951539530477,121.58359009109685,0.9065895649789192,23.309203985239144,3.054203028502717e-05,17.653005503050096,86.20969413118378,27.766724363627766,9.079925719744399,53.36814602964132,31.114455623222753,107.49571682079164,0.9254973151988626,22.525016610737016,0.025375883825669108,15.811380376820209,80.80484717834774,24.053911640506673,6.662915212424697,46.36370771166697,25.21330205802386,95.16918747006126,0.9433314977711783,21.807281193670505,0.09142793267875143,14.189107587085859,75.93377530430256,20.83909741595028,4.749612159616317,40.29002044112767,20.280366208834877,84.37631084403596,0.9601451649001544,21.149754578062304,0.18965144032208994,12.758653293647292,71.53812895158781,18.055374381428468,3.2597760126205815,35.02263621364509,16.173174181335547,74.91939099274296,0.9759905634995513,20.54684529361209,0.3128727361435018,11.496050505179635,67.5664709955627,15.644832438146443,2.1248347399106087,30.45380077690091,12.769278129111887,66.6267350545027,0.9909188046112027,19.99353901286773,0.45508164591681183,10.380428704819037,63.97341198063271,13.557348234173391,1.2862536308964214,26.49021050355356,9.963501360872186,59.349195321384265,1.004979607734448,19.48533312200615,0.611261104327707,9.39360611030835,60.71885717792979,11.74953759651466,0.6941278957809058,23.05107093538967,7.665558418282373,52.95717383449559,1.0182211078759782,19.018179242735933,0.7772406617199457,8.519736185162223,57.767350731892215,10.183848933909964,0.3059686416975692,20.066416409520844,5.797999360568398,47.338027452192655,1.0306897149165726,18.588432694826505,0.9495706019429531,7.745001142491769,55.08750412404786,8.827778637165652,0.08565592071483888,17.475655639893912,4.294434345595941,42.39381967364224,1.0424300164274407,18.192808020615114,1.1254138347690807,7.057346157080416,52.651497880766016,7.653192057627028,0.0025361052729454357,15.226312854624096,3.0980005267229007,38.03937271793403,1.0534847163888976,17.828339807233068,1.3024531124972276,6.44624884436527,50.43464692301903,6.635735854438283,0.03064392605132306,13.2729381806396,2.160038414799345,34.200579606018415,1.0638946033977303,17.49234814155603,1.4788114542270259,5.9025192947579415,48.41502123076427,5.754329413794471,0.14803217092875934,11.576164507489157,1.4389492929831937,30.8129413997582,1.0736985429224284,17.1824081190367,1.652983949933398,5.418126583467918,46.57311459881122,4.990724698507642,0.3361943476488609,10.101891126027738,0.8992091117526376,27.820299432340207,1.082933488999776,16.896322902369818,1.8237793660012191,4.9860482228596075,44.891555217809234,4.329125318540371,0.5795676055420061,8.820577089192762,0.510517613283978,25.173736415015824,1.09163451148124,16.632099890881168,1.9902701895784767,4.6001394977875165,43.354852643056105,3.7558568526929816,0.8651049351496175,7.70662953672215,0.2470643080205714,22.830623811277633,1.0998348355497216,16.387929617935534,2.151749935543798,4.255020034193954,41.949176432297996,3.2590815243197326,1.181907155160413,6.737874211477493,0.08689541217364805,20.75379590439075,1.1075658907508577,16.162167042658147,2.3076967010157023,3.9459753060633806,40.66216235638619,2.828551262250088,1.5209064851215108,5.895097113590273,0.011368005331730451,18.910833611089288,1.1148573672304982,15.953314944843692,2.45774209157728,3.6688710930074215,39.48274262640134,2.4553939814421826,1.87459461711526,5.161647725916433,0.004679527527295276,17.273443368081672,1.1217372772519034,15.760009168938323,2.6016447637106843,3.4200791667062655,38.40099704875791,2.13192861311359,2.23678916351869,4.523095531396389,0.05346234414746549,15.816918386278472,1.1282320203917655,15.581005495161238,2.739267931891248,3.1964127146962658,37.408022425472765,1.851505015736858,2.6024331914377,3.966932656815203,0.1464344988359029,14.519671271454573,1.134366451091344,15.415167943823464,2.870560278595947,2.9950702093676616,36.49581786854918,1.6083654189480967,2.9674232750412006,3.482316441450264,0.2740989783118272,13.36282848495164,1.1401639474745555,15.261458343255418,2.995539783050819,2.81358660266941,35.65718400249508,1.397524502998279,3.3284621200469138,3.059846563364517,0.4284848541778169,12.32987839480492,1.1456464805447633,15.118927012954044,3.114280051534159,2.6497908765047122,34.885634293606074,1.2146656063108305,3.682932353211549,2.6913720781037282,0.6029245672349849,11.40636577296859,1.1508346830413099,14.986704432018229,3.226898789900411,2.501769108248926,34.17531697419952,1.0560508911593194,4.028788535255196,2.36982434940418,0.7918623985491267,10.579626551188012,1.1557479173798573,14.863993779021984,3.3335481089325545,2.367832322923713,33.52094622916906,0.9184435895104142,4.364464858073379,2.089072392281811,0.9906898449371744,9.838557476465429,1.1604043422212267,14.75006424348803,3.4344063962420894,2.246488500646095,32.91774148508713,0.79904070380272,4.688796334890489,1.8437976168765307,1.1956041988754509,9.17341602426787,1.1648209773147826,14.644245021343915,3.529671525641084,2.1364181920557535,32.361373792130216,0.695414756142766,5.000951592572948,1.6293853664561364,1.4034871363646721,8.575646548574909,1.1690137663473636,14.545919917402067,3.619555207013877,2.0364532672531017,31.847918419372917,0.6054633686735679,5.300375635036292,1.441830993518224,1.6118005516560345,8.037729185496888,1.1729976375997104,14.454522487209172,3.7042783074088708,1.9455583868648634,31.37381289712494,0.5273656216710134,5.586741171072129,1.2776585213005724,1.8184972541514395,7.55304849270755,1.1767865622712883,14.36953165873523,3.7840669979545303,1.8628148385018093,30.935819838255973,0.45954427767764366,5.859907293770918,1.133850200567348,2.0219444681999126,7.115779210019602,1.180393610383244,14.29046778147296,3.859149601795414,1.787406429215172,30.53099395583103,0.40063308265980846,6.119884466157887,1.0077854987722175,2.2208583578096226,6.720786875475567,1.1838310042093554,14.216889056725947,3.9297540359936924,1.7186071655756294,30.156652768585918,0.3494484613399132,6.366804912269687,0.897188255364464,2.414248041441265,6.363541333586176,1.1871101692176456,14.148388308296047,3.996105755634858,1.6557704885381623,29.810350550282006,0.30496501573365364,6.600897637772118,0.8000809072134911,2.601367772197713,6.040041434112163,1.1902417825319274,14.084590057535891,4.058426121550626,1.5983198610530684,29.489855135082227,0.26629431543500237,6.822467412030878,0.7147448354407335,2.781676140338858,5.7467494464866125,1.1932358189438563,14.02514787089969,4.116931124414759,1.5457405330726048,29.193127239894725,0.2326665370042374,7.031877136610035,0.6396860124471198,2.9548013119864183,5.4805339113235405,1.1961015945229672,13.96974195177892,4.1718304077307975,1.4975723317350405,28.91830200710367,0.20341456936621546,7.229533105491532,0.5736052382750797,3.120511453480617,5.23861982053027,1.1988478078853382,13.918076951615944,4.223326540630014,1.453403344558997,28.66367250808368,0.17796025366403567,7.415872731611422,0.5153723509532614,3.278689607994761,5.018545164858862,1.2014825791915478,13.869879978104855,4.2716144986203535,1.4128643808642034,28.427674980098168,0.15580247061582883,7.591354374094548,0.4640038781377498,3.4293123922049826,4.8181230153512455,1.204013486952035,13.82489878076379,4.316881316635115,1.3756241117058987,28.208875597243654,0.13650682702290612,7.75644895212914,0.41864366891274357,3.5724319682091386,4.635408415698122,1.2064476027232038,13.78290009634135,4.359305884061564,1.3413848016799035,28.005958600562924,0.11969672648391734,7.91163307588162,0.3785461065424974,3.7081608213598445,4.4686694583237,1.2087915237810822,13.74366813843745,4.399058856007584,1.309878557289735,27.81771563378384,0.1050456382808564,8.057383463171158,0.34306155656855986,3.8366589398421542,4.316362000015943,1.2110514038613052,13.707003217409817,4.436302658990393,1.2808640263992823,27.643036149757727,0.09227040342391521,8.194172443645348,0.3116237510430897,3.9581230480771805,4.177107544852311,1.2132329820549674,13.672720478129209,4.471191572597859,1.2541234918243862,27.480898768923275,0.08112543849657924,8.322464380641073,0.2837388498481382,4.07277759458687,4.049673884511175,1.2153416099496464,13.640648744464313,4.50387187155534,1.229460309518025,27.33036348532207,0.07139771668337651,8.442712865408554,0.2589759548130765,4.18086723685046,3.932958140093159,1.217382277103906,13.61062946054254,4.534482015098513,1.206696648227604,27.190564628102173,0.06290242158216221,8.555358559457463,0.23695888243202645,4.2826506018280375,3.825971896417197,1.2193596349419404,13.582515719864661,4.56315287266147,1.18567149307892,27.060704497302453,0.05547918344023605,8.660827578922275,0.21735902702986565,4.378395132002601,3.7278281603652546,1.221278019152895,13.556171374265448,4.590007976690581,1.166238880382974,26.940047602212854,0.04898881960253221,8.759530330441722,0.19988916877237628,4.468372853675041,3.6377299100597162,1.2231414706768904,13.531470215523663,4.615163794931042,1.14826633516641,26.827915438926645,0.04331051147466566,8.851860721453425,0.18429810043416345,4.552856927419113,3.5549600321955857,1.224953755357009,13.508295223145565,4.638730015841527,1.1316334865788138,26.72368175099734,0.03833935940385602,8.938195679321803,0.17036596373415366,4.632118860576213,3.4788724713323154,1.2267183823335142,13.486537872486894,4.660809841905607,1.1162308395040843,26.62676822351149,0.03398426475684498,9.018894923603435,0.15790020067586688,4.706426278873566,3.4088844379269867,1.2284386212534673,13.466097497949251,4.681500286553892,1.1019586834611947,26.53664056650643,0.030166095290614554,9.094300944236446,0.14673203799267998,4.776041169066318,3.344469541824191,1.230117518365711,13.446880706495794,4.700892471211917,1.0887261222781393,26.45280494859988,0.026816095811670063,9.164739145712474,0.13671343376145303,4.841218517259957,3.285151735216759,1.2317579115679924,13.428800837185308,4.719071919666839,1.0764502101085887,26.374804746038116,0.023874511226033495,9.230518123518245,0.12771442473941289,4.902205278543651,3.230499964106945,1.2333624444697469,13.411777462830331,4.736118847517791,1.0650551811754345,26.302217576192657,0.021289393501844736,9.291930044464689,0.11962082119728083,4.959239623005888,3.180123440332961,1.234933579530911,13.395735930248172,4.752108444956401,1.054471762204577,26.234652587902293,0.019015567891848634,9.349251107080416,0.11233220313677061,5.012550411319072,3.1336674575446977,1.2364736103339966,13.380606935899934,4.76711115152807,1.0446365578875714,26.17174798402697,0.01701373707411125,9.402742062138282,0.10576017794185519,5.062356860050975,3.090809684345494,1.237984673043599,13.366326134004705,4.781192921862547,1.0354915009092354,26.113168754202952,0.015249704735161528,9.452648776705665,0.09982686484777956,5.108868362849284,3.051256876356809,1.2394687571045642,13.352833774479235,4.794415481644178,1.0269833591201354,26.058604598106456,0.013693702600334767,9.499202827939108,0.09446357623177094,5.152284438782159,3.014741956387677,1.2409277152271587,13.340074368289537,4.806836573325556,1.0190632933435873,26.007768021582248,0.012319807063297153,9.542622115249696,0.08960966972983923,5.192794783523489,2.981021418342136,1.2423632727048417,13.327996378014124,4.818510191281271,1.0116864601006101,25.960392589812646,0.011105433425204956,9.583111481512411,0.08521154864882645,5.230579402846006,2.9498730161105664,1.2437770361075844,13.316551931610539,4.82948680625631,1.004811654228677,25.916231323311127,0.010030897362756473,9.620863335724145,0.08122179114348207,5.265808811117691,2.921093703570257,1.245170501391149,13.305696557550599,4.839813579092514,0.9984009869749223,25.875055223956064,0.009079034636966906,9.656058270984321,0.07759839122740927,5.2986442802597145,2.89449779606993,1.2465450614603382,13.295388939646454,4.849534563819663,0.9924195956728408,25.836651919552,0.0082348712599497,9.6888656729081,0.07430409693789844,5.329238126987077,2.8699153274684286,1.2479020132218943,13.285590690032006,4.858690900281332,0.9868353815733542,25.800824416536617,0.007485337380518658,9.719444314626946,0.07130583292482491,5.357734028167191,2.8471905800190314,1.249242564160579,13.27626613889277,4.8673209965295605,0.9816187728051037,25.76738995146123,0.006819019052758926,9.747942935406357,0.06857419642313461,5.384267355851066,2.8261807671951074,1.2505678384698544,13.267382139654353,4.875460701273555,0.97674250979257,25.73617893277106,0.006225942833734464,9.774500800643043,0.06608301703220476,5.408965524992543,2.8067548519991905,1.251878882766666,13.25890788844591,4.8831434667045786,0.9721814507705195,25.707033965217462,0.0056973888335155945,9.799248241615803,0.06380897199350083,5.431948348114826,2.7887924854284996,1.253176671417916,13.2508147567517,4.890400502046812,0.9679123953046215,25.67980894995176,0.005225728426810387,9.822307173869703,0.06173124975697739,5.453328392237228,2.7721830516316395,1.2544621115045276,13.243076136251666,4.8972609182027576,0.9639139239666756,25.65436825399598,0.004804283342930952,9.843791593534519,0.05983125557890345,5.473211334268579,2.7568248079144575,1.2557360474472854,13.235667294932414,4.903751863873255,0.9601662525217938,25.63058594336257,0.004427203290139265,9.86380805121946,0.05809235371938843,5.491696311826629,2.7426241091719086,1.2569992653171336,13.228565243623116,4.9098986535380575,0.9566510991690129,25.608345074615023,0.004089359650827398,9.882456103408034,0.05649964152326225,5.50887626708015,2.729494707563177,1.2582524968511126,13.221748612177798,4.915724887683845,0.9533515635383374,25.58753704012784,0.0037862531133156054,9.899828741502196,0.055039751288218516,5.524838281743914,2.7173571193303103,1.2594964231937444,13.21519753458647,4.921252565663995,0.9502520162896534,25.568060962723823,0.003513933391258685,9.916012798846236,0.053700676361984806,5.539663901804328,2.7061380516112643,1.2607316783824054,13.208893542353872,4.926502191568413,0.947337998284428,25.549823135746873,0.0032689294285808785,9.931089336202247,0.05247161837656274,5.553429450927698,2.6957698829277317,1.2619588525939611,13.202819465535534,4.931492873473545,0.9445961284117376,25.532736504968966,0.003048188701718461,9.945134006260165,0.0513428529320126,5.566206331813956,2.686190191757474,1.263178495168867,13.19695934086806,4.936242416432663,0.9420140192479589,25.516720189040623,0.0028490244161316395,9.958217397848427,0.050305611393120724,5.57806131501509,2.677341328239057,1.264391117427787,13.191298326473719,4.940767409554818,0.9395801998156663,25.501699035472814,0.0026690695544316022,9.970405360571046,0.04935197676660943,5.5890568149491955,2.6691700246181593,1.26559719529486,13.185822622658858,4.945083307508565,0.9372840447840699,25.487603209392546,0.0025062368723863977,9.981759310640538,0.04847479189059345,5.599251153014977,2.6616270405363607,1.2667971717407382,13.18051939836223,4.949204506773165,0.9351157095205069,25.474367812543623,0.002358684059356212,9.992336518701471,0.04766757839728176,5.608698807848712,2.654666839697666]},\"selected\":{\"id\":\"4774\"},\"selection_policy\":{\"id\":\"4773\"}},\"id\":\"4565\",\"type\":\"ColumnDataSource\"},{\"attributes\":{},\"id\":\"4535\",\"type\":\"DataRange1d\"},{\"attributes\":{\"source\":{\"id\":\"4565\"}},\"id\":\"4570\",\"type\":\"CDSView\"},{\"attributes\":{},\"id\":\"4771\",\"type\":\"BasicTickFormatter\"},{\"attributes\":{\"fill_color\":{\"value\":\"#1f77b4\"},\"line_color\":{\"value\":\"#1f77b4\"},\"x\":{\"field\":\"x\"},\"y\":{\"field\":\"y\"}},\"id\":\"4566\",\"type\":\"Scatter\"},{\"attributes\":{},\"id\":\"4544\",\"type\":\"BasicTicker\"},{\"attributes\":{\"coordinates\":null,\"formatter\":{\"id\":\"4768\"},\"group\":null,\"major_label_policy\":{\"id\":\"4769\"},\"ticker\":{\"id\":\"4548\"}},\"id\":\"4547\",\"type\":\"LinearAxis\"},{\"attributes\":{},\"id\":\"4772\",\"type\":\"AllLabels\"},{\"attributes\":{\"fill_alpha\":{\"value\":0.2},\"fill_color\":{\"value\":\"#1f77b4\"},\"hatch_alpha\":{\"value\":0.2},\"line_alpha\":{\"value\":0.2},\"line_color\":{\"value\":\"#1f77b4\"},\"x\":{\"field\":\"x\"},\"y\":{\"field\":\"y\"}},\"id\":\"4568\",\"type\":\"Scatter\"},{\"attributes\":{\"coordinates\":null,\"data_source\":{\"id\":\"4565\"},\"glyph\":{\"id\":\"4566\"},\"group\":null,\"hover_glyph\":null,\"muted_glyph\":{\"id\":\"4568\"},\"nonselection_glyph\":{\"id\":\"4567\"},\"view\":{\"id\":\"4570\"}},\"id\":\"4569\",\"type\":\"GlyphRenderer\"},{\"attributes\":{\"fill_alpha\":{\"value\":0.1},\"fill_color\":{\"value\":\"#1f77b4\"},\"hatch_alpha\":{\"value\":0.1},\"line_alpha\":{\"value\":0.1},\"line_color\":{\"value\":\"#1f77b4\"},\"x\":{\"field\":\"x\"},\"y\":{\"field\":\"y\"}},\"id\":\"4567\",\"type\":\"Scatter\"},{\"attributes\":{},\"id\":\"4551\",\"type\":\"PanTool\"},{\"attributes\":{\"overlay\":{\"id\":\"4557\"}},\"id\":\"4553\",\"type\":\"BoxZoomTool\"},{\"attributes\":{},\"id\":\"4773\",\"type\":\"UnionRenderers\"},{\"attributes\":{},\"id\":\"4554\",\"type\":\"SaveTool\"},{\"attributes\":{},\"id\":\"4555\",\"type\":\"ResetTool\"},{\"attributes\":{},\"id\":\"4774\",\"type\":\"Selection\"},{\"attributes\":{\"tools\":[{\"id\":\"4551\"},{\"id\":\"4552\"},{\"id\":\"4553\"},{\"id\":\"4554\"},{\"id\":\"4555\"},{\"id\":\"4556\"}]},\"id\":\"4558\",\"type\":\"Toolbar\"},{\"attributes\":{\"coordinates\":null,\"group\":null,\"text\":\"MSE vs iterations in stochastic gradient descent\"},\"id\":\"4533\",\"type\":\"Title\"},{\"attributes\":{},\"id\":\"4552\",\"type\":\"WheelZoomTool\"},{\"attributes\":{},\"id\":\"4541\",\"type\":\"LinearScale\"},{\"attributes\":{},\"id\":\"4537\",\"type\":\"DataRange1d\"},{\"attributes\":{\"bottom_units\":\"screen\",\"coordinates\":null,\"fill_alpha\":0.5,\"fill_color\":\"lightgrey\",\"group\":null,\"left_units\":\"screen\",\"level\":\"overlay\",\"line_alpha\":1.0,\"line_color\":\"black\",\"line_dash\":[4,4],\"line_width\":2,\"right_units\":\"screen\",\"syncable\":false,\"top_units\":\"screen\"},\"id\":\"4557\",\"type\":\"BoxAnnotation\"},{\"attributes\":{},\"id\":\"4548\",\"type\":\"BasicTicker\"},{\"attributes\":{\"axis\":{\"id\":\"4547\"},\"coordinates\":null,\"dimension\":1,\"group\":null,\"ticker\":null},\"id\":\"4550\",\"type\":\"Grid\"},{\"attributes\":{},\"id\":\"4556\",\"type\":\"HelpTool\"},{\"attributes\":{\"coordinates\":null,\"formatter\":{\"id\":\"4771\"},\"group\":null,\"major_label_policy\":{\"id\":\"4772\"},\"ticker\":{\"id\":\"4544\"}},\"id\":\"4543\",\"type\":\"LinearAxis\"},{\"attributes\":{},\"id\":\"4768\",\"type\":\"BasicTickFormatter\"},{\"attributes\":{},\"id\":\"4539\",\"type\":\"LinearScale\"},{\"attributes\":{\"axis\":{\"id\":\"4543\"},\"coordinates\":null,\"group\":null,\"ticker\":null},\"id\":\"4546\",\"type\":\"Grid\"},{\"attributes\":{},\"id\":\"4769\",\"type\":\"AllLabels\"}],\"root_ids\":[\"4532\"]},\"title\":\"Bokeh Application\",\"version\":\"2.4.3\"}};\n  const render_items = [{\"docid\":\"9f8342b9-8fab-48bc-b1fa-b1006f0bbef6\",\"root_ids\":[\"4532\"],\"roots\":{\"4532\":\"54ad48ec-cb01-49f2-a6eb-2368f4e85904\"}}];\n  root.Bokeh.embed.embed_items_notebook(docs_json, render_items);\n  }\n  if (root.Bokeh !== undefined) {\n    embed_document(root);\n  } else {\n    let attempts = 0;\n    const timer = setInterval(function(root) {\n      if (root.Bokeh !== undefined) {\n        clearInterval(timer);\n        embed_document(root);\n      } else {\n        attempts++;\n        if (attempts > 100) {\n          clearInterval(timer);\n          console.log(\"Bokeh: ERROR: Unable to run BokehJS code because BokehJS library is missing\");\n        }\n      }\n    }, 10, root)\n  }\n})(window);",
      "application/vnd.bokehjs_exec.v0+json": ""
     },
     "metadata": {
      "application/vnd.bokehjs_exec.v0+json": {
       "id": "4532"
      }
     },
     "output_type": "display_data"
    }
   ],
   "source": [
    "f6=figure(title=\"MSE vs iterations in stochastic gradient descent\")\n",
    "f6.scatter(x=list(range(len(losses))),y=losses)\n",
    "show(f6)"
   ]
  },
  {
   "attachments": {},
   "cell_type": "markdown",
   "metadata": {},
   "source": [
    "As seen in the graph above, in each inner loop through the data has the MSE bouncing for each particular point bouncing around while the overall trend is downward.  That's because each adjustment produced by a new data point doesn't necessarily move towards the proper minimum. At the later stages the MSE for the different points varies because our estimate isn't equally good for all points. "
   ]
  },
  {
   "cell_type": "markdown",
   "metadata": {},
   "source": []
  }
 ],
 "metadata": {
  "kernelspec": {
   "display_name": "base",
   "language": "python",
   "name": "python3"
  },
  "language_info": {
   "codemirror_mode": {
    "name": "ipython",
    "version": 3
   },
   "file_extension": ".py",
   "mimetype": "text/x-python",
   "name": "python",
   "nbconvert_exporter": "python",
   "pygments_lexer": "ipython3",
   "version": "3.9.15 (main, Nov 24 2022, 14:31:59) \n[GCC 11.2.0]"
  },
  "orig_nbformat": 4,
  "vscode": {
   "interpreter": {
    "hash": "4de1eb631fc111013b2f441024ec0dcd7a567c3d6a338a26d91722f9a102f561"
   }
  }
 },
 "nbformat": 4,
 "nbformat_minor": 2
}
