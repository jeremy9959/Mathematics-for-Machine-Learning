{
 "cells": [
  {
   "cell_type": "markdown",
   "id": "formed-extent",
   "metadata": {},
   "source": [
    "# A puzzle for you\n",
    "\n",
    "The file `PenguinFeatures.csv` contains a subset of the data from the [palmerpenguins](https://github.com/allisonhorst/palmerpenguins) website; each row is a set of measurements from a penguin.  The separate file `PenguinLabels.csv` contains the species of the corresponding row.\n",
    "\n",
    "Use PCA on the `PenguinFeatures.csv` to see if you can identify groups in the data that might be related to species.\n",
    "Can you construct a score or a pair of scores that could be used to distinguish penguins by species?"
   ]
  },
  {
   "cell_type": "code",
   "execution_count": null,
   "id": "selected-macintosh",
   "metadata": {},
   "outputs": [],
   "source": []
  }
 ],
 "metadata": {
  "kernelspec": {
   "display_name": "Python 3",
   "language": "python",
   "name": "python3"
  },
  "language_info": {
   "codemirror_mode": {
    "name": "ipython",
    "version": 3
   },
   "file_extension": ".py",
   "mimetype": "text/x-python",
   "name": "python",
   "nbconvert_exporter": "python",
   "pygments_lexer": "ipython3",
   "version": "3.7.9"
  }
 },
 "nbformat": 4,
 "nbformat_minor": 5
}
