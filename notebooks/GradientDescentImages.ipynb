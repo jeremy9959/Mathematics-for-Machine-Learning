{
 "cells": [
  {
   "cell_type": "code",
   "execution_count": 102,
   "id": "ff978c03-307b-43f0-8551-3b0a16ac2f26",
   "metadata": {},
   "outputs": [
    {
     "data": {
      "text/html": [
       "<style>\n",
       "        .bk-notebook-logo {\n",
       "            display: block;\n",
       "            width: 20px;\n",
       "            height: 20px;\n",
       "            background-image: url(data:image/png;base64,iVBORw0KGgoAAAANSUhEUgAAABQAAAAUCAYAAACNiR0NAAAABHNCSVQICAgIfAhkiAAAAAlwSFlzAAALEgAACxIB0t1+/AAAABx0RVh0U29mdHdhcmUAQWRvYmUgRmlyZXdvcmtzIENTNui8sowAAAOkSURBVDiNjZRtaJVlGMd/1/08zzln5zjP1LWcU9N0NkN8m2CYjpgQYQXqSs0I84OLIC0hkEKoPtiH3gmKoiJDU7QpLgoLjLIQCpEsNJ1vqUOdO7ppbuec5+V+rj4ctwzd8IIbbi6u+8f1539dt3A78eXC7QizUF7gyV1fD1Yqg4JWz84yffhm0qkFqBogB9rM8tZdtwVsPUhWhGcFJngGeWrPzHm5oaMmkfEg1usvLFyc8jLRqDOMru7AyC8saQr7GG7f5fvDeH7Ej8CM66nIF+8yngt6HWaKh7k49Soy9nXurCi1o3qUbS3zWfrYeQDTB/Qj6kX6Ybhw4B+bOYoLKCC9H3Nu/leUTZ1JdRWkkn2ldcCamzrcf47KKXdAJllSlxAOkRgyHsGC/zRday5Qld9DyoM4/q/rUoy/CXh3jzOu3bHUVZeU+DEn8FInkPBFlu3+nW3Nw0mk6vCDiWg8CeJaxEwuHS3+z5RgY+YBR6V1Z1nxSOfoaPa4LASWxxdNp+VWTk7+4vzaou8v8PN+xo+KY2xsw6une2frhw05CTYOmQvsEhjhWjn0bmXPjpE1+kplmmkP3suftwTubK9Vq22qKmrBhpY4jvd5afdRA3wGjFAgcnTK2s4hY0/GPNIb0nErGMCRxWOOX64Z8RAC4oCXdklmEvcL8o0BfkNK4lUg9HTl+oPlQxdNo3Mg4Nv175e/1LDGzZen30MEjRUtmXSfiTVu1kK8W4txyV6BMKlbgk3lMwYCiusNy9fVfvvwMxv8Ynl6vxoByANLTWplvuj/nF9m2+PDtt1eiHPBr1oIfhCChQMBw6Aw0UulqTKZdfVvfG7VcfIqLG9bcldL/+pdWTLxLUy8Qq38heUIjh4XlzZxzQm19lLFlr8vdQ97rjZVOLf8nclzckbcD4wxXMidpX30sFd37Fv/GtwwhzhxGVAprjbg0gCAEeIgwCZyTV2Z1REEW8O4py0wsjeloKoMr6iCY6dP92H6Vw/oTyICIthibxjm/DfN9lVz8IqtqKYLUXfoKVMVQVVJOElGjrnnUt9T9wbgp8AyYKaGlqingHZU/uG2NTZSVqwHQTWkx9hxjkpWDaCg6Ckj5qebgBVbT3V3NNXMSiWSDdGV3hrtzla7J+duwPOToIg42ChPQOQjspnSlp1V+Gjdged7+8UN5CRAV7a5EdFNwCjEaBR27b3W890TE7g24NAP/mMDXRWrGoFPQI9ls/MWO2dWFAar/xcOIImbbpA3zgAAAABJRU5ErkJggg==);\n",
       "        }\n",
       "    </style>\n",
       "    <div>\n",
       "        <a href=\"https://bokeh.org\" target=\"_blank\" class=\"bk-notebook-logo\"></a>\n",
       "        <span id=\"p83688\">Loading BokehJS ...</span>\n",
       "    </div>\n"
      ]
     },
     "metadata": {},
     "output_type": "display_data"
    },
    {
     "data": {
      "application/javascript": [
       "(function(root) {\n",
       "  function now() {\n",
       "    return new Date();\n",
       "  }\n",
       "\n",
       "  const force = true;\n",
       "\n",
       "  if (typeof root._bokeh_onload_callbacks === \"undefined\" || force === true) {\n",
       "    root._bokeh_onload_callbacks = [];\n",
       "    root._bokeh_is_loading = undefined;\n",
       "  }\n",
       "\n",
       "const JS_MIME_TYPE = 'application/javascript';\n",
       "  const HTML_MIME_TYPE = 'text/html';\n",
       "  const EXEC_MIME_TYPE = 'application/vnd.bokehjs_exec.v0+json';\n",
       "  const CLASS_NAME = 'output_bokeh rendered_html';\n",
       "\n",
       "  /**\n",
       "   * Render data to the DOM node\n",
       "   */\n",
       "  function render(props, node) {\n",
       "    const script = document.createElement(\"script\");\n",
       "    node.appendChild(script);\n",
       "  }\n",
       "\n",
       "  /**\n",
       "   * Handle when an output is cleared or removed\n",
       "   */\n",
       "  function handleClearOutput(event, handle) {\n",
       "    const cell = handle.cell;\n",
       "\n",
       "    const id = cell.output_area._bokeh_element_id;\n",
       "    const server_id = cell.output_area._bokeh_server_id;\n",
       "    // Clean up Bokeh references\n",
       "    if (id != null && id in Bokeh.index) {\n",
       "      Bokeh.index[id].model.document.clear();\n",
       "      delete Bokeh.index[id];\n",
       "    }\n",
       "\n",
       "    if (server_id !== undefined) {\n",
       "      // Clean up Bokeh references\n",
       "      const cmd_clean = \"from bokeh.io.state import curstate; print(curstate().uuid_to_server['\" + server_id + \"'].get_sessions()[0].document.roots[0]._id)\";\n",
       "      cell.notebook.kernel.execute(cmd_clean, {\n",
       "        iopub: {\n",
       "          output: function(msg) {\n",
       "            const id = msg.content.text.trim();\n",
       "            if (id in Bokeh.index) {\n",
       "              Bokeh.index[id].model.document.clear();\n",
       "              delete Bokeh.index[id];\n",
       "            }\n",
       "          }\n",
       "        }\n",
       "      });\n",
       "      // Destroy server and session\n",
       "      const cmd_destroy = \"import bokeh.io.notebook as ion; ion.destroy_server('\" + server_id + \"')\";\n",
       "      cell.notebook.kernel.execute(cmd_destroy);\n",
       "    }\n",
       "  }\n",
       "\n",
       "  /**\n",
       "   * Handle when a new output is added\n",
       "   */\n",
       "  function handleAddOutput(event, handle) {\n",
       "    const output_area = handle.output_area;\n",
       "    const output = handle.output;\n",
       "\n",
       "    // limit handleAddOutput to display_data with EXEC_MIME_TYPE content only\n",
       "    if ((output.output_type != \"display_data\") || (!Object.prototype.hasOwnProperty.call(output.data, EXEC_MIME_TYPE))) {\n",
       "      return\n",
       "    }\n",
       "\n",
       "    const toinsert = output_area.element.find(\".\" + CLASS_NAME.split(' ')[0]);\n",
       "\n",
       "    if (output.metadata[EXEC_MIME_TYPE][\"id\"] !== undefined) {\n",
       "      toinsert[toinsert.length - 1].firstChild.textContent = output.data[JS_MIME_TYPE];\n",
       "      // store reference to embed id on output_area\n",
       "      output_area._bokeh_element_id = output.metadata[EXEC_MIME_TYPE][\"id\"];\n",
       "    }\n",
       "    if (output.metadata[EXEC_MIME_TYPE][\"server_id\"] !== undefined) {\n",
       "      const bk_div = document.createElement(\"div\");\n",
       "      bk_div.innerHTML = output.data[HTML_MIME_TYPE];\n",
       "      const script_attrs = bk_div.children[0].attributes;\n",
       "      for (let i = 0; i < script_attrs.length; i++) {\n",
       "        toinsert[toinsert.length - 1].firstChild.setAttribute(script_attrs[i].name, script_attrs[i].value);\n",
       "        toinsert[toinsert.length - 1].firstChild.textContent = bk_div.children[0].textContent\n",
       "      }\n",
       "      // store reference to server id on output_area\n",
       "      output_area._bokeh_server_id = output.metadata[EXEC_MIME_TYPE][\"server_id\"];\n",
       "    }\n",
       "  }\n",
       "\n",
       "  function register_renderer(events, OutputArea) {\n",
       "\n",
       "    function append_mime(data, metadata, element) {\n",
       "      // create a DOM node to render to\n",
       "      const toinsert = this.create_output_subarea(\n",
       "        metadata,\n",
       "        CLASS_NAME,\n",
       "        EXEC_MIME_TYPE\n",
       "      );\n",
       "      this.keyboard_manager.register_events(toinsert);\n",
       "      // Render to node\n",
       "      const props = {data: data, metadata: metadata[EXEC_MIME_TYPE]};\n",
       "      render(props, toinsert[toinsert.length - 1]);\n",
       "      element.append(toinsert);\n",
       "      return toinsert\n",
       "    }\n",
       "\n",
       "    /* Handle when an output is cleared or removed */\n",
       "    events.on('clear_output.CodeCell', handleClearOutput);\n",
       "    events.on('delete.Cell', handleClearOutput);\n",
       "\n",
       "    /* Handle when a new output is added */\n",
       "    events.on('output_added.OutputArea', handleAddOutput);\n",
       "\n",
       "    /**\n",
       "     * Register the mime type and append_mime function with output_area\n",
       "     */\n",
       "    OutputArea.prototype.register_mime_type(EXEC_MIME_TYPE, append_mime, {\n",
       "      /* Is output safe? */\n",
       "      safe: true,\n",
       "      /* Index of renderer in `output_area.display_order` */\n",
       "      index: 0\n",
       "    });\n",
       "  }\n",
       "\n",
       "  // register the mime type if in Jupyter Notebook environment and previously unregistered\n",
       "  if (root.Jupyter !== undefined) {\n",
       "    const events = require('base/js/events');\n",
       "    const OutputArea = require('notebook/js/outputarea').OutputArea;\n",
       "\n",
       "    if (OutputArea.prototype.mime_types().indexOf(EXEC_MIME_TYPE) == -1) {\n",
       "      register_renderer(events, OutputArea);\n",
       "    }\n",
       "  }\n",
       "  if (typeof (root._bokeh_timeout) === \"undefined\" || force === true) {\n",
       "    root._bokeh_timeout = Date.now() + 5000;\n",
       "    root._bokeh_failed_load = false;\n",
       "  }\n",
       "\n",
       "  const NB_LOAD_WARNING = {'data': {'text/html':\n",
       "     \"<div style='background-color: #fdd'>\\n\"+\n",
       "     \"<p>\\n\"+\n",
       "     \"BokehJS does not appear to have successfully loaded. If loading BokehJS from CDN, this \\n\"+\n",
       "     \"may be due to a slow or bad network connection. Possible fixes:\\n\"+\n",
       "     \"</p>\\n\"+\n",
       "     \"<ul>\\n\"+\n",
       "     \"<li>re-rerun `output_notebook()` to attempt to load from CDN again, or</li>\\n\"+\n",
       "     \"<li>use INLINE resources instead, as so:</li>\\n\"+\n",
       "     \"</ul>\\n\"+\n",
       "     \"<code>\\n\"+\n",
       "     \"from bokeh.resources import INLINE\\n\"+\n",
       "     \"output_notebook(resources=INLINE)\\n\"+\n",
       "     \"</code>\\n\"+\n",
       "     \"</div>\"}};\n",
       "\n",
       "  function display_loaded() {\n",
       "    const el = document.getElementById(\"p83688\");\n",
       "    if (el != null) {\n",
       "      el.textContent = \"BokehJS is loading...\";\n",
       "    }\n",
       "    if (root.Bokeh !== undefined) {\n",
       "      if (el != null) {\n",
       "        el.textContent = \"BokehJS \" + root.Bokeh.version + \" successfully loaded.\";\n",
       "      }\n",
       "    } else if (Date.now() < root._bokeh_timeout) {\n",
       "      setTimeout(display_loaded, 100)\n",
       "    }\n",
       "  }\n",
       "\n",
       "  function run_callbacks() {\n",
       "    try {\n",
       "      root._bokeh_onload_callbacks.forEach(function(callback) {\n",
       "        if (callback != null)\n",
       "          callback();\n",
       "      });\n",
       "    } finally {\n",
       "      delete root._bokeh_onload_callbacks\n",
       "    }\n",
       "    console.debug(\"Bokeh: all callbacks have finished\");\n",
       "  }\n",
       "\n",
       "  function load_libs(css_urls, js_urls, callback) {\n",
       "    if (css_urls == null) css_urls = [];\n",
       "    if (js_urls == null) js_urls = [];\n",
       "\n",
       "    root._bokeh_onload_callbacks.push(callback);\n",
       "    if (root._bokeh_is_loading > 0) {\n",
       "      console.debug(\"Bokeh: BokehJS is being loaded, scheduling callback at\", now());\n",
       "      return null;\n",
       "    }\n",
       "    if (js_urls == null || js_urls.length === 0) {\n",
       "      run_callbacks();\n",
       "      return null;\n",
       "    }\n",
       "    console.debug(\"Bokeh: BokehJS not loaded, scheduling load and callback at\", now());\n",
       "    root._bokeh_is_loading = css_urls.length + js_urls.length;\n",
       "\n",
       "    function on_load() {\n",
       "      root._bokeh_is_loading--;\n",
       "      if (root._bokeh_is_loading === 0) {\n",
       "        console.debug(\"Bokeh: all BokehJS libraries/stylesheets loaded\");\n",
       "        run_callbacks()\n",
       "      }\n",
       "    }\n",
       "\n",
       "    function on_error(url) {\n",
       "      console.error(\"failed to load \" + url);\n",
       "    }\n",
       "\n",
       "    for (let i = 0; i < css_urls.length; i++) {\n",
       "      const url = css_urls[i];\n",
       "      const element = document.createElement(\"link\");\n",
       "      element.onload = on_load;\n",
       "      element.onerror = on_error.bind(null, url);\n",
       "      element.rel = \"stylesheet\";\n",
       "      element.type = \"text/css\";\n",
       "      element.href = url;\n",
       "      console.debug(\"Bokeh: injecting link tag for BokehJS stylesheet: \", url);\n",
       "      document.body.appendChild(element);\n",
       "    }\n",
       "\n",
       "    for (let i = 0; i < js_urls.length; i++) {\n",
       "      const url = js_urls[i];\n",
       "      const element = document.createElement('script');\n",
       "      element.onload = on_load;\n",
       "      element.onerror = on_error.bind(null, url);\n",
       "      element.async = false;\n",
       "      element.src = url;\n",
       "      console.debug(\"Bokeh: injecting script tag for BokehJS library: \", url);\n",
       "      document.head.appendChild(element);\n",
       "    }\n",
       "  };\n",
       "\n",
       "  function inject_raw_css(css) {\n",
       "    const element = document.createElement(\"style\");\n",
       "    element.appendChild(document.createTextNode(css));\n",
       "    document.body.appendChild(element);\n",
       "  }\n",
       "\n",
       "  const js_urls = [\"https://cdn.bokeh.org/bokeh/release/bokeh-3.0.1.min.js\", \"https://cdn.bokeh.org/bokeh/release/bokeh-gl-3.0.1.min.js\", \"https://cdn.bokeh.org/bokeh/release/bokeh-widgets-3.0.1.min.js\", \"https://cdn.bokeh.org/bokeh/release/bokeh-tables-3.0.1.min.js\", \"https://cdn.bokeh.org/bokeh/release/bokeh-mathjax-3.0.1.min.js\"];\n",
       "  const css_urls = [];\n",
       "\n",
       "  const inline_js = [    function(Bokeh) {\n",
       "      Bokeh.set_log_level(\"info\");\n",
       "    },\n",
       "function(Bokeh) {\n",
       "    }\n",
       "  ];\n",
       "\n",
       "  function run_inline_js() {\n",
       "    if (root.Bokeh !== undefined || force === true) {\n",
       "          for (let i = 0; i < inline_js.length; i++) {\n",
       "      inline_js[i].call(root, root.Bokeh);\n",
       "    }\n",
       "if (force === true) {\n",
       "        display_loaded();\n",
       "      }} else if (Date.now() < root._bokeh_timeout) {\n",
       "      setTimeout(run_inline_js, 100);\n",
       "    } else if (!root._bokeh_failed_load) {\n",
       "      console.log(\"Bokeh: BokehJS failed to load within specified timeout.\");\n",
       "      root._bokeh_failed_load = true;\n",
       "    } else if (force !== true) {\n",
       "      const cell = $(document.getElementById(\"p83688\")).parents('.cell').data().cell;\n",
       "      cell.output_area.append_execute_result(NB_LOAD_WARNING)\n",
       "    }\n",
       "  }\n",
       "\n",
       "  if (root._bokeh_is_loading === 0) {\n",
       "    console.debug(\"Bokeh: BokehJS loaded, going straight to plotting\");\n",
       "    run_inline_js();\n",
       "  } else {\n",
       "    load_libs(css_urls, js_urls, function() {\n",
       "      console.debug(\"Bokeh: BokehJS plotting callback run at\", now());\n",
       "      run_inline_js();\n",
       "    });\n",
       "  }\n",
       "}(window));"
      ],
      "application/vnd.bokehjs_load.v0+json": "(function(root) {\n  function now() {\n    return new Date();\n  }\n\n  const force = true;\n\n  if (typeof root._bokeh_onload_callbacks === \"undefined\" || force === true) {\n    root._bokeh_onload_callbacks = [];\n    root._bokeh_is_loading = undefined;\n  }\n\n\n  if (typeof (root._bokeh_timeout) === \"undefined\" || force === true) {\n    root._bokeh_timeout = Date.now() + 5000;\n    root._bokeh_failed_load = false;\n  }\n\n  const NB_LOAD_WARNING = {'data': {'text/html':\n     \"<div style='background-color: #fdd'>\\n\"+\n     \"<p>\\n\"+\n     \"BokehJS does not appear to have successfully loaded. If loading BokehJS from CDN, this \\n\"+\n     \"may be due to a slow or bad network connection. Possible fixes:\\n\"+\n     \"</p>\\n\"+\n     \"<ul>\\n\"+\n     \"<li>re-rerun `output_notebook()` to attempt to load from CDN again, or</li>\\n\"+\n     \"<li>use INLINE resources instead, as so:</li>\\n\"+\n     \"</ul>\\n\"+\n     \"<code>\\n\"+\n     \"from bokeh.resources import INLINE\\n\"+\n     \"output_notebook(resources=INLINE)\\n\"+\n     \"</code>\\n\"+\n     \"</div>\"}};\n\n  function display_loaded() {\n    const el = document.getElementById(\"p83688\");\n    if (el != null) {\n      el.textContent = \"BokehJS is loading...\";\n    }\n    if (root.Bokeh !== undefined) {\n      if (el != null) {\n        el.textContent = \"BokehJS \" + root.Bokeh.version + \" successfully loaded.\";\n      }\n    } else if (Date.now() < root._bokeh_timeout) {\n      setTimeout(display_loaded, 100)\n    }\n  }\n\n  function run_callbacks() {\n    try {\n      root._bokeh_onload_callbacks.forEach(function(callback) {\n        if (callback != null)\n          callback();\n      });\n    } finally {\n      delete root._bokeh_onload_callbacks\n    }\n    console.debug(\"Bokeh: all callbacks have finished\");\n  }\n\n  function load_libs(css_urls, js_urls, callback) {\n    if (css_urls == null) css_urls = [];\n    if (js_urls == null) js_urls = [];\n\n    root._bokeh_onload_callbacks.push(callback);\n    if (root._bokeh_is_loading > 0) {\n      console.debug(\"Bokeh: BokehJS is being loaded, scheduling callback at\", now());\n      return null;\n    }\n    if (js_urls == null || js_urls.length === 0) {\n      run_callbacks();\n      return null;\n    }\n    console.debug(\"Bokeh: BokehJS not loaded, scheduling load and callback at\", now());\n    root._bokeh_is_loading = css_urls.length + js_urls.length;\n\n    function on_load() {\n      root._bokeh_is_loading--;\n      if (root._bokeh_is_loading === 0) {\n        console.debug(\"Bokeh: all BokehJS libraries/stylesheets loaded\");\n        run_callbacks()\n      }\n    }\n\n    function on_error(url) {\n      console.error(\"failed to load \" + url);\n    }\n\n    for (let i = 0; i < css_urls.length; i++) {\n      const url = css_urls[i];\n      const element = document.createElement(\"link\");\n      element.onload = on_load;\n      element.onerror = on_error.bind(null, url);\n      element.rel = \"stylesheet\";\n      element.type = \"text/css\";\n      element.href = url;\n      console.debug(\"Bokeh: injecting link tag for BokehJS stylesheet: \", url);\n      document.body.appendChild(element);\n    }\n\n    for (let i = 0; i < js_urls.length; i++) {\n      const url = js_urls[i];\n      const element = document.createElement('script');\n      element.onload = on_load;\n      element.onerror = on_error.bind(null, url);\n      element.async = false;\n      element.src = url;\n      console.debug(\"Bokeh: injecting script tag for BokehJS library: \", url);\n      document.head.appendChild(element);\n    }\n  };\n\n  function inject_raw_css(css) {\n    const element = document.createElement(\"style\");\n    element.appendChild(document.createTextNode(css));\n    document.body.appendChild(element);\n  }\n\n  const js_urls = [\"https://cdn.bokeh.org/bokeh/release/bokeh-3.0.1.min.js\", \"https://cdn.bokeh.org/bokeh/release/bokeh-gl-3.0.1.min.js\", \"https://cdn.bokeh.org/bokeh/release/bokeh-widgets-3.0.1.min.js\", \"https://cdn.bokeh.org/bokeh/release/bokeh-tables-3.0.1.min.js\", \"https://cdn.bokeh.org/bokeh/release/bokeh-mathjax-3.0.1.min.js\"];\n  const css_urls = [];\n\n  const inline_js = [    function(Bokeh) {\n      Bokeh.set_log_level(\"info\");\n    },\nfunction(Bokeh) {\n    }\n  ];\n\n  function run_inline_js() {\n    if (root.Bokeh !== undefined || force === true) {\n          for (let i = 0; i < inline_js.length; i++) {\n      inline_js[i].call(root, root.Bokeh);\n    }\nif (force === true) {\n        display_loaded();\n      }} else if (Date.now() < root._bokeh_timeout) {\n      setTimeout(run_inline_js, 100);\n    } else if (!root._bokeh_failed_load) {\n      console.log(\"Bokeh: BokehJS failed to load within specified timeout.\");\n      root._bokeh_failed_load = true;\n    } else if (force !== true) {\n      const cell = $(document.getElementById(\"p83688\")).parents('.cell').data().cell;\n      cell.output_area.append_execute_result(NB_LOAD_WARNING)\n    }\n  }\n\n  if (root._bokeh_is_loading === 0) {\n    console.debug(\"Bokeh: BokehJS loaded, going straight to plotting\");\n    run_inline_js();\n  } else {\n    load_libs(css_urls, js_urls, function() {\n      console.debug(\"Bokeh: BokehJS plotting callback run at\", now());\n      run_inline_js();\n    });\n  }\n}(window));"
     },
     "metadata": {},
     "output_type": "display_data"
    }
   ],
   "source": [
    "import numpy as np\n",
    "from bokeh.plotting import figure, output_notebook, show,row\n",
    "from bokeh.models import Range, DataRange1d,Label, LabelSet, ColumnDataSource\n",
    "output_notebook()"
   ]
  },
  {
   "cell_type": "code",
   "execution_count": 103,
   "id": "07ee6297-1122-4e72-ab3c-61e46e40c62f",
   "metadata": {},
   "outputs": [],
   "source": [
    "x=np.linspace(-3,2,100)\n",
    "f= lambda x: 3*x**4+4*x**3-12*x**2+5\n",
    "df = lambda x: 12*x**3+12*x**2-24*x\n",
    "y=f(x)"
   ]
  },
  {
   "cell_type": "code",
   "execution_count": 121,
   "id": "ac40b8c2-7b93-4f9f-97ac-a1ccf2780c95",
   "metadata": {},
   "outputs": [
    {
     "data": {
      "text/html": [
       "\n",
       "  <div id=\"e1c9d035-f91b-45b2-9b61-16f2c376f1ca\" data-root-id=\"p189789\" style=\"display: contents;\"></div>\n"
      ]
     },
     "metadata": {},
     "output_type": "display_data"
    },
    {
     "data": {
      "application/javascript": [
       "(function(root) {\n",
       "  function embed_document(root) {\n",
       "  const docs_json = {\"e8bb1653-b4ae-44e4-b629-2f65dc7c4b81\":{\"version\":\"3.0.1\",\"title\":\"Bokeh Application\",\"defs\":[],\"roots\":[{\"type\":\"object\",\"name\":\"Row\",\"id\":\"p189789\",\"attributes\":{\"children\":[{\"type\":\"object\",\"name\":\"Figure\",\"id\":\"p189679\",\"attributes\":{\"x_range\":{\"type\":\"object\",\"name\":\"Range1d\",\"id\":\"p189688\",\"attributes\":{\"start\":-3,\"end\":3}},\"y_range\":{\"type\":\"object\",\"name\":\"Range1d\",\"id\":\"p189690\",\"attributes\":{\"start\":-30,\"end\":30}},\"x_scale\":{\"type\":\"object\",\"name\":\"LinearScale\",\"id\":\"p189692\"},\"y_scale\":{\"type\":\"object\",\"name\":\"LinearScale\",\"id\":\"p189694\"},\"title\":{\"type\":\"object\",\"name\":\"Title\",\"id\":\"p189682\"},\"renderers\":[{\"type\":\"object\",\"name\":\"GlyphRenderer\",\"id\":\"p189731\",\"attributes\":{\"data_source\":{\"type\":\"object\",\"name\":\"ColumnDataSource\",\"id\":\"p189725\",\"attributes\":{\"selected\":{\"type\":\"object\",\"name\":\"Selection\",\"id\":\"p189727\",\"attributes\":{\"indices\":[],\"line_indices\":[]}},\"selection_policy\":{\"type\":\"object\",\"name\":\"UnionRenderers\",\"id\":\"p189726\"},\"data\":{\"type\":\"map\",\"entries\":[[\"x\",{\"type\":\"ndarray\",\"array\":{\"type\":\"bytes\",\"data\":\"AAAAAAAACMBDYt7OkJgHwIbEvJ0hMQfAyiabbLLJBsANiXk7Q2IGwFDrVwrU+gXAk0022WSTBcDXrxSo9SsFwBoS83aGxATAXXTRRRddBMCg1q8UqPUDwOQ4juM4jgPAJ5tssskmA8Bq/UqBWr8CwK1fKVDrVwLA8MEHH3zwAcA0JObtDIkBwHeGxLydIQHAuuiiiy66AMD+SoFav1IAwIFav1Kg1v+/CB988MEH/7+O4ziO4zj+vxWo9SsFav2/m2yyySab/L8iMW9nSMz7v6j1KwVq/fq/L7rooosu+r+1fqVArV/5vzxDYt7OkPi/wgcffPDB979JzNsZEvP2v8+QmLczJPa/VVVVVVVV9b/cGRLzdob0v2LezpCYt/O/6aKLLrro8r9vZ0jM2xnyv/YrBWr9SvG/fPDBBx988L8Eav1KgVrvvxTzdobEvO2/IHzwwQcf7L8sBWr9SoHqvziO4ziO4+i/SBdddNFF579UoNavFKjlv2ApUOtXCuS/bLLJJpts4r94O0Ni3s7gvxCJeTtDYt6/KJtssskm279ArV8pUOvXv1i/UqDWr9S/eNFFF1100b8gx3Ecx3HMv1DrVwrU+sW/AB988MEHv7+AZ0jM2xmyv4C/UqDWr5S/AB988MEHnz9gv1Kg1q+0P3A7Q2LezsA/QBdddNFFxz8Q83aGxLzNP3BnSMzbGdI/WFVVVVVV1T84Q2LezpDYPyAxb2dIzNs/CB988MEH3z94hsS8nSHhP2j9SoFav+I/XHTRRRdd5D9Q61cK1PrlP0Ri3s6QmOc/NNlkk0026T8oUOtXCtTqPxzHcRzHcew/ED744IMP7j8AtX6lQK3vP/yVArV+pfA/dNFFF1108T/sDIl5O0PyP2hIzNsZEvM/4IMPPvjg8z9cv1Kg1q/0P9T6lQK1fvU/TDbZZJNN9j/IcRzHcRz3P0CtXylQ6/c/uOiiiy66+D80JObtDIn5P6xfKVDrV/o/KJtssskm+z+g1q8UqPX7PxgS83aGxPw/lE022WST/T8MiXk7Q2L+P4jEvJ0hMf8/AAAAAAAAAEA=\"},\"shape\":[100],\"dtype\":\"float64\",\"order\":\"little\"}],[\"y\",{\"type\":\"ndarray\",\"array\":{\"type\":\"bytes\",\"data\":\"AAAAAAAAQEBANYymkgM5QPAGVTDElTJAYBwcUNtgKUAwp24vGzYdQMDxl2owOQNAQFQwdPtDAMAgA+M8VxwYwIheuxFVNCPAGDY5uFiOKcBEB1ms1iYvwNKi09AYBDLA3mxnckceNMBekMwt6+Y1wFD2dkLZYjfACMJpPMiWOMBIUTf0T4c5wCo8AY/pODrAMFV4fu+vOsAwqdyAnfA6wHl//aAQ/zrAmFk5NkffOsCX833kIJU6wNhDSJxeJDrAF3ukmqKQOcB6BC5pcN04wIaFD94sDjjAGd4CHB4mN8B7KFGSayg2wFW50vwdGDXApB/vYx/4M8DVJJ0cO8sywK7MYsgdlDHAVVVVVVVVMMCobjL8oSIuwCpLxJPClCvAwhrmGHAFKcDALDzM0HgmwERFiYfN8iPAIJ2uvRF3IcDaw1f1FhIewBpsPsfWVxnAImGKbUnFFMC2uvGW2l8QwCj0zkj2WAjAEBQ3UkJfAMD8+uqpH7XxvyDB2gX8Hc2/gEYMXwrT4j8KNEv2gmj1P3L4CM18KABAZGUyDEoOBUAjRu1SdGMJQAQtC1e8Jg1AqOzxNOwrEECumyo8unsRQDSwYQWZgxJAVk2MItREE0CyrGLzMcETQGMeYKXz+hNA/gjDM9X0E0CY6YxnDbITQMNTgtdNNhNAi/Eq6MKFEkB+g9HLE6URQKTgg4JimRBAB+0ltJfQDkBKkiXczi8MQATmtE+PXQlAN0oIffNnBkDaTdptC14DQOisa8fcTwBAfKAGlcWc+j+Um9ymHNf0P7Ch/2cX6e4/EEBGxpU55T8ACxdI9uXZP0BlmquSsck/gLY6lC8GsD8AoJlsAdJdPwDSlyrJLZ8/gItyuTKbxD8AScH/ogLaP6AiDHwg9+g/kJeR5xm99D/QSMEJLoD/P+DwZxTQgAZA6DwCgBfADkCgoGwgIU8UQJRxznVNHhpAUM0gbFhvIEDcHdIW81AkQGDFy5QBvShAcOq/Jsy8LUA4HyE67KwxQCz/48X0zjRANPlT8X9JOEDSNo2qrCE8QMJTjklcLkBAAAAAAACAQkA=\"},\"shape\":[100],\"dtype\":\"float64\",\"order\":\"little\"}]]}}},\"view\":{\"type\":\"object\",\"name\":\"CDSView\",\"id\":\"p189732\",\"attributes\":{\"filter\":{\"type\":\"object\",\"name\":\"AllIndices\",\"id\":\"p189733\"}}},\"glyph\":{\"type\":\"object\",\"name\":\"Line\",\"id\":\"p189728\",\"attributes\":{\"x\":{\"type\":\"field\",\"field\":\"x\"},\"y\":{\"type\":\"field\",\"field\":\"y\"},\"line_color\":\"#1f77b4\",\"line_width\":2}},\"nonselection_glyph\":{\"type\":\"object\",\"name\":\"Line\",\"id\":\"p189729\",\"attributes\":{\"x\":{\"type\":\"field\",\"field\":\"x\"},\"y\":{\"type\":\"field\",\"field\":\"y\"},\"line_color\":\"#1f77b4\",\"line_alpha\":0.1,\"line_width\":2}},\"muted_glyph\":{\"type\":\"object\",\"name\":\"Line\",\"id\":\"p189730\",\"attributes\":{\"x\":{\"type\":\"field\",\"field\":\"x\"},\"y\":{\"type\":\"field\",\"field\":\"y\"},\"line_color\":\"#1f77b4\",\"line_alpha\":0.2,\"line_width\":2}}}}],\"toolbar\":{\"type\":\"object\",\"name\":\"Toolbar\",\"id\":\"p189687\",\"attributes\":{\"tools\":[{\"type\":\"object\",\"name\":\"PanTool\",\"id\":\"p189710\"},{\"type\":\"object\",\"name\":\"WheelZoomTool\",\"id\":\"p189711\"},{\"type\":\"object\",\"name\":\"BoxZoomTool\",\"id\":\"p189712\",\"attributes\":{\"overlay\":{\"type\":\"object\",\"name\":\"BoxAnnotation\",\"id\":\"p189713\",\"attributes\":{\"syncable\":false,\"level\":\"overlay\",\"visible\":false,\"left_units\":\"canvas\",\"right_units\":\"canvas\",\"bottom_units\":\"canvas\",\"top_units\":\"canvas\",\"line_color\":\"black\",\"line_alpha\":1.0,\"line_width\":2,\"line_dash\":[4,4],\"fill_color\":\"lightgrey\",\"fill_alpha\":0.5}}}},{\"type\":\"object\",\"name\":\"SaveTool\",\"id\":\"p189714\"},{\"type\":\"object\",\"name\":\"ResetTool\",\"id\":\"p189715\"},{\"type\":\"object\",\"name\":\"HelpTool\",\"id\":\"p189716\"}]}},\"left\":[{\"type\":\"object\",\"name\":\"LinearAxis\",\"id\":\"p189703\",\"attributes\":{\"ticker\":{\"type\":\"object\",\"name\":\"BasicTicker\",\"id\":\"p189705\",\"attributes\":{\"mantissas\":[1,2,5]}},\"formatter\":{\"type\":\"object\",\"name\":\"BasicTickFormatter\",\"id\":\"p189706\"},\"major_label_policy\":{\"type\":\"object\",\"name\":\"AllLabels\",\"id\":\"p189704\"}}}],\"below\":[{\"type\":\"object\",\"name\":\"LinearAxis\",\"id\":\"p189696\",\"attributes\":{\"ticker\":{\"type\":\"object\",\"name\":\"BasicTicker\",\"id\":\"p189698\",\"attributes\":{\"mantissas\":[1,2,5]}},\"formatter\":{\"type\":\"object\",\"name\":\"BasicTickFormatter\",\"id\":\"p189699\"},\"major_label_policy\":{\"type\":\"object\",\"name\":\"AllLabels\",\"id\":\"p189697\"}}}],\"center\":[{\"type\":\"object\",\"name\":\"Grid\",\"id\":\"p189702\",\"attributes\":{\"axis\":{\"id\":\"p189696\"}}},{\"type\":\"object\",\"name\":\"Grid\",\"id\":\"p189709\",\"attributes\":{\"dimension\":1,\"axis\":{\"id\":\"p189703\"}}}]}},{\"type\":\"object\",\"name\":\"Figure\",\"id\":\"p189734\",\"attributes\":{\"x_range\":{\"type\":\"object\",\"name\":\"Range1d\",\"id\":\"p189743\",\"attributes\":{\"start\":0.8,\"end\":1.2}},\"y_range\":{\"type\":\"object\",\"name\":\"Range1d\",\"id\":\"p189745\",\"attributes\":{\"start\":-1}},\"x_scale\":{\"type\":\"object\",\"name\":\"LinearScale\",\"id\":\"p189747\"},\"y_scale\":{\"type\":\"object\",\"name\":\"LinearScale\",\"id\":\"p189749\"},\"title\":{\"type\":\"object\",\"name\":\"Title\",\"id\":\"p189737\"},\"renderers\":[{\"type\":\"object\",\"name\":\"GlyphRenderer\",\"id\":\"p189786\",\"attributes\":{\"data_source\":{\"type\":\"object\",\"name\":\"ColumnDataSource\",\"id\":\"p189780\",\"attributes\":{\"selected\":{\"type\":\"object\",\"name\":\"Selection\",\"id\":\"p189782\",\"attributes\":{\"indices\":[],\"line_indices\":[]}},\"selection_policy\":{\"type\":\"object\",\"name\":\"UnionRenderers\",\"id\":\"p189781\"},\"data\":{\"type\":\"map\",\"entries\":[[\"x\",{\"type\":\"ndarray\",\"array\":{\"type\":\"bytes\",\"data\":\"AAAAAAAACMBDYt7OkJgHwIbEvJ0hMQfAyiabbLLJBsANiXk7Q2IGwFDrVwrU+gXAk0022WSTBcDXrxSo9SsFwBoS83aGxATAXXTRRRddBMCg1q8UqPUDwOQ4juM4jgPAJ5tssskmA8Bq/UqBWr8CwK1fKVDrVwLA8MEHH3zwAcA0JObtDIkBwHeGxLydIQHAuuiiiy66AMD+SoFav1IAwIFav1Kg1v+/CB988MEH/7+O4ziO4zj+vxWo9SsFav2/m2yyySab/L8iMW9nSMz7v6j1KwVq/fq/L7rooosu+r+1fqVArV/5vzxDYt7OkPi/wgcffPDB979JzNsZEvP2v8+QmLczJPa/VVVVVVVV9b/cGRLzdob0v2LezpCYt/O/6aKLLrro8r9vZ0jM2xnyv/YrBWr9SvG/fPDBBx988L8Eav1KgVrvvxTzdobEvO2/IHzwwQcf7L8sBWr9SoHqvziO4ziO4+i/SBdddNFF579UoNavFKjlv2ApUOtXCuS/bLLJJpts4r94O0Ni3s7gvxCJeTtDYt6/KJtssskm279ArV8pUOvXv1i/UqDWr9S/eNFFF1100b8gx3Ecx3HMv1DrVwrU+sW/AB988MEHv7+AZ0jM2xmyv4C/UqDWr5S/AB988MEHnz9gv1Kg1q+0P3A7Q2LezsA/QBdddNFFxz8Q83aGxLzNP3BnSMzbGdI/WFVVVVVV1T84Q2LezpDYPyAxb2dIzNs/CB988MEH3z94hsS8nSHhP2j9SoFav+I/XHTRRRdd5D9Q61cK1PrlP0Ri3s6QmOc/NNlkk0026T8oUOtXCtTqPxzHcRzHcew/ED744IMP7j8AtX6lQK3vP/yVArV+pfA/dNFFF1108T/sDIl5O0PyP2hIzNsZEvM/4IMPPvjg8z9cv1Kg1q/0P9T6lQK1fvU/TDbZZJNN9j/IcRzHcRz3P0CtXylQ6/c/uOiiiy66+D80JObtDIn5P6xfKVDrV/o/KJtssskm+z+g1q8UqPX7PxgS83aGxPw/lE022WST/T8MiXk7Q2L+P4jEvJ0hMf8/AAAAAAAAAEA=\"},\"shape\":[100],\"dtype\":\"float64\",\"order\":\"little\"}],[\"y\",{\"type\":\"ndarray\",\"array\":{\"type\":\"bytes\",\"data\":\"AAAAAAAAQEBANYymkgM5QPAGVTDElTJAYBwcUNtgKUAwp24vGzYdQMDxl2owOQNAQFQwdPtDAMAgA+M8VxwYwIheuxFVNCPAGDY5uFiOKcBEB1ms1iYvwNKi09AYBDLA3mxnckceNMBekMwt6+Y1wFD2dkLZYjfACMJpPMiWOMBIUTf0T4c5wCo8AY/pODrAMFV4fu+vOsAwqdyAnfA6wHl//aAQ/zrAmFk5NkffOsCX833kIJU6wNhDSJxeJDrAF3ukmqKQOcB6BC5pcN04wIaFD94sDjjAGd4CHB4mN8B7KFGSayg2wFW50vwdGDXApB/vYx/4M8DVJJ0cO8sywK7MYsgdlDHAVVVVVVVVMMCobjL8oSIuwCpLxJPClCvAwhrmGHAFKcDALDzM0HgmwERFiYfN8iPAIJ2uvRF3IcDaw1f1FhIewBpsPsfWVxnAImGKbUnFFMC2uvGW2l8QwCj0zkj2WAjAEBQ3UkJfAMD8+uqpH7XxvyDB2gX8Hc2/gEYMXwrT4j8KNEv2gmj1P3L4CM18KABAZGUyDEoOBUAjRu1SdGMJQAQtC1e8Jg1AqOzxNOwrEECumyo8unsRQDSwYQWZgxJAVk2MItREE0CyrGLzMcETQGMeYKXz+hNA/gjDM9X0E0CY6YxnDbITQMNTgtdNNhNAi/Eq6MKFEkB+g9HLE6URQKTgg4JimRBAB+0ltJfQDkBKkiXczi8MQATmtE+PXQlAN0oIffNnBkDaTdptC14DQOisa8fcTwBAfKAGlcWc+j+Um9ymHNf0P7Ch/2cX6e4/EEBGxpU55T8ACxdI9uXZP0BlmquSsck/gLY6lC8GsD8AoJlsAdJdPwDSlyrJLZ8/gItyuTKbxD8AScH/ogLaP6AiDHwg9+g/kJeR5xm99D/QSMEJLoD/P+DwZxTQgAZA6DwCgBfADkCgoGwgIU8UQJRxznVNHhpAUM0gbFhvIEDcHdIW81AkQGDFy5QBvShAcOq/Jsy8LUA4HyE67KwxQCz/48X0zjRANPlT8X9JOEDSNo2qrCE8QMJTjklcLkBAAAAAAACAQkA=\"},\"shape\":[100],\"dtype\":\"float64\",\"order\":\"little\"}]]}}},\"view\":{\"type\":\"object\",\"name\":\"CDSView\",\"id\":\"p189787\",\"attributes\":{\"filter\":{\"type\":\"object\",\"name\":\"AllIndices\",\"id\":\"p189788\"}}},\"glyph\":{\"type\":\"object\",\"name\":\"Line\",\"id\":\"p189783\",\"attributes\":{\"x\":{\"type\":\"field\",\"field\":\"x\"},\"y\":{\"type\":\"field\",\"field\":\"y\"},\"line_color\":\"#1f77b4\",\"line_width\":2}},\"nonselection_glyph\":{\"type\":\"object\",\"name\":\"Line\",\"id\":\"p189784\",\"attributes\":{\"x\":{\"type\":\"field\",\"field\":\"x\"},\"y\":{\"type\":\"field\",\"field\":\"y\"},\"line_color\":\"#1f77b4\",\"line_alpha\":0.1,\"line_width\":2}},\"muted_glyph\":{\"type\":\"object\",\"name\":\"Line\",\"id\":\"p189785\",\"attributes\":{\"x\":{\"type\":\"field\",\"field\":\"x\"},\"y\":{\"type\":\"field\",\"field\":\"y\"},\"line_color\":\"#1f77b4\",\"line_alpha\":0.2,\"line_width\":2}}}}],\"toolbar\":{\"type\":\"object\",\"name\":\"Toolbar\",\"id\":\"p189742\",\"attributes\":{\"tools\":[{\"type\":\"object\",\"name\":\"PanTool\",\"id\":\"p189765\"},{\"type\":\"object\",\"name\":\"WheelZoomTool\",\"id\":\"p189766\"},{\"type\":\"object\",\"name\":\"BoxZoomTool\",\"id\":\"p189767\",\"attributes\":{\"overlay\":{\"type\":\"object\",\"name\":\"BoxAnnotation\",\"id\":\"p189768\",\"attributes\":{\"syncable\":false,\"level\":\"overlay\",\"visible\":false,\"left_units\":\"canvas\",\"right_units\":\"canvas\",\"bottom_units\":\"canvas\",\"top_units\":\"canvas\",\"line_color\":\"black\",\"line_alpha\":1.0,\"line_width\":2,\"line_dash\":[4,4],\"fill_color\":\"lightgrey\",\"fill_alpha\":0.5}}}},{\"type\":\"object\",\"name\":\"SaveTool\",\"id\":\"p189769\"},{\"type\":\"object\",\"name\":\"ResetTool\",\"id\":\"p189770\"},{\"type\":\"object\",\"name\":\"HelpTool\",\"id\":\"p189771\"}]}},\"left\":[{\"type\":\"object\",\"name\":\"LinearAxis\",\"id\":\"p189758\",\"attributes\":{\"ticker\":{\"type\":\"object\",\"name\":\"BasicTicker\",\"id\":\"p189760\",\"attributes\":{\"mantissas\":[1,2,5]}},\"formatter\":{\"type\":\"object\",\"name\":\"BasicTickFormatter\",\"id\":\"p189761\"},\"major_label_policy\":{\"type\":\"object\",\"name\":\"AllLabels\",\"id\":\"p189759\"}}}],\"below\":[{\"type\":\"object\",\"name\":\"LinearAxis\",\"id\":\"p189751\",\"attributes\":{\"ticker\":{\"type\":\"object\",\"name\":\"BasicTicker\",\"id\":\"p189753\",\"attributes\":{\"mantissas\":[1,2,5]}},\"formatter\":{\"type\":\"object\",\"name\":\"BasicTickFormatter\",\"id\":\"p189754\"},\"major_label_policy\":{\"type\":\"object\",\"name\":\"AllLabels\",\"id\":\"p189752\"}}}],\"center\":[{\"type\":\"object\",\"name\":\"Grid\",\"id\":\"p189757\",\"attributes\":{\"axis\":{\"id\":\"p189751\"}}},{\"type\":\"object\",\"name\":\"Grid\",\"id\":\"p189764\",\"attributes\":{\"dimension\":1,\"axis\":{\"id\":\"p189758\"}}}]}}]}}]}};\n",
       "  const render_items = [{\"docid\":\"e8bb1653-b4ae-44e4-b629-2f65dc7c4b81\",\"roots\":{\"p189789\":\"e1c9d035-f91b-45b2-9b61-16f2c376f1ca\"},\"root_ids\":[\"p189789\"]}];\n",
       "  root.Bokeh.embed.embed_items_notebook(docs_json, render_items);\n",
       "  }\n",
       "  if (root.Bokeh !== undefined) {\n",
       "    embed_document(root);\n",
       "  } else {\n",
       "    let attempts = 0;\n",
       "    const timer = setInterval(function(root) {\n",
       "      if (root.Bokeh !== undefined) {\n",
       "        clearInterval(timer);\n",
       "        embed_document(root);\n",
       "      } else {\n",
       "        attempts++;\n",
       "        if (attempts > 100) {\n",
       "          clearInterval(timer);\n",
       "          console.log(\"Bokeh: ERROR: Unable to run BokehJS code because BokehJS library is missing\");\n",
       "        }\n",
       "      }\n",
       "    }, 10, root)\n",
       "  }\n",
       "})(window);"
      ],
      "application/vnd.bokehjs_exec.v0+json": ""
     },
     "metadata": {
      "application/vnd.bokehjs_exec.v0+json": {
       "id": "p189789"
      }
     },
     "output_type": "display_data"
    }
   ],
   "source": [
    "p=figure(x_range=[-3,3],y_range=[-30,30])\n",
    "p.line(x=x,y=y,line_width=2)\n",
    "q=figure(x_range=[.8,1.2],y_range=[-1,1])\n",
    "q.line(x=x,y=y,line_width=2)\n",
    "show(row([p,q]))"
   ]
  },
  {
   "cell_type": "code",
   "execution_count": 131,
   "id": "9c640f7e-a0cc-408d-9977-9e36da1b0ed4",
   "metadata": {},
   "outputs": [],
   "source": [
    "def descent(x,n=10,nu=.1):\n",
    "    answer=np.zeros(n)\n",
    "    answer[0]=x\n",
    "    for i in range(1,n):\n",
    "        try:\n",
    "            x=x-nu*df(x)\n",
    "        except:\n",
    "            break\n",
    "        answer[i]=x\n",
    "    return answer\n",
    "    "
   ]
  },
  {
   "cell_type": "code",
   "execution_count": 132,
   "id": "e381ad8f-6668-4bb9-a6b2-3657ae394c0e",
   "metadata": {},
   "outputs": [
    {
     "name": "stderr",
     "output_type": "stream",
     "text": [
      "/tmp/ipykernel_855398/1249327036.py:2: RuntimeWarning: overflow encountered in power\n",
      "  f= lambda x: 3*x**4+4*x**3-12*x**2+5\n"
     ]
    },
    {
     "name": "stdout",
     "output_type": "stream",
     "text": [
      "['0', '1', '2', '3', '4', '5', '6', '7', '8', '9', '10', '11', '12', '13', '14', '15', '16', '17', '18', '19', '20', '21', '22', '23', '24', '25', '26', '27', '28', '29']\n"
     ]
    },
    {
     "data": {
      "text/html": [
       "\n",
       "  <div id=\"ed6a580b-826e-4c58-8c03-75b7f70678e5\" data-root-id=\"p260918\" style=\"display: contents;\"></div>\n"
      ]
     },
     "metadata": {},
     "output_type": "display_data"
    },
    {
     "data": {
      "application/javascript": [
       "(function(root) {\n",
       "  function embed_document(root) {\n",
       "  const docs_json = {\"37462ca6-c59d-4cf5-9236-5938b00331cf\":{\"version\":\"3.0.1\",\"title\":\"Bokeh Application\",\"defs\":[],\"roots\":[{\"type\":\"object\",\"name\":\"Row\",\"id\":\"p260918\",\"attributes\":{\"children\":[{\"type\":\"object\",\"name\":\"Figure\",\"id\":\"p260783\",\"attributes\":{\"x_range\":{\"type\":\"object\",\"name\":\"Range1d\",\"id\":\"p260792\",\"attributes\":{\"start\":-3,\"end\":3}},\"y_range\":{\"type\":\"object\",\"name\":\"Range1d\",\"id\":\"p260794\",\"attributes\":{\"start\":-30,\"end\":30}},\"x_scale\":{\"type\":\"object\",\"name\":\"LinearScale\",\"id\":\"p260796\"},\"y_scale\":{\"type\":\"object\",\"name\":\"LinearScale\",\"id\":\"p260798\"},\"title\":{\"type\":\"object\",\"name\":\"Title\",\"id\":\"p260786\"},\"renderers\":[{\"type\":\"object\",\"name\":\"GlyphRenderer\",\"id\":\"p260835\",\"attributes\":{\"data_source\":{\"type\":\"object\",\"name\":\"ColumnDataSource\",\"id\":\"p260829\",\"attributes\":{\"selected\":{\"type\":\"object\",\"name\":\"Selection\",\"id\":\"p260831\",\"attributes\":{\"indices\":[],\"line_indices\":[]}},\"selection_policy\":{\"type\":\"object\",\"name\":\"UnionRenderers\",\"id\":\"p260830\"},\"data\":{\"type\":\"map\",\"entries\":[[\"x\",{\"type\":\"ndarray\",\"array\":{\"type\":\"bytes\",\"data\":\"AAAAAAAACMBDYt7OkJgHwIbEvJ0hMQfAyiabbLLJBsANiXk7Q2IGwFDrVwrU+gXAk0022WSTBcDXrxSo9SsFwBoS83aGxATAXXTRRRddBMCg1q8UqPUDwOQ4juM4jgPAJ5tssskmA8Bq/UqBWr8CwK1fKVDrVwLA8MEHH3zwAcA0JObtDIkBwHeGxLydIQHAuuiiiy66AMD+SoFav1IAwIFav1Kg1v+/CB988MEH/7+O4ziO4zj+vxWo9SsFav2/m2yyySab/L8iMW9nSMz7v6j1KwVq/fq/L7rooosu+r+1fqVArV/5vzxDYt7OkPi/wgcffPDB979JzNsZEvP2v8+QmLczJPa/VVVVVVVV9b/cGRLzdob0v2LezpCYt/O/6aKLLrro8r9vZ0jM2xnyv/YrBWr9SvG/fPDBBx988L8Eav1KgVrvvxTzdobEvO2/IHzwwQcf7L8sBWr9SoHqvziO4ziO4+i/SBdddNFF579UoNavFKjlv2ApUOtXCuS/bLLJJpts4r94O0Ni3s7gvxCJeTtDYt6/KJtssskm279ArV8pUOvXv1i/UqDWr9S/eNFFF1100b8gx3Ecx3HMv1DrVwrU+sW/AB988MEHv7+AZ0jM2xmyv4C/UqDWr5S/AB988MEHnz9gv1Kg1q+0P3A7Q2LezsA/QBdddNFFxz8Q83aGxLzNP3BnSMzbGdI/WFVVVVVV1T84Q2LezpDYPyAxb2dIzNs/CB988MEH3z94hsS8nSHhP2j9SoFav+I/XHTRRRdd5D9Q61cK1PrlP0Ri3s6QmOc/NNlkk0026T8oUOtXCtTqPxzHcRzHcew/ED744IMP7j8AtX6lQK3vP/yVArV+pfA/dNFFF1108T/sDIl5O0PyP2hIzNsZEvM/4IMPPvjg8z9cv1Kg1q/0P9T6lQK1fvU/TDbZZJNN9j/IcRzHcRz3P0CtXylQ6/c/uOiiiy66+D80JObtDIn5P6xfKVDrV/o/KJtssskm+z+g1q8UqPX7PxgS83aGxPw/lE022WST/T8MiXk7Q2L+P4jEvJ0hMf8/AAAAAAAAAEA=\"},\"shape\":[100],\"dtype\":\"float64\",\"order\":\"little\"}],[\"y\",{\"type\":\"ndarray\",\"array\":{\"type\":\"bytes\",\"data\":\"AAAAAAAAQEBANYymkgM5QPAGVTDElTJAYBwcUNtgKUAwp24vGzYdQMDxl2owOQNAQFQwdPtDAMAgA+M8VxwYwIheuxFVNCPAGDY5uFiOKcBEB1ms1iYvwNKi09AYBDLA3mxnckceNMBekMwt6+Y1wFD2dkLZYjfACMJpPMiWOMBIUTf0T4c5wCo8AY/pODrAMFV4fu+vOsAwqdyAnfA6wHl//aAQ/zrAmFk5NkffOsCX833kIJU6wNhDSJxeJDrAF3ukmqKQOcB6BC5pcN04wIaFD94sDjjAGd4CHB4mN8B7KFGSayg2wFW50vwdGDXApB/vYx/4M8DVJJ0cO8sywK7MYsgdlDHAVVVVVVVVMMCobjL8oSIuwCpLxJPClCvAwhrmGHAFKcDALDzM0HgmwERFiYfN8iPAIJ2uvRF3IcDaw1f1FhIewBpsPsfWVxnAImGKbUnFFMC2uvGW2l8QwCj0zkj2WAjAEBQ3UkJfAMD8+uqpH7XxvyDB2gX8Hc2/gEYMXwrT4j8KNEv2gmj1P3L4CM18KABAZGUyDEoOBUAjRu1SdGMJQAQtC1e8Jg1AqOzxNOwrEECumyo8unsRQDSwYQWZgxJAVk2MItREE0CyrGLzMcETQGMeYKXz+hNA/gjDM9X0E0CY6YxnDbITQMNTgtdNNhNAi/Eq6MKFEkB+g9HLE6URQKTgg4JimRBAB+0ltJfQDkBKkiXczi8MQATmtE+PXQlAN0oIffNnBkDaTdptC14DQOisa8fcTwBAfKAGlcWc+j+Um9ymHNf0P7Ch/2cX6e4/EEBGxpU55T8ACxdI9uXZP0BlmquSsck/gLY6lC8GsD8AoJlsAdJdPwDSlyrJLZ8/gItyuTKbxD8AScH/ogLaP6AiDHwg9+g/kJeR5xm99D/QSMEJLoD/P+DwZxTQgAZA6DwCgBfADkCgoGwgIU8UQJRxznVNHhpAUM0gbFhvIEDcHdIW81AkQGDFy5QBvShAcOq/Jsy8LUA4HyE67KwxQCz/48X0zjRANPlT8X9JOEDSNo2qrCE8QMJTjklcLkBAAAAAAACAQkA=\"},\"shape\":[100],\"dtype\":\"float64\",\"order\":\"little\"}]]}}},\"view\":{\"type\":\"object\",\"name\":\"CDSView\",\"id\":\"p260836\",\"attributes\":{\"filter\":{\"type\":\"object\",\"name\":\"AllIndices\",\"id\":\"p260837\"}}},\"glyph\":{\"type\":\"object\",\"name\":\"Line\",\"id\":\"p260832\",\"attributes\":{\"x\":{\"type\":\"field\",\"field\":\"x\"},\"y\":{\"type\":\"field\",\"field\":\"y\"},\"line_color\":\"#1f77b4\",\"line_width\":2}},\"nonselection_glyph\":{\"type\":\"object\",\"name\":\"Line\",\"id\":\"p260833\",\"attributes\":{\"x\":{\"type\":\"field\",\"field\":\"x\"},\"y\":{\"type\":\"field\",\"field\":\"y\"},\"line_color\":\"#1f77b4\",\"line_alpha\":0.1,\"line_width\":2}},\"muted_glyph\":{\"type\":\"object\",\"name\":\"Line\",\"id\":\"p260834\",\"attributes\":{\"x\":{\"type\":\"field\",\"field\":\"x\"},\"y\":{\"type\":\"field\",\"field\":\"y\"},\"line_color\":\"#1f77b4\",\"line_alpha\":0.2,\"line_width\":2}}}},{\"type\":\"object\",\"name\":\"GlyphRenderer\",\"id\":\"p260899\",\"attributes\":{\"data_source\":{\"type\":\"object\",\"name\":\"ColumnDataSource\",\"id\":\"p260893\",\"attributes\":{\"selected\":{\"type\":\"object\",\"name\":\"Selection\",\"id\":\"p260895\",\"attributes\":{\"indices\":[],\"line_indices\":[]}},\"selection_policy\":{\"type\":\"object\",\"name\":\"UnionRenderers\",\"id\":\"p260894\"},\"data\":{\"type\":\"map\",\"entries\":[[\"x\",{\"type\":\"ndarray\",\"array\":{\"type\":\"bytes\",\"data\":\"AAAAAAAA4D/MzMzMzMzyP3whyEEJE94/Nkewg2Qm8j9pvooVx8njP3tS5RNJkvQ/AMVrkz1Fkr9ZBOnjTAqtv9z9pnN9XMe/EAcJZIFl479/VgEh0ZIAwGnTPT6WQ/m/rgrZT8xxC8C9SjU7dg00QOdYZISeu8HAsLWoC6KFZ0Lo7tWvwXNbx1fgai7p0TVWAAAAAAAAAAAAAAAAAAAAAAAAAAAAAAAAAAAAAAAAAAAAAAAAAAAAAAAAAAAAAAAAAAAAAAAAAAAAAAAAAAAAAAAAAAAAAAAAAAAAAAAAAAAAAAAAAAAAAAAAAAAAAAAA\"},\"shape\":[30],\"dtype\":\"float64\",\"order\":\"little\"}],[\"y\",{\"type\":\"ndarray\",\"array\":{\"type\":\"bytes\",\"data\":\"AAAAAACABUDQk4eFWnnkP62/PNnRSgdA4HLnXwhZ1z+ESPrjmLv8P6Dj+ucHzf0/bMKGsRD8E0C2SU7IwNcTQASYiugxURJAQKwzO8fzuj8CMk0du846wHwmdY94BDbAWI2omb5yXUDR1t6800cfQUCjzVBrGlJDZAChh8cG7EmzimTBnf+5XQAAAAAAAPB/AAAAAAAAFEAAAAAAAAAUQAAAAAAAABRAAAAAAAAAFEAAAAAAAAAUQAAAAAAAABRAAAAAAAAAFEAAAAAAAAAUQAAAAAAAABRAAAAAAAAAFEAAAAAAAAAUQAAAAAAAABRA\"},\"shape\":[30],\"dtype\":\"float64\",\"order\":\"little\"}]]}}},\"view\":{\"type\":\"object\",\"name\":\"CDSView\",\"id\":\"p260900\",\"attributes\":{\"filter\":{\"type\":\"object\",\"name\":\"AllIndices\",\"id\":\"p260901\"}}},\"glyph\":{\"type\":\"object\",\"name\":\"Line\",\"id\":\"p260896\",\"attributes\":{\"x\":{\"type\":\"field\",\"field\":\"x\"},\"y\":{\"type\":\"field\",\"field\":\"y\"},\"line_color\":\"red\"}},\"nonselection_glyph\":{\"type\":\"object\",\"name\":\"Line\",\"id\":\"p260897\",\"attributes\":{\"x\":{\"type\":\"field\",\"field\":\"x\"},\"y\":{\"type\":\"field\",\"field\":\"y\"},\"line_color\":\"red\",\"line_alpha\":0.1}},\"muted_glyph\":{\"type\":\"object\",\"name\":\"Line\",\"id\":\"p260898\",\"attributes\":{\"x\":{\"type\":\"field\",\"field\":\"x\"},\"y\":{\"type\":\"field\",\"field\":\"y\"},\"line_color\":\"red\",\"line_alpha\":0.2}}}}],\"toolbar\":{\"type\":\"object\",\"name\":\"Toolbar\",\"id\":\"p260791\",\"attributes\":{\"tools\":[{\"type\":\"object\",\"name\":\"PanTool\",\"id\":\"p260814\"},{\"type\":\"object\",\"name\":\"WheelZoomTool\",\"id\":\"p260815\"},{\"type\":\"object\",\"name\":\"BoxZoomTool\",\"id\":\"p260816\",\"attributes\":{\"overlay\":{\"type\":\"object\",\"name\":\"BoxAnnotation\",\"id\":\"p260817\",\"attributes\":{\"syncable\":false,\"level\":\"overlay\",\"visible\":false,\"left_units\":\"canvas\",\"right_units\":\"canvas\",\"bottom_units\":\"canvas\",\"top_units\":\"canvas\",\"line_color\":\"black\",\"line_alpha\":1.0,\"line_width\":2,\"line_dash\":[4,4],\"fill_color\":\"lightgrey\",\"fill_alpha\":0.5}}}},{\"type\":\"object\",\"name\":\"SaveTool\",\"id\":\"p260818\"},{\"type\":\"object\",\"name\":\"ResetTool\",\"id\":\"p260819\"},{\"type\":\"object\",\"name\":\"HelpTool\",\"id\":\"p260820\"}]}},\"left\":[{\"type\":\"object\",\"name\":\"LinearAxis\",\"id\":\"p260807\",\"attributes\":{\"ticker\":{\"type\":\"object\",\"name\":\"BasicTicker\",\"id\":\"p260809\",\"attributes\":{\"mantissas\":[1,2,5]}},\"formatter\":{\"type\":\"object\",\"name\":\"BasicTickFormatter\",\"id\":\"p260810\"},\"major_label_policy\":{\"type\":\"object\",\"name\":\"AllLabels\",\"id\":\"p260808\"}}}],\"below\":[{\"type\":\"object\",\"name\":\"LinearAxis\",\"id\":\"p260800\",\"attributes\":{\"ticker\":{\"type\":\"object\",\"name\":\"BasicTicker\",\"id\":\"p260802\",\"attributes\":{\"mantissas\":[1,2,5]}},\"formatter\":{\"type\":\"object\",\"name\":\"BasicTickFormatter\",\"id\":\"p260803\"},\"major_label_policy\":{\"type\":\"object\",\"name\":\"AllLabels\",\"id\":\"p260801\"}}}],\"center\":[{\"type\":\"object\",\"name\":\"Grid\",\"id\":\"p260806\",\"attributes\":{\"axis\":{\"id\":\"p260800\"}}},{\"type\":\"object\",\"name\":\"Grid\",\"id\":\"p260813\",\"attributes\":{\"dimension\":1,\"axis\":{\"id\":\"p260807\"}}}]}},{\"type\":\"object\",\"name\":\"Figure\",\"id\":\"p260838\",\"attributes\":{\"x_range\":{\"type\":\"object\",\"name\":\"Range1d\",\"id\":\"p260847\",\"attributes\":{\"start\":0.8,\"end\":1.2}},\"y_range\":{\"type\":\"object\",\"name\":\"Range1d\",\"id\":\"p260849\",\"attributes\":{\"start\":-1}},\"x_scale\":{\"type\":\"object\",\"name\":\"LinearScale\",\"id\":\"p260851\"},\"y_scale\":{\"type\":\"object\",\"name\":\"LinearScale\",\"id\":\"p260853\"},\"title\":{\"type\":\"object\",\"name\":\"Title\",\"id\":\"p260841\"},\"renderers\":[{\"type\":\"object\",\"name\":\"GlyphRenderer\",\"id\":\"p260890\",\"attributes\":{\"data_source\":{\"type\":\"object\",\"name\":\"ColumnDataSource\",\"id\":\"p260884\",\"attributes\":{\"selected\":{\"type\":\"object\",\"name\":\"Selection\",\"id\":\"p260886\",\"attributes\":{\"indices\":[],\"line_indices\":[]}},\"selection_policy\":{\"type\":\"object\",\"name\":\"UnionRenderers\",\"id\":\"p260885\"},\"data\":{\"type\":\"map\",\"entries\":[[\"x\",{\"type\":\"ndarray\",\"array\":{\"type\":\"bytes\",\"data\":\"AAAAAAAACMBDYt7OkJgHwIbEvJ0hMQfAyiabbLLJBsANiXk7Q2IGwFDrVwrU+gXAk0022WSTBcDXrxSo9SsFwBoS83aGxATAXXTRRRddBMCg1q8UqPUDwOQ4juM4jgPAJ5tssskmA8Bq/UqBWr8CwK1fKVDrVwLA8MEHH3zwAcA0JObtDIkBwHeGxLydIQHAuuiiiy66AMD+SoFav1IAwIFav1Kg1v+/CB988MEH/7+O4ziO4zj+vxWo9SsFav2/m2yyySab/L8iMW9nSMz7v6j1KwVq/fq/L7rooosu+r+1fqVArV/5vzxDYt7OkPi/wgcffPDB979JzNsZEvP2v8+QmLczJPa/VVVVVVVV9b/cGRLzdob0v2LezpCYt/O/6aKLLrro8r9vZ0jM2xnyv/YrBWr9SvG/fPDBBx988L8Eav1KgVrvvxTzdobEvO2/IHzwwQcf7L8sBWr9SoHqvziO4ziO4+i/SBdddNFF579UoNavFKjlv2ApUOtXCuS/bLLJJpts4r94O0Ni3s7gvxCJeTtDYt6/KJtssskm279ArV8pUOvXv1i/UqDWr9S/eNFFF1100b8gx3Ecx3HMv1DrVwrU+sW/AB988MEHv7+AZ0jM2xmyv4C/UqDWr5S/AB988MEHnz9gv1Kg1q+0P3A7Q2LezsA/QBdddNFFxz8Q83aGxLzNP3BnSMzbGdI/WFVVVVVV1T84Q2LezpDYPyAxb2dIzNs/CB988MEH3z94hsS8nSHhP2j9SoFav+I/XHTRRRdd5D9Q61cK1PrlP0Ri3s6QmOc/NNlkk0026T8oUOtXCtTqPxzHcRzHcew/ED744IMP7j8AtX6lQK3vP/yVArV+pfA/dNFFF1108T/sDIl5O0PyP2hIzNsZEvM/4IMPPvjg8z9cv1Kg1q/0P9T6lQK1fvU/TDbZZJNN9j/IcRzHcRz3P0CtXylQ6/c/uOiiiy66+D80JObtDIn5P6xfKVDrV/o/KJtssskm+z+g1q8UqPX7PxgS83aGxPw/lE022WST/T8MiXk7Q2L+P4jEvJ0hMf8/AAAAAAAAAEA=\"},\"shape\":[100],\"dtype\":\"float64\",\"order\":\"little\"}],[\"y\",{\"type\":\"ndarray\",\"array\":{\"type\":\"bytes\",\"data\":\"AAAAAAAAQEBANYymkgM5QPAGVTDElTJAYBwcUNtgKUAwp24vGzYdQMDxl2owOQNAQFQwdPtDAMAgA+M8VxwYwIheuxFVNCPAGDY5uFiOKcBEB1ms1iYvwNKi09AYBDLA3mxnckceNMBekMwt6+Y1wFD2dkLZYjfACMJpPMiWOMBIUTf0T4c5wCo8AY/pODrAMFV4fu+vOsAwqdyAnfA6wHl//aAQ/zrAmFk5NkffOsCX833kIJU6wNhDSJxeJDrAF3ukmqKQOcB6BC5pcN04wIaFD94sDjjAGd4CHB4mN8B7KFGSayg2wFW50vwdGDXApB/vYx/4M8DVJJ0cO8sywK7MYsgdlDHAVVVVVVVVMMCobjL8oSIuwCpLxJPClCvAwhrmGHAFKcDALDzM0HgmwERFiYfN8iPAIJ2uvRF3IcDaw1f1FhIewBpsPsfWVxnAImGKbUnFFMC2uvGW2l8QwCj0zkj2WAjAEBQ3UkJfAMD8+uqpH7XxvyDB2gX8Hc2/gEYMXwrT4j8KNEv2gmj1P3L4CM18KABAZGUyDEoOBUAjRu1SdGMJQAQtC1e8Jg1AqOzxNOwrEECumyo8unsRQDSwYQWZgxJAVk2MItREE0CyrGLzMcETQGMeYKXz+hNA/gjDM9X0E0CY6YxnDbITQMNTgtdNNhNAi/Eq6MKFEkB+g9HLE6URQKTgg4JimRBAB+0ltJfQDkBKkiXczi8MQATmtE+PXQlAN0oIffNnBkDaTdptC14DQOisa8fcTwBAfKAGlcWc+j+Um9ymHNf0P7Ch/2cX6e4/EEBGxpU55T8ACxdI9uXZP0BlmquSsck/gLY6lC8GsD8AoJlsAdJdPwDSlyrJLZ8/gItyuTKbxD8AScH/ogLaP6AiDHwg9+g/kJeR5xm99D/QSMEJLoD/P+DwZxTQgAZA6DwCgBfADkCgoGwgIU8UQJRxznVNHhpAUM0gbFhvIEDcHdIW81AkQGDFy5QBvShAcOq/Jsy8LUA4HyE67KwxQCz/48X0zjRANPlT8X9JOEDSNo2qrCE8QMJTjklcLkBAAAAAAACAQkA=\"},\"shape\":[100],\"dtype\":\"float64\",\"order\":\"little\"}]]}}},\"view\":{\"type\":\"object\",\"name\":\"CDSView\",\"id\":\"p260891\",\"attributes\":{\"filter\":{\"type\":\"object\",\"name\":\"AllIndices\",\"id\":\"p260892\"}}},\"glyph\":{\"type\":\"object\",\"name\":\"Line\",\"id\":\"p260887\",\"attributes\":{\"x\":{\"type\":\"field\",\"field\":\"x\"},\"y\":{\"type\":\"field\",\"field\":\"y\"},\"line_color\":\"#1f77b4\",\"line_width\":2}},\"nonselection_glyph\":{\"type\":\"object\",\"name\":\"Line\",\"id\":\"p260888\",\"attributes\":{\"x\":{\"type\":\"field\",\"field\":\"x\"},\"y\":{\"type\":\"field\",\"field\":\"y\"},\"line_color\":\"#1f77b4\",\"line_alpha\":0.1,\"line_width\":2}},\"muted_glyph\":{\"type\":\"object\",\"name\":\"Line\",\"id\":\"p260889\",\"attributes\":{\"x\":{\"type\":\"field\",\"field\":\"x\"},\"y\":{\"type\":\"field\",\"field\":\"y\"},\"line_color\":\"#1f77b4\",\"line_alpha\":0.2,\"line_width\":2}}}},{\"type\":\"object\",\"name\":\"GlyphRenderer\",\"id\":\"p260908\",\"attributes\":{\"data_source\":{\"type\":\"object\",\"name\":\"ColumnDataSource\",\"id\":\"p260902\",\"attributes\":{\"selected\":{\"type\":\"object\",\"name\":\"Selection\",\"id\":\"p260904\",\"attributes\":{\"indices\":[],\"line_indices\":[]}},\"selection_policy\":{\"type\":\"object\",\"name\":\"UnionRenderers\",\"id\":\"p260903\"},\"data\":{\"type\":\"map\",\"entries\":[[\"x\",{\"type\":\"ndarray\",\"array\":{\"type\":\"bytes\",\"data\":\"AAAAAAAA4D/MzMzMzMzyP3whyEEJE94/Nkewg2Qm8j9pvooVx8njP3tS5RNJkvQ/AMVrkz1Fkr9ZBOnjTAqtv9z9pnN9XMe/EAcJZIFl479/VgEh0ZIAwGnTPT6WQ/m/rgrZT8xxC8C9SjU7dg00QOdYZISeu8HAsLWoC6KFZ0Lo7tWvwXNbx1fgai7p0TVWAAAAAAAAAAAAAAAAAAAAAAAAAAAAAAAAAAAAAAAAAAAAAAAAAAAAAAAAAAAAAAAAAAAAAAAAAAAAAAAAAAAAAAAAAAAAAAAAAAAAAAAAAAAAAAAAAAAAAAAAAAAAAAAA\"},\"shape\":[30],\"dtype\":\"float64\",\"order\":\"little\"}],[\"y\",{\"type\":\"ndarray\",\"array\":{\"type\":\"bytes\",\"data\":\"AAAAAACABUDQk4eFWnnkP62/PNnRSgdA4HLnXwhZ1z+ESPrjmLv8P6Dj+ucHzf0/bMKGsRD8E0C2SU7IwNcTQASYiugxURJAQKwzO8fzuj8CMk0du846wHwmdY94BDbAWI2omb5yXUDR1t6800cfQUCjzVBrGlJDZAChh8cG7EmzimTBnf+5XQAAAAAAAPB/AAAAAAAAFEAAAAAAAAAUQAAAAAAAABRAAAAAAAAAFEAAAAAAAAAUQAAAAAAAABRAAAAAAAAAFEAAAAAAAAAUQAAAAAAAABRAAAAAAAAAFEAAAAAAAAAUQAAAAAAAABRA\"},\"shape\":[30],\"dtype\":\"float64\",\"order\":\"little\"}]]}}},\"view\":{\"type\":\"object\",\"name\":\"CDSView\",\"id\":\"p260909\",\"attributes\":{\"filter\":{\"type\":\"object\",\"name\":\"AllIndices\",\"id\":\"p260910\"}}},\"glyph\":{\"type\":\"object\",\"name\":\"Line\",\"id\":\"p260905\",\"attributes\":{\"x\":{\"type\":\"field\",\"field\":\"x\"},\"y\":{\"type\":\"field\",\"field\":\"y\"},\"line_color\":\"red\"}},\"nonselection_glyph\":{\"type\":\"object\",\"name\":\"Line\",\"id\":\"p260906\",\"attributes\":{\"x\":{\"type\":\"field\",\"field\":\"x\"},\"y\":{\"type\":\"field\",\"field\":\"y\"},\"line_color\":\"red\",\"line_alpha\":0.1}},\"muted_glyph\":{\"type\":\"object\",\"name\":\"Line\",\"id\":\"p260907\",\"attributes\":{\"x\":{\"type\":\"field\",\"field\":\"x\"},\"y\":{\"type\":\"field\",\"field\":\"y\"},\"line_color\":\"red\",\"line_alpha\":0.2}}}}],\"toolbar\":{\"type\":\"object\",\"name\":\"Toolbar\",\"id\":\"p260846\",\"attributes\":{\"tools\":[{\"type\":\"object\",\"name\":\"PanTool\",\"id\":\"p260869\"},{\"type\":\"object\",\"name\":\"WheelZoomTool\",\"id\":\"p260870\"},{\"type\":\"object\",\"name\":\"BoxZoomTool\",\"id\":\"p260871\",\"attributes\":{\"overlay\":{\"type\":\"object\",\"name\":\"BoxAnnotation\",\"id\":\"p260872\",\"attributes\":{\"syncable\":false,\"level\":\"overlay\",\"visible\":false,\"left_units\":\"canvas\",\"right_units\":\"canvas\",\"bottom_units\":\"canvas\",\"top_units\":\"canvas\",\"line_color\":\"black\",\"line_alpha\":1.0,\"line_width\":2,\"line_dash\":[4,4],\"fill_color\":\"lightgrey\",\"fill_alpha\":0.5}}}},{\"type\":\"object\",\"name\":\"SaveTool\",\"id\":\"p260873\"},{\"type\":\"object\",\"name\":\"ResetTool\",\"id\":\"p260874\"},{\"type\":\"object\",\"name\":\"HelpTool\",\"id\":\"p260875\"}]}},\"left\":[{\"type\":\"object\",\"name\":\"LinearAxis\",\"id\":\"p260862\",\"attributes\":{\"ticker\":{\"type\":\"object\",\"name\":\"BasicTicker\",\"id\":\"p260864\",\"attributes\":{\"mantissas\":[1,2,5]}},\"formatter\":{\"type\":\"object\",\"name\":\"BasicTickFormatter\",\"id\":\"p260865\"},\"major_label_policy\":{\"type\":\"object\",\"name\":\"AllLabels\",\"id\":\"p260863\"}}}],\"below\":[{\"type\":\"object\",\"name\":\"LinearAxis\",\"id\":\"p260855\",\"attributes\":{\"ticker\":{\"type\":\"object\",\"name\":\"BasicTicker\",\"id\":\"p260857\",\"attributes\":{\"mantissas\":[1,2,5]}},\"formatter\":{\"type\":\"object\",\"name\":\"BasicTickFormatter\",\"id\":\"p260858\"},\"major_label_policy\":{\"type\":\"object\",\"name\":\"AllLabels\",\"id\":\"p260856\"}}}],\"center\":[{\"type\":\"object\",\"name\":\"Grid\",\"id\":\"p260861\",\"attributes\":{\"axis\":{\"id\":\"p260855\"}}},{\"type\":\"object\",\"name\":\"Grid\",\"id\":\"p260868\",\"attributes\":{\"dimension\":1,\"axis\":{\"id\":\"p260862\"}}},{\"type\":\"object\",\"name\":\"LabelSet\",\"id\":\"p260914\",\"attributes\":{\"source\":{\"type\":\"object\",\"name\":\"ColumnDataSource\",\"id\":\"p260911\",\"attributes\":{\"selected\":{\"type\":\"object\",\"name\":\"Selection\",\"id\":\"p260913\",\"attributes\":{\"indices\":[],\"line_indices\":[]}},\"selection_policy\":{\"type\":\"object\",\"name\":\"UnionRenderers\",\"id\":\"p260912\"},\"data\":{\"type\":\"map\",\"entries\":[[\"x\",{\"type\":\"ndarray\",\"array\":{\"type\":\"bytes\",\"data\":\"AAAAAAAA4D/MzMzMzMzyP3whyEEJE94/Nkewg2Qm8j9pvooVx8njP3tS5RNJkvQ/AMVrkz1Fkr9ZBOnjTAqtv9z9pnN9XMe/EAcJZIFl479/VgEh0ZIAwGnTPT6WQ/m/rgrZT8xxC8C9SjU7dg00QOdYZISeu8HAsLWoC6KFZ0Lo7tWvwXNbx1fgai7p0TVWAAAAAAAAAAAAAAAAAAAAAAAAAAAAAAAAAAAAAAAAAAAAAAAAAAAAAAAAAAAAAAAAAAAAAAAAAAAAAAAAAAAAAAAAAAAAAAAAAAAAAAAAAAAAAAAAAAAAAAAAAAAAAAAA\"},\"shape\":[30],\"dtype\":\"float64\",\"order\":\"little\"}],[\"y\",{\"type\":\"ndarray\",\"array\":{\"type\":\"bytes\",\"data\":\"AAAAAACABUDQk4eFWnnkP62/PNnRSgdA4HLnXwhZ1z+ESPrjmLv8P6Dj+ucHzf0/bMKGsRD8E0C2SU7IwNcTQASYiugxURJAQKwzO8fzuj8CMk0du846wHwmdY94BDbAWI2omb5yXUDR1t6800cfQUCjzVBrGlJDZAChh8cG7EmzimTBnf+5XQAAAAAAAPB/AAAAAAAAFEAAAAAAAAAUQAAAAAAAABRAAAAAAAAAFEAAAAAAAAAUQAAAAAAAABRAAAAAAAAAFEAAAAAAAAAUQAAAAAAAABRAAAAAAAAAFEAAAAAAAAAUQAAAAAAAABRA\"},\"shape\":[30],\"dtype\":\"float64\",\"order\":\"little\"}],[\"names\",[\"0\",\"1\",\"2\",\"3\",\"4\",\"5\",\"6\",\"7\",\"8\",\"9\",\"10\",\"11\",\"12\",\"13\",\"14\",\"15\",\"16\",\"17\",\"18\",\"19\",\"20\",\"21\",\"22\",\"23\",\"24\",\"25\",\"26\",\"27\",\"28\",\"29\"]]]}}},\"x\":{\"type\":\"field\",\"field\":\"x\"},\"y\":{\"type\":\"field\",\"field\":\"y\"},\"text\":{\"type\":\"field\",\"field\":\"names\"},\"y_offset\":{\"type\":\"value\",\"value\":10},\"text_font_size\":{\"type\":\"value\",\"value\":\"10px\"}}}]}}]}}]}};\n",
       "  const render_items = [{\"docid\":\"37462ca6-c59d-4cf5-9236-5938b00331cf\",\"roots\":{\"p260918\":\"ed6a580b-826e-4c58-8c03-75b7f70678e5\"},\"root_ids\":[\"p260918\"]}];\n",
       "  root.Bokeh.embed.embed_items_notebook(docs_json, render_items);\n",
       "  }\n",
       "  if (root.Bokeh !== undefined) {\n",
       "    embed_document(root);\n",
       "  } else {\n",
       "    let attempts = 0;\n",
       "    const timer = setInterval(function(root) {\n",
       "      if (root.Bokeh !== undefined) {\n",
       "        clearInterval(timer);\n",
       "        embed_document(root);\n",
       "      } else {\n",
       "        attempts++;\n",
       "        if (attempts > 100) {\n",
       "          clearInterval(timer);\n",
       "          console.log(\"Bokeh: ERROR: Unable to run BokehJS code because BokehJS library is missing\");\n",
       "        }\n",
       "      }\n",
       "    }, 10, root)\n",
       "  }\n",
       "})(window);"
      ],
      "application/vnd.bokehjs_exec.v0+json": ""
     },
     "metadata": {
      "application/vnd.bokehjs_exec.v0+json": {
       "id": "p260918"
      }
     },
     "output_type": "display_data"
    }
   ],
   "source": [
    "p=figure(x_range=[-3,3],y_range=[-30,30])\n",
    "p.line(x=x,y=y,line_width=2)\n",
    "q=figure(x_range=[.8,1.2],y_range=[-1,1])\n",
    "q.line(x=x,y=y,line_width=2)\n",
    "\n",
    "approx=descent(.5,n=30,nu=.09)\n",
    "names = [str(i) for i,x in enumerate(approx)]\n",
    "p.line(x=approx,y=f(approx),color='red')\n",
    "q.line(x=approx,y=f(approx),color='red')\n",
    "source=ColumnDataSource({'x':approx,'y':f(approx),'names':names})\n",
    "print(names)\n",
    "labels = LabelSet(x='x',y='y',text='names',x_offset=0,y_offset=10,source=source,text_font_size='10px')\n",
    "q.add_layout(labels)\n",
    "show(row([p,q]))"
   ]
  },
  {
   "cell_type": "code",
   "execution_count": 120,
   "id": "4f0a6a95-fab2-439b-8c8e-f6cb6d679efc",
   "metadata": {},
   "outputs": [
    {
     "data": {
      "text/html": [
       "\n",
       "  <div id=\"6330f1e9-5b22-40ad-9b43-72bcf732539a\" data-root-id=\"p153333\" style=\"display: contents;\"></div>\n"
      ]
     },
     "metadata": {},
     "output_type": "display_data"
    },
    {
     "data": {
      "application/javascript": [
       "(function(root) {\n",
       "  function embed_document(root) {\n",
       "  const docs_json = {\"fd9e2057-061c-452e-9e5c-2769cc874230\":{\"version\":\"3.0.1\",\"title\":\"Bokeh Application\",\"defs\":[],\"roots\":[{\"type\":\"object\",\"name\":\"Figure\",\"id\":\"p153333\",\"attributes\":{\"x_range\":{\"type\":\"object\",\"name\":\"Range1d\",\"id\":\"p153342\",\"attributes\":{\"start\":-3,\"end\":3}},\"y_range\":{\"type\":\"object\",\"name\":\"Range1d\",\"id\":\"p153344\",\"attributes\":{\"start\":-30,\"end\":30}},\"x_scale\":{\"type\":\"object\",\"name\":\"LinearScale\",\"id\":\"p153346\"},\"y_scale\":{\"type\":\"object\",\"name\":\"LinearScale\",\"id\":\"p153348\"},\"title\":{\"type\":\"object\",\"name\":\"Title\",\"id\":\"p153336\"},\"renderers\":[{\"type\":\"object\",\"name\":\"GlyphRenderer\",\"id\":\"p153385\",\"attributes\":{\"data_source\":{\"type\":\"object\",\"name\":\"ColumnDataSource\",\"id\":\"p153379\",\"attributes\":{\"selected\":{\"type\":\"object\",\"name\":\"Selection\",\"id\":\"p153381\",\"attributes\":{\"indices\":[],\"line_indices\":[]}},\"selection_policy\":{\"type\":\"object\",\"name\":\"UnionRenderers\",\"id\":\"p153380\"},\"data\":{\"type\":\"map\",\"entries\":[[\"x\",{\"type\":\"ndarray\",\"array\":{\"type\":\"bytes\",\"data\":\"AAAAAAAACMBDYt7OkJgHwIbEvJ0hMQfAyiabbLLJBsANiXk7Q2IGwFDrVwrU+gXAk0022WSTBcDXrxSo9SsFwBoS83aGxATAXXTRRRddBMCg1q8UqPUDwOQ4juM4jgPAJ5tssskmA8Bq/UqBWr8CwK1fKVDrVwLA8MEHH3zwAcA0JObtDIkBwHeGxLydIQHAuuiiiy66AMD+SoFav1IAwIFav1Kg1v+/CB988MEH/7+O4ziO4zj+vxWo9SsFav2/m2yyySab/L8iMW9nSMz7v6j1KwVq/fq/L7rooosu+r+1fqVArV/5vzxDYt7OkPi/wgcffPDB979JzNsZEvP2v8+QmLczJPa/VVVVVVVV9b/cGRLzdob0v2LezpCYt/O/6aKLLrro8r9vZ0jM2xnyv/YrBWr9SvG/fPDBBx988L8Eav1KgVrvvxTzdobEvO2/IHzwwQcf7L8sBWr9SoHqvziO4ziO4+i/SBdddNFF579UoNavFKjlv2ApUOtXCuS/bLLJJpts4r94O0Ni3s7gvxCJeTtDYt6/KJtssskm279ArV8pUOvXv1i/UqDWr9S/eNFFF1100b8gx3Ecx3HMv1DrVwrU+sW/AB988MEHv7+AZ0jM2xmyv4C/UqDWr5S/AB988MEHnz9gv1Kg1q+0P3A7Q2LezsA/QBdddNFFxz8Q83aGxLzNP3BnSMzbGdI/WFVVVVVV1T84Q2LezpDYPyAxb2dIzNs/CB988MEH3z94hsS8nSHhP2j9SoFav+I/XHTRRRdd5D9Q61cK1PrlP0Ri3s6QmOc/NNlkk0026T8oUOtXCtTqPxzHcRzHcew/ED744IMP7j8AtX6lQK3vP/yVArV+pfA/dNFFF1108T/sDIl5O0PyP2hIzNsZEvM/4IMPPvjg8z9cv1Kg1q/0P9T6lQK1fvU/TDbZZJNN9j/IcRzHcRz3P0CtXylQ6/c/uOiiiy66+D80JObtDIn5P6xfKVDrV/o/KJtssskm+z+g1q8UqPX7PxgS83aGxPw/lE022WST/T8MiXk7Q2L+P4jEvJ0hMf8/AAAAAAAAAEA=\"},\"shape\":[100],\"dtype\":\"float64\",\"order\":\"little\"}],[\"y\",{\"type\":\"ndarray\",\"array\":{\"type\":\"bytes\",\"data\":\"AAAAAAAAQEBANYymkgM5QPAGVTDElTJAYBwcUNtgKUAwp24vGzYdQMDxl2owOQNAQFQwdPtDAMAgA+M8VxwYwIheuxFVNCPAGDY5uFiOKcBEB1ms1iYvwNKi09AYBDLA3mxnckceNMBekMwt6+Y1wFD2dkLZYjfACMJpPMiWOMBIUTf0T4c5wCo8AY/pODrAMFV4fu+vOsAwqdyAnfA6wHl//aAQ/zrAmFk5NkffOsCX833kIJU6wNhDSJxeJDrAF3ukmqKQOcB6BC5pcN04wIaFD94sDjjAGd4CHB4mN8B7KFGSayg2wFW50vwdGDXApB/vYx/4M8DVJJ0cO8sywK7MYsgdlDHAVVVVVVVVMMCobjL8oSIuwCpLxJPClCvAwhrmGHAFKcDALDzM0HgmwERFiYfN8iPAIJ2uvRF3IcDaw1f1FhIewBpsPsfWVxnAImGKbUnFFMC2uvGW2l8QwCj0zkj2WAjAEBQ3UkJfAMD8+uqpH7XxvyDB2gX8Hc2/gEYMXwrT4j8KNEv2gmj1P3L4CM18KABAZGUyDEoOBUAjRu1SdGMJQAQtC1e8Jg1AqOzxNOwrEECumyo8unsRQDSwYQWZgxJAVk2MItREE0CyrGLzMcETQGMeYKXz+hNA/gjDM9X0E0CY6YxnDbITQMNTgtdNNhNAi/Eq6MKFEkB+g9HLE6URQKTgg4JimRBAB+0ltJfQDkBKkiXczi8MQATmtE+PXQlAN0oIffNnBkDaTdptC14DQOisa8fcTwBAfKAGlcWc+j+Um9ymHNf0P7Ch/2cX6e4/EEBGxpU55T8ACxdI9uXZP0BlmquSsck/gLY6lC8GsD8AoJlsAdJdPwDSlyrJLZ8/gItyuTKbxD8AScH/ogLaP6AiDHwg9+g/kJeR5xm99D/QSMEJLoD/P+DwZxTQgAZA6DwCgBfADkCgoGwgIU8UQJRxznVNHhpAUM0gbFhvIEDcHdIW81AkQGDFy5QBvShAcOq/Jsy8LUA4HyE67KwxQCz/48X0zjRANPlT8X9JOEDSNo2qrCE8QMJTjklcLkBAAAAAAACAQkA=\"},\"shape\":[100],\"dtype\":\"float64\",\"order\":\"little\"}]]}}},\"view\":{\"type\":\"object\",\"name\":\"CDSView\",\"id\":\"p153386\",\"attributes\":{\"filter\":{\"type\":\"object\",\"name\":\"AllIndices\",\"id\":\"p153387\"}}},\"glyph\":{\"type\":\"object\",\"name\":\"Line\",\"id\":\"p153382\",\"attributes\":{\"x\":{\"type\":\"field\",\"field\":\"x\"},\"y\":{\"type\":\"field\",\"field\":\"y\"},\"line_color\":\"#1f77b4\",\"line_width\":2}},\"nonselection_glyph\":{\"type\":\"object\",\"name\":\"Line\",\"id\":\"p153383\",\"attributes\":{\"x\":{\"type\":\"field\",\"field\":\"x\"},\"y\":{\"type\":\"field\",\"field\":\"y\"},\"line_color\":\"#1f77b4\",\"line_alpha\":0.1,\"line_width\":2}},\"muted_glyph\":{\"type\":\"object\",\"name\":\"Line\",\"id\":\"p153384\",\"attributes\":{\"x\":{\"type\":\"field\",\"field\":\"x\"},\"y\":{\"type\":\"field\",\"field\":\"y\"},\"line_color\":\"#1f77b4\",\"line_alpha\":0.2,\"line_width\":2}}}},{\"type\":\"object\",\"name\":\"GlyphRenderer\",\"id\":\"p156455\",\"attributes\":{\"data_source\":{\"type\":\"object\",\"name\":\"ColumnDataSource\",\"id\":\"p156449\",\"attributes\":{\"selected\":{\"type\":\"object\",\"name\":\"Selection\",\"id\":\"p156451\",\"attributes\":{\"indices\":[],\"line_indices\":[]}},\"selection_policy\":{\"type\":\"object\",\"name\":\"UnionRenderers\",\"id\":\"p156450\"},\"data\":{\"type\":\"map\",\"entries\":[[\"x\",{\"type\":\"ndarray\",\"array\":{\"type\":\"bytes\",\"data\":\"AAAAAAAA4D9mZmZmZmbuP1QYWwhy0PA/44W8Qofe7T90fXo+8QjxP34vVMsGNe0/5e14wslG8T9+yn2grnDsP9CxEVejgvE/Prh969Gn6z9A/so7A7PxP7DeS42X/eo//7PZjwbS8T+k6KZpuYzqPzCgwhWf4fE/WtcGYttS6j+Ocy2AGejxP4CzUe+ZOuo/CGCC1oLq8T+4LrMXijHqPw==\"},\"shape\":[20],\"dtype\":\"float64\",\"order\":\"little\"}],[\"y\",{\"type\":\"ndarray\",\"array\":{\"type\":\"bytes\",\"data\":\"AAAAAACABUCAxrq4jQamPwBT/tgd9ag/AEE1mXw8sz+Av/unw2a0PwBVs0YBNsA/AKGImCtxvz+A0MH3lcDJP8AW4cE9SMY/oKtai4C80j8AzMbtYn3MP+CrG6T6atg/gKMFS/Fz0D9AFz1pX4XcP8BK4dP3oNE/cHFKFxi53j8gi4HfViHSP4A2K7ZMqt8/AA/ZYaBR0j9wh5fhkgLgPw==\"},\"shape\":[20],\"dtype\":\"float64\",\"order\":\"little\"}]]}}},\"view\":{\"type\":\"object\",\"name\":\"CDSView\",\"id\":\"p156456\",\"attributes\":{\"filter\":{\"type\":\"object\",\"name\":\"AllIndices\",\"id\":\"p156457\"}}},\"glyph\":{\"type\":\"object\",\"name\":\"Scatter\",\"id\":\"p156452\",\"attributes\":{\"x\":{\"type\":\"field\",\"field\":\"x\"},\"y\":{\"type\":\"field\",\"field\":\"y\"},\"line_color\":{\"type\":\"value\",\"value\":\"red\"},\"fill_color\":{\"type\":\"value\",\"value\":\"red\"},\"hatch_color\":{\"type\":\"value\",\"value\":\"red\"}}},\"nonselection_glyph\":{\"type\":\"object\",\"name\":\"Scatter\",\"id\":\"p156453\",\"attributes\":{\"x\":{\"type\":\"field\",\"field\":\"x\"},\"y\":{\"type\":\"field\",\"field\":\"y\"},\"line_color\":{\"type\":\"value\",\"value\":\"red\"},\"line_alpha\":{\"type\":\"value\",\"value\":0.1},\"fill_color\":{\"type\":\"value\",\"value\":\"red\"},\"fill_alpha\":{\"type\":\"value\",\"value\":0.1},\"hatch_color\":{\"type\":\"value\",\"value\":\"red\"},\"hatch_alpha\":{\"type\":\"value\",\"value\":0.1}}},\"muted_glyph\":{\"type\":\"object\",\"name\":\"Scatter\",\"id\":\"p156454\",\"attributes\":{\"x\":{\"type\":\"field\",\"field\":\"x\"},\"y\":{\"type\":\"field\",\"field\":\"y\"},\"line_color\":{\"type\":\"value\",\"value\":\"red\"},\"line_alpha\":{\"type\":\"value\",\"value\":0.2},\"fill_color\":{\"type\":\"value\",\"value\":\"red\"},\"fill_alpha\":{\"type\":\"value\",\"value\":0.2},\"hatch_color\":{\"type\":\"value\",\"value\":\"red\"},\"hatch_alpha\":{\"type\":\"value\",\"value\":0.2}}}}},{\"type\":\"object\",\"name\":\"GlyphRenderer\",\"id\":\"p168196\",\"attributes\":{\"data_source\":{\"type\":\"object\",\"name\":\"ColumnDataSource\",\"id\":\"p168190\",\"attributes\":{\"selected\":{\"type\":\"object\",\"name\":\"Selection\",\"id\":\"p168192\",\"attributes\":{\"indices\":[],\"line_indices\":[]}},\"selection_policy\":{\"type\":\"object\",\"name\":\"UnionRenderers\",\"id\":\"p168191\"},\"data\":{\"type\":\"map\",\"entries\":[[\"x\",{\"type\":\"ndarray\",\"array\":{\"type\":\"bytes\",\"data\":\"AAAAAAAA4D8AAAAAAAD0PwAAAAAAAKA/AAAAAADkuj9mhq5zruvVP+YSp36hN+8/5ukUL8r48D8PP7dLBV/qPxXL3aOyC/U/rMTw9UVv1b8Ondp63abzv/IOD/pIGg7ARDC+aw4TQUDUtrlZy/XnwO4MpdZ7HuBC\"},\"shape\":[15],\"dtype\":\"float64\",\"order\":\"little\"}],[\"y\",{\"type\":\"ndarray\",\"array\":{\"type\":\"bytes\",\"data\":\"AAAAAACABUAAAAAAADD2PwAAAMAg9BNA1RpS94l9E0BKt+UToloOQAByz5KZk4U/ACligbztsT+ggW4lOEHePxCcFb+IkgJA3la3POJUDEAiyYm3wV8rwKNZUWUK7WtAN+itefcdUEHIkm2lQCzuQ034RFb0uMhL\"},\"shape\":[15],\"dtype\":\"float64\",\"order\":\"little\"}]]}}},\"view\":{\"type\":\"object\",\"name\":\"CDSView\",\"id\":\"p168197\",\"attributes\":{\"filter\":{\"type\":\"object\",\"name\":\"AllIndices\",\"id\":\"p168198\"}}},\"glyph\":{\"type\":\"object\",\"name\":\"Scatter\",\"id\":\"p168193\",\"attributes\":{\"x\":{\"type\":\"field\",\"field\":\"x\"},\"y\":{\"type\":\"field\",\"field\":\"y\"},\"line_color\":{\"type\":\"value\",\"value\":\"red\"},\"fill_color\":{\"type\":\"value\",\"value\":\"red\"},\"hatch_color\":{\"type\":\"value\",\"value\":\"red\"}}},\"nonselection_glyph\":{\"type\":\"object\",\"name\":\"Scatter\",\"id\":\"p168194\",\"attributes\":{\"x\":{\"type\":\"field\",\"field\":\"x\"},\"y\":{\"type\":\"field\",\"field\":\"y\"},\"line_color\":{\"type\":\"value\",\"value\":\"red\"},\"line_alpha\":{\"type\":\"value\",\"value\":0.1},\"fill_color\":{\"type\":\"value\",\"value\":\"red\"},\"fill_alpha\":{\"type\":\"value\",\"value\":0.1},\"hatch_color\":{\"type\":\"value\",\"value\":\"red\"},\"hatch_alpha\":{\"type\":\"value\",\"value\":0.1}}},\"muted_glyph\":{\"type\":\"object\",\"name\":\"Scatter\",\"id\":\"p168195\",\"attributes\":{\"x\":{\"type\":\"field\",\"field\":\"x\"},\"y\":{\"type\":\"field\",\"field\":\"y\"},\"line_color\":{\"type\":\"value\",\"value\":\"red\"},\"line_alpha\":{\"type\":\"value\",\"value\":0.2},\"fill_color\":{\"type\":\"value\",\"value\":\"red\"},\"fill_alpha\":{\"type\":\"value\",\"value\":0.2},\"hatch_color\":{\"type\":\"value\",\"value\":\"red\"},\"hatch_alpha\":{\"type\":\"value\",\"value\":0.2}}}}},{\"type\":\"object\",\"name\":\"GlyphRenderer\",\"id\":\"p174192\",\"attributes\":{\"data_source\":{\"type\":\"object\",\"name\":\"ColumnDataSource\",\"id\":\"p174186\",\"attributes\":{\"selected\":{\"type\":\"object\",\"name\":\"Selection\",\"id\":\"p174188\",\"attributes\":{\"indices\":[],\"line_indices\":[]}},\"selection_policy\":{\"type\":\"object\",\"name\":\"UnionRenderers\",\"id\":\"p174187\"},\"data\":{\"type\":\"map\",\"entries\":[[\"x\",{\"type\":\"ndarray\",\"array\":{\"type\":\"bytes\",\"data\":\"AAAAAAAA4D9mZmZmZmbuP1QYWwhy0PA/44W8Qofe7T90fXo+8QjxP34vVMsGNe0/5e14wslG8T9+yn2grnDsP9CxEVejgvE/Prh969Gn6z9A/so7A7PxP7DeS42X/eo//7PZjwbS8T+k6KZpuYzqPzCgwhWf4fE/WtcGYttS6j+Ocy2AGejxP4CzUe+ZOuo/CGCC1oLq8T+4LrMXijHqPw==\"},\"shape\":[20],\"dtype\":\"float64\",\"order\":\"little\"}],[\"y\",{\"type\":\"ndarray\",\"array\":{\"type\":\"bytes\",\"data\":\"AAAAAACABUCAxrq4jQamPwBT/tgd9ag/AEE1mXw8sz+Av/unw2a0PwBVs0YBNsA/AKGImCtxvz+A0MH3lcDJP8AW4cE9SMY/oKtai4C80j8AzMbtYn3MP+CrG6T6atg/gKMFS/Fz0D9AFz1pX4XcP8BK4dP3oNE/cHFKFxi53j8gi4HfViHSP4A2K7ZMqt8/AA/ZYaBR0j9wh5fhkgLgPw==\"},\"shape\":[20],\"dtype\":\"float64\",\"order\":\"little\"}]]}}},\"view\":{\"type\":\"object\",\"name\":\"CDSView\",\"id\":\"p174193\",\"attributes\":{\"filter\":{\"type\":\"object\",\"name\":\"AllIndices\",\"id\":\"p174194\"}}},\"glyph\":{\"type\":\"object\",\"name\":\"Scatter\",\"id\":\"p174189\",\"attributes\":{\"x\":{\"type\":\"field\",\"field\":\"x\"},\"y\":{\"type\":\"field\",\"field\":\"y\"},\"line_color\":{\"type\":\"value\",\"value\":\"red\"},\"fill_color\":{\"type\":\"value\",\"value\":\"red\"},\"hatch_color\":{\"type\":\"value\",\"value\":\"red\"}}},\"nonselection_glyph\":{\"type\":\"object\",\"name\":\"Scatter\",\"id\":\"p174190\",\"attributes\":{\"x\":{\"type\":\"field\",\"field\":\"x\"},\"y\":{\"type\":\"field\",\"field\":\"y\"},\"line_color\":{\"type\":\"value\",\"value\":\"red\"},\"line_alpha\":{\"type\":\"value\",\"value\":0.1},\"fill_color\":{\"type\":\"value\",\"value\":\"red\"},\"fill_alpha\":{\"type\":\"value\",\"value\":0.1},\"hatch_color\":{\"type\":\"value\",\"value\":\"red\"},\"hatch_alpha\":{\"type\":\"value\",\"value\":0.1}}},\"muted_glyph\":{\"type\":\"object\",\"name\":\"Scatter\",\"id\":\"p174191\",\"attributes\":{\"x\":{\"type\":\"field\",\"field\":\"x\"},\"y\":{\"type\":\"field\",\"field\":\"y\"},\"line_color\":{\"type\":\"value\",\"value\":\"red\"},\"line_alpha\":{\"type\":\"value\",\"value\":0.2},\"fill_color\":{\"type\":\"value\",\"value\":\"red\"},\"fill_alpha\":{\"type\":\"value\",\"value\":0.2},\"hatch_color\":{\"type\":\"value\",\"value\":\"red\"},\"hatch_alpha\":{\"type\":\"value\",\"value\":0.2}}}}},{\"type\":\"object\",\"name\":\"GlyphRenderer\",\"id\":\"p186446\",\"attributes\":{\"data_source\":{\"type\":\"object\",\"name\":\"ColumnDataSource\",\"id\":\"p186440\",\"attributes\":{\"selected\":{\"type\":\"object\",\"name\":\"Selection\",\"id\":\"p186442\",\"attributes\":{\"indices\":[],\"line_indices\":[]}},\"selection_policy\":{\"type\":\"object\",\"name\":\"UnionRenderers\",\"id\":\"p186441\"},\"data\":{\"type\":\"map\",\"entries\":[[\"x\",{\"type\":\"ndarray\",\"array\":{\"type\":\"bytes\",\"data\":\"AAAAAAAA4D8AAAAAAAD0PwAAAAAAAKA/AAAAAADkuj9mhq5zruvVP+YSp36hN+8/5ukUL8r48D8PP7dLBV/qPxXL3aOyC/U/rMTw9UVv1b8Ondp63abzv/IOD/pIGg7ARDC+aw4TQUDUtrlZy/XnwO4MpdZ7HuBC\"},\"shape\":[15],\"dtype\":\"float64\",\"order\":\"little\"}],[\"y\",{\"type\":\"ndarray\",\"array\":{\"type\":\"bytes\",\"data\":\"AAAAAACABUAAAAAAADD2PwAAAMAg9BNA1RpS94l9E0BKt+UToloOQAByz5KZk4U/ACligbztsT+ggW4lOEHePxCcFb+IkgJA3la3POJUDEAiyYm3wV8rwKNZUWUK7WtAN+itefcdUEHIkm2lQCzuQ034RFb0uMhL\"},\"shape\":[15],\"dtype\":\"float64\",\"order\":\"little\"}]]}}},\"view\":{\"type\":\"object\",\"name\":\"CDSView\",\"id\":\"p186447\",\"attributes\":{\"filter\":{\"type\":\"object\",\"name\":\"AllIndices\",\"id\":\"p186448\"}}},\"glyph\":{\"type\":\"object\",\"name\":\"Scatter\",\"id\":\"p186443\",\"attributes\":{\"x\":{\"type\":\"field\",\"field\":\"x\"},\"y\":{\"type\":\"field\",\"field\":\"y\"},\"line_color\":{\"type\":\"value\",\"value\":\"red\"},\"fill_color\":{\"type\":\"value\",\"value\":\"red\"},\"hatch_color\":{\"type\":\"value\",\"value\":\"red\"}}},\"nonselection_glyph\":{\"type\":\"object\",\"name\":\"Scatter\",\"id\":\"p186444\",\"attributes\":{\"x\":{\"type\":\"field\",\"field\":\"x\"},\"y\":{\"type\":\"field\",\"field\":\"y\"},\"line_color\":{\"type\":\"value\",\"value\":\"red\"},\"line_alpha\":{\"type\":\"value\",\"value\":0.1},\"fill_color\":{\"type\":\"value\",\"value\":\"red\"},\"fill_alpha\":{\"type\":\"value\",\"value\":0.1},\"hatch_color\":{\"type\":\"value\",\"value\":\"red\"},\"hatch_alpha\":{\"type\":\"value\",\"value\":0.1}}},\"muted_glyph\":{\"type\":\"object\",\"name\":\"Scatter\",\"id\":\"p186445\",\"attributes\":{\"x\":{\"type\":\"field\",\"field\":\"x\"},\"y\":{\"type\":\"field\",\"field\":\"y\"},\"line_color\":{\"type\":\"value\",\"value\":\"red\"},\"line_alpha\":{\"type\":\"value\",\"value\":0.2},\"fill_color\":{\"type\":\"value\",\"value\":\"red\"},\"fill_alpha\":{\"type\":\"value\",\"value\":0.2},\"hatch_color\":{\"type\":\"value\",\"value\":\"red\"},\"hatch_alpha\":{\"type\":\"value\",\"value\":0.2}}}}}],\"toolbar\":{\"type\":\"object\",\"name\":\"Toolbar\",\"id\":\"p153341\",\"attributes\":{\"tools\":[{\"type\":\"object\",\"name\":\"PanTool\",\"id\":\"p153364\"},{\"type\":\"object\",\"name\":\"WheelZoomTool\",\"id\":\"p153365\"},{\"type\":\"object\",\"name\":\"BoxZoomTool\",\"id\":\"p153366\",\"attributes\":{\"overlay\":{\"type\":\"object\",\"name\":\"BoxAnnotation\",\"id\":\"p153367\",\"attributes\":{\"syncable\":false,\"level\":\"overlay\",\"visible\":false,\"left_units\":\"canvas\",\"right_units\":\"canvas\",\"bottom_units\":\"canvas\",\"top_units\":\"canvas\",\"line_color\":\"black\",\"line_alpha\":1.0,\"line_width\":2,\"line_dash\":[4,4],\"fill_color\":\"lightgrey\",\"fill_alpha\":0.5}}}},{\"type\":\"object\",\"name\":\"SaveTool\",\"id\":\"p153368\"},{\"type\":\"object\",\"name\":\"ResetTool\",\"id\":\"p153369\"},{\"type\":\"object\",\"name\":\"HelpTool\",\"id\":\"p153370\"}]}},\"left\":[{\"type\":\"object\",\"name\":\"LinearAxis\",\"id\":\"p153357\",\"attributes\":{\"ticker\":{\"type\":\"object\",\"name\":\"BasicTicker\",\"id\":\"p153359\",\"attributes\":{\"mantissas\":[1,2,5]}},\"formatter\":{\"type\":\"object\",\"name\":\"BasicTickFormatter\",\"id\":\"p153360\"},\"major_label_policy\":{\"type\":\"object\",\"name\":\"AllLabels\",\"id\":\"p153358\"}}}],\"below\":[{\"type\":\"object\",\"name\":\"LinearAxis\",\"id\":\"p153350\",\"attributes\":{\"ticker\":{\"type\":\"object\",\"name\":\"BasicTicker\",\"id\":\"p153352\",\"attributes\":{\"mantissas\":[1,2,5]}},\"formatter\":{\"type\":\"object\",\"name\":\"BasicTickFormatter\",\"id\":\"p153353\"},\"major_label_policy\":{\"type\":\"object\",\"name\":\"AllLabels\",\"id\":\"p153351\"}}}],\"center\":[{\"type\":\"object\",\"name\":\"Grid\",\"id\":\"p153356\",\"attributes\":{\"axis\":{\"id\":\"p153350\"}}},{\"type\":\"object\",\"name\":\"Grid\",\"id\":\"p153363\",\"attributes\":{\"dimension\":1,\"axis\":{\"id\":\"p153357\"}}}]}}]}};\n",
       "  const render_items = [{\"docid\":\"fd9e2057-061c-452e-9e5c-2769cc874230\",\"roots\":{\"p153333\":\"6330f1e9-5b22-40ad-9b43-72bcf732539a\"},\"root_ids\":[\"p153333\"]}];\n",
       "  root.Bokeh.embed.embed_items_notebook(docs_json, render_items);\n",
       "  }\n",
       "  if (root.Bokeh !== undefined) {\n",
       "    embed_document(root);\n",
       "  } else {\n",
       "    let attempts = 0;\n",
       "    const timer = setInterval(function(root) {\n",
       "      if (root.Bokeh !== undefined) {\n",
       "        clearInterval(timer);\n",
       "        embed_document(root);\n",
       "      } else {\n",
       "        attempts++;\n",
       "        if (attempts > 100) {\n",
       "          clearInterval(timer);\n",
       "          console.log(\"Bokeh: ERROR: Unable to run BokehJS code because BokehJS library is missing\");\n",
       "        }\n",
       "      }\n",
       "    }, 10, root)\n",
       "  }\n",
       "})(window);"
      ],
      "application/vnd.bokehjs_exec.v0+json": ""
     },
     "metadata": {
      "application/vnd.bokehjs_exec.v0+json": {
       "id": "p153333"
      }
     },
     "output_type": "display_data"
    }
   ],
   "source": [
    "approx=descent(.5,n=15,nu=.1)\n",
    "p.scatter(x=approx,y=f(approx),color='red')\n",
    "show(p)"
   ]
  },
  {
   "cell_type": "code",
   "execution_count": null,
   "id": "3f953326-47ea-4671-ae71-db1189f87422",
   "metadata": {},
   "outputs": [],
   "source": []
  },
  {
   "cell_type": "code",
   "execution_count": 87,
   "id": "79fbc1b3-4266-43df-a320-1b7e5e2bbc57",
   "metadata": {},
   "outputs": [
    {
     "data": {
      "text/plain": [
       "array([ 5.00000000e-01,  1.25000000e+00,  3.12500000e-02,  1.05041504e-01,\n",
       "        3.42509854e-01,  9.75540874e-01,  1.06073969e+00,  8.24099205e-01,\n",
       "        1.31535591e+00, -3.34916582e-01, -1.22823856e+00, -3.76283450e+00,\n",
       "        3.41488776e+01, -4.90703547e+04,  1.41784902e+14])"
      ]
     },
     "execution_count": 87,
     "metadata": {},
     "output_type": "execute_result"
    }
   ],
   "source": [
    "approx"
   ]
  },
  {
   "cell_type": "code",
   "execution_count": 89,
   "id": "9b01baf3-d463-422c-9cc6-7a726895fe5d",
   "metadata": {},
   "outputs": [
    {
     "data": {
      "text/plain": [
       "array([-7.50000000e+00,  1.21875000e+01, -7.37915039e-01, -2.37468350e+00,\n",
       "       -6.33031020e+00, -8.51988187e-01,  2.36640488e+00, -4.91256706e+00,\n",
       "        1.65027249e+01,  8.93321981e+00,  2.53459594e+01, -3.79117121e+02,\n",
       "        4.91045036e+05, -1.41784902e+15,  3.42035518e+43])"
      ]
     },
     "execution_count": 89,
     "metadata": {},
     "output_type": "execute_result"
    }
   ],
   "source": [
    "df(approx)"
   ]
  },
  {
   "cell_type": "code",
   "execution_count": null,
   "id": "02c80907-3577-4d00-b3fb-7230b152790b",
   "metadata": {},
   "outputs": [],
   "source": []
  }
 ],
 "metadata": {
  "kernelspec": {
   "display_name": "python310",
   "language": "python",
   "name": "python310"
  },
  "language_info": {
   "codemirror_mode": {
    "name": "ipython",
    "version": 3
   },
   "file_extension": ".py",
   "mimetype": "text/x-python",
   "name": "python",
   "nbconvert_exporter": "python",
   "pygments_lexer": "ipython3",
   "version": "3.10.8"
  }
 },
 "nbformat": 4,
 "nbformat_minor": 5
}
