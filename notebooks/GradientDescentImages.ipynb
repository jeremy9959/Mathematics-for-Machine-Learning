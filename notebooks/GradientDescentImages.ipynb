{
 "cells": [
  {
   "cell_type": "code",
   "execution_count": 1,
   "id": "ff978c03-307b-43f0-8551-3b0a16ac2f26",
   "metadata": {},
   "outputs": [
    {
     "data": {
      "text/html": [
       "<style>\n",
       "        .bk-notebook-logo {\n",
       "            display: block;\n",
       "            width: 20px;\n",
       "            height: 20px;\n",
       "            background-image: url(data:image/png;base64,iVBORw0KGgoAAAANSUhEUgAAABQAAAAUCAYAAACNiR0NAAAABHNCSVQICAgIfAhkiAAAAAlwSFlzAAALEgAACxIB0t1+/AAAABx0RVh0U29mdHdhcmUAQWRvYmUgRmlyZXdvcmtzIENTNui8sowAAAOkSURBVDiNjZRtaJVlGMd/1/08zzln5zjP1LWcU9N0NkN8m2CYjpgQYQXqSs0I84OLIC0hkEKoPtiH3gmKoiJDU7QpLgoLjLIQCpEsNJ1vqUOdO7ppbuec5+V+rj4ctwzd8IIbbi6u+8f1539dt3A78eXC7QizUF7gyV1fD1Yqg4JWz84yffhm0qkFqBogB9rM8tZdtwVsPUhWhGcFJngGeWrPzHm5oaMmkfEg1usvLFyc8jLRqDOMru7AyC8saQr7GG7f5fvDeH7Ej8CM66nIF+8yngt6HWaKh7k49Soy9nXurCi1o3qUbS3zWfrYeQDTB/Qj6kX6Ybhw4B+bOYoLKCC9H3Nu/leUTZ1JdRWkkn2ldcCamzrcf47KKXdAJllSlxAOkRgyHsGC/zRday5Qld9DyoM4/q/rUoy/CXh3jzOu3bHUVZeU+DEn8FInkPBFlu3+nW3Nw0mk6vCDiWg8CeJaxEwuHS3+z5RgY+YBR6V1Z1nxSOfoaPa4LASWxxdNp+VWTk7+4vzaou8v8PN+xo+KY2xsw6une2frhw05CTYOmQvsEhjhWjn0bmXPjpE1+kplmmkP3suftwTubK9Vq22qKmrBhpY4jvd5afdRA3wGjFAgcnTK2s4hY0/GPNIb0nErGMCRxWOOX64Z8RAC4oCXdklmEvcL8o0BfkNK4lUg9HTl+oPlQxdNo3Mg4Nv175e/1LDGzZen30MEjRUtmXSfiTVu1kK8W4txyV6BMKlbgk3lMwYCiusNy9fVfvvwMxv8Ynl6vxoByANLTWplvuj/nF9m2+PDtt1eiHPBr1oIfhCChQMBw6Aw0UulqTKZdfVvfG7VcfIqLG9bcldL/+pdWTLxLUy8Qq38heUIjh4XlzZxzQm19lLFlr8vdQ97rjZVOLf8nclzckbcD4wxXMidpX30sFd37Fv/GtwwhzhxGVAprjbg0gCAEeIgwCZyTV2Z1REEW8O4py0wsjeloKoMr6iCY6dP92H6Vw/oTyICIthibxjm/DfN9lVz8IqtqKYLUXfoKVMVQVVJOElGjrnnUt9T9wbgp8AyYKaGlqingHZU/uG2NTZSVqwHQTWkx9hxjkpWDaCg6Ckj5qebgBVbT3V3NNXMSiWSDdGV3hrtzla7J+duwPOToIg42ChPQOQjspnSlp1V+Gjdged7+8UN5CRAV7a5EdFNwCjEaBR27b3W890TE7g24NAP/mMDXRWrGoFPQI9ls/MWO2dWFAar/xcOIImbbpA3zgAAAABJRU5ErkJggg==);\n",
       "        }\n",
       "    </style>\n",
       "    <div>\n",
       "        <a href=\"https://bokeh.org\" target=\"_blank\" class=\"bk-notebook-logo\"></a>\n",
       "        <span id=\"p1001\">Loading BokehJS ...</span>\n",
       "    </div>\n"
      ]
     },
     "metadata": {},
     "output_type": "display_data"
    },
    {
     "data": {
      "application/javascript": "(function(root) {\n  function now() {\n    return new Date();\n  }\n\n  const force = true;\n\n  if (typeof root._bokeh_onload_callbacks === \"undefined\" || force === true) {\n    root._bokeh_onload_callbacks = [];\n    root._bokeh_is_loading = undefined;\n  }\n\nconst JS_MIME_TYPE = 'application/javascript';\n  const HTML_MIME_TYPE = 'text/html';\n  const EXEC_MIME_TYPE = 'application/vnd.bokehjs_exec.v0+json';\n  const CLASS_NAME = 'output_bokeh rendered_html';\n\n  /**\n   * Render data to the DOM node\n   */\n  function render(props, node) {\n    const script = document.createElement(\"script\");\n    node.appendChild(script);\n  }\n\n  /**\n   * Handle when an output is cleared or removed\n   */\n  function handleClearOutput(event, handle) {\n    const cell = handle.cell;\n\n    const id = cell.output_area._bokeh_element_id;\n    const server_id = cell.output_area._bokeh_server_id;\n    // Clean up Bokeh references\n    if (id != null && id in Bokeh.index) {\n      Bokeh.index[id].model.document.clear();\n      delete Bokeh.index[id];\n    }\n\n    if (server_id !== undefined) {\n      // Clean up Bokeh references\n      const cmd_clean = \"from bokeh.io.state import curstate; print(curstate().uuid_to_server['\" + server_id + \"'].get_sessions()[0].document.roots[0]._id)\";\n      cell.notebook.kernel.execute(cmd_clean, {\n        iopub: {\n          output: function(msg) {\n            const id = msg.content.text.trim();\n            if (id in Bokeh.index) {\n              Bokeh.index[id].model.document.clear();\n              delete Bokeh.index[id];\n            }\n          }\n        }\n      });\n      // Destroy server and session\n      const cmd_destroy = \"import bokeh.io.notebook as ion; ion.destroy_server('\" + server_id + \"')\";\n      cell.notebook.kernel.execute(cmd_destroy);\n    }\n  }\n\n  /**\n   * Handle when a new output is added\n   */\n  function handleAddOutput(event, handle) {\n    const output_area = handle.output_area;\n    const output = handle.output;\n\n    // limit handleAddOutput to display_data with EXEC_MIME_TYPE content only\n    if ((output.output_type != \"display_data\") || (!Object.prototype.hasOwnProperty.call(output.data, EXEC_MIME_TYPE))) {\n      return\n    }\n\n    const toinsert = output_area.element.find(\".\" + CLASS_NAME.split(' ')[0]);\n\n    if (output.metadata[EXEC_MIME_TYPE][\"id\"] !== undefined) {\n      toinsert[toinsert.length - 1].firstChild.textContent = output.data[JS_MIME_TYPE];\n      // store reference to embed id on output_area\n      output_area._bokeh_element_id = output.metadata[EXEC_MIME_TYPE][\"id\"];\n    }\n    if (output.metadata[EXEC_MIME_TYPE][\"server_id\"] !== undefined) {\n      const bk_div = document.createElement(\"div\");\n      bk_div.innerHTML = output.data[HTML_MIME_TYPE];\n      const script_attrs = bk_div.children[0].attributes;\n      for (let i = 0; i < script_attrs.length; i++) {\n        toinsert[toinsert.length - 1].firstChild.setAttribute(script_attrs[i].name, script_attrs[i].value);\n        toinsert[toinsert.length - 1].firstChild.textContent = bk_div.children[0].textContent\n      }\n      // store reference to server id on output_area\n      output_area._bokeh_server_id = output.metadata[EXEC_MIME_TYPE][\"server_id\"];\n    }\n  }\n\n  function register_renderer(events, OutputArea) {\n\n    function append_mime(data, metadata, element) {\n      // create a DOM node to render to\n      const toinsert = this.create_output_subarea(\n        metadata,\n        CLASS_NAME,\n        EXEC_MIME_TYPE\n      );\n      this.keyboard_manager.register_events(toinsert);\n      // Render to node\n      const props = {data: data, metadata: metadata[EXEC_MIME_TYPE]};\n      render(props, toinsert[toinsert.length - 1]);\n      element.append(toinsert);\n      return toinsert\n    }\n\n    /* Handle when an output is cleared or removed */\n    events.on('clear_output.CodeCell', handleClearOutput);\n    events.on('delete.Cell', handleClearOutput);\n\n    /* Handle when a new output is added */\n    events.on('output_added.OutputArea', handleAddOutput);\n\n    /**\n     * Register the mime type and append_mime function with output_area\n     */\n    OutputArea.prototype.register_mime_type(EXEC_MIME_TYPE, append_mime, {\n      /* Is output safe? */\n      safe: true,\n      /* Index of renderer in `output_area.display_order` */\n      index: 0\n    });\n  }\n\n  // register the mime type if in Jupyter Notebook environment and previously unregistered\n  if (root.Jupyter !== undefined) {\n    const events = require('base/js/events');\n    const OutputArea = require('notebook/js/outputarea').OutputArea;\n\n    if (OutputArea.prototype.mime_types().indexOf(EXEC_MIME_TYPE) == -1) {\n      register_renderer(events, OutputArea);\n    }\n  }\n  if (typeof (root._bokeh_timeout) === \"undefined\" || force === true) {\n    root._bokeh_timeout = Date.now() + 5000;\n    root._bokeh_failed_load = false;\n  }\n\n  const NB_LOAD_WARNING = {'data': {'text/html':\n     \"<div style='background-color: #fdd'>\\n\"+\n     \"<p>\\n\"+\n     \"BokehJS does not appear to have successfully loaded. If loading BokehJS from CDN, this \\n\"+\n     \"may be due to a slow or bad network connection. Possible fixes:\\n\"+\n     \"</p>\\n\"+\n     \"<ul>\\n\"+\n     \"<li>re-rerun `output_notebook()` to attempt to load from CDN again, or</li>\\n\"+\n     \"<li>use INLINE resources instead, as so:</li>\\n\"+\n     \"</ul>\\n\"+\n     \"<code>\\n\"+\n     \"from bokeh.resources import INLINE\\n\"+\n     \"output_notebook(resources=INLINE)\\n\"+\n     \"</code>\\n\"+\n     \"</div>\"}};\n\n  function display_loaded() {\n    const el = document.getElementById(\"p1001\");\n    if (el != null) {\n      el.textContent = \"BokehJS is loading...\";\n    }\n    if (root.Bokeh !== undefined) {\n      if (el != null) {\n        el.textContent = \"BokehJS \" + root.Bokeh.version + \" successfully loaded.\";\n      }\n    } else if (Date.now() < root._bokeh_timeout) {\n      setTimeout(display_loaded, 100)\n    }\n  }\n\n  function run_callbacks() {\n    try {\n      root._bokeh_onload_callbacks.forEach(function(callback) {\n        if (callback != null)\n          callback();\n      });\n    } finally {\n      delete root._bokeh_onload_callbacks\n    }\n    console.debug(\"Bokeh: all callbacks have finished\");\n  }\n\n  function load_libs(css_urls, js_urls, callback) {\n    if (css_urls == null) css_urls = [];\n    if (js_urls == null) js_urls = [];\n\n    root._bokeh_onload_callbacks.push(callback);\n    if (root._bokeh_is_loading > 0) {\n      console.debug(\"Bokeh: BokehJS is being loaded, scheduling callback at\", now());\n      return null;\n    }\n    if (js_urls == null || js_urls.length === 0) {\n      run_callbacks();\n      return null;\n    }\n    console.debug(\"Bokeh: BokehJS not loaded, scheduling load and callback at\", now());\n    root._bokeh_is_loading = css_urls.length + js_urls.length;\n\n    function on_load() {\n      root._bokeh_is_loading--;\n      if (root._bokeh_is_loading === 0) {\n        console.debug(\"Bokeh: all BokehJS libraries/stylesheets loaded\");\n        run_callbacks()\n      }\n    }\n\n    function on_error(url) {\n      console.error(\"failed to load \" + url);\n    }\n\n    for (let i = 0; i < css_urls.length; i++) {\n      const url = css_urls[i];\n      const element = document.createElement(\"link\");\n      element.onload = on_load;\n      element.onerror = on_error.bind(null, url);\n      element.rel = \"stylesheet\";\n      element.type = \"text/css\";\n      element.href = url;\n      console.debug(\"Bokeh: injecting link tag for BokehJS stylesheet: \", url);\n      document.body.appendChild(element);\n    }\n\n    for (let i = 0; i < js_urls.length; i++) {\n      const url = js_urls[i];\n      const element = document.createElement('script');\n      element.onload = on_load;\n      element.onerror = on_error.bind(null, url);\n      element.async = false;\n      element.src = url;\n      console.debug(\"Bokeh: injecting script tag for BokehJS library: \", url);\n      document.head.appendChild(element);\n    }\n  };\n\n  function inject_raw_css(css) {\n    const element = document.createElement(\"style\");\n    element.appendChild(document.createTextNode(css));\n    document.body.appendChild(element);\n  }\n\n  const js_urls = [\"https://cdn.bokeh.org/bokeh/release/bokeh-3.0.1.min.js\", \"https://cdn.bokeh.org/bokeh/release/bokeh-gl-3.0.1.min.js\", \"https://cdn.bokeh.org/bokeh/release/bokeh-widgets-3.0.1.min.js\", \"https://cdn.bokeh.org/bokeh/release/bokeh-tables-3.0.1.min.js\", \"https://cdn.bokeh.org/bokeh/release/bokeh-mathjax-3.0.1.min.js\"];\n  const css_urls = [];\n\n  const inline_js = [    function(Bokeh) {\n      Bokeh.set_log_level(\"info\");\n    },\nfunction(Bokeh) {\n    }\n  ];\n\n  function run_inline_js() {\n    if (root.Bokeh !== undefined || force === true) {\n          for (let i = 0; i < inline_js.length; i++) {\n      inline_js[i].call(root, root.Bokeh);\n    }\nif (force === true) {\n        display_loaded();\n      }} else if (Date.now() < root._bokeh_timeout) {\n      setTimeout(run_inline_js, 100);\n    } else if (!root._bokeh_failed_load) {\n      console.log(\"Bokeh: BokehJS failed to load within specified timeout.\");\n      root._bokeh_failed_load = true;\n    } else if (force !== true) {\n      const cell = $(document.getElementById(\"p1001\")).parents('.cell').data().cell;\n      cell.output_area.append_execute_result(NB_LOAD_WARNING)\n    }\n  }\n\n  if (root._bokeh_is_loading === 0) {\n    console.debug(\"Bokeh: BokehJS loaded, going straight to plotting\");\n    run_inline_js();\n  } else {\n    load_libs(css_urls, js_urls, function() {\n      console.debug(\"Bokeh: BokehJS plotting callback run at\", now());\n      run_inline_js();\n    });\n  }\n}(window));",
      "application/vnd.bokehjs_load.v0+json": ""
     },
     "metadata": {},
     "output_type": "display_data"
    }
   ],
   "source": [
    "import numpy as np\n",
    "from bokeh.plotting import figure, output_notebook, show,row\n",
    "from bokeh.models import Range, DataRange1d,Label, LabelSet, ColumnDataSource\n",
    "from bokeh.io import export_png\n",
    "output_notebook()"
   ]
  },
  {
   "cell_type": "code",
   "execution_count": 2,
   "id": "d00430b4",
   "metadata": {},
   "outputs": [],
   "source": [
    "def descent(x,n=10,nu=.1):\n",
    "    answer=np.zeros(n)\n",
    "    answer[0]=x\n",
    "    for i in range(1,n):\n",
    "        try:\n",
    "            x=x-nu*df(x)\n",
    "        except:\n",
    "            break\n",
    "        answer[i]=x\n",
    "    return answer"
   ]
  },
  {
   "cell_type": "code",
   "execution_count": 47,
   "id": "07ee6297-1122-4e72-ab3c-61e46e40c62f",
   "metadata": {},
   "outputs": [],
   "source": [
    "x=np.linspace(-3,2,100)\n",
    "f= lambda x: 3*x**4+4*x**3-12*x**2+5\n",
    "df = lambda x: 12*x**3+12*x**2-24*x\n",
    "y=f(x)"
   ]
  },
  {
   "cell_type": "code",
   "execution_count": 48,
   "id": "ac40b8c2-7b93-4f9f-97ac-a1ccf2780c95",
   "metadata": {},
   "outputs": [
    {
     "data": {
      "text/html": [
       "\n",
       "  <div id=\"1c4229f3-4dbe-455a-bfd0-8c3062b65470\" data-root-id=\"p17036\" style=\"display: contents;\"></div>\n"
      ]
     },
     "metadata": {},
     "output_type": "display_data"
    },
    {
     "data": {
      "application/javascript": "(function(root) {\n  function embed_document(root) {\n  const docs_json = {\"41d9d2db-4250-4f57-8022-a9a8b86d5edf\":{\"version\":\"3.0.1\",\"title\":\"Bokeh Application\",\"defs\":[],\"roots\":[{\"type\":\"object\",\"name\":\"Figure\",\"id\":\"p17036\",\"attributes\":{\"x_range\":{\"type\":\"object\",\"name\":\"Range1d\",\"id\":\"p17046\",\"attributes\":{\"start\":-3,\"end\":3}},\"y_range\":{\"type\":\"object\",\"name\":\"Range1d\",\"id\":\"p17048\",\"attributes\":{\"start\":-30,\"end\":30}},\"x_scale\":{\"type\":\"object\",\"name\":\"LinearScale\",\"id\":\"p17050\"},\"y_scale\":{\"type\":\"object\",\"name\":\"LinearScale\",\"id\":\"p17052\"},\"title\":{\"type\":\"object\",\"name\":\"Title\",\"id\":\"p17039\",\"attributes\":{\"text\":\"A quartic curve\"}},\"renderers\":[{\"type\":\"object\",\"name\":\"GlyphRenderer\",\"id\":\"p17089\",\"attributes\":{\"data_source\":{\"type\":\"object\",\"name\":\"ColumnDataSource\",\"id\":\"p17083\",\"attributes\":{\"selected\":{\"type\":\"object\",\"name\":\"Selection\",\"id\":\"p17085\",\"attributes\":{\"indices\":[],\"line_indices\":[]}},\"selection_policy\":{\"type\":\"object\",\"name\":\"UnionRenderers\",\"id\":\"p17084\"},\"data\":{\"type\":\"map\",\"entries\":[[\"x\",{\"type\":\"ndarray\",\"array\":{\"type\":\"bytes\",\"data\":\"AAAAAAAACMBDYt7OkJgHwIbEvJ0hMQfAyiabbLLJBsANiXk7Q2IGwFDrVwrU+gXAk0022WSTBcDXrxSo9SsFwBoS83aGxATAXXTRRRddBMCg1q8UqPUDwOQ4juM4jgPAJ5tssskmA8Bq/UqBWr8CwK1fKVDrVwLA8MEHH3zwAcA0JObtDIkBwHeGxLydIQHAuuiiiy66AMD+SoFav1IAwIFav1Kg1v+/CB988MEH/7+O4ziO4zj+vxWo9SsFav2/m2yyySab/L8iMW9nSMz7v6j1KwVq/fq/L7rooosu+r+1fqVArV/5vzxDYt7OkPi/wgcffPDB979JzNsZEvP2v8+QmLczJPa/VVVVVVVV9b/cGRLzdob0v2LezpCYt/O/6aKLLrro8r9vZ0jM2xnyv/YrBWr9SvG/fPDBBx988L8Eav1KgVrvvxTzdobEvO2/IHzwwQcf7L8sBWr9SoHqvziO4ziO4+i/SBdddNFF579UoNavFKjlv2ApUOtXCuS/bLLJJpts4r94O0Ni3s7gvxCJeTtDYt6/KJtssskm279ArV8pUOvXv1i/UqDWr9S/eNFFF1100b8gx3Ecx3HMv1DrVwrU+sW/AB988MEHv7+AZ0jM2xmyv4C/UqDWr5S/AB988MEHnz9gv1Kg1q+0P3A7Q2LezsA/QBdddNFFxz8Q83aGxLzNP3BnSMzbGdI/WFVVVVVV1T84Q2LezpDYPyAxb2dIzNs/CB988MEH3z94hsS8nSHhP2j9SoFav+I/XHTRRRdd5D9Q61cK1PrlP0Ri3s6QmOc/NNlkk0026T8oUOtXCtTqPxzHcRzHcew/ED744IMP7j8AtX6lQK3vP/yVArV+pfA/dNFFF1108T/sDIl5O0PyP2hIzNsZEvM/4IMPPvjg8z9cv1Kg1q/0P9T6lQK1fvU/TDbZZJNN9j/IcRzHcRz3P0CtXylQ6/c/uOiiiy66+D80JObtDIn5P6xfKVDrV/o/KJtssskm+z+g1q8UqPX7PxgS83aGxPw/lE022WST/T8MiXk7Q2L+P4jEvJ0hMf8/AAAAAAAAAEA=\"},\"shape\":[100],\"dtype\":\"float64\",\"order\":\"little\"}],[\"y\",{\"type\":\"ndarray\",\"array\":{\"type\":\"bytes\",\"data\":\"AAAAAAAAQEBANYymkgM5QPAGVTDElTJAYBwcUNtgKUAwp24vGzYdQMDxl2owOQNAQFQwdPtDAMAgA+M8VxwYwIheuxFVNCPAGDY5uFiOKcBEB1ms1iYvwNKi09AYBDLA3mxnckceNMBekMwt6+Y1wFD2dkLZYjfACMJpPMiWOMBIUTf0T4c5wCo8AY/pODrAMFV4fu+vOsAwqdyAnfA6wHl//aAQ/zrAmFk5NkffOsCX833kIJU6wNhDSJxeJDrAF3ukmqKQOcB6BC5pcN04wIaFD94sDjjAGd4CHB4mN8B7KFGSayg2wFW50vwdGDXApB/vYx/4M8DVJJ0cO8sywK7MYsgdlDHAVVVVVVVVMMCobjL8oSIuwCpLxJPClCvAwhrmGHAFKcDALDzM0HgmwERFiYfN8iPAIJ2uvRF3IcDaw1f1FhIewBpsPsfWVxnAImGKbUnFFMC2uvGW2l8QwCj0zkj2WAjAEBQ3UkJfAMD8+uqpH7XxvyDB2gX8Hc2/gEYMXwrT4j8KNEv2gmj1P3L4CM18KABAZGUyDEoOBUAjRu1SdGMJQAQtC1e8Jg1AqOzxNOwrEECumyo8unsRQDSwYQWZgxJAVk2MItREE0CyrGLzMcETQGMeYKXz+hNA/gjDM9X0E0CY6YxnDbITQMNTgtdNNhNAi/Eq6MKFEkB+g9HLE6URQKTgg4JimRBAB+0ltJfQDkBKkiXczi8MQATmtE+PXQlAN0oIffNnBkDaTdptC14DQOisa8fcTwBAfKAGlcWc+j+Um9ymHNf0P7Ch/2cX6e4/EEBGxpU55T8ACxdI9uXZP0BlmquSsck/gLY6lC8GsD8AoJlsAdJdPwDSlyrJLZ8/gItyuTKbxD8AScH/ogLaP6AiDHwg9+g/kJeR5xm99D/QSMEJLoD/P+DwZxTQgAZA6DwCgBfADkCgoGwgIU8UQJRxznVNHhpAUM0gbFhvIEDcHdIW81AkQGDFy5QBvShAcOq/Jsy8LUA4HyE67KwxQCz/48X0zjRANPlT8X9JOEDSNo2qrCE8QMJTjklcLkBAAAAAAACAQkA=\"},\"shape\":[100],\"dtype\":\"float64\",\"order\":\"little\"}]]}}},\"view\":{\"type\":\"object\",\"name\":\"CDSView\",\"id\":\"p17090\",\"attributes\":{\"filter\":{\"type\":\"object\",\"name\":\"AllIndices\",\"id\":\"p17091\"}}},\"glyph\":{\"type\":\"object\",\"name\":\"Line\",\"id\":\"p17086\",\"attributes\":{\"x\":{\"type\":\"field\",\"field\":\"x\"},\"y\":{\"type\":\"field\",\"field\":\"y\"},\"line_color\":\"#1f77b4\",\"line_width\":2}},\"nonselection_glyph\":{\"type\":\"object\",\"name\":\"Line\",\"id\":\"p17087\",\"attributes\":{\"x\":{\"type\":\"field\",\"field\":\"x\"},\"y\":{\"type\":\"field\",\"field\":\"y\"},\"line_color\":\"#1f77b4\",\"line_alpha\":0.1,\"line_width\":2}},\"muted_glyph\":{\"type\":\"object\",\"name\":\"Line\",\"id\":\"p17088\",\"attributes\":{\"x\":{\"type\":\"field\",\"field\":\"x\"},\"y\":{\"type\":\"field\",\"field\":\"y\"},\"line_color\":\"#1f77b4\",\"line_alpha\":0.2,\"line_width\":2}}}}],\"toolbar\":{\"type\":\"object\",\"name\":\"Toolbar\",\"id\":\"p17044\",\"attributes\":{\"tools\":[{\"type\":\"object\",\"name\":\"PanTool\",\"id\":\"p17068\"},{\"type\":\"object\",\"name\":\"WheelZoomTool\",\"id\":\"p17069\"},{\"type\":\"object\",\"name\":\"BoxZoomTool\",\"id\":\"p17070\",\"attributes\":{\"overlay\":{\"type\":\"object\",\"name\":\"BoxAnnotation\",\"id\":\"p17071\",\"attributes\":{\"syncable\":false,\"level\":\"overlay\",\"visible\":false,\"left_units\":\"canvas\",\"right_units\":\"canvas\",\"bottom_units\":\"canvas\",\"top_units\":\"canvas\",\"line_color\":\"black\",\"line_alpha\":1.0,\"line_width\":2,\"line_dash\":[4,4],\"fill_color\":\"lightgrey\",\"fill_alpha\":0.5}}}},{\"type\":\"object\",\"name\":\"SaveTool\",\"id\":\"p17072\"},{\"type\":\"object\",\"name\":\"ResetTool\",\"id\":\"p17073\"},{\"type\":\"object\",\"name\":\"HelpTool\",\"id\":\"p17074\"}]}},\"toolbar_location\":null,\"left\":[{\"type\":\"object\",\"name\":\"LinearAxis\",\"id\":\"p17061\",\"attributes\":{\"ticker\":{\"type\":\"object\",\"name\":\"BasicTicker\",\"id\":\"p17063\",\"attributes\":{\"mantissas\":[1,2,5]}},\"formatter\":{\"type\":\"object\",\"name\":\"BasicTickFormatter\",\"id\":\"p17064\"},\"major_label_policy\":{\"type\":\"object\",\"name\":\"AllLabels\",\"id\":\"p17062\"}}}],\"below\":[{\"type\":\"object\",\"name\":\"LinearAxis\",\"id\":\"p17054\",\"attributes\":{\"ticker\":{\"type\":\"object\",\"name\":\"BasicTicker\",\"id\":\"p17056\",\"attributes\":{\"mantissas\":[1,2,5]}},\"formatter\":{\"type\":\"object\",\"name\":\"BasicTickFormatter\",\"id\":\"p17057\"},\"major_label_policy\":{\"type\":\"object\",\"name\":\"AllLabels\",\"id\":\"p17055\"}}}],\"center\":[{\"type\":\"object\",\"name\":\"Grid\",\"id\":\"p17060\",\"attributes\":{\"axis\":{\"id\":\"p17054\"}}},{\"type\":\"object\",\"name\":\"Grid\",\"id\":\"p17067\",\"attributes\":{\"dimension\":1,\"axis\":{\"id\":\"p17061\"}}}]}}]}};\n  const render_items = [{\"docid\":\"41d9d2db-4250-4f57-8022-a9a8b86d5edf\",\"roots\":{\"p17036\":\"1c4229f3-4dbe-455a-bfd0-8c3062b65470\"},\"root_ids\":[\"p17036\"]}];\n  root.Bokeh.embed.embed_items_notebook(docs_json, render_items);\n  }\n  if (root.Bokeh !== undefined) {\n    embed_document(root);\n  } else {\n    let attempts = 0;\n    const timer = setInterval(function(root) {\n      if (root.Bokeh !== undefined) {\n        clearInterval(timer);\n        embed_document(root);\n      } else {\n        attempts++;\n        if (attempts > 100) {\n          clearInterval(timer);\n          console.log(\"Bokeh: ERROR: Unable to run BokehJS code because BokehJS library is missing\");\n        }\n      }\n    }, 10, root)\n  }\n})(window);",
      "application/vnd.bokehjs_exec.v0+json": ""
     },
     "metadata": {
      "application/vnd.bokehjs_exec.v0+json": {
       "id": "p17036"
      }
     },
     "output_type": "display_data"
    }
   ],
   "source": [
    "p=figure(x_range=[-3,3],y_range=[-30,30],toolbar_location=None,title=\"A quartic curve\")\n",
    "p.line(x=x,y=y,line_width=2)\n",
    "export_png(p,filename=\"../chapters/img/GradDescentQuartic.png\")\n",
    "show(p)"
   ]
  },
  {
   "cell_type": "code",
   "execution_count": null,
   "id": "9c640f7e-a0cc-408d-9977-9e36da1b0ed4",
   "metadata": {},
   "outputs": [],
   "source": [
    "\n",
    "    "
   ]
  },
  {
   "cell_type": "code",
   "execution_count": 52,
   "id": "e381ad8f-6668-4bb9-a6b2-3657ae394c0e",
   "metadata": {},
   "outputs": [
    {
     "data": {
      "text/html": [
       "\n",
       "  <div id=\"134a5341-d9cc-4578-86a5-71cd5b2625aa\" data-root-id=\"p20544\" style=\"display: contents;\"></div>\n"
      ]
     },
     "metadata": {},
     "output_type": "display_data"
    },
    {
     "data": {
      "application/javascript": "(function(root) {\n  function embed_document(root) {\n  const docs_json = {\"88fdd4cb-6902-4829-8a0e-b634baa1476b\":{\"version\":\"3.0.1\",\"title\":\"Bokeh Application\",\"defs\":[],\"roots\":[{\"type\":\"object\",\"name\":\"Figure\",\"id\":\"p20544\",\"attributes\":{\"x_range\":{\"type\":\"object\",\"name\":\"Range1d\",\"id\":\"p20554\",\"attributes\":{\"start\":-3,\"end\":3}},\"y_range\":{\"type\":\"object\",\"name\":\"Range1d\",\"id\":\"p20556\",\"attributes\":{\"start\":-30,\"end\":30}},\"x_scale\":{\"type\":\"object\",\"name\":\"LinearScale\",\"id\":\"p20558\"},\"y_scale\":{\"type\":\"object\",\"name\":\"LinearScale\",\"id\":\"p20560\"},\"title\":{\"type\":\"object\",\"name\":\"Title\",\"id\":\"p20547\",\"attributes\":{\"text\":\"$$\\\\text{Gradient descent: initial point }x=0.5, \\\\text{iterations }=30, \\\\nu=0.01$$\"}},\"renderers\":[{\"type\":\"object\",\"name\":\"GlyphRenderer\",\"id\":\"p20597\",\"attributes\":{\"data_source\":{\"type\":\"object\",\"name\":\"ColumnDataSource\",\"id\":\"p20591\",\"attributes\":{\"selected\":{\"type\":\"object\",\"name\":\"Selection\",\"id\":\"p20593\",\"attributes\":{\"indices\":[],\"line_indices\":[]}},\"selection_policy\":{\"type\":\"object\",\"name\":\"UnionRenderers\",\"id\":\"p20592\"},\"data\":{\"type\":\"map\",\"entries\":[[\"x\",{\"type\":\"ndarray\",\"array\":{\"type\":\"bytes\",\"data\":\"AAAAAAAACMBDYt7OkJgHwIbEvJ0hMQfAyiabbLLJBsANiXk7Q2IGwFDrVwrU+gXAk0022WSTBcDXrxSo9SsFwBoS83aGxATAXXTRRRddBMCg1q8UqPUDwOQ4juM4jgPAJ5tssskmA8Bq/UqBWr8CwK1fKVDrVwLA8MEHH3zwAcA0JObtDIkBwHeGxLydIQHAuuiiiy66AMD+SoFav1IAwIFav1Kg1v+/CB988MEH/7+O4ziO4zj+vxWo9SsFav2/m2yyySab/L8iMW9nSMz7v6j1KwVq/fq/L7rooosu+r+1fqVArV/5vzxDYt7OkPi/wgcffPDB979JzNsZEvP2v8+QmLczJPa/VVVVVVVV9b/cGRLzdob0v2LezpCYt/O/6aKLLrro8r9vZ0jM2xnyv/YrBWr9SvG/fPDBBx988L8Eav1KgVrvvxTzdobEvO2/IHzwwQcf7L8sBWr9SoHqvziO4ziO4+i/SBdddNFF579UoNavFKjlv2ApUOtXCuS/bLLJJpts4r94O0Ni3s7gvxCJeTtDYt6/KJtssskm279ArV8pUOvXv1i/UqDWr9S/eNFFF1100b8gx3Ecx3HMv1DrVwrU+sW/AB988MEHv7+AZ0jM2xmyv4C/UqDWr5S/AB988MEHnz9gv1Kg1q+0P3A7Q2LezsA/QBdddNFFxz8Q83aGxLzNP3BnSMzbGdI/WFVVVVVV1T84Q2LezpDYPyAxb2dIzNs/CB988MEH3z94hsS8nSHhP2j9SoFav+I/XHTRRRdd5D9Q61cK1PrlP0Ri3s6QmOc/NNlkk0026T8oUOtXCtTqPxzHcRzHcew/ED744IMP7j8AtX6lQK3vP/yVArV+pfA/dNFFF1108T/sDIl5O0PyP2hIzNsZEvM/4IMPPvjg8z9cv1Kg1q/0P9T6lQK1fvU/TDbZZJNN9j/IcRzHcRz3P0CtXylQ6/c/uOiiiy66+D80JObtDIn5P6xfKVDrV/o/KJtssskm+z+g1q8UqPX7PxgS83aGxPw/lE022WST/T8MiXk7Q2L+P4jEvJ0hMf8/AAAAAAAAAEA=\"},\"shape\":[100],\"dtype\":\"float64\",\"order\":\"little\"}],[\"y\",{\"type\":\"ndarray\",\"array\":{\"type\":\"bytes\",\"data\":\"AAAAAAAAQEBANYymkgM5QPAGVTDElTJAYBwcUNtgKUAwp24vGzYdQMDxl2owOQNAQFQwdPtDAMAgA+M8VxwYwIheuxFVNCPAGDY5uFiOKcBEB1ms1iYvwNKi09AYBDLA3mxnckceNMBekMwt6+Y1wFD2dkLZYjfACMJpPMiWOMBIUTf0T4c5wCo8AY/pODrAMFV4fu+vOsAwqdyAnfA6wHl//aAQ/zrAmFk5NkffOsCX833kIJU6wNhDSJxeJDrAF3ukmqKQOcB6BC5pcN04wIaFD94sDjjAGd4CHB4mN8B7KFGSayg2wFW50vwdGDXApB/vYx/4M8DVJJ0cO8sywK7MYsgdlDHAVVVVVVVVMMCobjL8oSIuwCpLxJPClCvAwhrmGHAFKcDALDzM0HgmwERFiYfN8iPAIJ2uvRF3IcDaw1f1FhIewBpsPsfWVxnAImGKbUnFFMC2uvGW2l8QwCj0zkj2WAjAEBQ3UkJfAMD8+uqpH7XxvyDB2gX8Hc2/gEYMXwrT4j8KNEv2gmj1P3L4CM18KABAZGUyDEoOBUAjRu1SdGMJQAQtC1e8Jg1AqOzxNOwrEECumyo8unsRQDSwYQWZgxJAVk2MItREE0CyrGLzMcETQGMeYKXz+hNA/gjDM9X0E0CY6YxnDbITQMNTgtdNNhNAi/Eq6MKFEkB+g9HLE6URQKTgg4JimRBAB+0ltJfQDkBKkiXczi8MQATmtE+PXQlAN0oIffNnBkDaTdptC14DQOisa8fcTwBAfKAGlcWc+j+Um9ymHNf0P7Ch/2cX6e4/EEBGxpU55T8ACxdI9uXZP0BlmquSsck/gLY6lC8GsD8AoJlsAdJdPwDSlyrJLZ8/gItyuTKbxD8AScH/ogLaP6AiDHwg9+g/kJeR5xm99D/QSMEJLoD/P+DwZxTQgAZA6DwCgBfADkCgoGwgIU8UQJRxznVNHhpAUM0gbFhvIEDcHdIW81AkQGDFy5QBvShAcOq/Jsy8LUA4HyE67KwxQCz/48X0zjRANPlT8X9JOEDSNo2qrCE8QMJTjklcLkBAAAAAAACAQkA=\"},\"shape\":[100],\"dtype\":\"float64\",\"order\":\"little\"}]]}}},\"view\":{\"type\":\"object\",\"name\":\"CDSView\",\"id\":\"p20598\",\"attributes\":{\"filter\":{\"type\":\"object\",\"name\":\"AllIndices\",\"id\":\"p20599\"}}},\"glyph\":{\"type\":\"object\",\"name\":\"Line\",\"id\":\"p20594\",\"attributes\":{\"x\":{\"type\":\"field\",\"field\":\"x\"},\"y\":{\"type\":\"field\",\"field\":\"y\"},\"line_color\":\"#1f77b4\",\"line_width\":2}},\"nonselection_glyph\":{\"type\":\"object\",\"name\":\"Line\",\"id\":\"p20595\",\"attributes\":{\"x\":{\"type\":\"field\",\"field\":\"x\"},\"y\":{\"type\":\"field\",\"field\":\"y\"},\"line_color\":\"#1f77b4\",\"line_alpha\":0.1,\"line_width\":2}},\"muted_glyph\":{\"type\":\"object\",\"name\":\"Line\",\"id\":\"p20596\",\"attributes\":{\"x\":{\"type\":\"field\",\"field\":\"x\"},\"y\":{\"type\":\"field\",\"field\":\"y\"},\"line_color\":\"#1f77b4\",\"line_alpha\":0.2,\"line_width\":2}}}},{\"type\":\"object\",\"name\":\"GlyphRenderer\",\"id\":\"p20606\",\"attributes\":{\"data_source\":{\"type\":\"object\",\"name\":\"ColumnDataSource\",\"id\":\"p20600\",\"attributes\":{\"selected\":{\"type\":\"object\",\"name\":\"Selection\",\"id\":\"p20602\",\"attributes\":{\"indices\":[],\"line_indices\":[]}},\"selection_policy\":{\"type\":\"object\",\"name\":\"UnionRenderers\",\"id\":\"p20601\"},\"data\":{\"type\":\"map\",\"entries\":[[\"x\",{\"type\":\"ndarray\",\"array\":{\"type\":\"bytes\",\"data\":\"AAAAAAAA4D9mZmZmZmbiP8UbmUf+0OQ/51ROcVsh5z9sruSmnznpP/yYfw8TA+s/Lq39iPNy7D8Xgd3LIYvtP1tn+f3LVu4/7X+k8Gnl7j8hmViWgUbvP08uj39Hh+8/f2BoUuOx7z9HxGXSps3vP5Ypx/Wg3+8/Uu9slzjr7z84TjAbrfLvP8wqv1129+8/EcXtGYj67z8BVcmdf/zvP/aVbSHC/e8/VVfwpZD+7z+okyzdFP/vPwVrEoBp/+8/a4XMrJ//7z9LUZFZwv/vP8hFBYvY/+8/iy5Iv+b/7z/kB4vW7//vP0AkA6j1/+8/\"},\"shape\":[30],\"dtype\":\"float64\",\"order\":\"little\"}],[\"y\",{\"type\":\"ndarray\",\"array\":{\"type\":\"bytes\",\"data\":\"AAAAAACABUDojCjtjfcAQOol52oO9/g/ZNeXrUv18D/ok5nfByflP4Aie6aoOdg/AFnDcIKhyT/ALS3ZLFS5P4CCISjEsac/AD6aCcBDlT8AEKuMpIWCPwBI8BOBmm8/APCWghmWWj8AQFQ9hyhGPwCAezL9WjI/AADSVT5KHj8AABhPnu0IPwAA0HtNe/Q+AABwfHbP4D4AACBeXJPLPgAAgA6Hm7Y+AACAA4GHoj4AAAAUPF6OPgAAAODz4Xg+AAAAaPJiZD4AAAAAuLNQPgAAAIC2XTs+AAAAAEdrJj4AAAAAuF0SPgAAAABoF/49\"},\"shape\":[30],\"dtype\":\"float64\",\"order\":\"little\"}]]}}},\"view\":{\"type\":\"object\",\"name\":\"CDSView\",\"id\":\"p20607\",\"attributes\":{\"filter\":{\"type\":\"object\",\"name\":\"AllIndices\",\"id\":\"p20608\"}}},\"glyph\":{\"type\":\"object\",\"name\":\"Scatter\",\"id\":\"p20603\",\"attributes\":{\"x\":{\"type\":\"field\",\"field\":\"x\"},\"y\":{\"type\":\"field\",\"field\":\"y\"},\"size\":{\"type\":\"value\",\"value\":6},\"line_color\":{\"type\":\"value\",\"value\":\"red\"},\"fill_color\":{\"type\":\"value\",\"value\":\"red\"},\"hatch_color\":{\"type\":\"value\",\"value\":\"red\"}}},\"nonselection_glyph\":{\"type\":\"object\",\"name\":\"Scatter\",\"id\":\"p20604\",\"attributes\":{\"x\":{\"type\":\"field\",\"field\":\"x\"},\"y\":{\"type\":\"field\",\"field\":\"y\"},\"size\":{\"type\":\"value\",\"value\":6},\"line_color\":{\"type\":\"value\",\"value\":\"red\"},\"line_alpha\":{\"type\":\"value\",\"value\":0.1},\"fill_color\":{\"type\":\"value\",\"value\":\"red\"},\"fill_alpha\":{\"type\":\"value\",\"value\":0.1},\"hatch_color\":{\"type\":\"value\",\"value\":\"red\"},\"hatch_alpha\":{\"type\":\"value\",\"value\":0.1}}},\"muted_glyph\":{\"type\":\"object\",\"name\":\"Scatter\",\"id\":\"p20605\",\"attributes\":{\"x\":{\"type\":\"field\",\"field\":\"x\"},\"y\":{\"type\":\"field\",\"field\":\"y\"},\"size\":{\"type\":\"value\",\"value\":6},\"line_color\":{\"type\":\"value\",\"value\":\"red\"},\"line_alpha\":{\"type\":\"value\",\"value\":0.2},\"fill_color\":{\"type\":\"value\",\"value\":\"red\"},\"fill_alpha\":{\"type\":\"value\",\"value\":0.2},\"hatch_color\":{\"type\":\"value\",\"value\":\"red\"},\"hatch_alpha\":{\"type\":\"value\",\"value\":0.2}}}}}],\"toolbar\":{\"type\":\"object\",\"name\":\"Toolbar\",\"id\":\"p20552\",\"attributes\":{\"tools\":[{\"type\":\"object\",\"name\":\"PanTool\",\"id\":\"p20576\"},{\"type\":\"object\",\"name\":\"WheelZoomTool\",\"id\":\"p20577\"},{\"type\":\"object\",\"name\":\"BoxZoomTool\",\"id\":\"p20578\",\"attributes\":{\"overlay\":{\"type\":\"object\",\"name\":\"BoxAnnotation\",\"id\":\"p20579\",\"attributes\":{\"syncable\":false,\"level\":\"overlay\",\"visible\":false,\"left_units\":\"canvas\",\"right_units\":\"canvas\",\"bottom_units\":\"canvas\",\"top_units\":\"canvas\",\"line_color\":\"black\",\"line_alpha\":1.0,\"line_width\":2,\"line_dash\":[4,4],\"fill_color\":\"lightgrey\",\"fill_alpha\":0.5}}}},{\"type\":\"object\",\"name\":\"SaveTool\",\"id\":\"p20580\"},{\"type\":\"object\",\"name\":\"ResetTool\",\"id\":\"p20581\"},{\"type\":\"object\",\"name\":\"HelpTool\",\"id\":\"p20582\"}]}},\"toolbar_location\":null,\"left\":[{\"type\":\"object\",\"name\":\"LinearAxis\",\"id\":\"p20569\",\"attributes\":{\"ticker\":{\"type\":\"object\",\"name\":\"BasicTicker\",\"id\":\"p20571\",\"attributes\":{\"mantissas\":[1,2,5]}},\"formatter\":{\"type\":\"object\",\"name\":\"BasicTickFormatter\",\"id\":\"p20572\"},\"major_label_policy\":{\"type\":\"object\",\"name\":\"AllLabels\",\"id\":\"p20570\"}}}],\"below\":[{\"type\":\"object\",\"name\":\"LinearAxis\",\"id\":\"p20562\",\"attributes\":{\"ticker\":{\"type\":\"object\",\"name\":\"BasicTicker\",\"id\":\"p20564\",\"attributes\":{\"mantissas\":[1,2,5]}},\"formatter\":{\"type\":\"object\",\"name\":\"BasicTickFormatter\",\"id\":\"p20565\"},\"major_label_policy\":{\"type\":\"object\",\"name\":\"AllLabels\",\"id\":\"p20563\"}}}],\"center\":[{\"type\":\"object\",\"name\":\"Grid\",\"id\":\"p20568\",\"attributes\":{\"axis\":{\"id\":\"p20562\"}}},{\"type\":\"object\",\"name\":\"Grid\",\"id\":\"p20575\",\"attributes\":{\"dimension\":1,\"axis\":{\"id\":\"p20569\"}}},{\"type\":\"object\",\"name\":\"Label\",\"id\":\"p20609\",\"attributes\":{\"text\":\"Start\",\"text_font_size\":\"10px\",\"x\":0.5,\"y\":2.6875,\"y_offset\":5}},{\"type\":\"object\",\"name\":\"Label\",\"id\":\"p20610\",\"attributes\":{\"text\":\"End\",\"text_font_size\":\"10px\",\"x\":0.999995067738503,\"y\":4.3788794812371634e-10,\"y_offset\":-20}}]}}]}};\n  const render_items = [{\"docid\":\"88fdd4cb-6902-4829-8a0e-b634baa1476b\",\"roots\":{\"p20544\":\"134a5341-d9cc-4578-86a5-71cd5b2625aa\"},\"root_ids\":[\"p20544\"]}];\n  root.Bokeh.embed.embed_items_notebook(docs_json, render_items);\n  }\n  if (root.Bokeh !== undefined) {\n    embed_document(root);\n  } else {\n    let attempts = 0;\n    const timer = setInterval(function(root) {\n      if (root.Bokeh !== undefined) {\n        clearInterval(timer);\n        embed_document(root);\n      } else {\n        attempts++;\n        if (attempts > 100) {\n          clearInterval(timer);\n          console.log(\"Bokeh: ERROR: Unable to run BokehJS code because BokehJS library is missing\");\n        }\n      }\n    }, 10, root)\n  }\n})(window);",
      "application/vnd.bokehjs_exec.v0+json": ""
     },
     "metadata": {
      "application/vnd.bokehjs_exec.v0+json": {
       "id": "p20544"
      }
     },
     "output_type": "display_data"
    },
    {
     "data": {
      "text/plain": [
       "'/home/jet08013/GitHub/quarto/chapters/img/grad_descent_local_minimum.png'"
      ]
     },
     "execution_count": 52,
     "metadata": {},
     "output_type": "execute_result"
    }
   ],
   "source": [
    "sx=.5\n",
    "iterations=30\n",
    "nu=.01\n",
    "p = figure(\n",
    "    x_range=[-3, 3],\n",
    "    y_range=[-30, 30],\n",
    "    title=f\"$$\\\\text{{Gradient descent: initial point }}x={sx}, \\\\text{{iterations }}={iterations},\\\\ \\\\nu={nu}$$\",\n",
    "    toolbar_location=None,\n",
    ")\n",
    "p.line(x=x, y=y, line_width=2)\n",
    "\n",
    "approx = descent(sx, n=iterations, nu=nu)\n",
    "names = [str(i) for i, x in enumerate(approx)]\n",
    "p.scatter(x=approx, y=f(approx), color=\"red\",size=6)\n",
    "start_label = Label(\n",
    "    x=approx[0], y=f(approx[0]), text=\"Start\", y_offset=5, text_font_size=\"10px\"\n",
    ")\n",
    "end_label = Label(\n",
    "    x=approx[-1],y=f(approx[-1]),text=\"End\", y_offset=-20,text_font_size=\"10px\"\n",
    ")\n",
    "p.add_layout(start_label)\n",
    "p.add_layout(end_label)\n",
    "show(p)\n",
    "export_png(p, filename=\"../chapters/img/grad_descent_local_minimum.png\")\n"
   ]
  },
  {
   "cell_type": "code",
   "execution_count": 120,
   "id": "4f0a6a95-fab2-439b-8c8e-f6cb6d679efc",
   "metadata": {},
   "outputs": [
    {
     "data": {
      "text/html": [
       "\n",
       "  <div id=\"6330f1e9-5b22-40ad-9b43-72bcf732539a\" data-root-id=\"p153333\" style=\"display: contents;\"></div>\n"
      ]
     },
     "metadata": {},
     "output_type": "display_data"
    },
    {
     "data": {
      "application/javascript": "(function(root) {\n  function embed_document(root) {\n  const docs_json = {\"fd9e2057-061c-452e-9e5c-2769cc874230\":{\"version\":\"3.0.1\",\"title\":\"Bokeh Application\",\"defs\":[],\"roots\":[{\"type\":\"object\",\"name\":\"Figure\",\"id\":\"p153333\",\"attributes\":{\"x_range\":{\"type\":\"object\",\"name\":\"Range1d\",\"id\":\"p153342\",\"attributes\":{\"start\":-3,\"end\":3}},\"y_range\":{\"type\":\"object\",\"name\":\"Range1d\",\"id\":\"p153344\",\"attributes\":{\"start\":-30,\"end\":30}},\"x_scale\":{\"type\":\"object\",\"name\":\"LinearScale\",\"id\":\"p153346\"},\"y_scale\":{\"type\":\"object\",\"name\":\"LinearScale\",\"id\":\"p153348\"},\"title\":{\"type\":\"object\",\"name\":\"Title\",\"id\":\"p153336\"},\"renderers\":[{\"type\":\"object\",\"name\":\"GlyphRenderer\",\"id\":\"p153385\",\"attributes\":{\"data_source\":{\"type\":\"object\",\"name\":\"ColumnDataSource\",\"id\":\"p153379\",\"attributes\":{\"selected\":{\"type\":\"object\",\"name\":\"Selection\",\"id\":\"p153381\",\"attributes\":{\"indices\":[],\"line_indices\":[]}},\"selection_policy\":{\"type\":\"object\",\"name\":\"UnionRenderers\",\"id\":\"p153380\"},\"data\":{\"type\":\"map\",\"entries\":[[\"x\",{\"type\":\"ndarray\",\"array\":{\"type\":\"bytes\",\"data\":\"AAAAAAAACMBDYt7OkJgHwIbEvJ0hMQfAyiabbLLJBsANiXk7Q2IGwFDrVwrU+gXAk0022WSTBcDXrxSo9SsFwBoS83aGxATAXXTRRRddBMCg1q8UqPUDwOQ4juM4jgPAJ5tssskmA8Bq/UqBWr8CwK1fKVDrVwLA8MEHH3zwAcA0JObtDIkBwHeGxLydIQHAuuiiiy66AMD+SoFav1IAwIFav1Kg1v+/CB988MEH/7+O4ziO4zj+vxWo9SsFav2/m2yyySab/L8iMW9nSMz7v6j1KwVq/fq/L7rooosu+r+1fqVArV/5vzxDYt7OkPi/wgcffPDB979JzNsZEvP2v8+QmLczJPa/VVVVVVVV9b/cGRLzdob0v2LezpCYt/O/6aKLLrro8r9vZ0jM2xnyv/YrBWr9SvG/fPDBBx988L8Eav1KgVrvvxTzdobEvO2/IHzwwQcf7L8sBWr9SoHqvziO4ziO4+i/SBdddNFF579UoNavFKjlv2ApUOtXCuS/bLLJJpts4r94O0Ni3s7gvxCJeTtDYt6/KJtssskm279ArV8pUOvXv1i/UqDWr9S/eNFFF1100b8gx3Ecx3HMv1DrVwrU+sW/AB988MEHv7+AZ0jM2xmyv4C/UqDWr5S/AB988MEHnz9gv1Kg1q+0P3A7Q2LezsA/QBdddNFFxz8Q83aGxLzNP3BnSMzbGdI/WFVVVVVV1T84Q2LezpDYPyAxb2dIzNs/CB988MEH3z94hsS8nSHhP2j9SoFav+I/XHTRRRdd5D9Q61cK1PrlP0Ri3s6QmOc/NNlkk0026T8oUOtXCtTqPxzHcRzHcew/ED744IMP7j8AtX6lQK3vP/yVArV+pfA/dNFFF1108T/sDIl5O0PyP2hIzNsZEvM/4IMPPvjg8z9cv1Kg1q/0P9T6lQK1fvU/TDbZZJNN9j/IcRzHcRz3P0CtXylQ6/c/uOiiiy66+D80JObtDIn5P6xfKVDrV/o/KJtssskm+z+g1q8UqPX7PxgS83aGxPw/lE022WST/T8MiXk7Q2L+P4jEvJ0hMf8/AAAAAAAAAEA=\"},\"shape\":[100],\"dtype\":\"float64\",\"order\":\"little\"}],[\"y\",{\"type\":\"ndarray\",\"array\":{\"type\":\"bytes\",\"data\":\"AAAAAAAAQEBANYymkgM5QPAGVTDElTJAYBwcUNtgKUAwp24vGzYdQMDxl2owOQNAQFQwdPtDAMAgA+M8VxwYwIheuxFVNCPAGDY5uFiOKcBEB1ms1iYvwNKi09AYBDLA3mxnckceNMBekMwt6+Y1wFD2dkLZYjfACMJpPMiWOMBIUTf0T4c5wCo8AY/pODrAMFV4fu+vOsAwqdyAnfA6wHl//aAQ/zrAmFk5NkffOsCX833kIJU6wNhDSJxeJDrAF3ukmqKQOcB6BC5pcN04wIaFD94sDjjAGd4CHB4mN8B7KFGSayg2wFW50vwdGDXApB/vYx/4M8DVJJ0cO8sywK7MYsgdlDHAVVVVVVVVMMCobjL8oSIuwCpLxJPClCvAwhrmGHAFKcDALDzM0HgmwERFiYfN8iPAIJ2uvRF3IcDaw1f1FhIewBpsPsfWVxnAImGKbUnFFMC2uvGW2l8QwCj0zkj2WAjAEBQ3UkJfAMD8+uqpH7XxvyDB2gX8Hc2/gEYMXwrT4j8KNEv2gmj1P3L4CM18KABAZGUyDEoOBUAjRu1SdGMJQAQtC1e8Jg1AqOzxNOwrEECumyo8unsRQDSwYQWZgxJAVk2MItREE0CyrGLzMcETQGMeYKXz+hNA/gjDM9X0E0CY6YxnDbITQMNTgtdNNhNAi/Eq6MKFEkB+g9HLE6URQKTgg4JimRBAB+0ltJfQDkBKkiXczi8MQATmtE+PXQlAN0oIffNnBkDaTdptC14DQOisa8fcTwBAfKAGlcWc+j+Um9ymHNf0P7Ch/2cX6e4/EEBGxpU55T8ACxdI9uXZP0BlmquSsck/gLY6lC8GsD8AoJlsAdJdPwDSlyrJLZ8/gItyuTKbxD8AScH/ogLaP6AiDHwg9+g/kJeR5xm99D/QSMEJLoD/P+DwZxTQgAZA6DwCgBfADkCgoGwgIU8UQJRxznVNHhpAUM0gbFhvIEDcHdIW81AkQGDFy5QBvShAcOq/Jsy8LUA4HyE67KwxQCz/48X0zjRANPlT8X9JOEDSNo2qrCE8QMJTjklcLkBAAAAAAACAQkA=\"},\"shape\":[100],\"dtype\":\"float64\",\"order\":\"little\"}]]}}},\"view\":{\"type\":\"object\",\"name\":\"CDSView\",\"id\":\"p153386\",\"attributes\":{\"filter\":{\"type\":\"object\",\"name\":\"AllIndices\",\"id\":\"p153387\"}}},\"glyph\":{\"type\":\"object\",\"name\":\"Line\",\"id\":\"p153382\",\"attributes\":{\"x\":{\"type\":\"field\",\"field\":\"x\"},\"y\":{\"type\":\"field\",\"field\":\"y\"},\"line_color\":\"#1f77b4\",\"line_width\":2}},\"nonselection_glyph\":{\"type\":\"object\",\"name\":\"Line\",\"id\":\"p153383\",\"attributes\":{\"x\":{\"type\":\"field\",\"field\":\"x\"},\"y\":{\"type\":\"field\",\"field\":\"y\"},\"line_color\":\"#1f77b4\",\"line_alpha\":0.1,\"line_width\":2}},\"muted_glyph\":{\"type\":\"object\",\"name\":\"Line\",\"id\":\"p153384\",\"attributes\":{\"x\":{\"type\":\"field\",\"field\":\"x\"},\"y\":{\"type\":\"field\",\"field\":\"y\"},\"line_color\":\"#1f77b4\",\"line_alpha\":0.2,\"line_width\":2}}}},{\"type\":\"object\",\"name\":\"GlyphRenderer\",\"id\":\"p156455\",\"attributes\":{\"data_source\":{\"type\":\"object\",\"name\":\"ColumnDataSource\",\"id\":\"p156449\",\"attributes\":{\"selected\":{\"type\":\"object\",\"name\":\"Selection\",\"id\":\"p156451\",\"attributes\":{\"indices\":[],\"line_indices\":[]}},\"selection_policy\":{\"type\":\"object\",\"name\":\"UnionRenderers\",\"id\":\"p156450\"},\"data\":{\"type\":\"map\",\"entries\":[[\"x\",{\"type\":\"ndarray\",\"array\":{\"type\":\"bytes\",\"data\":\"AAAAAAAA4D9mZmZmZmbuP1QYWwhy0PA/44W8Qofe7T90fXo+8QjxP34vVMsGNe0/5e14wslG8T9+yn2grnDsP9CxEVejgvE/Prh969Gn6z9A/so7A7PxP7DeS42X/eo//7PZjwbS8T+k6KZpuYzqPzCgwhWf4fE/WtcGYttS6j+Ocy2AGejxP4CzUe+ZOuo/CGCC1oLq8T+4LrMXijHqPw==\"},\"shape\":[20],\"dtype\":\"float64\",\"order\":\"little\"}],[\"y\",{\"type\":\"ndarray\",\"array\":{\"type\":\"bytes\",\"data\":\"AAAAAACABUCAxrq4jQamPwBT/tgd9ag/AEE1mXw8sz+Av/unw2a0PwBVs0YBNsA/AKGImCtxvz+A0MH3lcDJP8AW4cE9SMY/oKtai4C80j8AzMbtYn3MP+CrG6T6atg/gKMFS/Fz0D9AFz1pX4XcP8BK4dP3oNE/cHFKFxi53j8gi4HfViHSP4A2K7ZMqt8/AA/ZYaBR0j9wh5fhkgLgPw==\"},\"shape\":[20],\"dtype\":\"float64\",\"order\":\"little\"}]]}}},\"view\":{\"type\":\"object\",\"name\":\"CDSView\",\"id\":\"p156456\",\"attributes\":{\"filter\":{\"type\":\"object\",\"name\":\"AllIndices\",\"id\":\"p156457\"}}},\"glyph\":{\"type\":\"object\",\"name\":\"Scatter\",\"id\":\"p156452\",\"attributes\":{\"x\":{\"type\":\"field\",\"field\":\"x\"},\"y\":{\"type\":\"field\",\"field\":\"y\"},\"line_color\":{\"type\":\"value\",\"value\":\"red\"},\"fill_color\":{\"type\":\"value\",\"value\":\"red\"},\"hatch_color\":{\"type\":\"value\",\"value\":\"red\"}}},\"nonselection_glyph\":{\"type\":\"object\",\"name\":\"Scatter\",\"id\":\"p156453\",\"attributes\":{\"x\":{\"type\":\"field\",\"field\":\"x\"},\"y\":{\"type\":\"field\",\"field\":\"y\"},\"line_color\":{\"type\":\"value\",\"value\":\"red\"},\"line_alpha\":{\"type\":\"value\",\"value\":0.1},\"fill_color\":{\"type\":\"value\",\"value\":\"red\"},\"fill_alpha\":{\"type\":\"value\",\"value\":0.1},\"hatch_color\":{\"type\":\"value\",\"value\":\"red\"},\"hatch_alpha\":{\"type\":\"value\",\"value\":0.1}}},\"muted_glyph\":{\"type\":\"object\",\"name\":\"Scatter\",\"id\":\"p156454\",\"attributes\":{\"x\":{\"type\":\"field\",\"field\":\"x\"},\"y\":{\"type\":\"field\",\"field\":\"y\"},\"line_color\":{\"type\":\"value\",\"value\":\"red\"},\"line_alpha\":{\"type\":\"value\",\"value\":0.2},\"fill_color\":{\"type\":\"value\",\"value\":\"red\"},\"fill_alpha\":{\"type\":\"value\",\"value\":0.2},\"hatch_color\":{\"type\":\"value\",\"value\":\"red\"},\"hatch_alpha\":{\"type\":\"value\",\"value\":0.2}}}}},{\"type\":\"object\",\"name\":\"GlyphRenderer\",\"id\":\"p168196\",\"attributes\":{\"data_source\":{\"type\":\"object\",\"name\":\"ColumnDataSource\",\"id\":\"p168190\",\"attributes\":{\"selected\":{\"type\":\"object\",\"name\":\"Selection\",\"id\":\"p168192\",\"attributes\":{\"indices\":[],\"line_indices\":[]}},\"selection_policy\":{\"type\":\"object\",\"name\":\"UnionRenderers\",\"id\":\"p168191\"},\"data\":{\"type\":\"map\",\"entries\":[[\"x\",{\"type\":\"ndarray\",\"array\":{\"type\":\"bytes\",\"data\":\"AAAAAAAA4D8AAAAAAAD0PwAAAAAAAKA/AAAAAADkuj9mhq5zruvVP+YSp36hN+8/5ukUL8r48D8PP7dLBV/qPxXL3aOyC/U/rMTw9UVv1b8Ondp63abzv/IOD/pIGg7ARDC+aw4TQUDUtrlZy/XnwO4MpdZ7HuBC\"},\"shape\":[15],\"dtype\":\"float64\",\"order\":\"little\"}],[\"y\",{\"type\":\"ndarray\",\"array\":{\"type\":\"bytes\",\"data\":\"AAAAAACABUAAAAAAADD2PwAAAMAg9BNA1RpS94l9E0BKt+UToloOQAByz5KZk4U/ACligbztsT+ggW4lOEHePxCcFb+IkgJA3la3POJUDEAiyYm3wV8rwKNZUWUK7WtAN+itefcdUEHIkm2lQCzuQ034RFb0uMhL\"},\"shape\":[15],\"dtype\":\"float64\",\"order\":\"little\"}]]}}},\"view\":{\"type\":\"object\",\"name\":\"CDSView\",\"id\":\"p168197\",\"attributes\":{\"filter\":{\"type\":\"object\",\"name\":\"AllIndices\",\"id\":\"p168198\"}}},\"glyph\":{\"type\":\"object\",\"name\":\"Scatter\",\"id\":\"p168193\",\"attributes\":{\"x\":{\"type\":\"field\",\"field\":\"x\"},\"y\":{\"type\":\"field\",\"field\":\"y\"},\"line_color\":{\"type\":\"value\",\"value\":\"red\"},\"fill_color\":{\"type\":\"value\",\"value\":\"red\"},\"hatch_color\":{\"type\":\"value\",\"value\":\"red\"}}},\"nonselection_glyph\":{\"type\":\"object\",\"name\":\"Scatter\",\"id\":\"p168194\",\"attributes\":{\"x\":{\"type\":\"field\",\"field\":\"x\"},\"y\":{\"type\":\"field\",\"field\":\"y\"},\"line_color\":{\"type\":\"value\",\"value\":\"red\"},\"line_alpha\":{\"type\":\"value\",\"value\":0.1},\"fill_color\":{\"type\":\"value\",\"value\":\"red\"},\"fill_alpha\":{\"type\":\"value\",\"value\":0.1},\"hatch_color\":{\"type\":\"value\",\"value\":\"red\"},\"hatch_alpha\":{\"type\":\"value\",\"value\":0.1}}},\"muted_glyph\":{\"type\":\"object\",\"name\":\"Scatter\",\"id\":\"p168195\",\"attributes\":{\"x\":{\"type\":\"field\",\"field\":\"x\"},\"y\":{\"type\":\"field\",\"field\":\"y\"},\"line_color\":{\"type\":\"value\",\"value\":\"red\"},\"line_alpha\":{\"type\":\"value\",\"value\":0.2},\"fill_color\":{\"type\":\"value\",\"value\":\"red\"},\"fill_alpha\":{\"type\":\"value\",\"value\":0.2},\"hatch_color\":{\"type\":\"value\",\"value\":\"red\"},\"hatch_alpha\":{\"type\":\"value\",\"value\":0.2}}}}},{\"type\":\"object\",\"name\":\"GlyphRenderer\",\"id\":\"p174192\",\"attributes\":{\"data_source\":{\"type\":\"object\",\"name\":\"ColumnDataSource\",\"id\":\"p174186\",\"attributes\":{\"selected\":{\"type\":\"object\",\"name\":\"Selection\",\"id\":\"p174188\",\"attributes\":{\"indices\":[],\"line_indices\":[]}},\"selection_policy\":{\"type\":\"object\",\"name\":\"UnionRenderers\",\"id\":\"p174187\"},\"data\":{\"type\":\"map\",\"entries\":[[\"x\",{\"type\":\"ndarray\",\"array\":{\"type\":\"bytes\",\"data\":\"AAAAAAAA4D9mZmZmZmbuP1QYWwhy0PA/44W8Qofe7T90fXo+8QjxP34vVMsGNe0/5e14wslG8T9+yn2grnDsP9CxEVejgvE/Prh969Gn6z9A/so7A7PxP7DeS42X/eo//7PZjwbS8T+k6KZpuYzqPzCgwhWf4fE/WtcGYttS6j+Ocy2AGejxP4CzUe+ZOuo/CGCC1oLq8T+4LrMXijHqPw==\"},\"shape\":[20],\"dtype\":\"float64\",\"order\":\"little\"}],[\"y\",{\"type\":\"ndarray\",\"array\":{\"type\":\"bytes\",\"data\":\"AAAAAACABUCAxrq4jQamPwBT/tgd9ag/AEE1mXw8sz+Av/unw2a0PwBVs0YBNsA/AKGImCtxvz+A0MH3lcDJP8AW4cE9SMY/oKtai4C80j8AzMbtYn3MP+CrG6T6atg/gKMFS/Fz0D9AFz1pX4XcP8BK4dP3oNE/cHFKFxi53j8gi4HfViHSP4A2K7ZMqt8/AA/ZYaBR0j9wh5fhkgLgPw==\"},\"shape\":[20],\"dtype\":\"float64\",\"order\":\"little\"}]]}}},\"view\":{\"type\":\"object\",\"name\":\"CDSView\",\"id\":\"p174193\",\"attributes\":{\"filter\":{\"type\":\"object\",\"name\":\"AllIndices\",\"id\":\"p174194\"}}},\"glyph\":{\"type\":\"object\",\"name\":\"Scatter\",\"id\":\"p174189\",\"attributes\":{\"x\":{\"type\":\"field\",\"field\":\"x\"},\"y\":{\"type\":\"field\",\"field\":\"y\"},\"line_color\":{\"type\":\"value\",\"value\":\"red\"},\"fill_color\":{\"type\":\"value\",\"value\":\"red\"},\"hatch_color\":{\"type\":\"value\",\"value\":\"red\"}}},\"nonselection_glyph\":{\"type\":\"object\",\"name\":\"Scatter\",\"id\":\"p174190\",\"attributes\":{\"x\":{\"type\":\"field\",\"field\":\"x\"},\"y\":{\"type\":\"field\",\"field\":\"y\"},\"line_color\":{\"type\":\"value\",\"value\":\"red\"},\"line_alpha\":{\"type\":\"value\",\"value\":0.1},\"fill_color\":{\"type\":\"value\",\"value\":\"red\"},\"fill_alpha\":{\"type\":\"value\",\"value\":0.1},\"hatch_color\":{\"type\":\"value\",\"value\":\"red\"},\"hatch_alpha\":{\"type\":\"value\",\"value\":0.1}}},\"muted_glyph\":{\"type\":\"object\",\"name\":\"Scatter\",\"id\":\"p174191\",\"attributes\":{\"x\":{\"type\":\"field\",\"field\":\"x\"},\"y\":{\"type\":\"field\",\"field\":\"y\"},\"line_color\":{\"type\":\"value\",\"value\":\"red\"},\"line_alpha\":{\"type\":\"value\",\"value\":0.2},\"fill_color\":{\"type\":\"value\",\"value\":\"red\"},\"fill_alpha\":{\"type\":\"value\",\"value\":0.2},\"hatch_color\":{\"type\":\"value\",\"value\":\"red\"},\"hatch_alpha\":{\"type\":\"value\",\"value\":0.2}}}}},{\"type\":\"object\",\"name\":\"GlyphRenderer\",\"id\":\"p186446\",\"attributes\":{\"data_source\":{\"type\":\"object\",\"name\":\"ColumnDataSource\",\"id\":\"p186440\",\"attributes\":{\"selected\":{\"type\":\"object\",\"name\":\"Selection\",\"id\":\"p186442\",\"attributes\":{\"indices\":[],\"line_indices\":[]}},\"selection_policy\":{\"type\":\"object\",\"name\":\"UnionRenderers\",\"id\":\"p186441\"},\"data\":{\"type\":\"map\",\"entries\":[[\"x\",{\"type\":\"ndarray\",\"array\":{\"type\":\"bytes\",\"data\":\"AAAAAAAA4D8AAAAAAAD0PwAAAAAAAKA/AAAAAADkuj9mhq5zruvVP+YSp36hN+8/5ukUL8r48D8PP7dLBV/qPxXL3aOyC/U/rMTw9UVv1b8Ondp63abzv/IOD/pIGg7ARDC+aw4TQUDUtrlZy/XnwO4MpdZ7HuBC\"},\"shape\":[15],\"dtype\":\"float64\",\"order\":\"little\"}],[\"y\",{\"type\":\"ndarray\",\"array\":{\"type\":\"bytes\",\"data\":\"AAAAAACABUAAAAAAADD2PwAAAMAg9BNA1RpS94l9E0BKt+UToloOQAByz5KZk4U/ACligbztsT+ggW4lOEHePxCcFb+IkgJA3la3POJUDEAiyYm3wV8rwKNZUWUK7WtAN+itefcdUEHIkm2lQCzuQ034RFb0uMhL\"},\"shape\":[15],\"dtype\":\"float64\",\"order\":\"little\"}]]}}},\"view\":{\"type\":\"object\",\"name\":\"CDSView\",\"id\":\"p186447\",\"attributes\":{\"filter\":{\"type\":\"object\",\"name\":\"AllIndices\",\"id\":\"p186448\"}}},\"glyph\":{\"type\":\"object\",\"name\":\"Scatter\",\"id\":\"p186443\",\"attributes\":{\"x\":{\"type\":\"field\",\"field\":\"x\"},\"y\":{\"type\":\"field\",\"field\":\"y\"},\"line_color\":{\"type\":\"value\",\"value\":\"red\"},\"fill_color\":{\"type\":\"value\",\"value\":\"red\"},\"hatch_color\":{\"type\":\"value\",\"value\":\"red\"}}},\"nonselection_glyph\":{\"type\":\"object\",\"name\":\"Scatter\",\"id\":\"p186444\",\"attributes\":{\"x\":{\"type\":\"field\",\"field\":\"x\"},\"y\":{\"type\":\"field\",\"field\":\"y\"},\"line_color\":{\"type\":\"value\",\"value\":\"red\"},\"line_alpha\":{\"type\":\"value\",\"value\":0.1},\"fill_color\":{\"type\":\"value\",\"value\":\"red\"},\"fill_alpha\":{\"type\":\"value\",\"value\":0.1},\"hatch_color\":{\"type\":\"value\",\"value\":\"red\"},\"hatch_alpha\":{\"type\":\"value\",\"value\":0.1}}},\"muted_glyph\":{\"type\":\"object\",\"name\":\"Scatter\",\"id\":\"p186445\",\"attributes\":{\"x\":{\"type\":\"field\",\"field\":\"x\"},\"y\":{\"type\":\"field\",\"field\":\"y\"},\"line_color\":{\"type\":\"value\",\"value\":\"red\"},\"line_alpha\":{\"type\":\"value\",\"value\":0.2},\"fill_color\":{\"type\":\"value\",\"value\":\"red\"},\"fill_alpha\":{\"type\":\"value\",\"value\":0.2},\"hatch_color\":{\"type\":\"value\",\"value\":\"red\"},\"hatch_alpha\":{\"type\":\"value\",\"value\":0.2}}}}}],\"toolbar\":{\"type\":\"object\",\"name\":\"Toolbar\",\"id\":\"p153341\",\"attributes\":{\"tools\":[{\"type\":\"object\",\"name\":\"PanTool\",\"id\":\"p153364\"},{\"type\":\"object\",\"name\":\"WheelZoomTool\",\"id\":\"p153365\"},{\"type\":\"object\",\"name\":\"BoxZoomTool\",\"id\":\"p153366\",\"attributes\":{\"overlay\":{\"type\":\"object\",\"name\":\"BoxAnnotation\",\"id\":\"p153367\",\"attributes\":{\"syncable\":false,\"level\":\"overlay\",\"visible\":false,\"left_units\":\"canvas\",\"right_units\":\"canvas\",\"bottom_units\":\"canvas\",\"top_units\":\"canvas\",\"line_color\":\"black\",\"line_alpha\":1.0,\"line_width\":2,\"line_dash\":[4,4],\"fill_color\":\"lightgrey\",\"fill_alpha\":0.5}}}},{\"type\":\"object\",\"name\":\"SaveTool\",\"id\":\"p153368\"},{\"type\":\"object\",\"name\":\"ResetTool\",\"id\":\"p153369\"},{\"type\":\"object\",\"name\":\"HelpTool\",\"id\":\"p153370\"}]}},\"left\":[{\"type\":\"object\",\"name\":\"LinearAxis\",\"id\":\"p153357\",\"attributes\":{\"ticker\":{\"type\":\"object\",\"name\":\"BasicTicker\",\"id\":\"p153359\",\"attributes\":{\"mantissas\":[1,2,5]}},\"formatter\":{\"type\":\"object\",\"name\":\"BasicTickFormatter\",\"id\":\"p153360\"},\"major_label_policy\":{\"type\":\"object\",\"name\":\"AllLabels\",\"id\":\"p153358\"}}}],\"below\":[{\"type\":\"object\",\"name\":\"LinearAxis\",\"id\":\"p153350\",\"attributes\":{\"ticker\":{\"type\":\"object\",\"name\":\"BasicTicker\",\"id\":\"p153352\",\"attributes\":{\"mantissas\":[1,2,5]}},\"formatter\":{\"type\":\"object\",\"name\":\"BasicTickFormatter\",\"id\":\"p153353\"},\"major_label_policy\":{\"type\":\"object\",\"name\":\"AllLabels\",\"id\":\"p153351\"}}}],\"center\":[{\"type\":\"object\",\"name\":\"Grid\",\"id\":\"p153356\",\"attributes\":{\"axis\":{\"id\":\"p153350\"}}},{\"type\":\"object\",\"name\":\"Grid\",\"id\":\"p153363\",\"attributes\":{\"dimension\":1,\"axis\":{\"id\":\"p153357\"}}}]}}]}};\n  const render_items = [{\"docid\":\"fd9e2057-061c-452e-9e5c-2769cc874230\",\"roots\":{\"p153333\":\"6330f1e9-5b22-40ad-9b43-72bcf732539a\"},\"root_ids\":[\"p153333\"]}];\n  root.Bokeh.embed.embed_items_notebook(docs_json, render_items);\n  }\n  if (root.Bokeh !== undefined) {\n    embed_document(root);\n  } else {\n    let attempts = 0;\n    const timer = setInterval(function(root) {\n      if (root.Bokeh !== undefined) {\n        clearInterval(timer);\n        embed_document(root);\n      } else {\n        attempts++;\n        if (attempts > 100) {\n          clearInterval(timer);\n          console.log(\"Bokeh: ERROR: Unable to run BokehJS code because BokehJS library is missing\");\n        }\n      }\n    }, 10, root)\n  }\n})(window);",
      "application/vnd.bokehjs_exec.v0+json": ""
     },
     "metadata": {
      "application/vnd.bokehjs_exec.v0+json": {
       "id": "p153333"
      }
     },
     "output_type": "display_data"
    }
   ],
   "source": [
    "approx=descent(.5,n=15,nu=.1)\n",
    "p.scatter(x=approx,y=f(approx),color='red')\n",
    "show(p)"
   ]
  },
  {
   "cell_type": "code",
   "execution_count": null,
   "id": "3f953326-47ea-4671-ae71-db1189f87422",
   "metadata": {},
   "outputs": [],
   "source": []
  },
  {
   "cell_type": "code",
   "execution_count": 87,
   "id": "79fbc1b3-4266-43df-a320-1b7e5e2bbc57",
   "metadata": {},
   "outputs": [
    {
     "data": {
      "text/plain": [
       "array([ 5.00000000e-01,  1.25000000e+00,  3.12500000e-02,  1.05041504e-01,\n",
       "        3.42509854e-01,  9.75540874e-01,  1.06073969e+00,  8.24099205e-01,\n",
       "        1.31535591e+00, -3.34916582e-01, -1.22823856e+00, -3.76283450e+00,\n",
       "        3.41488776e+01, -4.90703547e+04,  1.41784902e+14])"
      ]
     },
     "execution_count": 87,
     "metadata": {},
     "output_type": "execute_result"
    }
   ],
   "source": [
    "approx"
   ]
  },
  {
   "cell_type": "code",
   "execution_count": 89,
   "id": "9b01baf3-d463-422c-9cc6-7a726895fe5d",
   "metadata": {},
   "outputs": [
    {
     "data": {
      "text/plain": [
       "array([-7.50000000e+00,  1.21875000e+01, -7.37915039e-01, -2.37468350e+00,\n",
       "       -6.33031020e+00, -8.51988187e-01,  2.36640488e+00, -4.91256706e+00,\n",
       "        1.65027249e+01,  8.93321981e+00,  2.53459594e+01, -3.79117121e+02,\n",
       "        4.91045036e+05, -1.41784902e+15,  3.42035518e+43])"
      ]
     },
     "execution_count": 89,
     "metadata": {},
     "output_type": "execute_result"
    }
   ],
   "source": [
    "df(approx)"
   ]
  },
  {
   "cell_type": "code",
   "execution_count": null,
   "id": "02c80907-3577-4d00-b3fb-7230b152790b",
   "metadata": {},
   "outputs": [],
   "source": []
  }
 ],
 "metadata": {
  "kernelspec": {
   "display_name": "python310",
   "language": "python",
   "name": "python3"
  },
  "language_info": {
   "codemirror_mode": {
    "name": "ipython",
    "version": 3
   },
   "file_extension": ".py",
   "mimetype": "text/x-python",
   "name": "python",
   "nbconvert_exporter": "python",
   "pygments_lexer": "ipython3",
   "version": "3.10.8"
  },
  "vscode": {
   "interpreter": {
    "hash": "8d760aa701f9c3953c4158a2f5d628550462b9fbb129003fab9d076ff94005fb"
   }
  }
 },
 "nbformat": 4,
 "nbformat_minor": 5
}
