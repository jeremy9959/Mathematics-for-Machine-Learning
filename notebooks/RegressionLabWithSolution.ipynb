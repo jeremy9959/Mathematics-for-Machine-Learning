{
 "cells": [
  {
   "cell_type": "markdown",
   "metadata": {},
   "source": [
    "## Lab for Linear Regression"
   ]
  },
  {
   "cell_type": "markdown",
   "metadata": {},
   "source": [
    "### Linear Algebra in Python/Numpy\n",
    "\n",
    "In this lab we will use:\n",
    "- the `numpy` linear algebra package for computations\n",
    "- the `bokeh` plotting package for graphics\n",
    "\n",
    "The next cell loads these libraries."
   ]
  },
  {
   "cell_type": "code",
   "execution_count": 1,
   "metadata": {},
   "outputs": [
    {
     "data": {
      "text/html": [
       "<div class=\"bk-root\">\n",
       "        <a href=\"https://bokeh.org\" target=\"_blank\" class=\"bk-logo bk-logo-small bk-logo-notebook\"></a>\n",
       "        <span id=\"1002\">Loading BokehJS ...</span>\n",
       "    </div>\n"
      ]
     },
     "metadata": {},
     "output_type": "display_data"
    },
    {
     "data": {
      "application/javascript": "(function(root) {\n  function now() {\n    return new Date();\n  }\n\n  const force = true;\n\n  if (typeof root._bokeh_onload_callbacks === \"undefined\" || force === true) {\n    root._bokeh_onload_callbacks = [];\n    root._bokeh_is_loading = undefined;\n  }\n\nconst JS_MIME_TYPE = 'application/javascript';\n  const HTML_MIME_TYPE = 'text/html';\n  const EXEC_MIME_TYPE = 'application/vnd.bokehjs_exec.v0+json';\n  const CLASS_NAME = 'output_bokeh rendered_html';\n\n  /**\n   * Render data to the DOM node\n   */\n  function render(props, node) {\n    const script = document.createElement(\"script\");\n    node.appendChild(script);\n  }\n\n  /**\n   * Handle when an output is cleared or removed\n   */\n  function handleClearOutput(event, handle) {\n    const cell = handle.cell;\n\n    const id = cell.output_area._bokeh_element_id;\n    const server_id = cell.output_area._bokeh_server_id;\n    // Clean up Bokeh references\n    if (id != null && id in Bokeh.index) {\n      Bokeh.index[id].model.document.clear();\n      delete Bokeh.index[id];\n    }\n\n    if (server_id !== undefined) {\n      // Clean up Bokeh references\n      const cmd_clean = \"from bokeh.io.state import curstate; print(curstate().uuid_to_server['\" + server_id + \"'].get_sessions()[0].document.roots[0]._id)\";\n      cell.notebook.kernel.execute(cmd_clean, {\n        iopub: {\n          output: function(msg) {\n            const id = msg.content.text.trim();\n            if (id in Bokeh.index) {\n              Bokeh.index[id].model.document.clear();\n              delete Bokeh.index[id];\n            }\n          }\n        }\n      });\n      // Destroy server and session\n      const cmd_destroy = \"import bokeh.io.notebook as ion; ion.destroy_server('\" + server_id + \"')\";\n      cell.notebook.kernel.execute(cmd_destroy);\n    }\n  }\n\n  /**\n   * Handle when a new output is added\n   */\n  function handleAddOutput(event, handle) {\n    const output_area = handle.output_area;\n    const output = handle.output;\n\n    // limit handleAddOutput to display_data with EXEC_MIME_TYPE content only\n    if ((output.output_type != \"display_data\") || (!Object.prototype.hasOwnProperty.call(output.data, EXEC_MIME_TYPE))) {\n      return\n    }\n\n    const toinsert = output_area.element.find(\".\" + CLASS_NAME.split(' ')[0]);\n\n    if (output.metadata[EXEC_MIME_TYPE][\"id\"] !== undefined) {\n      toinsert[toinsert.length - 1].firstChild.textContent = output.data[JS_MIME_TYPE];\n      // store reference to embed id on output_area\n      output_area._bokeh_element_id = output.metadata[EXEC_MIME_TYPE][\"id\"];\n    }\n    if (output.metadata[EXEC_MIME_TYPE][\"server_id\"] !== undefined) {\n      const bk_div = document.createElement(\"div\");\n      bk_div.innerHTML = output.data[HTML_MIME_TYPE];\n      const script_attrs = bk_div.children[0].attributes;\n      for (let i = 0; i < script_attrs.length; i++) {\n        toinsert[toinsert.length - 1].firstChild.setAttribute(script_attrs[i].name, script_attrs[i].value);\n        toinsert[toinsert.length - 1].firstChild.textContent = bk_div.children[0].textContent\n      }\n      // store reference to server id on output_area\n      output_area._bokeh_server_id = output.metadata[EXEC_MIME_TYPE][\"server_id\"];\n    }\n  }\n\n  function register_renderer(events, OutputArea) {\n\n    function append_mime(data, metadata, element) {\n      // create a DOM node to render to\n      const toinsert = this.create_output_subarea(\n        metadata,\n        CLASS_NAME,\n        EXEC_MIME_TYPE\n      );\n      this.keyboard_manager.register_events(toinsert);\n      // Render to node\n      const props = {data: data, metadata: metadata[EXEC_MIME_TYPE]};\n      render(props, toinsert[toinsert.length - 1]);\n      element.append(toinsert);\n      return toinsert\n    }\n\n    /* Handle when an output is cleared or removed */\n    events.on('clear_output.CodeCell', handleClearOutput);\n    events.on('delete.Cell', handleClearOutput);\n\n    /* Handle when a new output is added */\n    events.on('output_added.OutputArea', handleAddOutput);\n\n    /**\n     * Register the mime type and append_mime function with output_area\n     */\n    OutputArea.prototype.register_mime_type(EXEC_MIME_TYPE, append_mime, {\n      /* Is output safe? */\n      safe: true,\n      /* Index of renderer in `output_area.display_order` */\n      index: 0\n    });\n  }\n\n  // register the mime type if in Jupyter Notebook environment and previously unregistered\n  if (root.Jupyter !== undefined) {\n    const events = require('base/js/events');\n    const OutputArea = require('notebook/js/outputarea').OutputArea;\n\n    if (OutputArea.prototype.mime_types().indexOf(EXEC_MIME_TYPE) == -1) {\n      register_renderer(events, OutputArea);\n    }\n  }\n  if (typeof (root._bokeh_timeout) === \"undefined\" || force === true) {\n    root._bokeh_timeout = Date.now() + 5000;\n    root._bokeh_failed_load = false;\n  }\n\n  const NB_LOAD_WARNING = {'data': {'text/html':\n     \"<div style='background-color: #fdd'>\\n\"+\n     \"<p>\\n\"+\n     \"BokehJS does not appear to have successfully loaded. If loading BokehJS from CDN, this \\n\"+\n     \"may be due to a slow or bad network connection. Possible fixes:\\n\"+\n     \"</p>\\n\"+\n     \"<ul>\\n\"+\n     \"<li>re-rerun `output_notebook()` to attempt to load from CDN again, or</li>\\n\"+\n     \"<li>use INLINE resources instead, as so:</li>\\n\"+\n     \"</ul>\\n\"+\n     \"<code>\\n\"+\n     \"from bokeh.resources import INLINE\\n\"+\n     \"output_notebook(resources=INLINE)\\n\"+\n     \"</code>\\n\"+\n     \"</div>\"}};\n\n  function display_loaded() {\n    const el = document.getElementById(\"1002\");\n    if (el != null) {\n      el.textContent = \"BokehJS is loading...\";\n    }\n    if (root.Bokeh !== undefined) {\n      if (el != null) {\n        el.textContent = \"BokehJS \" + root.Bokeh.version + \" successfully loaded.\";\n      }\n    } else if (Date.now() < root._bokeh_timeout) {\n      setTimeout(display_loaded, 100)\n    }\n  }\n\n  function run_callbacks() {\n    try {\n      root._bokeh_onload_callbacks.forEach(function(callback) {\n        if (callback != null)\n          callback();\n      });\n    } finally {\n      delete root._bokeh_onload_callbacks\n    }\n    console.debug(\"Bokeh: all callbacks have finished\");\n  }\n\n  function load_libs(css_urls, js_urls, callback) {\n    if (css_urls == null) css_urls = [];\n    if (js_urls == null) js_urls = [];\n\n    root._bokeh_onload_callbacks.push(callback);\n    if (root._bokeh_is_loading > 0) {\n      console.debug(\"Bokeh: BokehJS is being loaded, scheduling callback at\", now());\n      return null;\n    }\n    if (js_urls == null || js_urls.length === 0) {\n      run_callbacks();\n      return null;\n    }\n    console.debug(\"Bokeh: BokehJS not loaded, scheduling load and callback at\", now());\n    root._bokeh_is_loading = css_urls.length + js_urls.length;\n\n    function on_load() {\n      root._bokeh_is_loading--;\n      if (root._bokeh_is_loading === 0) {\n        console.debug(\"Bokeh: all BokehJS libraries/stylesheets loaded\");\n        run_callbacks()\n      }\n    }\n\n    function on_error(url) {\n      console.error(\"failed to load \" + url);\n    }\n\n    for (let i = 0; i < css_urls.length; i++) {\n      const url = css_urls[i];\n      const element = document.createElement(\"link\");\n      element.onload = on_load;\n      element.onerror = on_error.bind(null, url);\n      element.rel = \"stylesheet\";\n      element.type = \"text/css\";\n      element.href = url;\n      console.debug(\"Bokeh: injecting link tag for BokehJS stylesheet: \", url);\n      document.body.appendChild(element);\n    }\n\n    for (let i = 0; i < js_urls.length; i++) {\n      const url = js_urls[i];\n      const element = document.createElement('script');\n      element.onload = on_load;\n      element.onerror = on_error.bind(null, url);\n      element.async = false;\n      element.src = url;\n      console.debug(\"Bokeh: injecting script tag for BokehJS library: \", url);\n      document.head.appendChild(element);\n    }\n  };\n\n  function inject_raw_css(css) {\n    const element = document.createElement(\"style\");\n    element.appendChild(document.createTextNode(css));\n    document.body.appendChild(element);\n  }\n\n  const js_urls = [\"https://cdn.bokeh.org/bokeh/release/bokeh-2.4.3.min.js\", \"https://cdn.bokeh.org/bokeh/release/bokeh-gl-2.4.3.min.js\", \"https://cdn.bokeh.org/bokeh/release/bokeh-widgets-2.4.3.min.js\", \"https://cdn.bokeh.org/bokeh/release/bokeh-tables-2.4.3.min.js\", \"https://cdn.bokeh.org/bokeh/release/bokeh-mathjax-2.4.3.min.js\"];\n  const css_urls = [];\n\n  const inline_js = [    function(Bokeh) {\n      Bokeh.set_log_level(\"info\");\n    },\nfunction(Bokeh) {\n    }\n  ];\n\n  function run_inline_js() {\n    if (root.Bokeh !== undefined || force === true) {\n          for (let i = 0; i < inline_js.length; i++) {\n      inline_js[i].call(root, root.Bokeh);\n    }\nif (force === true) {\n        display_loaded();\n      }} else if (Date.now() < root._bokeh_timeout) {\n      setTimeout(run_inline_js, 100);\n    } else if (!root._bokeh_failed_load) {\n      console.log(\"Bokeh: BokehJS failed to load within specified timeout.\");\n      root._bokeh_failed_load = true;\n    } else if (force !== true) {\n      const cell = $(document.getElementById(\"1002\")).parents('.cell').data().cell;\n      cell.output_area.append_execute_result(NB_LOAD_WARNING)\n    }\n  }\n\n  if (root._bokeh_is_loading === 0) {\n    console.debug(\"Bokeh: BokehJS loaded, going straight to plotting\");\n    run_inline_js();\n  } else {\n    load_libs(css_urls, js_urls, function() {\n      console.debug(\"Bokeh: BokehJS plotting callback run at\", now());\n      run_inline_js();\n    });\n  }\n}(window));",
      "application/vnd.bokehjs_load.v0+json": ""
     },
     "metadata": {},
     "output_type": "display_data"
    }
   ],
   "source": [
    "import numpy as np\n",
    "from bokeh.plotting import figure\n",
    "from bokeh.io import show, output_notebook\n",
    "from bokeh.layouts import gridplot\n",
    "output_notebook()"
   ]
  },
  {
   "cell_type": "markdown",
   "metadata": {},
   "source": [
    "This routine will save typing later."
   ]
  },
  {
   "cell_type": "code",
   "execution_count": 2,
   "metadata": {},
   "outputs": [],
   "source": [
    "def comparison_plot(x,Y, Yhat):\n",
    "    '''Plots Predicted vs True values for analysis of regression'''\n",
    "    comparison_plot = figure(title='Difference between Measured and Predicted Values')\n",
    "    comparison_plot.xaxis.axis_label='x'\n",
    "    comparison_plot.yaxis.axis_label='Yhat-Y'\n",
    "    comparison_plot.scatter(x=x,y=Yhat-Y)\n",
    "    comparison_plot.line(x=[x.min(),x.max()],y=[0,0])\n",
    "    return comparison_plot\n"
   ]
  },
  {
   "cell_type": "markdown",
   "metadata": {},
   "source": [
    "### Distance to a moving object (simulated data)"
   ]
  },
  {
   "cell_type": "markdown",
   "metadata": {},
   "source": [
    "We will begin by looking at Figures 1 and 2 in the [Linear Regression](../notes/main.pdf) notes.\n",
    "\n",
    "In Figure 1 we began with simulated data that represents the distance from an observer to a a moving object. \n",
    "We will generate that data.  The observations occur at times $0, 1, 2, \\ldots, 9$.  "
   ]
  },
  {
   "cell_type": "code",
   "execution_count": 3,
   "metadata": {},
   "outputs": [],
   "source": [
    "# Create a 1-d numpy array containing 0,1,...,9 \n",
    "x = np.array(range(10))"
   ]
  },
  {
   "cell_type": "markdown",
   "metadata": {},
   "source": [
    "Let's suppose that the true velocity of the object is $15$ m/s and the initial distance to the object is $150$ m.  Then\n",
    "the object's position is given by $d=150-15x$ where $x$ is time.  However, when we measure the distance, there is a random error\n",
    "of between $-10$ and $10$ meters. The function `np.random.uniform` returns uniformly distributed random numbers within a given range."
   ]
  },
  {
   "cell_type": "code",
   "execution_count": 4,
   "metadata": {},
   "outputs": [],
   "source": [
    "y = 150-15*x+np.random.uniform(-10,10,size=x.shape[0])"
   ]
  },
  {
   "cell_type": "markdown",
   "metadata": {},
   "source": [
    "We will plot the data points $(x,y)$."
   ]
  },
  {
   "cell_type": "code",
   "execution_count": 5,
   "metadata": {},
   "outputs": [
    {
     "data": {
      "text/html": [
       "\n",
       "  <div class=\"bk-root\" id=\"9d66f1b9-9708-4523-96cf-0eefa6db7e51\" data-root-id=\"1003\"></div>\n"
      ]
     },
     "metadata": {},
     "output_type": "display_data"
    },
    {
     "data": {
      "application/javascript": "(function(root) {\n  function embed_document(root) {\n  const docs_json = {\"bb1725dd-bdf6-475b-871b-007de9466ff3\":{\"defs\":[],\"roots\":{\"references\":[{\"attributes\":{\"below\":[{\"id\":\"1014\"}],\"center\":[{\"id\":\"1017\"},{\"id\":\"1021\"}],\"height\":400,\"left\":[{\"id\":\"1018\"}],\"renderers\":[{\"id\":\"1040\"}],\"title\":{\"id\":\"1004\"},\"toolbar\":{\"id\":\"1029\"},\"width\":400,\"x_range\":{\"id\":\"1006\"},\"x_scale\":{\"id\":\"1010\"},\"y_range\":{\"id\":\"1008\"},\"y_scale\":{\"id\":\"1012\"}},\"id\":\"1003\",\"subtype\":\"Figure\",\"type\":\"Plot\"},{\"attributes\":{\"fill_alpha\":{\"value\":0.1},\"fill_color\":{\"value\":\"#1f77b4\"},\"hatch_alpha\":{\"value\":0.1},\"line_alpha\":{\"value\":0.1},\"line_color\":{\"value\":\"#1f77b4\"},\"x\":{\"field\":\"x\"},\"y\":{\"field\":\"y\"}},\"id\":\"1038\",\"type\":\"Scatter\"},{\"attributes\":{\"fill_alpha\":{\"value\":0.2},\"fill_color\":{\"value\":\"#1f77b4\"},\"hatch_alpha\":{\"value\":0.2},\"line_alpha\":{\"value\":0.2},\"line_color\":{\"value\":\"#1f77b4\"},\"x\":{\"field\":\"x\"},\"y\":{\"field\":\"y\"}},\"id\":\"1039\",\"type\":\"Scatter\"},{\"attributes\":{\"source\":{\"id\":\"1036\"}},\"id\":\"1041\",\"type\":\"CDSView\"},{\"attributes\":{},\"id\":\"1044\",\"type\":\"BasicTickFormatter\"},{\"attributes\":{\"axis_label\":\"time\",\"coordinates\":null,\"formatter\":{\"id\":\"1047\"},\"group\":null,\"major_label_policy\":{\"id\":\"1048\"},\"ticker\":{\"id\":\"1015\"}},\"id\":\"1014\",\"type\":\"LinearAxis\"},{\"attributes\":{},\"id\":\"1022\",\"type\":\"PanTool\"},{\"attributes\":{\"data\":{\"x\":[0,1,2,3,4,5,6,7,8,9],\"y\":{\"__ndarray__\":\"ly1T08UaYkDB2+xK0M5hQGfAisDXZl1AeKW1zjy3WEDgdOS3+EFYQARMbZK8HFFA+FqLa1+CUEBxEVgnvtRFQIq24UPQEjtAKEFPYiStMkA=\",\"dtype\":\"float64\",\"order\":\"little\",\"shape\":[10]}},\"selected\":{\"id\":\"1050\"},\"selection_policy\":{\"id\":\"1049\"}},\"id\":\"1036\",\"type\":\"ColumnDataSource\"},{\"attributes\":{\"tools\":[{\"id\":\"1022\"},{\"id\":\"1023\"},{\"id\":\"1024\"},{\"id\":\"1025\"},{\"id\":\"1026\"},{\"id\":\"1027\"}]},\"id\":\"1029\",\"type\":\"Toolbar\"},{\"attributes\":{},\"id\":\"1045\",\"type\":\"AllLabels\"},{\"attributes\":{},\"id\":\"1047\",\"type\":\"BasicTickFormatter\"},{\"attributes\":{},\"id\":\"1048\",\"type\":\"AllLabels\"},{\"attributes\":{\"fill_color\":{\"value\":\"#1f77b4\"},\"line_color\":{\"value\":\"#1f77b4\"},\"x\":{\"field\":\"x\"},\"y\":{\"field\":\"y\"}},\"id\":\"1037\",\"type\":\"Scatter\"},{\"attributes\":{},\"id\":\"1023\",\"type\":\"WheelZoomTool\"},{\"attributes\":{},\"id\":\"1012\",\"type\":\"LinearScale\"},{\"attributes\":{},\"id\":\"1025\",\"type\":\"SaveTool\"},{\"attributes\":{},\"id\":\"1019\",\"type\":\"BasicTicker\"},{\"attributes\":{\"axis\":{\"id\":\"1018\"},\"coordinates\":null,\"dimension\":1,\"group\":null,\"ticker\":null},\"id\":\"1021\",\"type\":\"Grid\"},{\"attributes\":{},\"id\":\"1026\",\"type\":\"ResetTool\"},{\"attributes\":{\"overlay\":{\"id\":\"1028\"}},\"id\":\"1024\",\"type\":\"BoxZoomTool\"},{\"attributes\":{},\"id\":\"1008\",\"type\":\"DataRange1d\"},{\"attributes\":{\"coordinates\":null,\"group\":null,\"text\":\"Measured Distance to Moving Object\"},\"id\":\"1004\",\"type\":\"Title\"},{\"attributes\":{},\"id\":\"1049\",\"type\":\"UnionRenderers\"},{\"attributes\":{},\"id\":\"1006\",\"type\":\"DataRange1d\"},{\"attributes\":{},\"id\":\"1010\",\"type\":\"LinearScale\"},{\"attributes\":{},\"id\":\"1050\",\"type\":\"Selection\"},{\"attributes\":{\"bottom_units\":\"screen\",\"coordinates\":null,\"fill_alpha\":0.5,\"fill_color\":\"lightgrey\",\"group\":null,\"left_units\":\"screen\",\"level\":\"overlay\",\"line_alpha\":1.0,\"line_color\":\"black\",\"line_dash\":[4,4],\"line_width\":2,\"right_units\":\"screen\",\"syncable\":false,\"top_units\":\"screen\"},\"id\":\"1028\",\"type\":\"BoxAnnotation\"},{\"attributes\":{\"axis\":{\"id\":\"1014\"},\"coordinates\":null,\"group\":null,\"ticker\":null},\"id\":\"1017\",\"type\":\"Grid\"},{\"attributes\":{},\"id\":\"1015\",\"type\":\"BasicTicker\"},{\"attributes\":{},\"id\":\"1027\",\"type\":\"HelpTool\"},{\"attributes\":{\"coordinates\":null,\"data_source\":{\"id\":\"1036\"},\"glyph\":{\"id\":\"1037\"},\"group\":null,\"hover_glyph\":null,\"muted_glyph\":{\"id\":\"1039\"},\"nonselection_glyph\":{\"id\":\"1038\"},\"view\":{\"id\":\"1041\"}},\"id\":\"1040\",\"type\":\"GlyphRenderer\"},{\"attributes\":{\"axis_label\":\"distance (m)\",\"coordinates\":null,\"formatter\":{\"id\":\"1044\"},\"group\":null,\"major_label_policy\":{\"id\":\"1045\"},\"ticker\":{\"id\":\"1019\"}},\"id\":\"1018\",\"type\":\"LinearAxis\"}],\"root_ids\":[\"1003\"]},\"title\":\"Bokeh Application\",\"version\":\"2.4.3\"}};\n  const render_items = [{\"docid\":\"bb1725dd-bdf6-475b-871b-007de9466ff3\",\"root_ids\":[\"1003\"],\"roots\":{\"1003\":\"9d66f1b9-9708-4523-96cf-0eefa6db7e51\"}}];\n  root.Bokeh.embed.embed_items_notebook(docs_json, render_items);\n  }\n  if (root.Bokeh !== undefined) {\n    embed_document(root);\n  } else {\n    let attempts = 0;\n    const timer = setInterval(function(root) {\n      if (root.Bokeh !== undefined) {\n        clearInterval(timer);\n        embed_document(root);\n      } else {\n        attempts++;\n        if (attempts > 100) {\n          clearInterval(timer);\n          console.log(\"Bokeh: ERROR: Unable to run BokehJS code because BokehJS library is missing\");\n        }\n      }\n    }, 10, root)\n  }\n})(window);",
      "application/vnd.bokehjs_exec.v0+json": ""
     },
     "metadata": {
      "application/vnd.bokehjs_exec.v0+json": {
       "id": "1003"
      }
     },
     "output_type": "display_data"
    }
   ],
   "source": [
    "f=figure(width=400,height=400,title='Measured Distance to Moving Object')\n",
    "f.scatter(x=x,y=y)\n",
    "f.xaxis.axis_label='time'\n",
    "f.yaxis.axis_label='distance (m)'\n",
    "show(f)"
   ]
  },
  {
   "cell_type": "markdown",
   "metadata": {},
   "source": [
    "The points are roughly on a line, but not exactly, due to the error.  The\n",
    "data matrix $X$ for this problem consists of two columns, one of which is $0,1,2,\\ldots, 9$ and the other\n",
    "is $1,1,1,1,\\ldots$. (See section 1.3 in the notes).\n",
    "\n",
    "We make this by:\n",
    "- converting x to a column vector\n",
    "- creating a column vector of 1's\n",
    "- concatenating these"
   ]
  },
  {
   "cell_type": "code",
   "execution_count": 6,
   "metadata": {},
   "outputs": [],
   "source": [
    "X=np.concatenate([x.reshape(-1,1),np.ones(shape=(x.shape[0],1))],axis=1)"
   ]
  },
  {
   "cell_type": "code",
   "execution_count": 7,
   "metadata": {},
   "outputs": [
    {
     "data": {
      "text/plain": [
       "array([[0., 1.],\n",
       "       [1., 1.],\n",
       "       [2., 1.],\n",
       "       [3., 1.],\n",
       "       [4., 1.],\n",
       "       [5., 1.],\n",
       "       [6., 1.],\n",
       "       [7., 1.],\n",
       "       [8., 1.],\n",
       "       [9., 1.]])"
      ]
     },
     "execution_count": 7,
     "metadata": {},
     "output_type": "execute_result"
    }
   ],
   "source": [
    "X"
   ]
  },
  {
   "cell_type": "markdown",
   "metadata": {},
   "source": [
    "The Y vector is our vector of measurements, except we need to make it a column vector."
   ]
  },
  {
   "cell_type": "code",
   "execution_count": 8,
   "metadata": {},
   "outputs": [],
   "source": [
    "Y = y.reshape(-1,1)"
   ]
  },
  {
   "cell_type": "code",
   "execution_count": 9,
   "metadata": {},
   "outputs": [
    {
     "data": {
      "text/plain": [
       "array([[144.83664862],\n",
       "       [142.46292635],\n",
       "       [117.60691846],\n",
       "       [ 98.86308639],\n",
       "       [ 97.03080556],\n",
       "       [ 68.44900952],\n",
       "       [ 66.03707398],\n",
       "       [ 43.66205303],\n",
       "       [ 27.07349037],\n",
       "       [ 18.67633643]])"
      ]
     },
     "execution_count": 9,
     "metadata": {},
     "output_type": "execute_result"
    }
   ],
   "source": [
    "Y"
   ]
  },
  {
   "cell_type": "markdown",
   "metadata": {},
   "source": [
    "Now we will use the formulae in equations (7) and (8) from the notes t compute the least squares line.\n"
   ]
  },
  {
   "cell_type": "code",
   "execution_count": 10,
   "metadata": {},
   "outputs": [],
   "source": [
    "D = np.dot(X.transpose(),X)"
   ]
  },
  {
   "cell_type": "markdown",
   "metadata": {},
   "source": [
    "The matrix $M$ contains the slope and intercept of our least squares line."
   ]
  },
  {
   "cell_type": "code",
   "execution_count": 11,
   "metadata": {},
   "outputs": [
    {
     "name": "stdout",
     "output_type": "stream",
     "text": [
      "Slope is -14.787594072924431, Intercept is 149.0140082002954\n"
     ]
    }
   ],
   "source": [
    "M = np.dot(np.linalg.inv(D),np.dot(X.transpose(), Y))\n",
    "print('Slope is {}, Intercept is {}'.format(M[0,0],M[1,0]))"
   ]
  },
  {
   "cell_type": "markdown",
   "metadata": {},
   "source": [
    "The predicted values of $Y$ are given by equation (8)."
   ]
  },
  {
   "cell_type": "code",
   "execution_count": 12,
   "metadata": {},
   "outputs": [],
   "source": [
    "Yhat = np.dot(np.dot(np.dot(X,np.linalg.inv(D)),X.transpose()),Y)"
   ]
  },
  {
   "cell_type": "markdown",
   "metadata": {},
   "source": [
    "Let's add these predicted values to our plot for comparison.  Notice that the green\n",
    "dots lie along the regression line."
   ]
  },
  {
   "cell_type": "code",
   "execution_count": 13,
   "metadata": {},
   "outputs": [
    {
     "data": {
      "text/html": [
       "\n",
       "  <div class=\"bk-root\" id=\"00dcc23f-72aa-4cea-8edf-6599b3f793f2\" data-root-id=\"1003\"></div>\n"
      ]
     },
     "metadata": {},
     "output_type": "display_data"
    },
    {
     "data": {
      "application/javascript": "(function(root) {\n  function embed_document(root) {\n  const docs_json = {\"024fa766-251c-40c9-99b4-aca2b8bd3315\":{\"defs\":[],\"roots\":{\"references\":[{\"attributes\":{\"below\":[{\"id\":\"1014\"}],\"center\":[{\"id\":\"1017\"},{\"id\":\"1021\"}],\"height\":400,\"left\":[{\"id\":\"1018\"}],\"renderers\":[{\"id\":\"1040\"},{\"id\":\"1106\"}],\"title\":{\"id\":\"1004\"},\"toolbar\":{\"id\":\"1029\"},\"width\":400,\"x_range\":{\"id\":\"1006\"},\"x_scale\":{\"id\":\"1010\"},\"y_range\":{\"id\":\"1008\"},\"y_scale\":{\"id\":\"1012\"}},\"id\":\"1003\",\"subtype\":\"Figure\",\"type\":\"Plot\"},{\"attributes\":{\"fill_alpha\":{\"value\":0.1},\"fill_color\":{\"value\":\"#1f77b4\"},\"hatch_alpha\":{\"value\":0.1},\"line_alpha\":{\"value\":0.1},\"line_color\":{\"value\":\"#1f77b4\"},\"x\":{\"field\":\"x\"},\"y\":{\"field\":\"y\"}},\"id\":\"1038\",\"type\":\"Scatter\"},{\"attributes\":{\"fill_alpha\":{\"value\":0.2},\"fill_color\":{\"value\":\"green\"},\"hatch_alpha\":{\"value\":0.2},\"hatch_color\":{\"value\":\"green\"},\"line_alpha\":{\"value\":0.2},\"line_color\":{\"value\":\"green\"},\"x\":{\"field\":\"x\"},\"y\":{\"field\":\"y\"}},\"id\":\"1105\",\"type\":\"Scatter\"},{\"attributes\":{\"fill_alpha\":{\"value\":0.2},\"fill_color\":{\"value\":\"#1f77b4\"},\"hatch_alpha\":{\"value\":0.2},\"line_alpha\":{\"value\":0.2},\"line_color\":{\"value\":\"#1f77b4\"},\"x\":{\"field\":\"x\"},\"y\":{\"field\":\"y\"}},\"id\":\"1039\",\"type\":\"Scatter\"},{\"attributes\":{\"source\":{\"id\":\"1036\"}},\"id\":\"1041\",\"type\":\"CDSView\"},{\"attributes\":{},\"id\":\"1044\",\"type\":\"BasicTickFormatter\"},{\"attributes\":{\"axis_label\":\"time\",\"coordinates\":null,\"formatter\":{\"id\":\"1047\"},\"group\":null,\"major_label_policy\":{\"id\":\"1048\"},\"ticker\":{\"id\":\"1015\"}},\"id\":\"1014\",\"type\":\"LinearAxis\"},{\"attributes\":{\"tools\":[{\"id\":\"1022\"},{\"id\":\"1023\"},{\"id\":\"1024\"},{\"id\":\"1025\"},{\"id\":\"1026\"},{\"id\":\"1027\"}]},\"id\":\"1029\",\"type\":\"Toolbar\"},{\"attributes\":{\"data\":{\"x\":[0,1,2,3,4,5,6,7,8,9],\"y\":{\"__ndarray__\":\"ly1T08UaYkDB2+xK0M5hQGfAisDXZl1AeKW1zjy3WEDgdOS3+EFYQARMbZK8HFFA+FqLa1+CUEBxEVgnvtRFQIq24UPQEjtAKEFPYiStMkA=\",\"dtype\":\"float64\",\"order\":\"little\",\"shape\":[10]}},\"selected\":{\"id\":\"1050\"},\"selection_policy\":{\"id\":\"1049\"}},\"id\":\"1036\",\"type\":\"ColumnDataSource\"},{\"attributes\":{},\"id\":\"1022\",\"type\":\"PanTool\"},{\"attributes\":{},\"id\":\"1045\",\"type\":\"AllLabels\"},{\"attributes\":{},\"id\":\"1047\",\"type\":\"BasicTickFormatter\"},{\"attributes\":{\"fill_color\":{\"value\":\"green\"},\"hatch_color\":{\"value\":\"green\"},\"line_color\":{\"value\":\"green\"},\"x\":{\"field\":\"x\"},\"y\":{\"field\":\"y\"}},\"id\":\"1103\",\"type\":\"Scatter\"},{\"attributes\":{\"source\":{\"id\":\"1102\"}},\"id\":\"1107\",\"type\":\"CDSView\"},{\"attributes\":{},\"id\":\"1048\",\"type\":\"AllLabels\"},{\"attributes\":{},\"id\":\"1117\",\"type\":\"UnionRenderers\"},{\"attributes\":{\"fill_color\":{\"value\":\"#1f77b4\"},\"line_color\":{\"value\":\"#1f77b4\"},\"x\":{\"field\":\"x\"},\"y\":{\"field\":\"y\"}},\"id\":\"1037\",\"type\":\"Scatter\"},{\"attributes\":{},\"id\":\"1012\",\"type\":\"LinearScale\"},{\"attributes\":{\"fill_alpha\":{\"value\":0.1},\"fill_color\":{\"value\":\"green\"},\"hatch_alpha\":{\"value\":0.1},\"hatch_color\":{\"value\":\"green\"},\"line_alpha\":{\"value\":0.1},\"line_color\":{\"value\":\"green\"},\"x\":{\"field\":\"x\"},\"y\":{\"field\":\"y\"}},\"id\":\"1104\",\"type\":\"Scatter\"},{\"attributes\":{},\"id\":\"1023\",\"type\":\"WheelZoomTool\"},{\"attributes\":{},\"id\":\"1025\",\"type\":\"SaveTool\"},{\"attributes\":{},\"id\":\"1019\",\"type\":\"BasicTicker\"},{\"attributes\":{\"axis\":{\"id\":\"1018\"},\"coordinates\":null,\"dimension\":1,\"group\":null,\"ticker\":null},\"id\":\"1021\",\"type\":\"Grid\"},{\"attributes\":{},\"id\":\"1026\",\"type\":\"ResetTool\"},{\"attributes\":{\"overlay\":{\"id\":\"1028\"}},\"id\":\"1024\",\"type\":\"BoxZoomTool\"},{\"attributes\":{},\"id\":\"1008\",\"type\":\"DataRange1d\"},{\"attributes\":{\"coordinates\":null,\"group\":null,\"text\":\"Measured Distance to Moving Object\"},\"id\":\"1004\",\"type\":\"Title\"},{\"attributes\":{},\"id\":\"1118\",\"type\":\"Selection\"},{\"attributes\":{},\"id\":\"1049\",\"type\":\"UnionRenderers\"},{\"attributes\":{},\"id\":\"1006\",\"type\":\"DataRange1d\"},{\"attributes\":{},\"id\":\"1010\",\"type\":\"LinearScale\"},{\"attributes\":{},\"id\":\"1050\",\"type\":\"Selection\"},{\"attributes\":{\"bottom_units\":\"screen\",\"coordinates\":null,\"fill_alpha\":0.5,\"fill_color\":\"lightgrey\",\"group\":null,\"left_units\":\"screen\",\"level\":\"overlay\",\"line_alpha\":1.0,\"line_color\":\"black\",\"line_dash\":[4,4],\"line_width\":2,\"right_units\":\"screen\",\"syncable\":false,\"top_units\":\"screen\"},\"id\":\"1028\",\"type\":\"BoxAnnotation\"},{\"attributes\":{\"axis\":{\"id\":\"1014\"},\"coordinates\":null,\"group\":null,\"ticker\":null},\"id\":\"1017\",\"type\":\"Grid\"},{\"attributes\":{},\"id\":\"1015\",\"type\":\"BasicTicker\"},{\"attributes\":{},\"id\":\"1027\",\"type\":\"HelpTool\"},{\"attributes\":{\"coordinates\":null,\"data_source\":{\"id\":\"1036\"},\"glyph\":{\"id\":\"1037\"},\"group\":null,\"hover_glyph\":null,\"muted_glyph\":{\"id\":\"1039\"},\"nonselection_glyph\":{\"id\":\"1038\"},\"view\":{\"id\":\"1041\"}},\"id\":\"1040\",\"type\":\"GlyphRenderer\"},{\"attributes\":{\"data\":{\"x\":[0,1,2,3,4,5,6,7,8,9],\"y\":{\"__ndarray__\":\"okRTwXKgYkAnDdfIPsdgQFSrtaAV3F1AXDy9r60pWkBkzcS+RXdWQGpezM3dxFJA6N6nueskTkD6ALfXG8BGQA5GjOuXtj5AShRVT/DZL0A=\",\"dtype\":\"float64\",\"order\":\"little\",\"shape\":[10]}},\"selected\":{\"id\":\"1118\"},\"selection_policy\":{\"id\":\"1117\"}},\"id\":\"1102\",\"type\":\"ColumnDataSource\"},{\"attributes\":{\"axis_label\":\"distance (m)\",\"coordinates\":null,\"formatter\":{\"id\":\"1044\"},\"group\":null,\"major_label_policy\":{\"id\":\"1045\"},\"ticker\":{\"id\":\"1019\"}},\"id\":\"1018\",\"type\":\"LinearAxis\"},{\"attributes\":{\"coordinates\":null,\"data_source\":{\"id\":\"1102\"},\"glyph\":{\"id\":\"1103\"},\"group\":null,\"hover_glyph\":null,\"muted_glyph\":{\"id\":\"1105\"},\"nonselection_glyph\":{\"id\":\"1104\"},\"view\":{\"id\":\"1107\"}},\"id\":\"1106\",\"type\":\"GlyphRenderer\"}],\"root_ids\":[\"1003\"]},\"title\":\"Bokeh Application\",\"version\":\"2.4.3\"}};\n  const render_items = [{\"docid\":\"024fa766-251c-40c9-99b4-aca2b8bd3315\",\"root_ids\":[\"1003\"],\"roots\":{\"1003\":\"00dcc23f-72aa-4cea-8edf-6599b3f793f2\"}}];\n  root.Bokeh.embed.embed_items_notebook(docs_json, render_items);\n  }\n  if (root.Bokeh !== undefined) {\n    embed_document(root);\n  } else {\n    let attempts = 0;\n    const timer = setInterval(function(root) {\n      if (root.Bokeh !== undefined) {\n        clearInterval(timer);\n        embed_document(root);\n      } else {\n        attempts++;\n        if (attempts > 100) {\n          clearInterval(timer);\n          console.log(\"Bokeh: ERROR: Unable to run BokehJS code because BokehJS library is missing\");\n        }\n      }\n    }, 10, root)\n  }\n})(window);",
      "application/vnd.bokehjs_exec.v0+json": ""
     },
     "metadata": {
      "application/vnd.bokehjs_exec.v0+json": {
       "id": "1003"
      }
     },
     "output_type": "display_data"
    }
   ],
   "source": [
    "f.scatter(x=x,y=Yhat[:,0],color='green')\n",
    "show(f)"
   ]
  },
  {
   "cell_type": "markdown",
   "metadata": {},
   "source": [
    "We can connect the dots to see the line of best fit."
   ]
  },
  {
   "cell_type": "code",
   "execution_count": 14,
   "metadata": {},
   "outputs": [
    {
     "data": {
      "text/html": [
       "\n",
       "  <div class=\"bk-root\" id=\"f6d1df14-d5e5-4c5f-b88b-84aba5ca0393\" data-root-id=\"1003\"></div>\n"
      ]
     },
     "metadata": {},
     "output_type": "display_data"
    },
    {
     "data": {
      "application/javascript": "(function(root) {\n  function embed_document(root) {\n  const docs_json = {\"5cb2757b-a000-4196-81f1-535154c4f7a4\":{\"defs\":[],\"roots\":{\"references\":[{\"attributes\":{\"below\":[{\"id\":\"1014\"}],\"center\":[{\"id\":\"1017\"},{\"id\":\"1021\"}],\"height\":400,\"left\":[{\"id\":\"1018\"}],\"renderers\":[{\"id\":\"1040\"},{\"id\":\"1106\"},{\"id\":\"1184\"}],\"title\":{\"id\":\"1004\"},\"toolbar\":{\"id\":\"1029\"},\"width\":400,\"x_range\":{\"id\":\"1006\"},\"x_scale\":{\"id\":\"1010\"},\"y_range\":{\"id\":\"1008\"},\"y_scale\":{\"id\":\"1012\"}},\"id\":\"1003\",\"subtype\":\"Figure\",\"type\":\"Plot\"},{\"attributes\":{\"fill_alpha\":{\"value\":0.1},\"fill_color\":{\"value\":\"#1f77b4\"},\"hatch_alpha\":{\"value\":0.1},\"line_alpha\":{\"value\":0.1},\"line_color\":{\"value\":\"#1f77b4\"},\"x\":{\"field\":\"x\"},\"y\":{\"field\":\"y\"}},\"id\":\"1038\",\"type\":\"Scatter\"},{\"attributes\":{\"line_color\":\"green\",\"x\":{\"field\":\"x\"},\"y\":{\"field\":\"y\"}},\"id\":\"1181\",\"type\":\"Line\"},{\"attributes\":{},\"id\":\"1198\",\"type\":\"Selection\"},{\"attributes\":{\"fill_alpha\":{\"value\":0.2},\"fill_color\":{\"value\":\"green\"},\"hatch_alpha\":{\"value\":0.2},\"hatch_color\":{\"value\":\"green\"},\"line_alpha\":{\"value\":0.2},\"line_color\":{\"value\":\"green\"},\"x\":{\"field\":\"x\"},\"y\":{\"field\":\"y\"}},\"id\":\"1105\",\"type\":\"Scatter\"},{\"attributes\":{\"fill_alpha\":{\"value\":0.2},\"fill_color\":{\"value\":\"#1f77b4\"},\"hatch_alpha\":{\"value\":0.2},\"line_alpha\":{\"value\":0.2},\"line_color\":{\"value\":\"#1f77b4\"},\"x\":{\"field\":\"x\"},\"y\":{\"field\":\"y\"}},\"id\":\"1039\",\"type\":\"Scatter\"},{\"attributes\":{\"source\":{\"id\":\"1036\"}},\"id\":\"1041\",\"type\":\"CDSView\"},{\"attributes\":{},\"id\":\"1044\",\"type\":\"BasicTickFormatter\"},{\"attributes\":{\"coordinates\":null,\"data_source\":{\"id\":\"1180\"},\"glyph\":{\"id\":\"1181\"},\"group\":null,\"hover_glyph\":null,\"muted_glyph\":{\"id\":\"1183\"},\"nonselection_glyph\":{\"id\":\"1182\"},\"view\":{\"id\":\"1185\"}},\"id\":\"1184\",\"type\":\"GlyphRenderer\"},{\"attributes\":{\"axis_label\":\"time\",\"coordinates\":null,\"formatter\":{\"id\":\"1047\"},\"group\":null,\"major_label_policy\":{\"id\":\"1048\"},\"ticker\":{\"id\":\"1015\"}},\"id\":\"1014\",\"type\":\"LinearAxis\"},{\"attributes\":{\"tools\":[{\"id\":\"1022\"},{\"id\":\"1023\"},{\"id\":\"1024\"},{\"id\":\"1025\"},{\"id\":\"1026\"},{\"id\":\"1027\"}]},\"id\":\"1029\",\"type\":\"Toolbar\"},{\"attributes\":{\"data\":{\"x\":[0,1,2,3,4,5,6,7,8,9],\"y\":{\"__ndarray__\":\"ly1T08UaYkDB2+xK0M5hQGfAisDXZl1AeKW1zjy3WEDgdOS3+EFYQARMbZK8HFFA+FqLa1+CUEBxEVgnvtRFQIq24UPQEjtAKEFPYiStMkA=\",\"dtype\":\"float64\",\"order\":\"little\",\"shape\":[10]}},\"selected\":{\"id\":\"1050\"},\"selection_policy\":{\"id\":\"1049\"}},\"id\":\"1036\",\"type\":\"ColumnDataSource\"},{\"attributes\":{\"source\":{\"id\":\"1180\"}},\"id\":\"1185\",\"type\":\"CDSView\"},{\"attributes\":{},\"id\":\"1022\",\"type\":\"PanTool\"},{\"attributes\":{},\"id\":\"1045\",\"type\":\"AllLabels\"},{\"attributes\":{\"line_alpha\":0.2,\"line_color\":\"green\",\"x\":{\"field\":\"x\"},\"y\":{\"field\":\"y\"}},\"id\":\"1183\",\"type\":\"Line\"},{\"attributes\":{},\"id\":\"1047\",\"type\":\"BasicTickFormatter\"},{\"attributes\":{\"fill_color\":{\"value\":\"green\"},\"hatch_color\":{\"value\":\"green\"},\"line_color\":{\"value\":\"green\"},\"x\":{\"field\":\"x\"},\"y\":{\"field\":\"y\"}},\"id\":\"1103\",\"type\":\"Scatter\"},{\"attributes\":{\"source\":{\"id\":\"1102\"}},\"id\":\"1107\",\"type\":\"CDSView\"},{\"attributes\":{},\"id\":\"1048\",\"type\":\"AllLabels\"},{\"attributes\":{},\"id\":\"1117\",\"type\":\"UnionRenderers\"},{\"attributes\":{\"fill_color\":{\"value\":\"#1f77b4\"},\"line_color\":{\"value\":\"#1f77b4\"},\"x\":{\"field\":\"x\"},\"y\":{\"field\":\"y\"}},\"id\":\"1037\",\"type\":\"Scatter\"},{\"attributes\":{},\"id\":\"1012\",\"type\":\"LinearScale\"},{\"attributes\":{\"fill_alpha\":{\"value\":0.1},\"fill_color\":{\"value\":\"green\"},\"hatch_alpha\":{\"value\":0.1},\"hatch_color\":{\"value\":\"green\"},\"line_alpha\":{\"value\":0.1},\"line_color\":{\"value\":\"green\"},\"x\":{\"field\":\"x\"},\"y\":{\"field\":\"y\"}},\"id\":\"1104\",\"type\":\"Scatter\"},{\"attributes\":{},\"id\":\"1023\",\"type\":\"WheelZoomTool\"},{\"attributes\":{},\"id\":\"1025\",\"type\":\"SaveTool\"},{\"attributes\":{},\"id\":\"1019\",\"type\":\"BasicTicker\"},{\"attributes\":{\"data\":{\"x\":[0,1,2,3,4,5,6,7,8,9],\"y\":{\"__ndarray__\":\"okRTwXKgYkAnDdfIPsdgQFSrtaAV3F1AXDy9r60pWkBkzcS+RXdWQGpezM3dxFJA6N6nueskTkD6ALfXG8BGQA5GjOuXtj5AShRVT/DZL0A=\",\"dtype\":\"float64\",\"order\":\"little\",\"shape\":[10]}},\"selected\":{\"id\":\"1198\"},\"selection_policy\":{\"id\":\"1197\"}},\"id\":\"1180\",\"type\":\"ColumnDataSource\"},{\"attributes\":{\"axis\":{\"id\":\"1018\"},\"coordinates\":null,\"dimension\":1,\"group\":null,\"ticker\":null},\"id\":\"1021\",\"type\":\"Grid\"},{\"attributes\":{},\"id\":\"1197\",\"type\":\"UnionRenderers\"},{\"attributes\":{},\"id\":\"1026\",\"type\":\"ResetTool\"},{\"attributes\":{\"overlay\":{\"id\":\"1028\"}},\"id\":\"1024\",\"type\":\"BoxZoomTool\"},{\"attributes\":{},\"id\":\"1008\",\"type\":\"DataRange1d\"},{\"attributes\":{\"coordinates\":null,\"group\":null,\"text\":\"Measured Distance to Moving Object\"},\"id\":\"1004\",\"type\":\"Title\"},{\"attributes\":{},\"id\":\"1118\",\"type\":\"Selection\"},{\"attributes\":{},\"id\":\"1049\",\"type\":\"UnionRenderers\"},{\"attributes\":{},\"id\":\"1006\",\"type\":\"DataRange1d\"},{\"attributes\":{},\"id\":\"1010\",\"type\":\"LinearScale\"},{\"attributes\":{\"line_alpha\":0.1,\"line_color\":\"green\",\"x\":{\"field\":\"x\"},\"y\":{\"field\":\"y\"}},\"id\":\"1182\",\"type\":\"Line\"},{\"attributes\":{},\"id\":\"1050\",\"type\":\"Selection\"},{\"attributes\":{\"bottom_units\":\"screen\",\"coordinates\":null,\"fill_alpha\":0.5,\"fill_color\":\"lightgrey\",\"group\":null,\"left_units\":\"screen\",\"level\":\"overlay\",\"line_alpha\":1.0,\"line_color\":\"black\",\"line_dash\":[4,4],\"line_width\":2,\"right_units\":\"screen\",\"syncable\":false,\"top_units\":\"screen\"},\"id\":\"1028\",\"type\":\"BoxAnnotation\"},{\"attributes\":{\"axis\":{\"id\":\"1014\"},\"coordinates\":null,\"group\":null,\"ticker\":null},\"id\":\"1017\",\"type\":\"Grid\"},{\"attributes\":{},\"id\":\"1015\",\"type\":\"BasicTicker\"},{\"attributes\":{},\"id\":\"1027\",\"type\":\"HelpTool\"},{\"attributes\":{\"coordinates\":null,\"data_source\":{\"id\":\"1036\"},\"glyph\":{\"id\":\"1037\"},\"group\":null,\"hover_glyph\":null,\"muted_glyph\":{\"id\":\"1039\"},\"nonselection_glyph\":{\"id\":\"1038\"},\"view\":{\"id\":\"1041\"}},\"id\":\"1040\",\"type\":\"GlyphRenderer\"},{\"attributes\":{\"data\":{\"x\":[0,1,2,3,4,5,6,7,8,9],\"y\":{\"__ndarray__\":\"okRTwXKgYkAnDdfIPsdgQFSrtaAV3F1AXDy9r60pWkBkzcS+RXdWQGpezM3dxFJA6N6nueskTkD6ALfXG8BGQA5GjOuXtj5AShRVT/DZL0A=\",\"dtype\":\"float64\",\"order\":\"little\",\"shape\":[10]}},\"selected\":{\"id\":\"1118\"},\"selection_policy\":{\"id\":\"1117\"}},\"id\":\"1102\",\"type\":\"ColumnDataSource\"},{\"attributes\":{\"axis_label\":\"distance (m)\",\"coordinates\":null,\"formatter\":{\"id\":\"1044\"},\"group\":null,\"major_label_policy\":{\"id\":\"1045\"},\"ticker\":{\"id\":\"1019\"}},\"id\":\"1018\",\"type\":\"LinearAxis\"},{\"attributes\":{\"coordinates\":null,\"data_source\":{\"id\":\"1102\"},\"glyph\":{\"id\":\"1103\"},\"group\":null,\"hover_glyph\":null,\"muted_glyph\":{\"id\":\"1105\"},\"nonselection_glyph\":{\"id\":\"1104\"},\"view\":{\"id\":\"1107\"}},\"id\":\"1106\",\"type\":\"GlyphRenderer\"}],\"root_ids\":[\"1003\"]},\"title\":\"Bokeh Application\",\"version\":\"2.4.3\"}};\n  const render_items = [{\"docid\":\"5cb2757b-a000-4196-81f1-535154c4f7a4\",\"root_ids\":[\"1003\"],\"roots\":{\"1003\":\"f6d1df14-d5e5-4c5f-b88b-84aba5ca0393\"}}];\n  root.Bokeh.embed.embed_items_notebook(docs_json, render_items);\n  }\n  if (root.Bokeh !== undefined) {\n    embed_document(root);\n  } else {\n    let attempts = 0;\n    const timer = setInterval(function(root) {\n      if (root.Bokeh !== undefined) {\n        clearInterval(timer);\n        embed_document(root);\n      } else {\n        attempts++;\n        if (attempts > 100) {\n          clearInterval(timer);\n          console.log(\"Bokeh: ERROR: Unable to run BokehJS code because BokehJS library is missing\");\n        }\n      }\n    }, 10, root)\n  }\n})(window);",
      "application/vnd.bokehjs_exec.v0+json": ""
     },
     "metadata": {
      "application/vnd.bokehjs_exec.v0+json": {
       "id": "1003"
      }
     },
     "output_type": "display_data"
    }
   ],
   "source": [
    "f.line(x=x,y=Yhat[:,0],color='green')\n",
    "show(f)"
   ]
  },
  {
   "cell_type": "code",
   "execution_count": 15,
   "metadata": {},
   "outputs": [
    {
     "data": {
      "text/plain": [
       "(10, 1)"
      ]
     },
     "execution_count": 15,
     "metadata": {},
     "output_type": "execute_result"
    }
   ],
   "source": [
    "Y.shape\n",
    "Yhat.shape"
   ]
  },
  {
   "cell_type": "code",
   "execution_count": 16,
   "metadata": {},
   "outputs": [
    {
     "data": {
      "text/html": [
       "\n",
       "  <div class=\"bk-root\" id=\"adf4d8be-80e5-4225-b46d-6966a8c1e727\" data-root-id=\"1270\"></div>\n"
      ]
     },
     "metadata": {},
     "output_type": "display_data"
    },
    {
     "data": {
      "application/javascript": "(function(root) {\n  function embed_document(root) {\n  const docs_json = {\"9536042b-d831-42aa-8fa3-3512fd1ac7cb\":{\"defs\":[],\"roots\":{\"references\":[{\"attributes\":{\"below\":[{\"id\":\"1281\"}],\"center\":[{\"id\":\"1284\"},{\"id\":\"1288\"}],\"left\":[{\"id\":\"1285\"}],\"renderers\":[{\"id\":\"1307\"},{\"id\":\"1313\"}],\"title\":{\"id\":\"1271\"},\"toolbar\":{\"id\":\"1296\"},\"x_range\":{\"id\":\"1273\"},\"x_scale\":{\"id\":\"1277\"},\"y_range\":{\"id\":\"1275\"},\"y_scale\":{\"id\":\"1279\"}},\"id\":\"1270\",\"subtype\":\"Figure\",\"type\":\"Plot\"},{\"attributes\":{\"axis\":{\"id\":\"1281\"},\"coordinates\":null,\"group\":null,\"ticker\":null},\"id\":\"1284\",\"type\":\"Grid\"},{\"attributes\":{\"data\":{\"x\":[0,9],\"y\":[0,0]},\"selected\":{\"id\":\"1339\"},\"selection_policy\":{\"id\":\"1338\"}},\"id\":\"1309\",\"type\":\"ColumnDataSource\"},{\"attributes\":{},\"id\":\"1336\",\"type\":\"UnionRenderers\"},{\"attributes\":{\"fill_color\":{\"value\":\"#1f77b4\"},\"line_color\":{\"value\":\"#1f77b4\"},\"x\":{\"field\":\"x\"},\"y\":{\"field\":\"y\"}},\"id\":\"1304\",\"type\":\"Scatter\"},{\"attributes\":{\"line_color\":\"#1f77b4\",\"x\":{\"field\":\"x\"},\"y\":{\"field\":\"y\"}},\"id\":\"1310\",\"type\":\"Line\"},{\"attributes\":{},\"id\":\"1337\",\"type\":\"Selection\"},{\"attributes\":{},\"id\":\"1290\",\"type\":\"WheelZoomTool\"},{\"attributes\":{\"axis_label\":\"x\",\"coordinates\":null,\"formatter\":{\"id\":\"1334\"},\"group\":null,\"major_label_policy\":{\"id\":\"1335\"},\"ticker\":{\"id\":\"1282\"}},\"id\":\"1281\",\"type\":\"LinearAxis\"},{\"attributes\":{},\"id\":\"1275\",\"type\":\"DataRange1d\"},{\"attributes\":{\"line_alpha\":0.1,\"line_color\":\"#1f77b4\",\"x\":{\"field\":\"x\"},\"y\":{\"field\":\"y\"}},\"id\":\"1311\",\"type\":\"Line\"},{\"attributes\":{},\"id\":\"1282\",\"type\":\"BasicTicker\"},{\"attributes\":{},\"id\":\"1273\",\"type\":\"DataRange1d\"},{\"attributes\":{},\"id\":\"1335\",\"type\":\"AllLabels\"},{\"attributes\":{\"data\":{\"x\":[0,1,2,3,4,5,6,7,8,9],\"y\":{\"__ndarray__\":\"YOECwJ21EECg6VwhGHkgwEC7ugp4T/0/QG55EA4nF0DAd/qRL6scwGAm8bUTghpAQLh265j+FsAg8d0Ltmv9PyB8VD09Hg1AGLgl1WEBBsA=\",\"dtype\":\"float64\",\"order\":\"little\",\"shape\":[10]}},\"selected\":{\"id\":\"1337\"},\"selection_policy\":{\"id\":\"1336\"}},\"id\":\"1303\",\"type\":\"ColumnDataSource\"},{\"attributes\":{\"axis_label\":\"Yhat-Y\",\"coordinates\":null,\"formatter\":{\"id\":\"1331\"},\"group\":null,\"major_label_policy\":{\"id\":\"1332\"},\"ticker\":{\"id\":\"1286\"}},\"id\":\"1285\",\"type\":\"LinearAxis\"},{\"attributes\":{\"line_alpha\":0.2,\"line_color\":\"#1f77b4\",\"x\":{\"field\":\"x\"},\"y\":{\"field\":\"y\"}},\"id\":\"1312\",\"type\":\"Line\"},{\"attributes\":{},\"id\":\"1279\",\"type\":\"LinearScale\"},{\"attributes\":{},\"id\":\"1286\",\"type\":\"BasicTicker\"},{\"attributes\":{\"tools\":[{\"id\":\"1289\"},{\"id\":\"1290\"},{\"id\":\"1291\"},{\"id\":\"1292\"},{\"id\":\"1293\"},{\"id\":\"1294\"}]},\"id\":\"1296\",\"type\":\"Toolbar\"},{\"attributes\":{\"coordinates\":null,\"group\":null,\"text\":\"Difference between Measured and Predicted Values\"},\"id\":\"1271\",\"type\":\"Title\"},{\"attributes\":{\"fill_alpha\":{\"value\":0.2},\"fill_color\":{\"value\":\"#1f77b4\"},\"hatch_alpha\":{\"value\":0.2},\"line_alpha\":{\"value\":0.2},\"line_color\":{\"value\":\"#1f77b4\"},\"x\":{\"field\":\"x\"},\"y\":{\"field\":\"y\"}},\"id\":\"1306\",\"type\":\"Scatter\"},{\"attributes\":{},\"id\":\"1338\",\"type\":\"UnionRenderers\"},{\"attributes\":{\"coordinates\":null,\"data_source\":{\"id\":\"1309\"},\"glyph\":{\"id\":\"1310\"},\"group\":null,\"hover_glyph\":null,\"muted_glyph\":{\"id\":\"1312\"},\"nonselection_glyph\":{\"id\":\"1311\"},\"view\":{\"id\":\"1314\"}},\"id\":\"1313\",\"type\":\"GlyphRenderer\"},{\"attributes\":{},\"id\":\"1334\",\"type\":\"BasicTickFormatter\"},{\"attributes\":{\"fill_alpha\":{\"value\":0.1},\"fill_color\":{\"value\":\"#1f77b4\"},\"hatch_alpha\":{\"value\":0.1},\"line_alpha\":{\"value\":0.1},\"line_color\":{\"value\":\"#1f77b4\"},\"x\":{\"field\":\"x\"},\"y\":{\"field\":\"y\"}},\"id\":\"1305\",\"type\":\"Scatter\"},{\"attributes\":{\"bottom_units\":\"screen\",\"coordinates\":null,\"fill_alpha\":0.5,\"fill_color\":\"lightgrey\",\"group\":null,\"left_units\":\"screen\",\"level\":\"overlay\",\"line_alpha\":1.0,\"line_color\":\"black\",\"line_dash\":[4,4],\"line_width\":2,\"right_units\":\"screen\",\"syncable\":false,\"top_units\":\"screen\"},\"id\":\"1295\",\"type\":\"BoxAnnotation\"},{\"attributes\":{},\"id\":\"1339\",\"type\":\"Selection\"},{\"attributes\":{},\"id\":\"1293\",\"type\":\"ResetTool\"},{\"attributes\":{},\"id\":\"1277\",\"type\":\"LinearScale\"},{\"attributes\":{},\"id\":\"1331\",\"type\":\"BasicTickFormatter\"},{\"attributes\":{},\"id\":\"1294\",\"type\":\"HelpTool\"},{\"attributes\":{},\"id\":\"1292\",\"type\":\"SaveTool\"},{\"attributes\":{\"coordinates\":null,\"data_source\":{\"id\":\"1303\"},\"glyph\":{\"id\":\"1304\"},\"group\":null,\"hover_glyph\":null,\"muted_glyph\":{\"id\":\"1306\"},\"nonselection_glyph\":{\"id\":\"1305\"},\"view\":{\"id\":\"1308\"}},\"id\":\"1307\",\"type\":\"GlyphRenderer\"},{\"attributes\":{},\"id\":\"1289\",\"type\":\"PanTool\"},{\"attributes\":{},\"id\":\"1332\",\"type\":\"AllLabels\"},{\"attributes\":{\"overlay\":{\"id\":\"1295\"}},\"id\":\"1291\",\"type\":\"BoxZoomTool\"},{\"attributes\":{\"source\":{\"id\":\"1309\"}},\"id\":\"1314\",\"type\":\"CDSView\"},{\"attributes\":{\"source\":{\"id\":\"1303\"}},\"id\":\"1308\",\"type\":\"CDSView\"},{\"attributes\":{\"axis\":{\"id\":\"1285\"},\"coordinates\":null,\"dimension\":1,\"group\":null,\"ticker\":null},\"id\":\"1288\",\"type\":\"Grid\"}],\"root_ids\":[\"1270\"]},\"title\":\"Bokeh Application\",\"version\":\"2.4.3\"}};\n  const render_items = [{\"docid\":\"9536042b-d831-42aa-8fa3-3512fd1ac7cb\",\"root_ids\":[\"1270\"],\"roots\":{\"1270\":\"adf4d8be-80e5-4225-b46d-6966a8c1e727\"}}];\n  root.Bokeh.embed.embed_items_notebook(docs_json, render_items);\n  }\n  if (root.Bokeh !== undefined) {\n    embed_document(root);\n  } else {\n    let attempts = 0;\n    const timer = setInterval(function(root) {\n      if (root.Bokeh !== undefined) {\n        clearInterval(timer);\n        embed_document(root);\n      } else {\n        attempts++;\n        if (attempts > 100) {\n          clearInterval(timer);\n          console.log(\"Bokeh: ERROR: Unable to run BokehJS code because BokehJS library is missing\");\n        }\n      }\n    }, 10, root)\n  }\n})(window);",
      "application/vnd.bokehjs_exec.v0+json": ""
     },
     "metadata": {
      "application/vnd.bokehjs_exec.v0+json": {
       "id": "1270"
      }
     },
     "output_type": "display_data"
    }
   ],
   "source": [
    "show(comparison_plot(x,Y[:,0], Yhat[:,0]))"
   ]
  },
  {
   "cell_type": "markdown",
   "metadata": {},
   "source": [
    "### The MPG Data"
   ]
  },
  {
   "cell_type": "markdown",
   "metadata": {},
   "source": [
    "Figure 2 in the notes shows data relating engine size to mileage for a group of cars.  Your task is to reproduce the graph\n",
    "show in the figure."
   ]
  },
  {
   "cell_type": "markdown",
   "metadata": {},
   "source": [
    "#### Step 1.  Load the data\n",
    "\n",
    "The mileage data is in a comma separated file (csv) called `../data/auto-mpg/auto-mpg.csv`  The command `np.genfromtxt`\n",
    "can be used to read in an array like this.  You can examine the file by using the jupyter file browser and double clicking on the file name.  You will see that:\n",
    "- the first row is a header\n",
    "- the last column is the type of car, which is a string; numpy can't handle that so it will set them to nan meaning 'not a number'\n",
    "- mpg is column zero\n",
    "- displacement is column 2"
   ]
  },
  {
   "cell_type": "code",
   "execution_count": 19,
   "metadata": {},
   "outputs": [
    {
     "data": {
      "text/plain": [
       "array([[ 18.,   8., 307., ...,  70.,   1.,  nan],\n",
       "       [ 15.,   8., 350., ...,  70.,   1.,  nan],\n",
       "       [ 18.,   8., 318., ...,  70.,   1.,  nan],\n",
       "       ...,\n",
       "       [ 32.,   4., 135., ...,  82.,   1.,  nan],\n",
       "       [ 28.,   4., 120., ...,  82.,   1.,  nan],\n",
       "       [ 31.,   4., 119., ...,  82.,   1.,  nan]])"
      ]
     },
     "execution_count": 19,
     "metadata": {},
     "output_type": "execute_result"
    }
   ],
   "source": [
    "data = np.genfromtxt('data/auto-mpg/auto-mpg.csv',delimiter=',',skip_header=1)\n",
    "data"
   ]
  },
  {
   "cell_type": "markdown",
   "metadata": {},
   "source": [
    "Now your job is to complete the code below, following the work we did above, so that you:\n",
    "- Create  variable $x$ that is just column 2 (displacement) of the data matrix \n",
    "- create variable $Y$ that is just column 0 (mpg) of the data matrix \n",
    "- Plot $x$ and $Y$ as a scatter plot.\n",
    "- Create a matrix whose first column is $x$ and whose second column is all $1$.\n",
    "- Compute the matrix $D=X^{\\intercal}X$\n",
    "- Find $M=D^{-1}X^{\\intercal}Y$\n",
    "- Find $Yhat= XD^{-1}X^{\\intercal}Y$\n",
    "- Plot $Yhat$ and the predicted line."
   ]
  },
  {
   "cell_type": "code",
   "execution_count": 20,
   "metadata": {},
   "outputs": [],
   "source": [
    "#x=data[]\n",
    "#Y=data[]\n",
    "#f = figure()\n",
    "#f.scatter()\n",
    "#show(f)\n"
   ]
  },
  {
   "cell_type": "code",
   "execution_count": 21,
   "metadata": {},
   "outputs": [
    {
     "data": {
      "text/html": [
       "\n",
       "  <div class=\"bk-root\" id=\"67b55ad0-4040-40f5-a1e3-aba2b9b45a39\" data-root-id=\"1401\"></div>\n"
      ]
     },
     "metadata": {},
     "output_type": "display_data"
    },
    {
     "data": {
      "application/javascript": "(function(root) {\n  function embed_document(root) {\n  const docs_json = {\"39b0032f-c52c-4470-a3c2-4d8fc7ab01a3\":{\"defs\":[],\"roots\":{\"references\":[{\"attributes\":{\"below\":[{\"id\":\"1410\"}],\"center\":[{\"id\":\"1413\"},{\"id\":\"1417\"}],\"left\":[{\"id\":\"1414\"}],\"renderers\":[{\"id\":\"1436\"}],\"title\":{\"id\":\"1464\"},\"toolbar\":{\"id\":\"1425\"},\"x_range\":{\"id\":\"1402\"},\"x_scale\":{\"id\":\"1406\"},\"y_range\":{\"id\":\"1404\"},\"y_scale\":{\"id\":\"1408\"}},\"id\":\"1401\",\"subtype\":\"Figure\",\"type\":\"Plot\"},{\"attributes\":{\"fill_alpha\":{\"value\":0.2},\"fill_color\":{\"value\":\"#1f77b4\"},\"hatch_alpha\":{\"value\":0.2},\"line_alpha\":{\"value\":0.2},\"line_color\":{\"value\":\"#1f77b4\"},\"x\":{\"field\":\"x\"},\"y\":{\"field\":\"y\"}},\"id\":\"1435\",\"type\":\"Scatter\"},{\"attributes\":{},\"id\":\"1402\",\"type\":\"DataRange1d\"},{\"attributes\":{\"fill_color\":{\"value\":\"#1f77b4\"},\"line_color\":{\"value\":\"#1f77b4\"},\"x\":{\"field\":\"x\"},\"y\":{\"field\":\"y\"}},\"id\":\"1433\",\"type\":\"Scatter\"},{\"attributes\":{\"fill_alpha\":{\"value\":0.1},\"fill_color\":{\"value\":\"#1f77b4\"},\"hatch_alpha\":{\"value\":0.1},\"line_alpha\":{\"value\":0.1},\"line_color\":{\"value\":\"#1f77b4\"},\"x\":{\"field\":\"x\"},\"y\":{\"field\":\"y\"}},\"id\":\"1434\",\"type\":\"Scatter\"},{\"attributes\":{},\"id\":\"1404\",\"type\":\"DataRange1d\"},{\"attributes\":{},\"id\":\"1467\",\"type\":\"BasicTickFormatter\"},{\"attributes\":{},\"id\":\"1406\",\"type\":\"LinearScale\"},{\"attributes\":{\"coordinates\":null,\"group\":null},\"id\":\"1464\",\"type\":\"Title\"},{\"attributes\":{\"coordinates\":null,\"formatter\":{\"id\":\"1470\"},\"group\":null,\"major_label_policy\":{\"id\":\"1471\"},\"ticker\":{\"id\":\"1411\"}},\"id\":\"1410\",\"type\":\"LinearAxis\"},{\"attributes\":{\"coordinates\":null,\"formatter\":{\"id\":\"1467\"},\"group\":null,\"major_label_policy\":{\"id\":\"1468\"},\"ticker\":{\"id\":\"1415\"}},\"id\":\"1414\",\"type\":\"LinearAxis\"},{\"attributes\":{},\"id\":\"1468\",\"type\":\"AllLabels\"},{\"attributes\":{},\"id\":\"1408\",\"type\":\"LinearScale\"},{\"attributes\":{\"tools\":[{\"id\":\"1418\"},{\"id\":\"1419\"},{\"id\":\"1420\"},{\"id\":\"1421\"},{\"id\":\"1422\"},{\"id\":\"1423\"}]},\"id\":\"1425\",\"type\":\"Toolbar\"},{\"attributes\":{},\"id\":\"1423\",\"type\":\"HelpTool\"},{\"attributes\":{},\"id\":\"1411\",\"type\":\"BasicTicker\"},{\"attributes\":{\"axis\":{\"id\":\"1410\"},\"coordinates\":null,\"group\":null,\"ticker\":null},\"id\":\"1413\",\"type\":\"Grid\"},{\"attributes\":{},\"id\":\"1471\",\"type\":\"AllLabels\"},{\"attributes\":{\"coordinates\":null,\"data_source\":{\"id\":\"1432\"},\"glyph\":{\"id\":\"1433\"},\"group\":null,\"hover_glyph\":null,\"muted_glyph\":{\"id\":\"1435\"},\"nonselection_glyph\":{\"id\":\"1434\"},\"view\":{\"id\":\"1437\"}},\"id\":\"1436\",\"type\":\"GlyphRenderer\"},{\"attributes\":{\"axis\":{\"id\":\"1414\"},\"coordinates\":null,\"dimension\":1,\"group\":null,\"ticker\":null},\"id\":\"1417\",\"type\":\"Grid\"},{\"attributes\":{},\"id\":\"1415\",\"type\":\"BasicTicker\"},{\"attributes\":{},\"id\":\"1472\",\"type\":\"UnionRenderers\"},{\"attributes\":{},\"id\":\"1419\",\"type\":\"WheelZoomTool\"},{\"attributes\":{},\"id\":\"1418\",\"type\":\"PanTool\"},{\"attributes\":{\"source\":{\"id\":\"1432\"}},\"id\":\"1437\",\"type\":\"CDSView\"},{\"attributes\":{\"overlay\":{\"id\":\"1424\"}},\"id\":\"1420\",\"type\":\"BoxZoomTool\"},{\"attributes\":{},\"id\":\"1473\",\"type\":\"Selection\"},{\"attributes\":{\"data\":{\"x\":{\"__ndarray__\":\"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\",\"dtype\":\"float64\",\"order\":\"little\",\"shape\":[398]},\"y\":{\"__ndarray__\":\"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\",\"dtype\":\"float64\",\"order\":\"little\",\"shape\":[398]}},\"selected\":{\"id\":\"1473\"},\"selection_policy\":{\"id\":\"1472\"}},\"id\":\"1432\",\"type\":\"ColumnDataSource\"},{\"attributes\":{},\"id\":\"1421\",\"type\":\"SaveTool\"},{\"attributes\":{},\"id\":\"1422\",\"type\":\"ResetTool\"},{\"attributes\":{},\"id\":\"1470\",\"type\":\"BasicTickFormatter\"},{\"attributes\":{\"bottom_units\":\"screen\",\"coordinates\":null,\"fill_alpha\":0.5,\"fill_color\":\"lightgrey\",\"group\":null,\"left_units\":\"screen\",\"level\":\"overlay\",\"line_alpha\":1.0,\"line_color\":\"black\",\"line_dash\":[4,4],\"line_width\":2,\"right_units\":\"screen\",\"syncable\":false,\"top_units\":\"screen\"},\"id\":\"1424\",\"type\":\"BoxAnnotation\"}],\"root_ids\":[\"1401\"]},\"title\":\"Bokeh Application\",\"version\":\"2.4.3\"}};\n  const render_items = [{\"docid\":\"39b0032f-c52c-4470-a3c2-4d8fc7ab01a3\",\"root_ids\":[\"1401\"],\"roots\":{\"1401\":\"67b55ad0-4040-40f5-a1e3-aba2b9b45a39\"}}];\n  root.Bokeh.embed.embed_items_notebook(docs_json, render_items);\n  }\n  if (root.Bokeh !== undefined) {\n    embed_document(root);\n  } else {\n    let attempts = 0;\n    const timer = setInterval(function(root) {\n      if (root.Bokeh !== undefined) {\n        clearInterval(timer);\n        embed_document(root);\n      } else {\n        attempts++;\n        if (attempts > 100) {\n          clearInterval(timer);\n          console.log(\"Bokeh: ERROR: Unable to run BokehJS code because BokehJS library is missing\");\n        }\n      }\n    }, 10, root)\n  }\n})(window);",
      "application/vnd.bokehjs_exec.v0+json": ""
     },
     "metadata": {
      "application/vnd.bokehjs_exec.v0+json": {
       "id": "1401"
      }
     },
     "output_type": "display_data"
    }
   ],
   "source": [
    "x=data[:,2]\n",
    "Y=data[:,0]\n",
    "f=figure()\n",
    "f.scatter(x=x,y=Y)\n",
    "show(f)"
   ]
  },
  {
   "cell_type": "code",
   "execution_count": 22,
   "metadata": {},
   "outputs": [],
   "source": [
    "\n",
    "#X = np.concatenate([],axis=1)\n",
    "#D = np.dot(...)\n",
    "#M = np.dot(...)\n",
    "#Yhat = ...\n",
    "#f.scatter(...,color='green')\n",
    "#f.line(...,color='green')"
   ]
  },
  {
   "cell_type": "code",
   "execution_count": 23,
   "metadata": {},
   "outputs": [
    {
     "data": {
      "text/html": [
       "\n",
       "  <div class=\"bk-root\" id=\"db0c266f-346a-4bef-abfa-6cd456521e9d\" data-root-id=\"1401\"></div>\n"
      ]
     },
     "metadata": {},
     "output_type": "display_data"
    },
    {
     "data": {
      "application/javascript": "(function(root) {\n  function embed_document(root) {\n  const docs_json = {\"46277ba1-3bcc-40fb-947a-9b6aded794c5\":{\"defs\":[],\"roots\":{\"references\":[{\"attributes\":{\"below\":[{\"id\":\"1410\"}],\"center\":[{\"id\":\"1413\"},{\"id\":\"1417\"}],\"left\":[{\"id\":\"1414\"}],\"renderers\":[{\"id\":\"1436\"},{\"id\":\"1534\"},{\"id\":\"1579\"}],\"title\":{\"id\":\"1464\"},\"toolbar\":{\"id\":\"1425\"},\"x_range\":{\"id\":\"1402\"},\"x_scale\":{\"id\":\"1406\"},\"y_range\":{\"id\":\"1404\"},\"y_scale\":{\"id\":\"1408\"}},\"id\":\"1401\",\"subtype\":\"Figure\",\"type\":\"Plot\"},{\"attributes\":{\"fill_alpha\":{\"value\":0.2},\"fill_color\":{\"value\":\"#1f77b4\"},\"hatch_alpha\":{\"value\":0.2},\"line_alpha\":{\"value\":0.2},\"line_color\":{\"value\":\"#1f77b4\"},\"x\":{\"field\":\"x\"},\"y\":{\"field\":\"y\"}},\"id\":\"1435\",\"type\":\"Scatter\"},{\"attributes\":{},\"id\":\"1402\",\"type\":\"DataRange1d\"},{\"attributes\":{\"fill_color\":{\"value\":\"#1f77b4\"},\"line_color\":{\"value\":\"#1f77b4\"},\"x\":{\"field\":\"x\"},\"y\":{\"field\":\"y\"}},\"id\":\"1433\",\"type\":\"Scatter\"},{\"attributes\":{\"fill_alpha\":{\"value\":0.1},\"fill_color\":{\"value\":\"#1f77b4\"},\"hatch_alpha\":{\"value\":0.1},\"line_alpha\":{\"value\":0.1},\"line_color\":{\"value\":\"#1f77b4\"},\"x\":{\"field\":\"x\"},\"y\":{\"field\":\"y\"}},\"id\":\"1434\",\"type\":\"Scatter\"},{\"attributes\":{\"data\":{\"x\":{\"__ndarray__\":\"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\",\"dtype\":\"float64\",\"order\":\"little\",\"shape\":[398]},\"y\":{\"__ndarray__\":\"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\",\"dtype\":\"float64\",\"order\":\"little\",\"shape\":[398]}},\"selected\":{\"id\":\"1620\"},\"selection_policy\":{\"id\":\"1619\"}},\"id\":\"1575\",\"type\":\"ColumnDataSource\"},{\"attributes\":{},\"id\":\"1404\",\"type\":\"DataRange1d\"},{\"attributes\":{},\"id\":\"1467\",\"type\":\"BasicTickFormatter\"},{\"attributes\":{},\"id\":\"1406\",\"type\":\"LinearScale\"},{\"attributes\":{\"coordinates\":null,\"group\":null},\"id\":\"1464\",\"type\":\"Title\"},{\"attributes\":{\"coordinates\":null,\"formatter\":{\"id\":\"1470\"},\"group\":null,\"major_label_policy\":{\"id\":\"1471\"},\"ticker\":{\"id\":\"1411\"}},\"id\":\"1410\",\"type\":\"LinearAxis\"},{\"attributes\":{\"line_alpha\":0.2,\"line_color\":\"green\",\"x\":{\"field\":\"x\"},\"y\":{\"field\":\"y\"}},\"id\":\"1578\",\"type\":\"Line\"},{\"attributes\":{\"coordinates\":null,\"formatter\":{\"id\":\"1467\"},\"group\":null,\"major_label_policy\":{\"id\":\"1468\"},\"ticker\":{\"id\":\"1415\"}},\"id\":\"1414\",\"type\":\"LinearAxis\"},{\"attributes\":{\"source\":{\"id\":\"1575\"}},\"id\":\"1580\",\"type\":\"CDSView\"},{\"attributes\":{},\"id\":\"1468\",\"type\":\"AllLabels\"},{\"attributes\":{},\"id\":\"1408\",\"type\":\"LinearScale\"},{\"attributes\":{\"tools\":[{\"id\":\"1418\"},{\"id\":\"1419\"},{\"id\":\"1420\"},{\"id\":\"1421\"},{\"id\":\"1422\"},{\"id\":\"1423\"}]},\"id\":\"1425\",\"type\":\"Toolbar\"},{\"attributes\":{},\"id\":\"1423\",\"type\":\"HelpTool\"},{\"attributes\":{},\"id\":\"1619\",\"type\":\"UnionRenderers\"},{\"attributes\":{},\"id\":\"1411\",\"type\":\"BasicTicker\"},{\"attributes\":{\"line_alpha\":0.1,\"line_color\":\"green\",\"x\":{\"field\":\"x\"},\"y\":{\"field\":\"y\"}},\"id\":\"1577\",\"type\":\"Line\"},{\"attributes\":{\"axis\":{\"id\":\"1410\"},\"coordinates\":null,\"group\":null,\"ticker\":null},\"id\":\"1413\",\"type\":\"Grid\"},{\"attributes\":{\"line_color\":\"green\",\"x\":{\"field\":\"x\"},\"y\":{\"field\":\"y\"}},\"id\":\"1576\",\"type\":\"Line\"},{\"attributes\":{},\"id\":\"1471\",\"type\":\"AllLabels\"},{\"attributes\":{\"fill_alpha\":{\"value\":0.2},\"fill_color\":{\"value\":\"green\"},\"hatch_alpha\":{\"value\":0.2},\"hatch_color\":{\"value\":\"green\"},\"line_alpha\":{\"value\":0.2},\"line_color\":{\"value\":\"green\"},\"x\":{\"field\":\"x\"},\"y\":{\"field\":\"y\"}},\"id\":\"1533\",\"type\":\"Scatter\"},{\"attributes\":{\"coordinates\":null,\"data_source\":{\"id\":\"1530\"},\"glyph\":{\"id\":\"1531\"},\"group\":null,\"hover_glyph\":null,\"muted_glyph\":{\"id\":\"1533\"},\"nonselection_glyph\":{\"id\":\"1532\"},\"view\":{\"id\":\"1535\"}},\"id\":\"1534\",\"type\":\"GlyphRenderer\"},{\"attributes\":{},\"id\":\"1573\",\"type\":\"Selection\"},{\"attributes\":{\"coordinates\":null,\"data_source\":{\"id\":\"1432\"},\"glyph\":{\"id\":\"1433\"},\"group\":null,\"hover_glyph\":null,\"muted_glyph\":{\"id\":\"1435\"},\"nonselection_glyph\":{\"id\":\"1434\"},\"view\":{\"id\":\"1437\"}},\"id\":\"1436\",\"type\":\"GlyphRenderer\"},{\"attributes\":{\"axis\":{\"id\":\"1414\"},\"coordinates\":null,\"dimension\":1,\"group\":null,\"ticker\":null},\"id\":\"1417\",\"type\":\"Grid\"},{\"attributes\":{\"fill_alpha\":{\"value\":0.1},\"fill_color\":{\"value\":\"green\"},\"hatch_alpha\":{\"value\":0.1},\"hatch_color\":{\"value\":\"green\"},\"line_alpha\":{\"value\":0.1},\"line_color\":{\"value\":\"green\"},\"x\":{\"field\":\"x\"},\"y\":{\"field\":\"y\"}},\"id\":\"1532\",\"type\":\"Scatter\"},{\"attributes\":{},\"id\":\"1415\",\"type\":\"BasicTicker\"},{\"attributes\":{\"source\":{\"id\":\"1530\"}},\"id\":\"1535\",\"type\":\"CDSView\"},{\"attributes\":{},\"id\":\"1472\",\"type\":\"UnionRenderers\"},{\"attributes\":{\"coordinates\":null,\"data_source\":{\"id\":\"1575\"},\"glyph\":{\"id\":\"1576\"},\"group\":null,\"hover_glyph\":null,\"muted_glyph\":{\"id\":\"1578\"},\"nonselection_glyph\":{\"id\":\"1577\"},\"view\":{\"id\":\"1580\"}},\"id\":\"1579\",\"type\":\"GlyphRenderer\"},{\"attributes\":{},\"id\":\"1419\",\"type\":\"WheelZoomTool\"},{\"attributes\":{\"data\":{\"x\":{\"__ndarray__\":\"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\",\"dtype\":\"float64\",\"order\":\"little\",\"shape\":[398]},\"y\":{\"__ndarray__\":\"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\",\"dtype\":\"float64\",\"order\":\"little\",\"shape\":[398]}},\"selected\":{\"id\":\"1573\"},\"selection_policy\":{\"id\":\"1572\"}},\"id\":\"1530\",\"type\":\"ColumnDataSource\"},{\"attributes\":{},\"id\":\"1418\",\"type\":\"PanTool\"},{\"attributes\":{\"source\":{\"id\":\"1432\"}},\"id\":\"1437\",\"type\":\"CDSView\"},{\"attributes\":{\"fill_color\":{\"value\":\"green\"},\"hatch_color\":{\"value\":\"green\"},\"line_color\":{\"value\":\"green\"},\"x\":{\"field\":\"x\"},\"y\":{\"field\":\"y\"}},\"id\":\"1531\",\"type\":\"Scatter\"},{\"attributes\":{\"overlay\":{\"id\":\"1424\"}},\"id\":\"1420\",\"type\":\"BoxZoomTool\"},{\"attributes\":{},\"id\":\"1473\",\"type\":\"Selection\"},{\"attributes\":{\"data\":{\"x\":{\"__ndarray__\":\"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\",\"dtype\":\"float64\",\"order\":\"little\",\"shape\":[398]},\"y\":{\"__ndarray__\":\"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\",\"dtype\":\"float64\",\"order\":\"little\",\"shape\":[398]}},\"selected\":{\"id\":\"1473\"},\"selection_policy\":{\"id\":\"1472\"}},\"id\":\"1432\",\"type\":\"ColumnDataSource\"},{\"attributes\":{},\"id\":\"1572\",\"type\":\"UnionRenderers\"},{\"attributes\":{},\"id\":\"1421\",\"type\":\"SaveTool\"},{\"attributes\":{},\"id\":\"1422\",\"type\":\"ResetTool\"},{\"attributes\":{},\"id\":\"1620\",\"type\":\"Selection\"},{\"attributes\":{},\"id\":\"1470\",\"type\":\"BasicTickFormatter\"},{\"attributes\":{\"bottom_units\":\"screen\",\"coordinates\":null,\"fill_alpha\":0.5,\"fill_color\":\"lightgrey\",\"group\":null,\"left_units\":\"screen\",\"level\":\"overlay\",\"line_alpha\":1.0,\"line_color\":\"black\",\"line_dash\":[4,4],\"line_width\":2,\"right_units\":\"screen\",\"syncable\":false,\"top_units\":\"screen\"},\"id\":\"1424\",\"type\":\"BoxAnnotation\"}],\"root_ids\":[\"1401\"]},\"title\":\"Bokeh Application\",\"version\":\"2.4.3\"}};\n  const render_items = [{\"docid\":\"46277ba1-3bcc-40fb-947a-9b6aded794c5\",\"root_ids\":[\"1401\"],\"roots\":{\"1401\":\"db0c266f-346a-4bef-abfa-6cd456521e9d\"}}];\n  root.Bokeh.embed.embed_items_notebook(docs_json, render_items);\n  }\n  if (root.Bokeh !== undefined) {\n    embed_document(root);\n  } else {\n    let attempts = 0;\n    const timer = setInterval(function(root) {\n      if (root.Bokeh !== undefined) {\n        clearInterval(timer);\n        embed_document(root);\n      } else {\n        attempts++;\n        if (attempts > 100) {\n          clearInterval(timer);\n          console.log(\"Bokeh: ERROR: Unable to run BokehJS code because BokehJS library is missing\");\n        }\n      }\n    }, 10, root)\n  }\n})(window);",
      "application/vnd.bokehjs_exec.v0+json": ""
     },
     "metadata": {
      "application/vnd.bokehjs_exec.v0+json": {
       "id": "1401"
      }
     },
     "output_type": "display_data"
    }
   ],
   "source": [
    "X=np.concatenate([x.reshape(-1,1),np.ones((x.shape[0],1))],axis=1)\n",
    "D = np.dot(X.transpose(),X)\n",
    "M = np.dot(np.linalg.inv(D),np.dot(X.transpose(),Y))\n",
    "Yhat = np.dot(X,M)\n",
    "f.scatter(x=x,y=Yhat,color='green')\n",
    "f.line(x=x,y=Yhat,color='green')\n",
    "show(f)"
   ]
  },
  {
   "cell_type": "markdown",
   "metadata": {},
   "source": [
    "### Residuals\n",
    "\n",
    "One way to evaluate the fit of the line to the data is to compare Y and Yhat.  Let's make a scatter plot of Y vs Yhat to see\n",
    "how they compare.  If the fit is good, the points should cluster around the diagonal line y=x.\n",
    "\n"
   ]
  },
  {
   "cell_type": "code",
   "execution_count": 24,
   "metadata": {},
   "outputs": [
    {
     "data": {
      "text/html": [
       "\n",
       "  <div class=\"bk-root\" id=\"eb32c435-9bd5-45fa-aa98-81443c0dafdf\" data-root-id=\"1697\"></div>\n"
      ]
     },
     "metadata": {},
     "output_type": "display_data"
    },
    {
     "data": {
      "application/javascript": "(function(root) {\n  function embed_document(root) {\n  const docs_json = {\"03a9ca0a-3a8a-4d12-bae4-1a3eaedf176c\":{\"defs\":[],\"roots\":{\"references\":[{\"attributes\":{\"below\":[{\"id\":\"1708\"}],\"center\":[{\"id\":\"1711\"},{\"id\":\"1715\"}],\"left\":[{\"id\":\"1712\"}],\"renderers\":[{\"id\":\"1734\"},{\"id\":\"1740\"}],\"title\":{\"id\":\"1698\"},\"toolbar\":{\"id\":\"1723\"},\"x_range\":{\"id\":\"1700\"},\"x_scale\":{\"id\":\"1704\"},\"y_range\":{\"id\":\"1702\"},\"y_scale\":{\"id\":\"1706\"}},\"id\":\"1697\",\"subtype\":\"Figure\",\"type\":\"Plot\"},{\"attributes\":{\"axis_label\":\"x\",\"coordinates\":null,\"formatter\":{\"id\":\"1788\"},\"group\":null,\"major_label_policy\":{\"id\":\"1789\"},\"ticker\":{\"id\":\"1709\"}},\"id\":\"1708\",\"type\":\"LinearAxis\"},{\"attributes\":{\"fill_alpha\":{\"value\":0.1},\"fill_color\":{\"value\":\"#1f77b4\"},\"hatch_alpha\":{\"value\":0.1},\"line_alpha\":{\"value\":0.1},\"line_color\":{\"value\":\"#1f77b4\"},\"x\":{\"field\":\"x\"},\"y\":{\"field\":\"y\"}},\"id\":\"1732\",\"type\":\"Scatter\"},{\"attributes\":{},\"id\":\"1720\",\"type\":\"ResetTool\"},{\"attributes\":{},\"id\":\"1788\",\"type\":\"BasicTickFormatter\"},{\"attributes\":{},\"id\":\"1702\",\"type\":\"DataRange1d\"},{\"attributes\":{\"fill_color\":{\"value\":\"#1f77b4\"},\"line_color\":{\"value\":\"#1f77b4\"},\"x\":{\"field\":\"x\"},\"y\":{\"field\":\"y\"}},\"id\":\"1731\",\"type\":\"Scatter\"},{\"attributes\":{},\"id\":\"1786\",\"type\":\"AllLabels\"},{\"attributes\":{},\"id\":\"1700\",\"type\":\"DataRange1d\"},{\"attributes\":{},\"id\":\"1721\",\"type\":\"HelpTool\"},{\"attributes\":{\"axis\":{\"id\":\"1712\"},\"coordinates\":null,\"dimension\":1,\"group\":null,\"ticker\":null},\"id\":\"1715\",\"type\":\"Grid\"},{\"attributes\":{},\"id\":\"1713\",\"type\":\"BasicTicker\"},{\"attributes\":{\"overlay\":{\"id\":\"1722\"}},\"id\":\"1718\",\"type\":\"BoxZoomTool\"},{\"attributes\":{},\"id\":\"1791\",\"type\":\"Selection\"},{\"attributes\":{},\"id\":\"1719\",\"type\":\"SaveTool\"},{\"attributes\":{\"tools\":[{\"id\":\"1716\"},{\"id\":\"1717\"},{\"id\":\"1718\"},{\"id\":\"1719\"},{\"id\":\"1720\"},{\"id\":\"1721\"}]},\"id\":\"1723\",\"type\":\"Toolbar\"},{\"attributes\":{},\"id\":\"1792\",\"type\":\"UnionRenderers\"},{\"attributes\":{},\"id\":\"1717\",\"type\":\"WheelZoomTool\"},{\"attributes\":{},\"id\":\"1716\",\"type\":\"PanTool\"},{\"attributes\":{},\"id\":\"1793\",\"type\":\"Selection\"},{\"attributes\":{\"bottom_units\":\"screen\",\"coordinates\":null,\"fill_alpha\":0.5,\"fill_color\":\"lightgrey\",\"group\":null,\"left_units\":\"screen\",\"level\":\"overlay\",\"line_alpha\":1.0,\"line_color\":\"black\",\"line_dash\":[4,4],\"line_width\":2,\"right_units\":\"screen\",\"syncable\":false,\"top_units\":\"screen\"},\"id\":\"1722\",\"type\":\"BoxAnnotation\"},{\"attributes\":{\"fill_alpha\":{\"value\":0.2},\"fill_color\":{\"value\":\"#1f77b4\"},\"hatch_alpha\":{\"value\":0.2},\"line_alpha\":{\"value\":0.2},\"line_color\":{\"value\":\"#1f77b4\"},\"x\":{\"field\":\"x\"},\"y\":{\"field\":\"y\"}},\"id\":\"1733\",\"type\":\"Scatter\"},{\"attributes\":{\"source\":{\"id\":\"1736\"}},\"id\":\"1741\",\"type\":\"CDSView\"},{\"attributes\":{\"coordinates\":null,\"data_source\":{\"id\":\"1736\"},\"glyph\":{\"id\":\"1737\"},\"group\":null,\"hover_glyph\":null,\"muted_glyph\":{\"id\":\"1739\"},\"nonselection_glyph\":{\"id\":\"1738\"},\"view\":{\"id\":\"1741\"}},\"id\":\"1740\",\"type\":\"GlyphRenderer\"},{\"attributes\":{\"line_alpha\":0.1,\"line_color\":\"#1f77b4\",\"x\":{\"field\":\"x\"},\"y\":{\"field\":\"y\"}},\"id\":\"1738\",\"type\":\"Line\"},{\"attributes\":{\"line_alpha\":0.2,\"line_color\":\"#1f77b4\",\"x\":{\"field\":\"x\"},\"y\":{\"field\":\"y\"}},\"id\":\"1739\",\"type\":\"Line\"},{\"attributes\":{},\"id\":\"1789\",\"type\":\"AllLabels\"},{\"attributes\":{},\"id\":\"1790\",\"type\":\"UnionRenderers\"},{\"attributes\":{\"source\":{\"id\":\"1730\"}},\"id\":\"1735\",\"type\":\"CDSView\"},{\"attributes\":{\"data\":{\"x\":{\"__ndarray__\":\"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\",\"dtype\":\"float64\",\"order\":\"little\",\"shape\":[398]},\"y\":{\"__ndarray__\":\"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\",\"dtype\":\"float64\",\"order\":\"little\",\"shape\":[398]}},\"selected\":{\"id\":\"1791\"},\"selection_policy\":{\"id\":\"1790\"}},\"id\":\"1730\",\"type\":\"ColumnDataSource\"},{\"attributes\":{\"coordinates\":null,\"data_source\":{\"id\":\"1730\"},\"glyph\":{\"id\":\"1731\"},\"group\":null,\"hover_glyph\":null,\"muted_glyph\":{\"id\":\"1733\"},\"nonselection_glyph\":{\"id\":\"1732\"},\"view\":{\"id\":\"1735\"}},\"id\":\"1734\",\"type\":\"GlyphRenderer\"},{\"attributes\":{\"axis\":{\"id\":\"1708\"},\"coordinates\":null,\"group\":null,\"ticker\":null},\"id\":\"1711\",\"type\":\"Grid\"},{\"attributes\":{\"axis_label\":\"Yhat-Y\",\"coordinates\":null,\"formatter\":{\"id\":\"1785\"},\"group\":null,\"major_label_policy\":{\"id\":\"1786\"},\"ticker\":{\"id\":\"1713\"}},\"id\":\"1712\",\"type\":\"LinearAxis\"},{\"attributes\":{},\"id\":\"1709\",\"type\":\"BasicTicker\"},{\"attributes\":{\"data\":{\"x\":[68.0,455.0],\"y\":[0,0]},\"selected\":{\"id\":\"1793\"},\"selection_policy\":{\"id\":\"1792\"}},\"id\":\"1736\",\"type\":\"ColumnDataSource\"},{\"attributes\":{},\"id\":\"1706\",\"type\":\"LinearScale\"},{\"attributes\":{\"line_color\":\"#1f77b4\",\"x\":{\"field\":\"x\"},\"y\":{\"field\":\"y\"}},\"id\":\"1737\",\"type\":\"Line\"},{\"attributes\":{\"coordinates\":null,\"group\":null,\"text\":\"Difference between Measured and Predicted Values\"},\"id\":\"1698\",\"type\":\"Title\"},{\"attributes\":{},\"id\":\"1785\",\"type\":\"BasicTickFormatter\"},{\"attributes\":{},\"id\":\"1704\",\"type\":\"LinearScale\"}],\"root_ids\":[\"1697\"]},\"title\":\"Bokeh Application\",\"version\":\"2.4.3\"}};\n  const render_items = [{\"docid\":\"03a9ca0a-3a8a-4d12-bae4-1a3eaedf176c\",\"root_ids\":[\"1697\"],\"roots\":{\"1697\":\"eb32c435-9bd5-45fa-aa98-81443c0dafdf\"}}];\n  root.Bokeh.embed.embed_items_notebook(docs_json, render_items);\n  }\n  if (root.Bokeh !== undefined) {\n    embed_document(root);\n  } else {\n    let attempts = 0;\n    const timer = setInterval(function(root) {\n      if (root.Bokeh !== undefined) {\n        clearInterval(timer);\n        embed_document(root);\n      } else {\n        attempts++;\n        if (attempts > 100) {\n          clearInterval(timer);\n          console.log(\"Bokeh: ERROR: Unable to run BokehJS code because BokehJS library is missing\");\n        }\n      }\n    }, 10, root)\n  }\n})(window);",
      "application/vnd.bokehjs_exec.v0+json": ""
     },
     "metadata": {
      "application/vnd.bokehjs_exec.v0+json": {
       "id": "1697"
      }
     },
     "output_type": "display_data"
    }
   ],
   "source": [
    "\n",
    "show(comparison_plot(x,Y,Yhat))"
   ]
  },
  {
   "cell_type": "code",
   "execution_count": 25,
   "metadata": {},
   "outputs": [
    {
     "name": "stdout",
     "output_type": "stream",
     "text": [
      "MSE=21.5261604508619\n"
     ]
    }
   ],
   "source": [
    "E = np.sum(np.square(Y-Yhat))\n",
    "print('MSE={}'.format(E/Y.shape[0]))"
   ]
  },
  {
   "cell_type": "markdown",
   "metadata": {},
   "source": [
    "Our MSE is 21.56.\n",
    "\n",
    "Notice that there are a lot of cars with Yhat=30 mpg but whose true mpg (Y) are between 15 and almot 50 mpg.  This means that, while engine displacement may be a good predictor of mileage for cars with relatively low mileage, among cars with higher mileage, something else must be going on."
   ]
  },
  {
   "cell_type": "markdown",
   "metadata": {},
   "source": [
    "### Multivariate Data\n",
    "\n",
    "For our first experiments with multivariate data, we will start with simulated data.\n",
    "\n",
    "\n"
   ]
  },
  {
   "cell_type": "code",
   "execution_count": 27,
   "metadata": {},
   "outputs": [],
   "source": [
    "data = np.genfromtxt('data/multivar_simulated/data.csv',skip_header=1,delimiter=',')"
   ]
  },
  {
   "cell_type": "markdown",
   "metadata": {},
   "source": [
    "Let's look at the data, just the first few rows."
   ]
  },
  {
   "cell_type": "code",
   "execution_count": 28,
   "metadata": {},
   "outputs": [
    {
     "data": {
      "text/plain": [
       "array([[ 0.        ,  9.22345149,  1.62488669, -0.33204394],\n",
       "       [ 1.        , -6.51121434,  0.25676938,  4.16345627],\n",
       "       [ 2.        , -3.83393779,  1.78444569,  3.73164655]])"
      ]
     },
     "execution_count": 28,
     "metadata": {},
     "output_type": "execute_result"
    }
   ],
   "source": [
    "data[:3,:]"
   ]
  },
  {
   "cell_type": "markdown",
   "metadata": {},
   "source": [
    "As the README file says, the first column (column 0) is just the row number. Column 1 is the response variable Y,\n",
    "and columns 2 and 3 are the features"
   ]
  },
  {
   "cell_type": "code",
   "execution_count": 29,
   "metadata": {},
   "outputs": [],
   "source": [
    "Y = data[:,1]\n",
    "X = data[:,2:]"
   ]
  },
  {
   "cell_type": "markdown",
   "metadata": {},
   "source": [
    "We append a column of ones to the data matrix."
   ]
  },
  {
   "cell_type": "markdown",
   "metadata": {},
   "source": [
    "Let's look at the relationship between the three columns.  First, how does the response Y depend on\n",
    "the two columns of data? Plot Y vs X0 and X1 and show the result."
   ]
  },
  {
   "cell_type": "code",
   "execution_count": 30,
   "metadata": {},
   "outputs": [],
   "source": [
    "#f0 = figure()\n",
    "#f0.xaxis.axis_label=\n",
    "#f0.yaxis.axis_label = \n",
    "#f0.scatter()\n",
    "#f1 = figure()\n",
    "#f1.xaxis.axis_label = \n",
    "#f1.yaxis.axis_label = \n",
    "#f1.scatter()\n",
    "#show(gridplot())"
   ]
  },
  {
   "cell_type": "code",
   "execution_count": 32,
   "metadata": {},
   "outputs": [
    {
     "data": {
      "text/html": [
       "\n",
       "  <div class=\"bk-root\" id=\"499bc432-4cd4-41a5-b735-a9a1fd4cd133\" data-root-id=\"2243\"></div>\n"
      ]
     },
     "metadata": {},
     "output_type": "display_data"
    },
    {
     "data": {
      "application/javascript": "(function(root) {\n  function embed_document(root) {\n  const docs_json = {\"01b9d047-2b54-47c1-9b09-4efe2533fd58\":{\"defs\":[],\"roots\":{\"references\":[{\"attributes\":{\"children\":[{\"id\":\"2242\"},{\"id\":\"2240\"}]},\"id\":\"2243\",\"type\":\"Column\"},{\"attributes\":{\"below\":[{\"id\":\"2188\"}],\"center\":[{\"id\":\"2191\"},{\"id\":\"2195\"}],\"height\":300,\"left\":[{\"id\":\"2192\"}],\"renderers\":[{\"id\":\"2214\"}],\"title\":{\"id\":\"2228\"},\"toolbar\":{\"id\":\"2203\"},\"toolbar_location\":null,\"width\":300,\"x_range\":{\"id\":\"2180\"},\"x_scale\":{\"id\":\"2184\"},\"y_range\":{\"id\":\"2182\"},\"y_scale\":{\"id\":\"2186\"}},\"id\":\"2179\",\"subtype\":\"Figure\",\"type\":\"Plot\"},{\"attributes\":{\"data\":{\"x\":{\"__ndarray__\":\"G983L4n/+T/o1ULW6G7QPwhxXu0Wjfw/XWO3xHLfEUBvRqtGFOP6P8YVeTJ8U+A/GjXhugrP/T9X/xp5VVfxP6AGCgiBDdM/AFDfd8pp+j8CaIZdVKwGQC0hyr26/Q5AhuUexZaV+T96Sl/eJnUHQHAChMsSoMo/rn4cxRIxA0A4KbDdpSsLQAdPjtw+aApAUISCbP17zz9wzf8YBUL+Pxv+vlcfywBAsf0A+fOk/z8Ibr3whw4FQJ4kPNoyZQVARZDlxrLVBEB7AbGiI139P2J0NDHBsgBAIL9kd6WR4z/QonJoU3gGQN6e7GXpmOQ/SGcs9ejfAcDMjKP+2RoJQAQtFg8sGQhAiX8bq354CEBr94Grb5QMQHhHTo/KM9I/QAEzYUyJuD+cUvE56OTfP9t8y3m+pwZAmYy5Z1Os8j8+PnvbClcAQCKLOsz54eo/9kYPPoXiDkDq52T8/IwYQAxVFz58FA5A0GGcGu9r37/04Y0Tnqz4P2eyQe40LvA/B2SqYql9BUASn9aVKLcPQJT0K9h52A9ASGaePv1I1j+tvHoRzm0IQJyqKJJv2QdAOEc1qJY2+D9+CzMqLzgRQNCgZnso0s6/MPX8HATf0D+Usw7BbzD5PyIQ0u2tmv4/gCxzkWGT5T+oXu2LD1MMQNJnkEReCBBAtKg+TaGq1j/zFy9yWGQIQIYiMc6tYgNAUD5lqDF4/b9U53OHb9oEQF6pBd6P7w9AgDVa/IZCkz+fcMxILGMAQLgcPyyLqBJAPsjTXMRrDEB2xtOOHSoSQBaRSwM8HBNA\",\"dtype\":\"float64\",\"order\":\"little\",\"shape\":[75]},\"y\":{\"__ndarray__\":\"SA35O2hyIkDq8qjFewsawIm8EJPnqw7AuLNcFRlc5T/yKatD9I4NwBzeUdYYwxTAKhxttn3lHMD+kE1sNB0FQF5iworpNCfA2kOPX4klDUB6TRv5C/cUQNzqO+FKmg/AwF1BVXq3KsA4pvsq8twlwGV7SM+V3ijAwgWPW3qBH0A8hPfDEZUPwMB/t/Tg6qE/UOvSjU/tOcCJZ/OeM2IfwLy7HeugygZASeO/d8oD8r9Vscy5oB4uQJysSQg+DgXAwCI3CoXloj+wK36iwIvOPxTZ+0CSA9u/7gx2Z7wgGMBQ9Rsr5XMhQMDtPHHne68/RuacT9Xi4j/T13M7+38CQIGPjhhGFR9A3gPkCvbzOcDk6wkJroEDQBfEC3tc0QhA7LHQZqCZKECcnZYZ2i/nv0WbMSD1fiHA6kU3GYRXHkD1ffBko6glQI4isnJaBRXAhmscRKRwL0Dp8yZY/wEDwDZoSGyxpRZAJQ6YxfR0JsAgDNjR88EjwOWyOuGCXgNAavDfR3HaKMB6hOKm/goUwLUhqcAsmxVAz1wZmunpIcClwQ9X3FkRQNHSg/ganRPAqRnuaNhuGEDdIryAVoE4QMRI7oq5USjAuugyuGUZLcBWCJNSw3QbQPD9Bcasl8g/j9R3aNLQMsDWHpOPExUiwG6/+9rAxeU//U7SR4V1IcDKTem10YkVwI4Xv1+VliJACYAqdDkTIMCeUwZg7hARQNxloyDcNQLAyPiCzC+23L/hRtFwO2wewF4S9UTVAitA/ZWTPazEGkDG6lZQIzUcQK6Krr5ZeRFA\",\"dtype\":\"float64\",\"order\":\"little\",\"shape\":[75]}},\"selected\":{\"id\":\"2225\"},\"selection_policy\":{\"id\":\"2224\"}},\"id\":\"2173\",\"type\":\"ColumnDataSource\"},{\"attributes\":{},\"id\":\"2199\",\"type\":\"SaveTool\"},{\"attributes\":{},\"id\":\"2225\",\"type\":\"Selection\"},{\"attributes\":{\"bottom_units\":\"screen\",\"coordinates\":null,\"fill_alpha\":0.5,\"fill_color\":\"lightgrey\",\"group\":null,\"left_units\":\"screen\",\"level\":\"overlay\",\"line_alpha\":1.0,\"line_color\":\"black\",\"line_dash\":[4,4],\"line_width\":2,\"right_units\":\"screen\",\"syncable\":false,\"top_units\":\"screen\"},\"id\":\"2202\",\"type\":\"BoxAnnotation\"},{\"attributes\":{},\"id\":\"2200\",\"type\":\"ResetTool\"},{\"attributes\":{\"fill_color\":{\"value\":\"#1f77b4\"},\"line_color\":{\"value\":\"#1f77b4\"},\"x\":{\"field\":\"x\"},\"y\":{\"field\":\"y\"}},\"id\":\"2211\",\"type\":\"Scatter\"},{\"attributes\":{\"coordinates\":null,\"data_source\":{\"id\":\"2173\"},\"glyph\":{\"id\":\"2174\"},\"group\":null,\"hover_glyph\":null,\"muted_glyph\":{\"id\":\"2176\"},\"nonselection_glyph\":{\"id\":\"2175\"},\"view\":{\"id\":\"2178\"}},\"id\":\"2177\",\"type\":\"GlyphRenderer\"},{\"attributes\":{},\"id\":\"2163\",\"type\":\"ResetTool\"},{\"attributes\":{\"coordinates\":null,\"data_source\":{\"id\":\"2210\"},\"glyph\":{\"id\":\"2211\"},\"group\":null,\"hover_glyph\":null,\"muted_glyph\":{\"id\":\"2213\"},\"nonselection_glyph\":{\"id\":\"2212\"},\"view\":{\"id\":\"2215\"}},\"id\":\"2214\",\"type\":\"GlyphRenderer\"},{\"attributes\":{},\"id\":\"2156\",\"type\":\"BasicTicker\"},{\"attributes\":{\"below\":[{\"id\":\"2151\"}],\"center\":[{\"id\":\"2154\"},{\"id\":\"2158\"}],\"height\":300,\"left\":[{\"id\":\"2155\"}],\"renderers\":[{\"id\":\"2177\"}],\"title\":{\"id\":\"2216\"},\"toolbar\":{\"id\":\"2166\"},\"toolbar_location\":null,\"width\":300,\"x_range\":{\"id\":\"2143\"},\"x_scale\":{\"id\":\"2147\"},\"y_range\":{\"id\":\"2145\"},\"y_scale\":{\"id\":\"2149\"}},\"id\":\"2142\",\"subtype\":\"Figure\",\"type\":\"Plot\"},{\"attributes\":{\"fill_alpha\":{\"value\":0.2},\"fill_color\":{\"value\":\"#1f77b4\"},\"hatch_alpha\":{\"value\":0.2},\"line_alpha\":{\"value\":0.2},\"line_color\":{\"value\":\"#1f77b4\"},\"x\":{\"field\":\"x\"},\"y\":{\"field\":\"y\"}},\"id\":\"2176\",\"type\":\"Scatter\"},{\"attributes\":{},\"id\":\"2235\",\"type\":\"AllLabels\"},{\"attributes\":{},\"id\":\"2236\",\"type\":\"UnionRenderers\"},{\"attributes\":{\"bottom_units\":\"screen\",\"coordinates\":null,\"fill_alpha\":0.5,\"fill_color\":\"lightgrey\",\"group\":null,\"left_units\":\"screen\",\"level\":\"overlay\",\"line_alpha\":1.0,\"line_color\":\"black\",\"line_dash\":[4,4],\"line_width\":2,\"right_units\":\"screen\",\"syncable\":false,\"top_units\":\"screen\"},\"id\":\"2165\",\"type\":\"BoxAnnotation\"},{\"attributes\":{\"fill_color\":{\"value\":\"#1f77b4\"},\"line_color\":{\"value\":\"#1f77b4\"},\"x\":{\"field\":\"x\"},\"y\":{\"field\":\"y\"}},\"id\":\"2174\",\"type\":\"Scatter\"},{\"attributes\":{},\"id\":\"2237\",\"type\":\"Selection\"},{\"attributes\":{\"coordinates\":null,\"group\":null},\"id\":\"2228\",\"type\":\"Title\"},{\"attributes\":{\"toolbar\":{\"id\":\"2241\"},\"toolbar_location\":\"above\"},\"id\":\"2242\",\"type\":\"ToolbarBox\"},{\"attributes\":{},\"id\":\"2149\",\"type\":\"LinearScale\"},{\"attributes\":{},\"id\":\"2193\",\"type\":\"BasicTicker\"},{\"attributes\":{},\"id\":\"2152\",\"type\":\"BasicTicker\"},{\"attributes\":{\"source\":{\"id\":\"2210\"}},\"id\":\"2215\",\"type\":\"CDSView\"},{\"attributes\":{\"source\":{\"id\":\"2173\"}},\"id\":\"2178\",\"type\":\"CDSView\"},{\"attributes\":{\"axis\":{\"id\":\"2151\"},\"coordinates\":null,\"group\":null,\"ticker\":null},\"id\":\"2154\",\"type\":\"Grid\"},{\"attributes\":{\"fill_alpha\":{\"value\":0.1},\"fill_color\":{\"value\":\"#1f77b4\"},\"hatch_alpha\":{\"value\":0.1},\"line_alpha\":{\"value\":0.1},\"line_color\":{\"value\":\"#1f77b4\"},\"x\":{\"field\":\"x\"},\"y\":{\"field\":\"y\"}},\"id\":\"2175\",\"type\":\"Scatter\"},{\"attributes\":{},\"id\":\"2182\",\"type\":\"DataRange1d\"},{\"attributes\":{},\"id\":\"2180\",\"type\":\"DataRange1d\"},{\"attributes\":{},\"id\":\"2184\",\"type\":\"LinearScale\"},{\"attributes\":{\"axis_label\":\"X1\",\"coordinates\":null,\"formatter\":{\"id\":\"2234\"},\"group\":null,\"major_label_policy\":{\"id\":\"2235\"},\"ticker\":{\"id\":\"2189\"}},\"id\":\"2188\",\"type\":\"LinearAxis\"},{\"attributes\":{},\"id\":\"2164\",\"type\":\"HelpTool\"},{\"attributes\":{},\"id\":\"2147\",\"type\":\"LinearScale\"},{\"attributes\":{\"axis_label\":\"Y\",\"coordinates\":null,\"formatter\":{\"id\":\"2231\"},\"group\":null,\"major_label_policy\":{\"id\":\"2232\"},\"ticker\":{\"id\":\"2193\"}},\"id\":\"2192\",\"type\":\"LinearAxis\"},{\"attributes\":{},\"id\":\"2219\",\"type\":\"BasicTickFormatter\"},{\"attributes\":{\"children\":[[{\"id\":\"2142\"},0,0],[{\"id\":\"2179\"},0,1]]},\"id\":\"2240\",\"type\":\"GridBox\"},{\"attributes\":{},\"id\":\"2186\",\"type\":\"LinearScale\"},{\"attributes\":{},\"id\":\"2234\",\"type\":\"BasicTickFormatter\"},{\"attributes\":{},\"id\":\"2201\",\"type\":\"HelpTool\"},{\"attributes\":{\"coordinates\":null,\"group\":null},\"id\":\"2216\",\"type\":\"Title\"},{\"attributes\":{\"axis_label\":\"Y\",\"coordinates\":null,\"formatter\":{\"id\":\"2219\"},\"group\":null,\"major_label_policy\":{\"id\":\"2220\"},\"ticker\":{\"id\":\"2156\"}},\"id\":\"2155\",\"type\":\"LinearAxis\"},{\"attributes\":{\"axis_label\":\"X0\",\"coordinates\":null,\"formatter\":{\"id\":\"2222\"},\"group\":null,\"major_label_policy\":{\"id\":\"2223\"},\"ticker\":{\"id\":\"2152\"}},\"id\":\"2151\",\"type\":\"LinearAxis\"},{\"attributes\":{},\"id\":\"2220\",\"type\":\"AllLabels\"},{\"attributes\":{\"fill_alpha\":{\"value\":0.2},\"fill_color\":{\"value\":\"#1f77b4\"},\"hatch_alpha\":{\"value\":0.2},\"line_alpha\":{\"value\":0.2},\"line_color\":{\"value\":\"#1f77b4\"},\"x\":{\"field\":\"x\"},\"y\":{\"field\":\"y\"}},\"id\":\"2213\",\"type\":\"Scatter\"},{\"attributes\":{\"axis\":{\"id\":\"2188\"},\"coordinates\":null,\"group\":null,\"ticker\":null},\"id\":\"2191\",\"type\":\"Grid\"},{\"attributes\":{},\"id\":\"2189\",\"type\":\"BasicTicker\"},{\"attributes\":{\"axis\":{\"id\":\"2155\"},\"coordinates\":null,\"dimension\":1,\"group\":null,\"ticker\":null},\"id\":\"2158\",\"type\":\"Grid\"},{\"attributes\":{},\"id\":\"2222\",\"type\":\"BasicTickFormatter\"},{\"attributes\":{\"overlay\":{\"id\":\"2165\"}},\"id\":\"2161\",\"type\":\"BoxZoomTool\"},{\"attributes\":{},\"id\":\"2159\",\"type\":\"PanTool\"},{\"attributes\":{\"fill_alpha\":{\"value\":0.1},\"fill_color\":{\"value\":\"#1f77b4\"},\"hatch_alpha\":{\"value\":0.1},\"line_alpha\":{\"value\":0.1},\"line_color\":{\"value\":\"#1f77b4\"},\"x\":{\"field\":\"x\"},\"y\":{\"field\":\"y\"}},\"id\":\"2212\",\"type\":\"Scatter\"},{\"attributes\":{},\"id\":\"2223\",\"type\":\"AllLabels\"},{\"attributes\":{},\"id\":\"2145\",\"type\":\"DataRange1d\"},{\"attributes\":{},\"id\":\"2162\",\"type\":\"SaveTool\"},{\"attributes\":{},\"id\":\"2143\",\"type\":\"DataRange1d\"},{\"attributes\":{},\"id\":\"2231\",\"type\":\"BasicTickFormatter\"},{\"attributes\":{\"axis\":{\"id\":\"2192\"},\"coordinates\":null,\"dimension\":1,\"group\":null,\"ticker\":null},\"id\":\"2195\",\"type\":\"Grid\"},{\"attributes\":{\"toolbars\":[{\"id\":\"2166\"},{\"id\":\"2203\"}],\"tools\":[{\"id\":\"2159\"},{\"id\":\"2160\"},{\"id\":\"2161\"},{\"id\":\"2162\"},{\"id\":\"2163\"},{\"id\":\"2164\"},{\"id\":\"2196\"},{\"id\":\"2197\"},{\"id\":\"2198\"},{\"id\":\"2199\"},{\"id\":\"2200\"},{\"id\":\"2201\"}]},\"id\":\"2241\",\"type\":\"ProxyToolbar\"},{\"attributes\":{},\"id\":\"2160\",\"type\":\"WheelZoomTool\"},{\"attributes\":{\"tools\":[{\"id\":\"2196\"},{\"id\":\"2197\"},{\"id\":\"2198\"},{\"id\":\"2199\"},{\"id\":\"2200\"},{\"id\":\"2201\"}]},\"id\":\"2203\",\"type\":\"Toolbar\"},{\"attributes\":{},\"id\":\"2224\",\"type\":\"UnionRenderers\"},{\"attributes\":{},\"id\":\"2232\",\"type\":\"AllLabels\"},{\"attributes\":{},\"id\":\"2197\",\"type\":\"WheelZoomTool\"},{\"attributes\":{\"data\":{\"x\":{\"__ndarray__\":\"kJo1PTVA1b8AG3AUYacQQKTvQoFp2g1A3Drh3fbtEUCpxdndUokQQGCSThlYFAxALnhdYpoPFUBFA1p5uZb4PwJy+ySmlhNAfKluquwD+j90zcXquV/0P2vjfW5WrBJAdC0h3irdGECHW1UBRQsaQKyBfwrkKxVAzJ3zVdm24T+ZUTZX/EkRQFzvYab/yQ5A/3gbODdMIkDSOzYwrF8SQAOQA0yoxPg/Pmkfd1dMCUDoxOuhs2T0v47owwu6pxBAkkVu8UNAB0BmhfdE2y4HQPUR3KsWQwZAeubmjT97C0CMjtOsPgTvPz4H+qrghvg/RKOwSu/N7D8EahZbnnwDQEheRmmLA/M/VCTLSXUXJkCfsiCqqZYEQIbj95pi3/k/PD+k4PKN/r87y6aE2QkDQOH/9HuS0BVAgCDwQHGhwj8A8CLixaiDvwmYyupkngtAeAmQIApN7b/NceM9LzkVQKakT6/QPgRAgj5tlhU9EUBkaTv8lQkWQGyuoTiyBP4/bk1IX976G0BVSfE5/nQTQMpI9hUH8ANAQntIMVTBE0CXhF25x2f+P9wwdSPx7hJAfJOREQIX7D9OLfdxMSYHwDwlT7D08BRARIH8jKs1GEAM5Cl21uTjP+MJm2UuWgJAMK9HmfiVHUB4YpPGSi4YQORSut43IA1AON6KB5teEUAP7g3CgdkQQGzrbs4/w+Q/tsBeElqGB0D2t4FP4/j2P2qq56e3ChJAx6IUNCaa/D9UHyKjDakTQECYPdrihcw/HdEpFdaU/j8ql1VDJssDQEV/+HvQqAVA\",\"dtype\":\"float64\",\"order\":\"little\",\"shape\":[75]},\"y\":{\"__ndarray__\":\"SA35O2hyIkDq8qjFewsawIm8EJPnqw7AuLNcFRlc5T/yKatD9I4NwBzeUdYYwxTAKhxttn3lHMD+kE1sNB0FQF5iworpNCfA2kOPX4klDUB6TRv5C/cUQNzqO+FKmg/AwF1BVXq3KsA4pvsq8twlwGV7SM+V3ijAwgWPW3qBH0A8hPfDEZUPwMB/t/Tg6qE/UOvSjU/tOcCJZ/OeM2IfwLy7HeugygZASeO/d8oD8r9Vscy5oB4uQJysSQg+DgXAwCI3CoXloj+wK36iwIvOPxTZ+0CSA9u/7gx2Z7wgGMBQ9Rsr5XMhQMDtPHHne68/RuacT9Xi4j/T13M7+38CQIGPjhhGFR9A3gPkCvbzOcDk6wkJroEDQBfEC3tc0QhA7LHQZqCZKECcnZYZ2i/nv0WbMSD1fiHA6kU3GYRXHkD1ffBko6glQI4isnJaBRXAhmscRKRwL0Dp8yZY/wEDwDZoSGyxpRZAJQ6YxfR0JsAgDNjR88EjwOWyOuGCXgNAavDfR3HaKMB6hOKm/goUwLUhqcAsmxVAz1wZmunpIcClwQ9X3FkRQNHSg/ganRPAqRnuaNhuGEDdIryAVoE4QMRI7oq5USjAuugyuGUZLcBWCJNSw3QbQPD9Bcasl8g/j9R3aNLQMsDWHpOPExUiwG6/+9rAxeU//U7SR4V1IcDKTem10YkVwI4Xv1+VliJACYAqdDkTIMCeUwZg7hARQNxloyDcNQLAyPiCzC+23L/hRtFwO2wewF4S9UTVAitA/ZWTPazEGkDG6lZQIzUcQK6Krr5ZeRFA\",\"dtype\":\"float64\",\"order\":\"little\",\"shape\":[75]}},\"selected\":{\"id\":\"2237\"},\"selection_policy\":{\"id\":\"2236\"}},\"id\":\"2210\",\"type\":\"ColumnDataSource\"},{\"attributes\":{},\"id\":\"2196\",\"type\":\"PanTool\"},{\"attributes\":{\"overlay\":{\"id\":\"2202\"}},\"id\":\"2198\",\"type\":\"BoxZoomTool\"},{\"attributes\":{\"tools\":[{\"id\":\"2159\"},{\"id\":\"2160\"},{\"id\":\"2161\"},{\"id\":\"2162\"},{\"id\":\"2163\"},{\"id\":\"2164\"}]},\"id\":\"2166\",\"type\":\"Toolbar\"}],\"root_ids\":[\"2243\"]},\"title\":\"Bokeh Application\",\"version\":\"2.4.3\"}};\n  const render_items = [{\"docid\":\"01b9d047-2b54-47c1-9b09-4efe2533fd58\",\"root_ids\":[\"2243\"],\"roots\":{\"2243\":\"499bc432-4cd4-41a5-b735-a9a1fd4cd133\"}}];\n  root.Bokeh.embed.embed_items_notebook(docs_json, render_items);\n  }\n  if (root.Bokeh !== undefined) {\n    embed_document(root);\n  } else {\n    let attempts = 0;\n    const timer = setInterval(function(root) {\n      if (root.Bokeh !== undefined) {\n        clearInterval(timer);\n        embed_document(root);\n      } else {\n        attempts++;\n        if (attempts > 100) {\n          clearInterval(timer);\n          console.log(\"Bokeh: ERROR: Unable to run BokehJS code because BokehJS library is missing\");\n        }\n      }\n    }, 10, root)\n  }\n})(window);",
      "application/vnd.bokehjs_exec.v0+json": ""
     },
     "metadata": {
      "application/vnd.bokehjs_exec.v0+json": {
       "id": "2243"
      }
     },
     "output_type": "display_data"
    }
   ],
   "source": [
    "f0 = figure()\n",
    "f0.xaxis.axis_label='X0'\n",
    "f0.yaxis.axis_label = 'Y'\n",
    "f0.scatter(x=X[:,0],y=Y)\n",
    "f1 = figure()\n",
    "f1.xaxis.axis_label = 'X1'\n",
    "f1.yaxis.axis_label = 'Y'\n",
    "f1.scatter(x=X[:,1],y=Y)\n",
    "show(gridplot([[f0,f1]],width=300,height=300))"
   ]
  },
  {
   "cell_type": "markdown",
   "metadata": {},
   "source": [
    "It appears that increasing X0 increases Y, while increasing X1 decreases Y.  What about the relationship\n",
    "between X0 and X1? Plot this as well"
   ]
  },
  {
   "cell_type": "code",
   "execution_count": 33,
   "metadata": {},
   "outputs": [],
   "source": [
    "#f2 = figure()\n",
    "#f2.xaxis.axis_label = \n",
    "#f2.yaxis.axis_label = \n",
    "#f2.scatter()\n",
    "#show(f2)"
   ]
  },
  {
   "cell_type": "code",
   "execution_count": 34,
   "metadata": {},
   "outputs": [
    {
     "data": {
      "text/html": [
       "\n",
       "  <div class=\"bk-root\" id=\"a565d13f-0571-47d0-822e-122523ee7a8c\" data-root-id=\"2451\"></div>\n"
      ]
     },
     "metadata": {},
     "output_type": "display_data"
    },
    {
     "data": {
      "application/javascript": "(function(root) {\n  function embed_document(root) {\n  const docs_json = {\"bbb087a9-ced9-41d9-9416-d75b8b4a7223\":{\"defs\":[],\"roots\":{\"references\":[{\"attributes\":{\"below\":[{\"id\":\"2460\"}],\"center\":[{\"id\":\"2463\"},{\"id\":\"2467\"}],\"height\":300,\"left\":[{\"id\":\"2464\"}],\"renderers\":[{\"id\":\"2486\"}],\"title\":{\"id\":\"2585\"},\"toolbar\":{\"id\":\"2475\"},\"width\":300,\"x_range\":{\"id\":\"2452\"},\"x_scale\":{\"id\":\"2456\"},\"y_range\":{\"id\":\"2454\"},\"y_scale\":{\"id\":\"2458\"}},\"id\":\"2451\",\"subtype\":\"Figure\",\"type\":\"Plot\"},{\"attributes\":{\"data\":{\"x\":{\"__ndarray__\":\"G983L4n/+T/o1ULW6G7QPwhxXu0Wjfw/XWO3xHLfEUBvRqtGFOP6P8YVeTJ8U+A/GjXhugrP/T9X/xp5VVfxP6AGCgiBDdM/AFDfd8pp+j8CaIZdVKwGQC0hyr26/Q5AhuUexZaV+T96Sl/eJnUHQHAChMsSoMo/rn4cxRIxA0A4KbDdpSsLQAdPjtw+aApAUISCbP17zz9wzf8YBUL+Pxv+vlcfywBAsf0A+fOk/z8Ibr3whw4FQJ4kPNoyZQVARZDlxrLVBEB7AbGiI139P2J0NDHBsgBAIL9kd6WR4z/QonJoU3gGQN6e7GXpmOQ/SGcs9ejfAcDMjKP+2RoJQAQtFg8sGQhAiX8bq354CEBr94Grb5QMQHhHTo/KM9I/QAEzYUyJuD+cUvE56OTfP9t8y3m+pwZAmYy5Z1Os8j8+PnvbClcAQCKLOsz54eo/9kYPPoXiDkDq52T8/IwYQAxVFz58FA5A0GGcGu9r37/04Y0Tnqz4P2eyQe40LvA/B2SqYql9BUASn9aVKLcPQJT0K9h52A9ASGaePv1I1j+tvHoRzm0IQJyqKJJv2QdAOEc1qJY2+D9+CzMqLzgRQNCgZnso0s6/MPX8HATf0D+Usw7BbzD5PyIQ0u2tmv4/gCxzkWGT5T+oXu2LD1MMQNJnkEReCBBAtKg+TaGq1j/zFy9yWGQIQIYiMc6tYgNAUD5lqDF4/b9U53OHb9oEQF6pBd6P7w9AgDVa/IZCkz+fcMxILGMAQLgcPyyLqBJAPsjTXMRrDEB2xtOOHSoSQBaRSwM8HBNA\",\"dtype\":\"float64\",\"order\":\"little\",\"shape\":[75]},\"y\":{\"__ndarray__\":\"kJo1PTVA1b8AG3AUYacQQKTvQoFp2g1A3Drh3fbtEUCpxdndUokQQGCSThlYFAxALnhdYpoPFUBFA1p5uZb4PwJy+ySmlhNAfKluquwD+j90zcXquV/0P2vjfW5WrBJAdC0h3irdGECHW1UBRQsaQKyBfwrkKxVAzJ3zVdm24T+ZUTZX/EkRQFzvYab/yQ5A/3gbODdMIkDSOzYwrF8SQAOQA0yoxPg/Pmkfd1dMCUDoxOuhs2T0v47owwu6pxBAkkVu8UNAB0BmhfdE2y4HQPUR3KsWQwZAeubmjT97C0CMjtOsPgTvPz4H+qrghvg/RKOwSu/N7D8EahZbnnwDQEheRmmLA/M/VCTLSXUXJkCfsiCqqZYEQIbj95pi3/k/PD+k4PKN/r87y6aE2QkDQOH/9HuS0BVAgCDwQHGhwj8A8CLixaiDvwmYyupkngtAeAmQIApN7b/NceM9LzkVQKakT6/QPgRAgj5tlhU9EUBkaTv8lQkWQGyuoTiyBP4/bk1IX976G0BVSfE5/nQTQMpI9hUH8ANAQntIMVTBE0CXhF25x2f+P9wwdSPx7hJAfJOREQIX7D9OLfdxMSYHwDwlT7D08BRARIH8jKs1GEAM5Cl21uTjP+MJm2UuWgJAMK9HmfiVHUB4YpPGSi4YQORSut43IA1AON6KB5teEUAP7g3CgdkQQGzrbs4/w+Q/tsBeElqGB0D2t4FP4/j2P2qq56e3ChJAx6IUNCaa/D9UHyKjDakTQECYPdrihcw/HdEpFdaU/j8ql1VDJssDQEV/+HvQqAVA\",\"dtype\":\"float64\",\"order\":\"little\",\"shape\":[75]}},\"selected\":{\"id\":\"2594\"},\"selection_policy\":{\"id\":\"2593\"}},\"id\":\"2482\",\"type\":\"ColumnDataSource\"},{\"attributes\":{\"axis_label\":\"X1\",\"coordinates\":null,\"formatter\":{\"id\":\"2588\"},\"group\":null,\"major_label_policy\":{\"id\":\"2589\"},\"ticker\":{\"id\":\"2465\"}},\"id\":\"2464\",\"type\":\"LinearAxis\"},{\"attributes\":{},\"id\":\"2473\",\"type\":\"HelpTool\"},{\"attributes\":{\"axis_label\":\"X0\",\"coordinates\":null,\"formatter\":{\"id\":\"2591\"},\"group\":null,\"major_label_policy\":{\"id\":\"2592\"},\"ticker\":{\"id\":\"2461\"}},\"id\":\"2460\",\"type\":\"LinearAxis\"},{\"attributes\":{},\"id\":\"2588\",\"type\":\"BasicTickFormatter\"},{\"attributes\":{},\"id\":\"2589\",\"type\":\"AllLabels\"},{\"attributes\":{},\"id\":\"2454\",\"type\":\"DataRange1d\"},{\"attributes\":{},\"id\":\"2591\",\"type\":\"BasicTickFormatter\"},{\"attributes\":{},\"id\":\"2592\",\"type\":\"AllLabels\"},{\"attributes\":{},\"id\":\"2472\",\"type\":\"ResetTool\"},{\"attributes\":{\"tools\":[{\"id\":\"2468\"},{\"id\":\"2469\"},{\"id\":\"2470\"},{\"id\":\"2471\"},{\"id\":\"2472\"},{\"id\":\"2473\"}]},\"id\":\"2475\",\"type\":\"Toolbar\"},{\"attributes\":{\"source\":{\"id\":\"2482\"}},\"id\":\"2487\",\"type\":\"CDSView\"},{\"attributes\":{},\"id\":\"2471\",\"type\":\"SaveTool\"},{\"attributes\":{},\"id\":\"2452\",\"type\":\"DataRange1d\"},{\"attributes\":{\"coordinates\":null,\"data_source\":{\"id\":\"2482\"},\"glyph\":{\"id\":\"2483\"},\"group\":null,\"hover_glyph\":null,\"muted_glyph\":{\"id\":\"2485\"},\"nonselection_glyph\":{\"id\":\"2484\"},\"view\":{\"id\":\"2487\"}},\"id\":\"2486\",\"type\":\"GlyphRenderer\"},{\"attributes\":{\"fill_alpha\":{\"value\":0.1},\"fill_color\":{\"value\":\"#1f77b4\"},\"hatch_alpha\":{\"value\":0.1},\"line_alpha\":{\"value\":0.1},\"line_color\":{\"value\":\"#1f77b4\"},\"x\":{\"field\":\"x\"},\"y\":{\"field\":\"y\"}},\"id\":\"2484\",\"type\":\"Scatter\"},{\"attributes\":{\"fill_color\":{\"value\":\"#1f77b4\"},\"line_color\":{\"value\":\"#1f77b4\"},\"x\":{\"field\":\"x\"},\"y\":{\"field\":\"y\"}},\"id\":\"2483\",\"type\":\"Scatter\"},{\"attributes\":{\"overlay\":{\"id\":\"2474\"}},\"id\":\"2470\",\"type\":\"BoxZoomTool\"},{\"attributes\":{},\"id\":\"2593\",\"type\":\"UnionRenderers\"},{\"attributes\":{},\"id\":\"2461\",\"type\":\"BasicTicker\"},{\"attributes\":{},\"id\":\"2468\",\"type\":\"PanTool\"},{\"attributes\":{},\"id\":\"2594\",\"type\":\"Selection\"},{\"attributes\":{},\"id\":\"2456\",\"type\":\"LinearScale\"},{\"attributes\":{\"fill_alpha\":{\"value\":0.2},\"fill_color\":{\"value\":\"#1f77b4\"},\"hatch_alpha\":{\"value\":0.2},\"line_alpha\":{\"value\":0.2},\"line_color\":{\"value\":\"#1f77b4\"},\"x\":{\"field\":\"x\"},\"y\":{\"field\":\"y\"}},\"id\":\"2485\",\"type\":\"Scatter\"},{\"attributes\":{},\"id\":\"2469\",\"type\":\"WheelZoomTool\"},{\"attributes\":{\"axis\":{\"id\":\"2460\"},\"coordinates\":null,\"group\":null,\"ticker\":null},\"id\":\"2463\",\"type\":\"Grid\"},{\"attributes\":{},\"id\":\"2458\",\"type\":\"LinearScale\"},{\"attributes\":{\"bottom_units\":\"screen\",\"coordinates\":null,\"fill_alpha\":0.5,\"fill_color\":\"lightgrey\",\"group\":null,\"left_units\":\"screen\",\"level\":\"overlay\",\"line_alpha\":1.0,\"line_color\":\"black\",\"line_dash\":[4,4],\"line_width\":2,\"right_units\":\"screen\",\"syncable\":false,\"top_units\":\"screen\"},\"id\":\"2474\",\"type\":\"BoxAnnotation\"},{\"attributes\":{\"axis\":{\"id\":\"2464\"},\"coordinates\":null,\"dimension\":1,\"group\":null,\"ticker\":null},\"id\":\"2467\",\"type\":\"Grid\"},{\"attributes\":{},\"id\":\"2465\",\"type\":\"BasicTicker\"},{\"attributes\":{\"coordinates\":null,\"group\":null},\"id\":\"2585\",\"type\":\"Title\"}],\"root_ids\":[\"2451\"]},\"title\":\"Bokeh Application\",\"version\":\"2.4.3\"}};\n  const render_items = [{\"docid\":\"bbb087a9-ced9-41d9-9416-d75b8b4a7223\",\"root_ids\":[\"2451\"],\"roots\":{\"2451\":\"a565d13f-0571-47d0-822e-122523ee7a8c\"}}];\n  root.Bokeh.embed.embed_items_notebook(docs_json, render_items);\n  }\n  if (root.Bokeh !== undefined) {\n    embed_document(root);\n  } else {\n    let attempts = 0;\n    const timer = setInterval(function(root) {\n      if (root.Bokeh !== undefined) {\n        clearInterval(timer);\n        embed_document(root);\n      } else {\n        attempts++;\n        if (attempts > 100) {\n          clearInterval(timer);\n          console.log(\"Bokeh: ERROR: Unable to run BokehJS code because BokehJS library is missing\");\n        }\n      }\n    }, 10, root)\n  }\n})(window);",
      "application/vnd.bokehjs_exec.v0+json": ""
     },
     "metadata": {
      "application/vnd.bokehjs_exec.v0+json": {
       "id": "2451"
      }
     },
     "output_type": "display_data"
    }
   ],
   "source": [
    "f2 = figure(width=300,height=300)\n",
    "f2.xaxis.axis_label = 'X0'\n",
    "f2.yaxis.axis_label = 'X1'\n",
    "f2.scatter(x=X[:,0],y=X[:,1])\n",
    "show(f2)"
   ]
  },
  {
   "cell_type": "markdown",
   "metadata": {},
   "source": [
    "The X0 and X1 variables seem independent of each other."
   ]
  },
  {
   "cell_type": "markdown",
   "metadata": {},
   "source": [
    "Now we can do the regression.  First we add a column of 1's to our data matrix."
   ]
  },
  {
   "cell_type": "code",
   "execution_count": 35,
   "metadata": {},
   "outputs": [],
   "source": [
    "# create a column of ones\n",
    "# append it to X\n",
    "# check that X has shape 75 x 3"
   ]
  },
  {
   "cell_type": "code",
   "execution_count": 36,
   "metadata": {},
   "outputs": [
    {
     "data": {
      "text/plain": [
       "(75, 3)"
      ]
     },
     "execution_count": 36,
     "metadata": {},
     "output_type": "execute_result"
    }
   ],
   "source": [
    "E = np.ones(shape=(X.shape[0],1))\n",
    "X = np.concatenate([X,E],axis=1)\n",
    "X.shape"
   ]
  },
  {
   "cell_type": "markdown",
   "metadata": {},
   "source": [
    "Now we compute the various matrices need for the computation."
   ]
  },
  {
   "cell_type": "code",
   "execution_count": 37,
   "metadata": {},
   "outputs": [],
   "source": [
    "#Compute the regression matrices D, Dinv, M, and Yhat"
   ]
  },
  {
   "cell_type": "code",
   "execution_count": 38,
   "metadata": {},
   "outputs": [],
   "source": [
    "D = np.dot(X.transpose(),X)\n",
    "Dinv = np.linalg.inv(D)\n",
    "M = np.dot(np.dot(Dinv,X.transpose()),Y)\n",
    "Yhat = np.dot(X,M)"
   ]
  },
  {
   "cell_type": "markdown",
   "metadata": {},
   "source": [
    "Notice that the coefficients of D are large (and those of Dinv) are small:"
   ]
  },
  {
   "cell_type": "code",
   "execution_count": 39,
   "metadata": {},
   "outputs": [],
   "source": [
    "# look at D and Dinv"
   ]
  },
  {
   "cell_type": "code",
   "execution_count": 40,
   "metadata": {},
   "outputs": [
    {
     "data": {
      "text/plain": [
       "(array([[ 515.72235922,  483.38478882,  156.75529436],\n",
       "        [ 483.38478882, 1183.05046071,  236.7585729 ],\n",
       "        [ 156.75529436,  236.7585729 ,   75.        ]]),\n",
       " array([[ 0.00532506,  0.00014004, -0.01157183],\n",
       "        [ 0.00014004,  0.00229907, -0.00755038],\n",
       "        [-0.01157183, -0.00755038,  0.06135417]]))"
      ]
     },
     "execution_count": 40,
     "metadata": {},
     "output_type": "execute_result"
    }
   ],
   "source": [
    "D, Dinv"
   ]
  },
  {
   "cell_type": "markdown",
   "metadata": {},
   "source": [
    "This can be a problem with accuracy, but we'll come back to it.  The components of the model that we compute are:\n"
   ]
  },
  {
   "cell_type": "code",
   "execution_count": 41,
   "metadata": {},
   "outputs": [],
   "source": [
    "# look at the M matrix"
   ]
  },
  {
   "cell_type": "code",
   "execution_count": 42,
   "metadata": {},
   "outputs": [
    {
     "data": {
      "text/plain": [
       "array([ 1.78777492, -3.47899986,  6.0608333 ])"
      ]
     },
     "execution_count": 42,
     "metadata": {},
     "output_type": "execute_result"
    }
   ],
   "source": [
    "M"
   ]
  },
  {
   "cell_type": "markdown",
   "metadata": {},
   "source": [
    "You should have gotten a result that says that  Y is estimated as $\\hat{y}=1.78 x_0 -3.47 x_1 + 6.06$  One way to visualize this is to\n",
    "plot the values of Yhat vs Y to see how close they are."
   ]
  },
  {
   "cell_type": "code",
   "execution_count": 43,
   "metadata": {},
   "outputs": [],
   "source": [
    "# plot the residuals using comparison_plot to compare Yhat and Y"
   ]
  },
  {
   "cell_type": "code",
   "execution_count": 50,
   "metadata": {},
   "outputs": [
    {
     "data": {
      "text/html": [
       "\n",
       "  <div class=\"bk-root\" id=\"62ae5ba9-47f3-4ff4-be14-6c5aa9053e70\" data-root-id=\"3220\"></div>\n"
      ]
     },
     "metadata": {},
     "output_type": "display_data"
    },
    {
     "data": {
      "application/javascript": "(function(root) {\n  function embed_document(root) {\n  const docs_json = {\"605e8bd5-6f51-4d7e-a1f2-b9375f26190e\":{\"defs\":[],\"roots\":{\"references\":[{\"attributes\":{\"below\":[{\"id\":\"3231\"}],\"center\":[{\"id\":\"3234\"},{\"id\":\"3238\"}],\"left\":[{\"id\":\"3235\"}],\"renderers\":[{\"id\":\"3257\"},{\"id\":\"3263\"}],\"title\":{\"id\":\"3221\"},\"toolbar\":{\"id\":\"3246\"},\"x_range\":{\"id\":\"3223\"},\"x_scale\":{\"id\":\"3227\"},\"y_range\":{\"id\":\"3225\"},\"y_scale\":{\"id\":\"3229\"}},\"id\":\"3220\",\"subtype\":\"Figure\",\"type\":\"Plot\"},{\"attributes\":{},\"id\":\"3229\",\"type\":\"LinearScale\"},{\"attributes\":{},\"id\":\"3225\",\"type\":\"DataRange1d\"},{\"attributes\":{\"coordinates\":null,\"data_source\":{\"id\":\"3253\"},\"glyph\":{\"id\":\"3254\"},\"group\":null,\"hover_glyph\":null,\"muted_glyph\":{\"id\":\"3256\"},\"nonselection_glyph\":{\"id\":\"3255\"},\"view\":{\"id\":\"3258\"}},\"id\":\"3257\",\"type\":\"GlyphRenderer\"},{\"attributes\":{\"fill_alpha\":{\"value\":0.2},\"fill_color\":{\"value\":\"#1f77b4\"},\"hatch_alpha\":{\"value\":0.2},\"line_alpha\":{\"value\":0.2},\"line_color\":{\"value\":\"#1f77b4\"},\"x\":{\"field\":\"x\"},\"y\":{\"field\":\"y\"}},\"id\":\"3256\",\"type\":\"Scatter\"},{\"attributes\":{\"source\":{\"id\":\"3253\"}},\"id\":\"3258\",\"type\":\"CDSView\"},{\"attributes\":{\"overlay\":{\"id\":\"3245\"}},\"id\":\"3241\",\"type\":\"BoxZoomTool\"},{\"attributes\":{},\"id\":\"3404\",\"type\":\"UnionRenderers\"},{\"attributes\":{\"fill_alpha\":{\"value\":0.1},\"fill_color\":{\"value\":\"#1f77b4\"},\"hatch_alpha\":{\"value\":0.1},\"line_alpha\":{\"value\":0.1},\"line_color\":{\"value\":\"#1f77b4\"},\"x\":{\"field\":\"x\"},\"y\":{\"field\":\"y\"}},\"id\":\"3255\",\"type\":\"Scatter\"},{\"attributes\":{},\"id\":\"3244\",\"type\":\"HelpTool\"},{\"attributes\":{},\"id\":\"3405\",\"type\":\"Selection\"},{\"attributes\":{\"data\":{\"x\":[0,1,2,3,4,5,6,7,8,9,10,11,12,13,14,15,16,17,18,19,20,21,22,23,24,25,26,27,28,29,30,31,32,33,34,35,36,37,38,39,40,41,42,43,44,45,46,47,48,49,50,51,52,53,54,55,56,57,58,59,60,61,62,63,64,65,66,67,68,69,70,71,72,73,74],\"y\":{\"__ndarray__\":\"0BGV/EW47D/YNRjo0kH3vyCJHRRoQbo/mu7NNqqzAcBkpmzMc/b5vwCMGHREXqi/kFzSitI7+78AAgFGT/mJP8Asy6iWjPI/IBqfXt1s0r8ABp0VJU33P2DmBx4OROY/QErzWwrh5D8Aht36CLXav6DcgdZuB90/gFAbLamD4T/Ap5AqkLHwP16v3yKEZfe/wPFZ9Xoo4z/0RPuA0On0P7RSxQ1/RPk/HCbafPTa0b9AJxSUqgjCP2hFmEpdMPC/JMImghYy4j+8N8NZJVDvv6phOMPQEOE/kG2y8OvC8z9cDxjlUELwv0Kw+/15Ev0/i/qjuph8+r9soAMR3UvsPwAsSdu0X92/gEbcJ0hG7r/00jlu0+TwP4eE4QnSRAHAgHofxyFt4j8Ec1ZxyEvjvzAM5Ttovuw/AIuBRqBkrD+Q7bWQd1bxv4Aykqb+1Ok/wCXr1wVp2z/E4zHMGmvuP9TxFBIo7vq/0JUHTSix9j+APFPXShvev9JORaeSRfG/MMOwHky68L/AIRZ/HMjzP2gKtcCHn+y/qAxn34Cr+L9QdAHLgEXiP2DaGwZBMca/sOXUCCRV2b+A6NAO1szlv8DKoaVCHdu/AOy+Xdn7mT9AeH3EIWTDv1qjoNfp6vQ/AO9S0uhg1j+AKXdE2aDZP/BuFSwltb6/QD+gW04/1D9sNEdjVO4BQFCFcIgQifK/kNhBNkBo4j9Akyrdrln3PwD26WVf6Mu/KL+Tn8W61D/gpNz8e1HNPwBxBg9Air4/wL3CXle+7b/wvz76Ka/3v4BacbOeD+o/\",\"dtype\":\"float64\",\"order\":\"little\",\"shape\":[75]}},\"selected\":{\"id\":\"3405\"},\"selection_policy\":{\"id\":\"3404\"}},\"id\":\"3253\",\"type\":\"ColumnDataSource\"},{\"attributes\":{\"data\":{\"x\":[0,74],\"y\":[0,0]},\"selected\":{\"id\":\"3407\"},\"selection_policy\":{\"id\":\"3406\"}},\"id\":\"3259\",\"type\":\"ColumnDataSource\"},{\"attributes\":{},\"id\":\"3243\",\"type\":\"ResetTool\"},{\"attributes\":{\"line_alpha\":0.1,\"line_color\":\"#1f77b4\",\"x\":{\"field\":\"x\"},\"y\":{\"field\":\"y\"}},\"id\":\"3261\",\"type\":\"Line\"},{\"attributes\":{\"line_color\":\"#1f77b4\",\"x\":{\"field\":\"x\"},\"y\":{\"field\":\"y\"}},\"id\":\"3260\",\"type\":\"Line\"},{\"attributes\":{\"tools\":[{\"id\":\"3239\"},{\"id\":\"3240\"},{\"id\":\"3241\"},{\"id\":\"3242\"},{\"id\":\"3243\"},{\"id\":\"3244\"}]},\"id\":\"3246\",\"type\":\"Toolbar\"},{\"attributes\":{\"fill_color\":{\"value\":\"#1f77b4\"},\"line_color\":{\"value\":\"#1f77b4\"},\"x\":{\"field\":\"x\"},\"y\":{\"field\":\"y\"}},\"id\":\"3254\",\"type\":\"Scatter\"},{\"attributes\":{},\"id\":\"3240\",\"type\":\"WheelZoomTool\"},{\"attributes\":{},\"id\":\"3227\",\"type\":\"LinearScale\"},{\"attributes\":{\"coordinates\":null,\"data_source\":{\"id\":\"3259\"},\"glyph\":{\"id\":\"3260\"},\"group\":null,\"hover_glyph\":null,\"muted_glyph\":{\"id\":\"3262\"},\"nonselection_glyph\":{\"id\":\"3261\"},\"view\":{\"id\":\"3264\"}},\"id\":\"3263\",\"type\":\"GlyphRenderer\"},{\"attributes\":{},\"id\":\"3239\",\"type\":\"PanTool\"},{\"attributes\":{},\"id\":\"3242\",\"type\":\"SaveTool\"},{\"attributes\":{\"axis\":{\"id\":\"3231\"},\"coordinates\":null,\"group\":null,\"ticker\":null},\"id\":\"3234\",\"type\":\"Grid\"},{\"attributes\":{},\"id\":\"3406\",\"type\":\"UnionRenderers\"},{\"attributes\":{},\"id\":\"3232\",\"type\":\"BasicTicker\"},{\"attributes\":{\"axis_label\":\"Yhat-Y\",\"coordinates\":null,\"formatter\":{\"id\":\"3399\"},\"group\":null,\"major_label_policy\":{\"id\":\"3400\"},\"ticker\":{\"id\":\"3236\"}},\"id\":\"3235\",\"type\":\"LinearAxis\"},{\"attributes\":{\"line_alpha\":0.2,\"line_color\":\"#1f77b4\",\"x\":{\"field\":\"x\"},\"y\":{\"field\":\"y\"}},\"id\":\"3262\",\"type\":\"Line\"},{\"attributes\":{},\"id\":\"3236\",\"type\":\"BasicTicker\"},{\"attributes\":{\"source\":{\"id\":\"3259\"}},\"id\":\"3264\",\"type\":\"CDSView\"},{\"attributes\":{},\"id\":\"3399\",\"type\":\"BasicTickFormatter\"},{\"attributes\":{},\"id\":\"3407\",\"type\":\"Selection\"},{\"attributes\":{},\"id\":\"3223\",\"type\":\"DataRange1d\"},{\"attributes\":{\"coordinates\":null,\"group\":null,\"text\":\"Difference between Measured and Predicted Values\"},\"id\":\"3221\",\"type\":\"Title\"},{\"attributes\":{},\"id\":\"3400\",\"type\":\"AllLabels\"},{\"attributes\":{},\"id\":\"3402\",\"type\":\"BasicTickFormatter\"},{\"attributes\":{\"axis\":{\"id\":\"3235\"},\"coordinates\":null,\"dimension\":1,\"group\":null,\"ticker\":null},\"id\":\"3238\",\"type\":\"Grid\"},{\"attributes\":{\"bottom_units\":\"screen\",\"coordinates\":null,\"fill_alpha\":0.5,\"fill_color\":\"lightgrey\",\"group\":null,\"left_units\":\"screen\",\"level\":\"overlay\",\"line_alpha\":1.0,\"line_color\":\"black\",\"line_dash\":[4,4],\"line_width\":2,\"right_units\":\"screen\",\"syncable\":false,\"top_units\":\"screen\"},\"id\":\"3245\",\"type\":\"BoxAnnotation\"},{\"attributes\":{},\"id\":\"3403\",\"type\":\"AllLabels\"},{\"attributes\":{\"axis_label\":\"x\",\"coordinates\":null,\"formatter\":{\"id\":\"3402\"},\"group\":null,\"major_label_policy\":{\"id\":\"3403\"},\"ticker\":{\"id\":\"3232\"}},\"id\":\"3231\",\"type\":\"LinearAxis\"}],\"root_ids\":[\"3220\"]},\"title\":\"Bokeh Application\",\"version\":\"2.4.3\"}};\n  const render_items = [{\"docid\":\"605e8bd5-6f51-4d7e-a1f2-b9375f26190e\",\"root_ids\":[\"3220\"],\"roots\":{\"3220\":\"62ae5ba9-47f3-4ff4-be14-6c5aa9053e70\"}}];\n  root.Bokeh.embed.embed_items_notebook(docs_json, render_items);\n  }\n  if (root.Bokeh !== undefined) {\n    embed_document(root);\n  } else {\n    let attempts = 0;\n    const timer = setInterval(function(root) {\n      if (root.Bokeh !== undefined) {\n        clearInterval(timer);\n        embed_document(root);\n      } else {\n        attempts++;\n        if (attempts > 100) {\n          clearInterval(timer);\n          console.log(\"Bokeh: ERROR: Unable to run BokehJS code because BokehJS library is missing\");\n        }\n      }\n    }, 10, root)\n  }\n})(window);",
      "application/vnd.bokehjs_exec.v0+json": ""
     },
     "metadata": {
      "application/vnd.bokehjs_exec.v0+json": {
       "id": "3220"
      }
     },
     "output_type": "display_data"
    }
   ],
   "source": [
    "\n",
    "show(comparison_plot(np.array(list(range(75))),Y,Yhat))"
   ]
  },
  {
   "cell_type": "markdown",
   "metadata": {},
   "source": [
    "As the plot shows, the points (y,yhat) cluster around the diagonal.  "
   ]
  },
  {
   "cell_type": "markdown",
   "metadata": {},
   "source": [
    "### Covariance Matrix"
   ]
  },
  {
   "cell_type": "markdown",
   "metadata": {},
   "source": [
    "Let's go back to look at the covariance matrix of the variables X0 and X1.  This computed using centered coordinates."
   ]
  },
  {
   "cell_type": "code",
   "execution_count": 45,
   "metadata": {},
   "outputs": [],
   "source": [
    "# Center the data\n",
    "#X0 = (X[] - X[].mean())\n",
    "# then compute D0 and Cov = D0/X0.shape[0]"
   ]
  },
  {
   "cell_type": "code",
   "execution_count": 51,
   "metadata": {},
   "outputs": [
    {
     "data": {
      "text/plain": [
       "array([[ 2.50790305, -0.15276456],\n",
       "       [-0.15276456,  5.80874004]])"
      ]
     },
     "execution_count": 51,
     "metadata": {},
     "output_type": "execute_result"
    }
   ],
   "source": [
    "X0 =( X[:,:2]-X[:,:2].mean(axis=0))\n",
    "D0 = np.dot(X0.transpose(),X0)\n",
    "Cov = D0/X.shape[0]\n",
    "Cov"
   ]
  },
  {
   "cell_type": "markdown",
   "metadata": {},
   "source": [
    "Notice that the off diagonal elements, which are the covariances of X0 and X1, are small in comparison to the diagonal elements.\n",
    "This reflects the fact that X0 and X1 are relatively (linearly) independent of each other.  "
   ]
  },
  {
   "cell_type": "markdown",
   "metadata": {},
   "source": [
    "### The correlation coefficient\n",
    "\n",
    "Pearson's $R^2$ is a quantitative measure of the strength of the linear relationship between two variables $X$ and $Y$. It is computed\n",
    "as\n",
    "$$\n",
    "R^{2} = \\frac{\\sigma_{XY}^2}{\\sigma_{X}^2\\sigma_{Y}^2}\n",
    "$$\n",
    "From our matrix this is the offdiagonal element divided by the product of the diagonal elements.  It it's close to $1$, there is a strong relationship, if close to zero, there is not. In this case, the $R^2$ is essentially zero."
   ]
  },
  {
   "cell_type": "code",
   "execution_count": 52,
   "metadata": {},
   "outputs": [
    {
     "name": "stdout",
     "output_type": "stream",
     "text": [
      "Correlation is 0.001601963134208123\n"
     ]
    }
   ],
   "source": [
    "R2 = Cov[0,1]**2/Cov[1,1]/Cov[0,0]\n",
    "print('Correlation is {}'.format(R2))"
   ]
  },
  {
   "cell_type": "markdown",
   "metadata": {},
   "source": [
    "### Multivariate MPG data\n",
    "\n",
    "Now let's refine our look at the MPG data by considering displacement, miles per gallon, and vehicle weight.  \n",
    "- column 0 is mpg\n",
    "- column 2 is displacement\n",
    "- column4 is vehicle weight"
   ]
  },
  {
   "cell_type": "code",
   "execution_count": 53,
   "metadata": {},
   "outputs": [],
   "source": [
    "\n",
    "from itertools import combinations"
   ]
  },
  {
   "cell_type": "code",
   "execution_count": 56,
   "metadata": {},
   "outputs": [],
   "source": [
    "data = np.genfromtxt('data/auto-mpg/auto-mpg.csv',delimiter=',',skip_header=1)"
   ]
  },
  {
   "cell_type": "code",
   "execution_count": 58,
   "metadata": {},
   "outputs": [
    {
     "data": {
      "text/html": [
       "\n",
       "  <div class=\"bk-root\" id=\"0e13c93d-a7b0-4c1b-925b-0f318398f1df\" data-root-id=\"4112\"></div>\n"
      ]
     },
     "metadata": {},
     "output_type": "display_data"
    },
    {
     "data": {
      "application/javascript": "(function(root) {\n  function embed_document(root) {\n  const docs_json = {\"f3fd3707-9858-4260-b633-2aaeaa983a1c\":{\"defs\":[],\"roots\":{\"references\":[{\"attributes\":{\"children\":[{\"id\":\"4111\"},{\"id\":\"4109\"}]},\"id\":\"4112\",\"type\":\"Column\"},{\"attributes\":{\"overlay\":{\"id\":\"3985\"}},\"id\":\"3981\",\"type\":\"BoxZoomTool\"},{\"attributes\":{},\"id\":\"3982\",\"type\":\"SaveTool\"},{\"attributes\":{},\"id\":\"4093\",\"type\":\"UnionRenderers\"},{\"attributes\":{\"children\":[[{\"id\":\"3962\"},0,0],[{\"id\":\"3999\"},0,1],[{\"id\":\"4036\"},1,0]]},\"id\":\"4109\",\"type\":\"GridBox\"},{\"attributes\":{},\"id\":\"4021\",\"type\":\"HelpTool\"},{\"attributes\":{\"axis_label\":\"weight\",\"coordinates\":null,\"formatter\":{\"id\":\"4076\"},\"group\":null,\"major_label_policy\":{\"id\":\"4077\"},\"ticker\":{\"id\":\"3976\"}},\"id\":\"3975\",\"type\":\"LinearAxis\"},{\"attributes\":{\"axis_label\":\"displacement\",\"coordinates\":null,\"formatter\":{\"id\":\"4079\"},\"group\":null,\"major_label_policy\":{\"id\":\"4080\"},\"ticker\":{\"id\":\"3972\"}},\"id\":\"3971\",\"type\":\"LinearAxis\"},{\"attributes\":{\"fill_color\":{\"value\":\"#1f77b4\"},\"line_color\":{\"value\":\"#1f77b4\"},\"x\":{\"field\":\"x\"},\"y\":{\"field\":\"y\"}},\"id\":\"4068\",\"type\":\"Scatter\"},{\"attributes\":{},\"id\":\"4094\",\"type\":\"Selection\"},{\"attributes\":{\"axis_label\":\"mpg\",\"coordinates\":null,\"formatter\":{\"id\":\"4088\"},\"group\":null,\"major_label_policy\":{\"id\":\"4089\"},\"ticker\":{\"id\":\"4013\"}},\"id\":\"4012\",\"type\":\"LinearAxis\"},{\"attributes\":{\"fill_alpha\":{\"value\":0.2},\"fill_color\":{\"value\":\"#1f77b4\"},\"hatch_alpha\":{\"value\":0.2},\"line_alpha\":{\"value\":0.2},\"line_color\":{\"value\":\"#1f77b4\"},\"x\":{\"field\":\"x\"},\"y\":{\"field\":\"y\"}},\"id\":\"4070\",\"type\":\"Scatter\"},{\"attributes\":{\"fill_alpha\":{\"value\":0.1},\"fill_color\":{\"value\":\"#1f77b4\"},\"hatch_alpha\":{\"value\":0.1},\"line_alpha\":{\"value\":0.1},\"line_color\":{\"value\":\"#1f77b4\"},\"x\":{\"field\":\"x\"},\"y\":{\"field\":\"y\"}},\"id\":\"3995\",\"type\":\"Scatter\"},{\"attributes\":{\"axis\":{\"id\":\"4012\"},\"coordinates\":null,\"dimension\":1,\"group\":null,\"ticker\":null},\"id\":\"4015\",\"type\":\"Grid\"},{\"attributes\":{},\"id\":\"4013\",\"type\":\"BasicTicker\"},{\"attributes\":{},\"id\":\"4017\",\"type\":\"WheelZoomTool\"},{\"attributes\":{},\"id\":\"4016\",\"type\":\"PanTool\"},{\"attributes\":{\"axis\":{\"id\":\"3975\"},\"coordinates\":null,\"dimension\":1,\"group\":null,\"ticker\":null},\"id\":\"3978\",\"type\":\"Grid\"},{\"attributes\":{\"overlay\":{\"id\":\"4022\"}},\"id\":\"4018\",\"type\":\"BoxZoomTool\"},{\"attributes\":{\"coordinates\":null,\"group\":null},\"id\":\"4073\",\"type\":\"Title\"},{\"attributes\":{},\"id\":\"4019\",\"type\":\"SaveTool\"},{\"attributes\":{},\"id\":\"4020\",\"type\":\"ResetTool\"},{\"attributes\":{\"bottom_units\":\"screen\",\"coordinates\":null,\"fill_alpha\":0.5,\"fill_color\":\"lightgrey\",\"group\":null,\"left_units\":\"screen\",\"level\":\"overlay\",\"line_alpha\":1.0,\"line_color\":\"black\",\"line_dash\":[4,4],\"line_width\":2,\"right_units\":\"screen\",\"syncable\":false,\"top_units\":\"screen\"},\"id\":\"3985\",\"type\":\"BoxAnnotation\"},{\"attributes\":{},\"id\":\"3983\",\"type\":\"ResetTool\"},{\"attributes\":{\"bottom_units\":\"screen\",\"coordinates\":null,\"fill_alpha\":0.5,\"fill_color\":\"lightgrey\",\"group\":null,\"left_units\":\"screen\",\"level\":\"overlay\",\"line_alpha\":1.0,\"line_color\":\"black\",\"line_dash\":[4,4],\"line_width\":2,\"right_units\":\"screen\",\"syncable\":false,\"top_units\":\"screen\"},\"id\":\"4022\",\"type\":\"BoxAnnotation\"},{\"attributes\":{},\"id\":\"4039\",\"type\":\"DataRange1d\"},{\"attributes\":{\"tools\":[{\"id\":\"3979\"},{\"id\":\"3980\"},{\"id\":\"3981\"},{\"id\":\"3982\"},{\"id\":\"3983\"},{\"id\":\"3984\"}]},\"id\":\"3986\",\"type\":\"Toolbar\"},{\"attributes\":{\"tools\":[{\"id\":\"4053\"},{\"id\":\"4054\"},{\"id\":\"4055\"},{\"id\":\"4056\"},{\"id\":\"4057\"},{\"id\":\"4058\"}]},\"id\":\"4060\",\"type\":\"Toolbar\"},{\"attributes\":{},\"id\":\"3979\",\"type\":\"PanTool\"},{\"attributes\":{\"fill_color\":{\"value\":\"#1f77b4\"},\"line_color\":{\"value\":\"#1f77b4\"},\"x\":{\"field\":\"x\"},\"y\":{\"field\":\"y\"}},\"id\":\"4031\",\"type\":\"Scatter\"},{\"attributes\":{},\"id\":\"3980\",\"type\":\"WheelZoomTool\"},{\"attributes\":{},\"id\":\"3976\",\"type\":\"BasicTicker\"},{\"attributes\":{},\"id\":\"4050\",\"type\":\"BasicTicker\"},{\"attributes\":{\"coordinates\":null,\"data_source\":{\"id\":\"4067\"},\"glyph\":{\"id\":\"4068\"},\"group\":null,\"hover_glyph\":null,\"muted_glyph\":{\"id\":\"4070\"},\"nonselection_glyph\":{\"id\":\"4069\"},\"view\":{\"id\":\"4072\"}},\"id\":\"4071\",\"type\":\"GlyphRenderer\"},{\"attributes\":{\"tools\":[{\"id\":\"4016\"},{\"id\":\"4017\"},{\"id\":\"4018\"},{\"id\":\"4019\"},{\"id\":\"4020\"},{\"id\":\"4021\"}]},\"id\":\"4023\",\"type\":\"Toolbar\"},{\"attributes\":{},\"id\":\"4054\",\"type\":\"WheelZoomTool\"},{\"attributes\":{},\"id\":\"4076\",\"type\":\"BasicTickFormatter\"},{\"attributes\":{},\"id\":\"4053\",\"type\":\"PanTool\"},{\"attributes\":{\"overlay\":{\"id\":\"4059\"}},\"id\":\"4055\",\"type\":\"BoxZoomTool\"},{\"attributes\":{},\"id\":\"4077\",\"type\":\"AllLabels\"},{\"attributes\":{},\"id\":\"4079\",\"type\":\"BasicTickFormatter\"},{\"attributes\":{},\"id\":\"4056\",\"type\":\"SaveTool\"},{\"attributes\":{},\"id\":\"4057\",\"type\":\"ResetTool\"},{\"attributes\":{\"source\":{\"id\":\"3993\"}},\"id\":\"3998\",\"type\":\"CDSView\"},{\"attributes\":{},\"id\":\"4081\",\"type\":\"UnionRenderers\"},{\"attributes\":{\"data\":{\"x\":{\"__ndarray__\":\"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\",\"dtype\":\"float64\",\"order\":\"little\",\"shape\":[398]},\"y\":{\"__ndarray__\":\"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\",\"dtype\":\"float64\",\"order\":\"little\",\"shape\":[398]}},\"selected\":{\"id\":\"4082\"},\"selection_policy\":{\"id\":\"4081\"}},\"id\":\"3993\",\"type\":\"ColumnDataSource\"},{\"attributes\":{\"coordinates\":null,\"group\":null},\"id\":\"4097\",\"type\":\"Title\"},{\"attributes\":{\"axis\":{\"id\":\"4049\"},\"coordinates\":null,\"dimension\":1,\"group\":null,\"ticker\":null},\"id\":\"4052\",\"type\":\"Grid\"},{\"attributes\":{\"data\":{\"x\":{\"__ndarray__\":\"AAAAAABgq0AAAAAAANqsQAAAAAAA2KpAAAAAAADSqkAAAAAAAPKqQAAAAAAA9bBAAAAAAAACsUAAAAAAANiwQAAAAAAASbFAAAAAAAAUrkAAAAAAANarQAAAAAAAMqxAAAAAAABirUAAAAAAAByoQAAAAAAAiKJAAAAAAAAipkAAAAAAAKylQAAAAAAANqRAAAAAAACkoEAAAAAAAKycQAAAAAAA4KRAAAAAAAD8okAAAAAAAI6iQAAAAAAAdKFAAAAAAACwpEAAAAAAAAeyQAAAAAAAGLFAAAAAAAAesUAAAAAAAHyyQAAAAAAApKBAAAAAAACwoUAAAAAAAGihQAAAAAAA+J9AAAAAAACUpEAAAAAAAN6qQAAAAAAAAqpAAAAAAADMqUAAAAAAALCpQAAAAAAAcbBAAAAAAABwsUAAAAAAADqwQAAAAAAAALBAAAAAAABbs0AAAAAAAIqyQAAAAAAAFLRAAAAAAAAkp0AAAAAAANCiQAAAAAAApKlAAAAAAACGqEAAAAAAAFihQAAAAAAAlqBAAAAAAAA0oEAAAAAAACKgQAAAAAAAtJtAAAAAAAA0mUAAAAAAAKicQAAAAAAAjJ5AAAAAAADMoUAAAAAAAJygQAAAAAAAnKFAAAAAAADQokAAAAAAAGShQAAAAAAAsrBAAAAAAAAhsUAAAAAAACewQAAAAAAAIbBAAAAAAACwrEAAAAAAABmyQAAAAAAAlrFAAAAAAABosUAAAAAAAEaxQAAAAAAANKJAAAAAAABorkAAAAAAAAKwQAAAAAAAxrBAAAAAAADar0AAAAAAAOqmQAAAAAAAnqNAAAAAAABGp0AAAAAAABqhQAAAAAAAtqJAAAAAAADgoUAAAAAAAJSjQAAAAAAA6KBAAAAAAABooEAAAAAAAASwQAAAAAAAsKxAAAAAAAAor0AAAAAAAJSvQAAAAAAAgq1AAAAAAABYs0AAAAAAAHCxQAAAAAAAC7FAAAAAAACNsEAAAAAAAH+yQAAAAAAAV7NAAAAAAADarUAAAAAAAGKoQAAAAAAAnKlAAAAAAAACp0AAAAAAAJqnQAAAAAAAsKZAAAAAAAB4nkAAAAAAAIWzQAAAAAAAKrNAAAAAAAAuskAAAAAAAJOxQAAAAAAAyqVAAAAAAADOoUAAAAAAAMKiQAAAAAAAlqJAAAAAAACYoEAAAAAAAAyiQAAAAAAAUKNAAAAAAACyoUAAAAAAAOSvQAAAAAAAtrBAAAAAAAAsnUAAAAAAANygQAAAAAAALKRAAAAAAABopkAAAAAAAI6qQAAAAAAAyKRAAAAAAADupUAAAAAAAKCsQAAAAAAAPKhAAAAAAAB2pkAAAAAAAKqmQAAAAAAAEKpAAAAAAAB4nkAAAAAAACajQAAAAAAAsJxAAAAAAADco0AAAAAAAIqtQAAAAAAAYKxAAAAAAAA6rEAAAAAAAC2wQAAAAAAAW7JAAAAAAABpsUAAAAAAAB6yQAAAAAAAobBAAAAAAABWoUAAAAAAAKyeQAAAAAAA+KFAAAAAAADEmUAAAAAAAEyfQAAAAAAAmqBAAAAAAAB4oEAAAAAAAIyhQAAAAAAAcqNAAAAAAACuokAAAAAAAECfQAAAAAAAgKlAAAAAAAAGq0AAAAAAANCqQAAAAAAArKhAAAAAAAA8skAAAAAAAFixQAAAAAAAkrFAAAAAAAAxskAAAAAAAIauQAAAAAAAcq5AAAAAAAAkrUAAAAAAAJKtQAAAAAAAvqdAAAAAAAAqqUAAAAAAAMKoQAAAAAAA9qBAAAAAAACepEAAAAAAAMSmQAAAAAAAQKRAAAAAAAAcpUAAAAAAAF6hQAAAAAAA4qNAAAAAAABQp0AAAAAAAESeQAAAAAAAFqlAAAAAAAAMpUAAAAAAABqnQAAAAAAAAqdAAAAAAADepEAAAAAAAAycQAAAAAAAQKNAAAAAAABYoUAAAAAAABikQAAAAAAAnqFAAAAAAAA0oUAAAAAAAHewQAAAAAAAXrBAAAAAAAD0rkAAAAAAAHewQAAAAAAAQqlAAAAAAAAyqkAAAAAAAIinQAAAAAAAGqhAAAAAAADMn0AAAAAAAOigQAAAAAAARJ5AAAAAAAAMnEAAAAAAAIasQAAAAAAA7KtAAAAAAAB6rEAAAAAAAPKoQAAAAAAAhJxAAAAAAAAYn0AAAAAAANagQAAAAAAACqRAAAAAAACcqEAAAAAAAMiuQAAAAAAAjKlAAAAAAADkpkAAAAAAANitQAAAAAAAHLFAAAAAAACur0AAAAAAADyuQAAAAAAAVq1AAAAAAAD0n0AAAAAAANagQAAAAAAAhJxAAAAAAAD4oUAAAAAAAGSeQAAAAAAAUK5AAAAAAAC4r0AAAAAAACywQAAAAAAAx7BAAAAAAACAq0AAAAAAAMKqQAAAAAAAXKxAAAAAAACKq0AAAAAAAHywQAAAAAAARbBAAAAAAADlsEAAAAAAAO+wQAAAAAAAUJ5AAAAAAABopUAAAAAAALKhQAAAAAAAhqVAAAAAAAAGoEAAAAAAADagQAAAAAAABJ9AAAAAAAAcoUAAAAAAAP6lQAAAAAAAUKRAAAAAAABApUAAAAAAAASfQAAAAAAAIJxAAAAAAAAEn0AAAAAAACygQAAAAAAAIJxAAAAAAABKqkAAAAAAAC6tQAAAAAAA5KtAAAAAAACeq0AAAAAAAKaoQAAAAAAAKqdAAAAAAABApUAAAAAAAMyqQAAAAAAAFKlAAAAAAABoqkAAAAAAAPynQAAAAAAASKxAAAAAAACkqkAAAAAAAMKqQAAAAAAA6qpAAAAAAAAKqUAAAAAAAOCvQAAAAAAA1qBAAAAAAAAApEAAAAAAAPihQAAAAAAAbKFAAAAAAACmo0AAAAAAAHKlQAAAAAAATqZAAAAAAADKokAAAAAAABymQAAAAAAAiKhAAAAAAADWpUAAAAAAAKSqQAAAAAAAGJ9AAAAAAACuoEAAAAAAAFqpQAAAAAAAXKdAAAAAAACUpkAAAAAAAIKpQAAAAAAAQKpAAAAAAAAArkAAAAAAABqtQAAAAAAA5q5AAAAAAADsrUAAAAAAAAixQAAAAAAArK9AAAAAAAAqrEAAAAAAAMiuQAAAAAAAFJ5AAAAAAADcnkAAAAAAAOydQAAAAAAA3KRAAAAAAACUq0AAAAAAAHiuQAAAAAAA7KhAAAAAAAC4qkAAAAAAADChQAAAAAAAzKBAAAAAAACQn0AAAAAAAKSgQAAAAAAA3KRAAAAAAABGpEAAAAAAABilQAAAAAAA+KNAAAAAAADAoEAAAAAAAMCeQAAAAAAAkKBAAAAAAACMn0AAAAAAAOykQAAAAAAAbKZAAAAAAAB2p0AAAAAAAGqqQAAAAAAAGKFAAAAAAAAupUAAAAAAANyjQAAAAAAABKNAAAAAAACyoUAAAAAAAHygQAAAAAAA4KVAAAAAAAB8oEAAAAAAAEqgQAAAAAAAPqJAAAAAAAAMp0AAAAAAAGSpQAAAAAAA6JxAAAAAAACsnEAAAAAAAMKgQAAAAAAA1JxAAAAAAAC8pkAAAAAAAOiiQAAAAAAAiKNAAAAAAACypkAAAAAAAOShQAAAAAAAdKNAAAAAAACWpEAAAAAAAHikQAAAAAAASqVAAAAAAACiokAAAAAAAGybQAAAAAAATJ1AAAAAAACAm0AAAAAAACKgQAAAAAAA3J5AAAAAAAAEoEAAAAAAAASfQAAAAAAATqFAAAAAAAD0n0AAAAAAAJiiQAAAAAAAHKFAAAAAAAAgokAAAAAAAEShQAAAAAAAXKJAAAAAAABupEAAAAAAAJakQAAAAAAAPKlAAAAAAACwqEAAAAAAAKimQAAAAAAA5KZAAAAAAACuqkAAAAAAABqtQAAAAAAA6KdAAAAAAAASq0AAAAAAAFqkQAAAAAAAoKRAAAAAAAC2okAAAAAAAB6kQAAAAAAAuqNAAAAAAABepUAAAAAAAGKmQAAAAAAAtqdAAAAAAADwnkAAAAAAAKSfQAAAAAAAyJ5AAAAAAACaoEAAAAAAAJqgQAAAAAAA4KBAAAAAAAA6oUAAAAAAAIqhQAAAAAAAtJ5AAAAAAAC0nkAAAAAAACyfQAAAAAAAAqdAAAAAAACOp0AAAAAAADKkQAAAAAAAJqZAAAAAAADSpEAAAAAAAISiQAAAAAAADKdAAAAAAADMpUAAAAAAAKSgQAAAAAAA7qFAAAAAAACCpEAAAAAAAEClQA==\",\"dtype\":\"float64\",\"order\":\"little\",\"shape\":[398]},\"y\":{\"__ndarray__\":\"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\",\"dtype\":\"float64\",\"order\":\"little\",\"shape\":[398]}},\"selected\":{\"id\":\"4106\"},\"selection_policy\":{\"id\":\"4105\"}},\"id\":\"4067\",\"type\":\"ColumnDataSource\"},{\"attributes\":{\"fill_alpha\":{\"value\":0.1},\"fill_color\":{\"value\":\"#1f77b4\"},\"hatch_alpha\":{\"value\":0.1},\"line_alpha\":{\"value\":0.1},\"line_color\":{\"value\":\"#1f77b4\"},\"x\":{\"field\":\"x\"},\"y\":{\"field\":\"y\"}},\"id\":\"4069\",\"type\":\"Scatter\"},{\"attributes\":{},\"id\":\"4082\",\"type\":\"Selection\"},{\"attributes\":{\"toolbars\":[{\"id\":\"3986\"},{\"id\":\"4023\"},{\"id\":\"4060\"}],\"tools\":[{\"id\":\"3979\"},{\"id\":\"3980\"},{\"id\":\"3981\"},{\"id\":\"3982\"},{\"id\":\"3983\"},{\"id\":\"3984\"},{\"id\":\"4016\"},{\"id\":\"4017\"},{\"id\":\"4018\"},{\"id\":\"4019\"},{\"id\":\"4020\"},{\"id\":\"4021\"},{\"id\":\"4053\"},{\"id\":\"4054\"},{\"id\":\"4055\"},{\"id\":\"4056\"},{\"id\":\"4057\"},{\"id\":\"4058\"}]},\"id\":\"4110\",\"type\":\"ProxyToolbar\"},{\"attributes\":{\"below\":[{\"id\":\"3971\"}],\"center\":[{\"id\":\"3974\"},{\"id\":\"3978\"}],\"height\":250,\"left\":[{\"id\":\"3975\"}],\"renderers\":[{\"id\":\"3997\"}],\"title\":{\"id\":\"4073\"},\"toolbar\":{\"id\":\"3986\"},\"toolbar_location\":null,\"width\":250,\"x_range\":{\"id\":\"3963\"},\"x_scale\":{\"id\":\"3967\"},\"y_range\":{\"id\":\"3965\"},\"y_scale\":{\"id\":\"3969\"}},\"id\":\"3962\",\"subtype\":\"Figure\",\"type\":\"Plot\"},{\"attributes\":{},\"id\":\"3963\",\"type\":\"DataRange1d\"},{\"attributes\":{},\"id\":\"3965\",\"type\":\"DataRange1d\"},{\"attributes\":{\"below\":[{\"id\":\"4008\"}],\"center\":[{\"id\":\"4011\"},{\"id\":\"4015\"}],\"height\":250,\"left\":[{\"id\":\"4012\"}],\"renderers\":[{\"id\":\"4034\"}],\"title\":{\"id\":\"4085\"},\"toolbar\":{\"id\":\"4023\"},\"toolbar_location\":null,\"width\":250,\"x_range\":{\"id\":\"4000\"},\"x_scale\":{\"id\":\"4004\"},\"y_range\":{\"id\":\"4002\"},\"y_scale\":{\"id\":\"4006\"}},\"id\":\"3999\",\"subtype\":\"Figure\",\"type\":\"Plot\"},{\"attributes\":{\"toolbar\":{\"id\":\"4110\"},\"toolbar_location\":\"above\"},\"id\":\"4111\",\"type\":\"ToolbarBox\"},{\"attributes\":{},\"id\":\"4004\",\"type\":\"LinearScale\"},{\"attributes\":{\"data\":{\"x\":{\"__ndarray__\":\"AAAAAAAwc0AAAAAAAOB1QAAAAAAA4HNAAAAAAAAAc0AAAAAAAOByQAAAAAAA0HpAAAAAAABgfEAAAAAAAIB7QAAAAAAAcHxAAAAAAABgeEAAAAAAAPB3QAAAAAAAQHVAAAAAAAAAeUAAAAAAAHB8QAAAAAAAQFxAAAAAAADAaEAAAAAAAOBoQAAAAAAAAGlAAAAAAABAWEAAAAAAAEBYQAAAAAAAgFtAAAAAAADAWkAAAAAAAABaQAAAAAAAQF5AAAAAAADgaEAAAAAAAIB2QAAAAAAAMHNAAAAAAADgc0AAAAAAAABzQAAAAAAAQFhAAAAAAACAYUAAAAAAAEBcQAAAAAAAgFhAAAAAAAAAbUAAAAAAACBsQAAAAAAAQG9AAAAAAABAb0AAAAAAAABtQAAAAAAA4HVAAAAAAAAAeUAAAAAAAPB1QAAAAAAA4HNAAAAAAADwd0AAAAAAAAB5QAAAAAAAAHlAAAAAAAAgcEAAAAAAAIBhQAAAAAAAQG9AAAAAAABAb0AAAAAAAIBeQAAAAAAAAF1AAAAAAADAU0AAAAAAAABWQAAAAAAAwFFAAAAAAAAAUkAAAAAAAEBYQAAAAAAAwFZAAAAAAABAXEAAAAAAAGBYQAAAAAAAQFhAAAAAAACAYUAAAAAAAIBeQAAAAAAA4HVAAAAAAAAAeUAAAAAAAOBzQAAAAAAA8HVAAAAAAAAAc0AAAAAAANB6QAAAAAAA4HVAAAAAAADgdUAAAAAAAAB5QAAAAAAAgFFAAAAAAAAAc0AAAAAAADBzQAAAAAAA4HJAAAAAAADgc0AAAAAAAEBeQAAAAAAAQF5AAAAAAAAAXkAAAAAAAABYQAAAAAAAgF5AAAAAAABAWEAAAAAAAABeQAAAAAAAgFhAAAAAAABAWEAAAAAAAOB1QAAAAAAAAHNAAAAAAADgdUAAAAAAAOByQAAAAAAA4HNAAAAAAADQekAAAAAAAAB5QAAAAAAA8HVAAAAAAADgc0AAAAAAAIB7QAAAAAAAcHxAAAAAAACAdkAAAAAAACBsQAAAAAAAQG9AAAAAAAAAbUAAAAAAAEBvQAAAAAAAwGhAAAAAAABAWEAAAAAAAAB5QAAAAAAAAHlAAAAAAACAdkAAAAAAAOB1QAAAAAAAAG1AAAAAAABAWEAAAAAAAIBhQAAAAAAAAFtAAAAAAACAUUAAAAAAAIBeQAAAAAAAYGNAAAAAAACAWEAAAAAAAOB1QAAAAAAAAHlAAAAAAAAAUUAAAAAAAABdQAAAAAAAgFxAAAAAAABAXkAAAAAAAOBzQAAAAAAAQF5AAAAAAACAY0AAAAAAAOB1QAAAAAAAwGhAAAAAAAAAaUAAAAAAAABtQAAAAAAAQG9AAAAAAADAU0AAAAAAAIBeQAAAAAAAwFFAAAAAAACAYUAAAAAAAEBvQAAAAAAAIHBAAAAAAAAgbEAAAAAAAOByQAAAAAAA4HVAAAAAAADgc0AAAAAAAOByQAAAAAAAAHNAAAAAAACAWEAAAAAAAMBTQAAAAAAAQFhAAAAAAAAAU0AAAAAAAMBUQAAAAAAAgFZAAAAAAACAVkAAAAAAAABdQAAAAAAAAF5AAAAAAAAAW0AAAAAAAMBTQAAAAAAAIGxAAAAAAABAb0AAAAAAAEBvQAAAAAAAQG9AAAAAAAAAeUAAAAAAAOB1QAAAAAAA4HNAAAAAAADwdUAAAAAAAOBsQAAAAAAAQG9AAAAAAAAgcEAAAAAAACBsQAAAAAAA4GxAAAAAAABgcEAAAAAAAOByQAAAAAAAQFhAAAAAAACAYUAAAAAAAABtQAAAAAAAgGFAAAAAAADAYEAAAAAAAIBWQAAAAAAAwF1AAAAAAABgZUAAAAAAAIBWQAAAAAAAAG1AAAAAAADAXEAAAAAAAABeQAAAAAAAQF5AAAAAAABAXkAAAAAAAMBWQAAAAAAAwFpAAAAAAAAAXUAAAAAAAIBhQAAAAAAAgFhAAAAAAABAWUAAAAAAABBzQAAAAAAA4HNAAAAAAAAAc0AAAAAAAPB1QAAAAAAAIGxAAAAAAABAb0AAAAAAAABpQAAAAAAAAG1AAAAAAABAVUAAAAAAAIBYQAAAAAAAgFZAAAAAAADAVkAAAAAAACBsQAAAAAAAQG9AAAAAAABAb0AAAAAAACBwQAAAAAAAQFhAAAAAAABAVUAAAAAAAEBYQAAAAAAAgGFAAAAAAABAYEAAAAAAAOBzQAAAAAAAAF5AAAAAAACAY0AAAAAAAABlQAAAAAAA4HVAAAAAAADgdUAAAAAAAOByQAAAAAAA4HNAAAAAAACAWEAAAAAAAMBbQAAAAAAAwFNAAAAAAACAXkAAAAAAAEBVQAAAAAAAEHNAAAAAAABAcEAAAAAAAOBzQAAAAAAA4HJAAAAAAABAb0AAAAAAAOBsQAAAAAAAIGxAAAAAAABAb0AAAAAAAAB5QAAAAAAA4HVAAAAAAAAAeUAAAAAAAPB1QAAAAAAAQFhAAAAAAADgYkAAAAAAAEBYQAAAAAAAgGFAAAAAAACAWEAAAAAAAIBYQAAAAAAAQFhAAAAAAABAWEAAAAAAAEBiQAAAAAAAQF5AAAAAAAAAVEAAAAAAAIBWQAAAAAAAgFhAAAAAAACAU0AAAAAAAEBVQAAAAAAAwFZAAAAAAABAcEAAAAAAAOBzQAAAAAAA4HJAAAAAAADgbEAAAAAAAABpQAAAAAAAAGlAAAAAAACAYUAAAAAAACBsQAAAAAAAAG1AAAAAAADgbEAAAAAAAABpQAAAAAAAIGxAAAAAAAAgcEAAAAAAABBzQAAAAAAA4GxAAAAAAADgckAAAAAAAOBzQAAAAAAAgFhAAAAAAADAYEAAAAAAAMBdQAAAAAAAQFpAAAAAAADAYEAAAAAAAIBjQAAAAAAA4GJAAAAAAADAXUAAAAAAAGBgQAAAAAAAYGRAAAAAAABAXkAAAAAAAGBkQAAAAAAAQFZAAAAAAACAWEAAAAAAAOBsQAAAAAAAAGlAAAAAAACAYUAAAAAAAABtQAAAAAAAIGxAAAAAAAAQc0AAAAAAAOByQAAAAAAA8HVAAAAAAADgc0AAAAAAAOB1QAAAAAAA8HVAAAAAAACwcEAAAAAAAIB2QAAAAAAAQFZAAAAAAACAVUAAAAAAAIBYQAAAAAAAQF5AAAAAAADgZkAAAAAAAOB1QAAAAAAAoGFAAAAAAABAcEAAAAAAAEBaQAAAAAAAQFpAAAAAAABAVUAAAAAAAMBWQAAAAAAA4GJAAAAAAACgZUAAAAAAAKBlQAAAAAAA4GJAAAAAAACAWEAAAAAAAEBWQAAAAAAAgFhAAAAAAACAVUAAAAAAAOBiQAAAAAAAgGFAAAAAAADgYkAAAAAAACBsQAAAAAAAQFhAAAAAAADAYEAAAAAAAABeQAAAAAAAwF1AAAAAAAAAW0AAAAAAAIBVQAAAAAAAgGNAAAAAAABAVUAAAAAAAIBWQAAAAAAAgFZAAAAAAABAXkAAAAAAAEBiQAAAAAAAwFZAAAAAAABAVUAAAAAAAEBYQAAAAAAAQFZAAAAAAAAAZUAAAAAAAIBRQAAAAAAAgF5AAAAAAACAYUAAAAAAAMBaQAAAAAAA4GBAAAAAAADgYkAAAAAAAIBjQAAAAAAAoGVAAAAAAADgYEAAAAAAAMBTQAAAAAAAgFVAAAAAAABAVEAAAAAAAEBYQAAAAAAAQFVAAAAAAABAVkAAAAAAAMBWQAAAAAAAQFpAAAAAAACAWEAAAAAAAIBYQAAAAAAAQFpAAAAAAAAAWUAAAAAAAMBaQAAAAAAAAFtAAAAAAADAXUAAAAAAAABeQAAAAAAAoGFAAAAAAAAgYkAAAAAAAABlQAAAAAAAQGJAAAAAAADgbEAAAAAAAOB1QAAAAAAAAGlAAAAAAAAgbEAAAAAAAABcQAAAAAAAAFxAAAAAAAAAXEAAAAAAAABcQAAAAAAA4GBAAAAAAADgYkAAAAAAAIBhQAAAAAAA4GJAAAAAAABAWkAAAAAAAMBWQAAAAAAAwFZAAAAAAABAWkAAAAAAAIBYQAAAAAAAAF5AAAAAAADAWkAAAAAAAABbQAAAAAAAwFZAAAAAAADAVkAAAAAAAMBWQAAAAAAAoGZAAAAAAABgcEAAAAAAAIBjQAAAAAAAAG1AAAAAAAAAYkAAAAAAAOBgQAAAAAAA4GJAAAAAAACAYUAAAAAAAEBYQAAAAAAA4GBAAAAAAAAAXkAAAAAAAMBdQA==\",\"dtype\":\"float64\",\"order\":\"little\",\"shape\":[398]},\"y\":{\"__ndarray__\":\"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\",\"dtype\":\"float64\",\"order\":\"little\",\"shape\":[398]}},\"selected\":{\"id\":\"4094\"},\"selection_policy\":{\"id\":\"4093\"}},\"id\":\"4030\",\"type\":\"ColumnDataSource\"},{\"attributes\":{},\"id\":\"3967\",\"type\":\"LinearScale\"},{\"attributes\":{\"coordinates\":null,\"data_source\":{\"id\":\"4030\"},\"glyph\":{\"id\":\"4031\"},\"group\":null,\"hover_glyph\":null,\"muted_glyph\":{\"id\":\"4033\"},\"nonselection_glyph\":{\"id\":\"4032\"},\"view\":{\"id\":\"4035\"}},\"id\":\"4034\",\"type\":\"GlyphRenderer\"},{\"attributes\":{},\"id\":\"3969\",\"type\":\"LinearScale\"},{\"attributes\":{\"fill_alpha\":{\"value\":0.2},\"fill_color\":{\"value\":\"#1f77b4\"},\"hatch_alpha\":{\"value\":0.2},\"line_alpha\":{\"value\":0.2},\"line_color\":{\"value\":\"#1f77b4\"},\"x\":{\"field\":\"x\"},\"y\":{\"field\":\"y\"}},\"id\":\"4033\",\"type\":\"Scatter\"},{\"attributes\":{\"source\":{\"id\":\"4030\"}},\"id\":\"4035\",\"type\":\"CDSView\"},{\"attributes\":{\"axis\":{\"id\":\"4045\"},\"coordinates\":null,\"group\":null,\"ticker\":null},\"id\":\"4048\",\"type\":\"Grid\"},{\"attributes\":{},\"id\":\"4046\",\"type\":\"BasicTicker\"},{\"attributes\":{},\"id\":\"4058\",\"type\":\"HelpTool\"},{\"attributes\":{},\"id\":\"3972\",\"type\":\"BasicTicker\"},{\"attributes\":{\"axis\":{\"id\":\"3971\"},\"coordinates\":null,\"group\":null,\"ticker\":null},\"id\":\"3974\",\"type\":\"Grid\"},{\"attributes\":{},\"id\":\"4043\",\"type\":\"LinearScale\"},{\"attributes\":{\"coordinates\":null,\"data_source\":{\"id\":\"3993\"},\"glyph\":{\"id\":\"3994\"},\"group\":null,\"hover_glyph\":null,\"muted_glyph\":{\"id\":\"3996\"},\"nonselection_glyph\":{\"id\":\"3995\"},\"view\":{\"id\":\"3998\"}},\"id\":\"3997\",\"type\":\"GlyphRenderer\"},{\"attributes\":{\"axis_label\":\"mpg\",\"coordinates\":null,\"formatter\":{\"id\":\"4100\"},\"group\":null,\"major_label_policy\":{\"id\":\"4101\"},\"ticker\":{\"id\":\"4050\"}},\"id\":\"4049\",\"type\":\"LinearAxis\"},{\"attributes\":{},\"id\":\"3984\",\"type\":\"HelpTool\"},{\"attributes\":{\"bottom_units\":\"screen\",\"coordinates\":null,\"fill_alpha\":0.5,\"fill_color\":\"lightgrey\",\"group\":null,\"left_units\":\"screen\",\"level\":\"overlay\",\"line_alpha\":1.0,\"line_color\":\"black\",\"line_dash\":[4,4],\"line_width\":2,\"right_units\":\"screen\",\"syncable\":false,\"top_units\":\"screen\"},\"id\":\"4059\",\"type\":\"BoxAnnotation\"},{\"attributes\":{\"source\":{\"id\":\"4067\"}},\"id\":\"4072\",\"type\":\"CDSView\"},{\"attributes\":{\"axis_label\":\"weight\",\"coordinates\":null,\"formatter\":{\"id\":\"4103\"},\"group\":null,\"major_label_policy\":{\"id\":\"4104\"},\"ticker\":{\"id\":\"4046\"}},\"id\":\"4045\",\"type\":\"LinearAxis\"},{\"attributes\":{\"fill_alpha\":{\"value\":0.1},\"fill_color\":{\"value\":\"#1f77b4\"},\"hatch_alpha\":{\"value\":0.1},\"line_alpha\":{\"value\":0.1},\"line_color\":{\"value\":\"#1f77b4\"},\"x\":{\"field\":\"x\"},\"y\":{\"field\":\"y\"}},\"id\":\"4032\",\"type\":\"Scatter\"},{\"attributes\":{},\"id\":\"4100\",\"type\":\"BasicTickFormatter\"},{\"attributes\":{},\"id\":\"4037\",\"type\":\"DataRange1d\"},{\"attributes\":{},\"id\":\"4041\",\"type\":\"LinearScale\"},{\"attributes\":{},\"id\":\"4101\",\"type\":\"AllLabels\"},{\"attributes\":{},\"id\":\"4080\",\"type\":\"AllLabels\"},{\"attributes\":{\"fill_color\":{\"value\":\"#1f77b4\"},\"line_color\":{\"value\":\"#1f77b4\"},\"x\":{\"field\":\"x\"},\"y\":{\"field\":\"y\"}},\"id\":\"3994\",\"type\":\"Scatter\"},{\"attributes\":{},\"id\":\"4103\",\"type\":\"BasicTickFormatter\"},{\"attributes\":{},\"id\":\"4104\",\"type\":\"AllLabels\"},{\"attributes\":{},\"id\":\"4009\",\"type\":\"BasicTicker\"},{\"attributes\":{},\"id\":\"4105\",\"type\":\"UnionRenderers\"},{\"attributes\":{},\"id\":\"4106\",\"type\":\"Selection\"},{\"attributes\":{},\"id\":\"4002\",\"type\":\"DataRange1d\"},{\"attributes\":{\"below\":[{\"id\":\"4045\"}],\"center\":[{\"id\":\"4048\"},{\"id\":\"4052\"}],\"height\":250,\"left\":[{\"id\":\"4049\"}],\"renderers\":[{\"id\":\"4071\"}],\"title\":{\"id\":\"4097\"},\"toolbar\":{\"id\":\"4060\"},\"toolbar_location\":null,\"width\":250,\"x_range\":{\"id\":\"4037\"},\"x_scale\":{\"id\":\"4041\"},\"y_range\":{\"id\":\"4039\"},\"y_scale\":{\"id\":\"4043\"}},\"id\":\"4036\",\"subtype\":\"Figure\",\"type\":\"Plot\"},{\"attributes\":{\"coordinates\":null,\"group\":null},\"id\":\"4085\",\"type\":\"Title\"},{\"attributes\":{\"axis\":{\"id\":\"4008\"},\"coordinates\":null,\"group\":null,\"ticker\":null},\"id\":\"4011\",\"type\":\"Grid\"},{\"attributes\":{},\"id\":\"4006\",\"type\":\"LinearScale\"},{\"attributes\":{\"axis_label\":\"displacement\",\"coordinates\":null,\"formatter\":{\"id\":\"4091\"},\"group\":null,\"major_label_policy\":{\"id\":\"4092\"},\"ticker\":{\"id\":\"4009\"}},\"id\":\"4008\",\"type\":\"LinearAxis\"},{\"attributes\":{},\"id\":\"4088\",\"type\":\"BasicTickFormatter\"},{\"attributes\":{},\"id\":\"4089\",\"type\":\"AllLabels\"},{\"attributes\":{},\"id\":\"4091\",\"type\":\"BasicTickFormatter\"},{\"attributes\":{\"fill_alpha\":{\"value\":0.2},\"fill_color\":{\"value\":\"#1f77b4\"},\"hatch_alpha\":{\"value\":0.2},\"line_alpha\":{\"value\":0.2},\"line_color\":{\"value\":\"#1f77b4\"},\"x\":{\"field\":\"x\"},\"y\":{\"field\":\"y\"}},\"id\":\"3996\",\"type\":\"Scatter\"},{\"attributes\":{},\"id\":\"4092\",\"type\":\"AllLabels\"},{\"attributes\":{},\"id\":\"4000\",\"type\":\"DataRange1d\"}],\"root_ids\":[\"4112\"]},\"title\":\"Bokeh Application\",\"version\":\"2.4.3\"}};\n  const render_items = [{\"docid\":\"f3fd3707-9858-4260-b633-2aaeaa983a1c\",\"root_ids\":[\"4112\"],\"roots\":{\"4112\":\"0e13c93d-a7b0-4c1b-925b-0f318398f1df\"}}];\n  root.Bokeh.embed.embed_items_notebook(docs_json, render_items);\n  }\n  if (root.Bokeh !== undefined) {\n    embed_document(root);\n  } else {\n    let attempts = 0;\n    const timer = setInterval(function(root) {\n      if (root.Bokeh !== undefined) {\n        clearInterval(timer);\n        embed_document(root);\n      } else {\n        attempts++;\n        if (attempts > 100) {\n          clearInterval(timer);\n          console.log(\"Bokeh: ERROR: Unable to run BokehJS code because BokehJS library is missing\");\n        }\n      }\n    }, 10, root)\n  }\n})(window);",
      "application/vnd.bokehjs_exec.v0+json": ""
     },
     "metadata": {
      "application/vnd.bokehjs_exec.v0+json": {
       "id": "4112"
      }
     },
     "output_type": "display_data"
    }
   ],
   "source": [
    "# this code produces a grid of plots for you to study\n",
    "d={}\n",
    "d['mpg'] = data[:,0]\n",
    "d['displacement'] = data[:,2]\n",
    "d['weight'] = data[:,4]\n",
    "d['horsepower'] = data[:,3]\n",
    "figs = []\n",
    "for x,y in combinations(['displacement','weight','mpg'],2):\n",
    "    f = figure()\n",
    "    f.xaxis.axis_label = x\n",
    "    f.yaxis.axis_label = y\n",
    "    f.scatter(x=d[x],y=d[y])\n",
    "    figs.append(f)\n",
    "g = gridplot([figs[0:2],[figs[2]]],height=250,width=250)\n",
    "show(g)"
   ]
  },
  {
   "cell_type": "markdown",
   "metadata": {},
   "source": [
    "The picture above is quite different from the simulated data because all three of the combinations show a relationship (remember,\n",
    "in the simulated data, the predictor variables didn't seem to be related to one another).   \n",
    "\n",
    "Another thing to observe is that the different data are on different size scales -- vehicle weight is in the 1000's, displacmeent is in the 100's,\n",
    "and mpg is in the 10's.  \n",
    "\n"
   ]
  },
  {
   "cell_type": "code",
   "execution_count": 59,
   "metadata": {},
   "outputs": [],
   "source": [
    "# build the data matrix out of the corresponding columns and the variable Y from the mpg column"
   ]
  },
  {
   "cell_type": "code",
   "execution_count": 60,
   "metadata": {},
   "outputs": [],
   "source": [
    "X = np.stack([data[:,2],data[:,4],np.ones(data.shape[0])],axis=1)\n",
    "Y = data[:,0]"
   ]
  },
  {
   "cell_type": "code",
   "execution_count": 61,
   "metadata": {},
   "outputs": [],
   "source": [
    "# compute D, Dinv, M and Yhat"
   ]
  },
  {
   "cell_type": "code",
   "execution_count": 62,
   "metadata": {},
   "outputs": [],
   "source": [
    "D = np.dot(X.transpose(),X)\n",
    "Dinv = np.linalg.inv(D)\n",
    "M = np.dot(Dinv, np.dot(X.transpose(),Y))\n",
    "Yhat = np.dot(X,M)"
   ]
  },
  {
   "cell_type": "code",
   "execution_count": 63,
   "metadata": {},
   "outputs": [],
   "source": [
    "# Look at the D matrix and its inverse and note the size of the coefficients"
   ]
  },
  {
   "cell_type": "code",
   "execution_count": 64,
   "metadata": {},
   "outputs": [
    {
     "data": {
      "text/plain": [
       "(array([[1.92068642e+07, 2.61373948e+08, 7.69835000e+04],\n",
       "        [2.61373948e+08, 3.79642710e+09, 1.18222900e+06],\n",
       "        [7.69835000e+04, 1.18222900e+06, 3.98000000e+02]]),\n",
       " array([[ 1.78437677e-06, -2.04947567e-07,  2.63636653e-04],\n",
       "        [-2.04947567e-07,  2.70520021e-08, -4.07137699e-05],\n",
       "        [ 2.63636653e-04, -4.07137699e-05,  7.24555961e-02]]))"
      ]
     },
     "execution_count": 64,
     "metadata": {},
     "output_type": "execute_result"
    }
   ],
   "source": [
    "\n",
    "D, Dinv"
   ]
  },
  {
   "cell_type": "code",
   "execution_count": 65,
   "metadata": {},
   "outputs": [],
   "source": [
    "# plot the residuals of Y and Yhat using comparison_plot.  What do you see?"
   ]
  },
  {
   "cell_type": "code",
   "execution_count": 66,
   "metadata": {},
   "outputs": [
    {
     "data": {
      "text/html": [
       "\n",
       "  <div class=\"bk-root\" id=\"7dfbeec1-5aab-447b-af2c-ff71274290c1\" data-root-id=\"4488\"></div>\n"
      ]
     },
     "metadata": {},
     "output_type": "display_data"
    },
    {
     "data": {
      "application/javascript": "(function(root) {\n  function embed_document(root) {\n  const docs_json = {\"bb20d03e-39cd-4471-8b3e-8611959e8ec3\":{\"defs\":[],\"roots\":{\"references\":[{\"attributes\":{\"below\":[{\"id\":\"4499\"}],\"center\":[{\"id\":\"4502\"},{\"id\":\"4506\"}],\"left\":[{\"id\":\"4503\"}],\"renderers\":[{\"id\":\"4525\"},{\"id\":\"4531\"}],\"title\":{\"id\":\"4489\"},\"toolbar\":{\"id\":\"4514\"},\"x_range\":{\"id\":\"4491\"},\"x_scale\":{\"id\":\"4495\"},\"y_range\":{\"id\":\"4493\"},\"y_scale\":{\"id\":\"4497\"}},\"id\":\"4488\",\"subtype\":\"Figure\",\"type\":\"Plot\"},{\"attributes\":{},\"id\":\"4500\",\"type\":\"BasicTicker\"},{\"attributes\":{\"bottom_units\":\"screen\",\"coordinates\":null,\"fill_alpha\":0.5,\"fill_color\":\"lightgrey\",\"group\":null,\"left_units\":\"screen\",\"level\":\"overlay\",\"line_alpha\":1.0,\"line_color\":\"black\",\"line_dash\":[4,4],\"line_width\":2,\"right_units\":\"screen\",\"syncable\":false,\"top_units\":\"screen\"},\"id\":\"4513\",\"type\":\"BoxAnnotation\"},{\"attributes\":{},\"id\":\"4751\",\"type\":\"Selection\"},{\"attributes\":{},\"id\":\"4493\",\"type\":\"DataRange1d\"},{\"attributes\":{},\"id\":\"4507\",\"type\":\"PanTool\"},{\"attributes\":{},\"id\":\"4511\",\"type\":\"ResetTool\"},{\"attributes\":{\"fill_color\":{\"value\":\"#1f77b4\"},\"line_color\":{\"value\":\"#1f77b4\"},\"x\":{\"field\":\"x\"},\"y\":{\"field\":\"y\"}},\"id\":\"4522\",\"type\":\"Scatter\"},{\"attributes\":{},\"id\":\"4752\",\"type\":\"UnionRenderers\"},{\"attributes\":{},\"id\":\"4497\",\"type\":\"LinearScale\"},{\"attributes\":{\"coordinates\":null,\"data_source\":{\"id\":\"4521\"},\"glyph\":{\"id\":\"4522\"},\"group\":null,\"hover_glyph\":null,\"muted_glyph\":{\"id\":\"4524\"},\"nonselection_glyph\":{\"id\":\"4523\"},\"view\":{\"id\":\"4526\"}},\"id\":\"4525\",\"type\":\"GlyphRenderer\"},{\"attributes\":{\"fill_alpha\":{\"value\":0.1},\"fill_color\":{\"value\":\"#1f77b4\"},\"hatch_alpha\":{\"value\":0.1},\"line_alpha\":{\"value\":0.1},\"line_color\":{\"value\":\"#1f77b4\"},\"x\":{\"field\":\"x\"},\"y\":{\"field\":\"y\"}},\"id\":\"4523\",\"type\":\"Scatter\"},{\"attributes\":{},\"id\":\"4749\",\"type\":\"AllLabels\"},{\"attributes\":{\"source\":{\"id\":\"4521\"}},\"id\":\"4526\",\"type\":\"CDSView\"},{\"attributes\":{\"line_alpha\":0.2,\"line_color\":\"#1f77b4\",\"x\":{\"field\":\"x\"},\"y\":{\"field\":\"y\"}},\"id\":\"4530\",\"type\":\"Line\"},{\"attributes\":{\"coordinates\":null,\"group\":null,\"text\":\"Predicted vs known values\"},\"id\":\"4489\",\"type\":\"Title\"},{\"attributes\":{},\"id\":\"4512\",\"type\":\"HelpTool\"},{\"attributes\":{},\"id\":\"4495\",\"type\":\"LinearScale\"},{\"attributes\":{\"axis\":{\"id\":\"4503\"},\"coordinates\":null,\"dimension\":1,\"group\":null,\"ticker\":null},\"id\":\"4506\",\"type\":\"Grid\"},{\"attributes\":{\"overlay\":{\"id\":\"4513\"}},\"id\":\"4509\",\"type\":\"BoxZoomTool\"},{\"attributes\":{\"axis\":{\"id\":\"4499\"},\"coordinates\":null,\"group\":null,\"ticker\":null},\"id\":\"4502\",\"type\":\"Grid\"},{\"attributes\":{\"fill_alpha\":{\"value\":0.2},\"fill_color\":{\"value\":\"#1f77b4\"},\"hatch_alpha\":{\"value\":0.2},\"line_alpha\":{\"value\":0.2},\"line_color\":{\"value\":\"#1f77b4\"},\"x\":{\"field\":\"x\"},\"y\":{\"field\":\"y\"}},\"id\":\"4524\",\"type\":\"Scatter\"},{\"attributes\":{},\"id\":\"4748\",\"type\":\"BasicTickFormatter\"},{\"attributes\":{\"tools\":[{\"id\":\"4507\"},{\"id\":\"4508\"},{\"id\":\"4509\"},{\"id\":\"4510\"},{\"id\":\"4511\"},{\"id\":\"4512\"}]},\"id\":\"4514\",\"type\":\"Toolbar\"},{\"attributes\":{},\"id\":\"4746\",\"type\":\"AllLabels\"},{\"attributes\":{\"data\":{\"x\":{\"__ndarray__\":\"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\",\"dtype\":\"float64\",\"order\":\"little\",\"shape\":[398]},\"y\":{\"__ndarray__\":\"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\",\"dtype\":\"float64\",\"order\":\"little\",\"shape\":[398]}},\"selected\":{\"id\":\"4751\"},\"selection_policy\":{\"id\":\"4750\"}},\"id\":\"4521\",\"type\":\"ColumnDataSource\"},{\"attributes\":{\"line_color\":\"#1f77b4\",\"x\":{\"field\":\"x\"},\"y\":{\"field\":\"y\"}},\"id\":\"4528\",\"type\":\"Line\"},{\"attributes\":{},\"id\":\"4510\",\"type\":\"SaveTool\"},{\"attributes\":{},\"id\":\"4745\",\"type\":\"BasicTickFormatter\"},{\"attributes\":{\"coordinates\":null,\"formatter\":{\"id\":\"4745\"},\"group\":null,\"major_label_policy\":{\"id\":\"4746\"},\"ticker\":{\"id\":\"4504\"}},\"id\":\"4503\",\"type\":\"LinearAxis\"},{\"attributes\":{\"line_alpha\":0.1,\"line_color\":\"#1f77b4\",\"x\":{\"field\":\"x\"},\"y\":{\"field\":\"y\"}},\"id\":\"4529\",\"type\":\"Line\"},{\"attributes\":{},\"id\":\"4491\",\"type\":\"DataRange1d\"},{\"attributes\":{},\"id\":\"4753\",\"type\":\"Selection\"},{\"attributes\":{\"coordinates\":null,\"data_source\":{\"id\":\"4527\"},\"glyph\":{\"id\":\"4528\"},\"group\":null,\"hover_glyph\":null,\"muted_glyph\":{\"id\":\"4530\"},\"nonselection_glyph\":{\"id\":\"4529\"},\"view\":{\"id\":\"4532\"}},\"id\":\"4531\",\"type\":\"GlyphRenderer\"},{\"attributes\":{\"coordinates\":null,\"formatter\":{\"id\":\"4748\"},\"group\":null,\"major_label_policy\":{\"id\":\"4749\"},\"ticker\":{\"id\":\"4500\"}},\"id\":\"4499\",\"type\":\"LinearAxis\"},{\"attributes\":{},\"id\":\"4508\",\"type\":\"WheelZoomTool\"},{\"attributes\":{\"source\":{\"id\":\"4527\"}},\"id\":\"4532\",\"type\":\"CDSView\"},{\"attributes\":{},\"id\":\"4504\",\"type\":\"BasicTicker\"},{\"attributes\":{},\"id\":\"4750\",\"type\":\"UnionRenderers\"},{\"attributes\":{\"data\":{\"x\":[9.0,46.6],\"y\":[9.0,46.6]},\"selected\":{\"id\":\"4753\"},\"selection_policy\":{\"id\":\"4752\"}},\"id\":\"4527\",\"type\":\"ColumnDataSource\"}],\"root_ids\":[\"4488\"]},\"title\":\"Bokeh Application\",\"version\":\"2.4.3\"}};\n  const render_items = [{\"docid\":\"bb20d03e-39cd-4471-8b3e-8611959e8ec3\",\"root_ids\":[\"4488\"],\"roots\":{\"4488\":\"7dfbeec1-5aab-447b-af2c-ff71274290c1\"}}];\n  root.Bokeh.embed.embed_items_notebook(docs_json, render_items);\n  }\n  if (root.Bokeh !== undefined) {\n    embed_document(root);\n  } else {\n    let attempts = 0;\n    const timer = setInterval(function(root) {\n      if (root.Bokeh !== undefined) {\n        clearInterval(timer);\n        embed_document(root);\n      } else {\n        attempts++;\n        if (attempts > 100) {\n          clearInterval(timer);\n          console.log(\"Bokeh: ERROR: Unable to run BokehJS code because BokehJS library is missing\");\n        }\n      }\n    }, 10, root)\n  }\n})(window);",
      "application/vnd.bokehjs_exec.v0+json": ""
     },
     "metadata": {
      "application/vnd.bokehjs_exec.v0+json": {
       "id": "4488"
      }
     },
     "output_type": "display_data"
    }
   ],
   "source": [
    "# here we compare the predicted and known values \n",
    "f=figure(title='Predicted vs known values')\n",
    "f.scatter(x=Y,y=Yhat)\n",
    "f.line(x=[Y.min(),Y.max()],y=[Y.min(),Y.max()])\n",
    "show(f)"
   ]
  },
  {
   "cell_type": "markdown",
   "metadata": {},
   "source": [
    "The regression coefficients are:"
   ]
  },
  {
   "cell_type": "code",
   "execution_count": 67,
   "metadata": {},
   "outputs": [
    {
     "data": {
      "text/plain": [
       "array([-1.63583529e-02, -5.79774419e-03,  4.39004638e+01])"
      ]
     },
     "execution_count": 67,
     "metadata": {},
     "output_type": "execute_result"
    }
   ],
   "source": [
    "M"
   ]
  },
  {
   "cell_type": "code",
   "execution_count": 68,
   "metadata": {},
   "outputs": [],
   "source": [
    "# compute the MSE and compare the result to the one variable computation done earlier.  Is this better?"
   ]
  },
  {
   "cell_type": "code",
   "execution_count": 69,
   "metadata": {},
   "outputs": [
    {
     "name": "stdout",
     "output_type": "stream",
     "text": [
      "MSE=18.404140933712647\n"
     ]
    }
   ],
   "source": [
    "E = np.sum(np.square(Y-Yhat))\n",
    "print('MSE={}'.format(E/Y.shape[0]))"
   ]
  },
  {
   "cell_type": "markdown",
   "metadata": {},
   "source": [
    "Our MSE is a bit better in this multivariate case (18.4 vs 21 in the one-variable case).\n",
    "\n",
    "Each unit increase in displacement reduces mileage by .016 and each unit increase in weight decreases mileage by -.0058.  However,\n",
    "as the comparison plot shows, this  relationship continues to breakdown for cars with high mileage -- among cars that are predicted to \n",
    "have mileage around 30, the true mileage goes a lot higher, so some other factor must be at work."
   ]
  },
  {
   "cell_type": "markdown",
   "metadata": {},
   "source": [
    "### The covariance matrix and correlation\n",
    "\n",
    "To get a closer look at the relationship between weight and displacement let's compute the covariance matrix.  To do that\n",
    "we need to center the variables."
   ]
  },
  {
   "cell_type": "code",
   "execution_count": 70,
   "metadata": {},
   "outputs": [],
   "source": [
    "# compute the covariance matrix from centered coordinates and then the correlation coefficient between weight and displacement.\n",
    "# Note that they are highly correlated (R^2 is relatively close to 1).  How does this help explain why adding weight to our\n",
    "# regression doesn't add much to our ability to predict mpg."
   ]
  },
  {
   "cell_type": "code",
   "execution_count": 71,
   "metadata": {},
   "outputs": [
    {
     "data": {
      "text/plain": [
       "array([[ 10844.88206895,  82161.46740297],\n",
       "       [ 82161.46740297, 715339.12874044]])"
      ]
     },
     "execution_count": 71,
     "metadata": {},
     "output_type": "execute_result"
    }
   ],
   "source": [
    "X0=((X[:,:2]-X[:,:2].mean(axis=0)))\n",
    "Cov = np.dot(X0.transpose(),X0)/X0.shape[0]\n",
    "Cov"
   ]
  },
  {
   "cell_type": "code",
   "execution_count": 72,
   "metadata": {},
   "outputs": [],
   "source": [
    "R2 = Cov[0,1]**2/Cov[1,1]/Cov[0,0]"
   ]
  },
  {
   "cell_type": "code",
   "execution_count": 73,
   "metadata": {},
   "outputs": [
    {
     "name": "stdout",
     "output_type": "stream",
     "text": [
      "Correlation is 0.8701608889308224\n"
     ]
    }
   ],
   "source": [
    "print('Correlation is {}'.format(R2))"
   ]
  },
  {
   "cell_type": "code",
   "execution_count": null,
   "metadata": {},
   "outputs": [],
   "source": []
  }
 ],
 "metadata": {
  "kernelspec": {
   "display_name": "base",
   "language": "python",
   "name": "python3"
  },
  "language_info": {
   "codemirror_mode": {
    "name": "ipython",
    "version": 3
   },
   "file_extension": ".py",
   "mimetype": "text/x-python",
   "name": "python",
   "nbconvert_exporter": "python",
   "pygments_lexer": "ipython3",
   "version": "3.9.15 (main, Nov  4 2022, 16:13:54) \n[GCC 11.2.0]"
  },
  "vscode": {
   "interpreter": {
    "hash": "4de1eb631fc111013b2f441024ec0dcd7a567c3d6a338a26d91722f9a102f561"
   }
  }
 },
 "nbformat": 4,
 "nbformat_minor": 4
}
